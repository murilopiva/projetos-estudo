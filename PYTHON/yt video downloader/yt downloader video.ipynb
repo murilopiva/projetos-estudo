{
 "cells": [
  {
   "cell_type": "code",
   "execution_count": 7,
   "metadata": {},
   "outputs": [],
   "source": [
    "from __future__ import unicode_literals\n",
    "from pytube import YouTube\n",
    "import youtube_dl"
   ]
  },
  {
   "cell_type": "code",
   "execution_count": 8,
   "metadata": {},
   "outputs": [
    {
     "name": "stdout",
     "output_type": "stream",
     "text": [
      "[youtube] BbToN-XoAwI: Downloading webpage\n",
      "[youtube] BbToN-XoAwI: Downloading MPD manifest\n",
      "[download] Destination: Aula 2 - Construindo sua Máquina Preditiva-BbToN-XoAwI.mp4\n",
      "[download] 100% of 268.00MiB in 01:37                          \n"
     ]
    }
   ],
   "source": [
    "\n",
    "\n",
    "ydl_opts = {}\n",
    "with youtube_dl.YoutubeDL(ydl_opts) as ydl:\n",
    "    ydl.download(['https://www.youtube.com/watch?v=BbToN-XoAwI'])"
   ]
  },
  {
   "cell_type": "code",
   "execution_count": 9,
   "metadata": {},
   "outputs": [
    {
     "name": "stdout",
     "output_type": "stream",
     "text": [
      "[youtube] LjQn8zueDgo: Downloading webpage\n",
      "[youtube] LjQn8zueDgo: Downloading MPD manifest\n",
      "[download] Destination: Aula 3 - Implementando se Sistema na WEB-LjQn8zueDgo.mp4\n",
      "[download] 100% of 254.33MiB in 01:33                          \n"
     ]
    }
   ],
   "source": [
    "\n",
    "ydl_opts2 = {}\n",
    "with youtube_dl.YoutubeDL(ydl_opts2) as ydl2:\n",
    "    ydl.download(['https://www.youtube.com/watch?v=LjQn8zueDgo'])\n",
    "    "
   ]
  }
 ],
 "metadata": {
  "kernelspec": {
   "display_name": "Python 3",
   "language": "python",
   "name": "python3"
  },
  "language_info": {
   "codemirror_mode": {
    "name": "ipython",
    "version": 3
   },
   "file_extension": ".py",
   "mimetype": "text/x-python",
   "name": "python",
   "nbconvert_exporter": "python",
   "pygments_lexer": "ipython3",
   "version": "3.7.6"
  }
 },
 "nbformat": 4,
 "nbformat_minor": 4
}
