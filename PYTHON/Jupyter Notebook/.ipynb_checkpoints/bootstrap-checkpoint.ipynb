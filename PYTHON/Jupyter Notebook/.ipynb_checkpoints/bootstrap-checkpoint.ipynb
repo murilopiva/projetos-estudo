{
 "cells": [
  {
   "cell_type": "code",
   "execution_count": 188,
   "metadata": {},
   "outputs": [],
   "source": []
  },
  {
   "cell_type": "code",
   "execution_count": 423,
   "metadata": {},
   "outputs": [
    {
     "name": "stdout",
     "output_type": "stream",
     "text": [
      "(300.76229508196724, 300.4818307692308)\n",
      "(25.443059612813958, 24.49066786759697)\n"
     ]
    }
   ],
   "source": [
    "boot_means = []\n",
    "\n",
    "dados = read_csv('HappinessAlcoholConsumption.csv')\n",
    "dados['Total_Alcohol'] = dados.Beer_PerCapita + dados.Spirit_PerCapita + dados.Wine_PerCapita\n",
    "\n",
    "for _ in range(1000):\n",
    "    bootsample = np.random.choice(dados['Total_Alcohol'],size=65, replace=True)\n",
    "    boot_means.append(bootsample.mean())\n",
    "    \n",
    "# simulated mean of mean\n",
    "bootmean = np.mean(boot_means)\n",
    "\n",
    "# simulated standard deviation of mean\n",
    "bootmean_std = np.std(boot_means)\n",
    "\n",
    "# simulated mean VS true mean\n",
    "print((dados.Total_Alcohol.mean(), bootmean))\n",
    "print((dados.Total_Alcohol.std()/(65 ** 0.5), bootmean_std))\n"
   ]
  },
  {
   "cell_type": "code",
   "execution_count": 405,
   "metadata": {},
   "outputs": [
    {
     "name": "stdout",
     "output_type": "stream",
     "text": [
      "297.0615384615385    (250.8296153846154, 342.6826923076924)\n",
      "197.052501939737    (179.00286259290706, 220.47549276757735)\n"
     ]
    }
   ],
   "source": [
    "#teste apenas com pacote bootstrapped\n",
    "# import numpy as np\n",
    "# import bootstrapped.bootstrap as bs\n",
    "# import bootstrapped.stats_functions as bs_stats\n",
    "\n",
    "# # load dataset\n",
    "# dados = read_csv('HappinessAlcoholConsumption.csv')\n",
    "# dados['Total_Alcohol'] = dados.Beer_PerCapita + dados.Spirit_PerCapita + dados.Wine_PerCapita\n",
    "\n",
    "\n",
    "# samples = np.random.choice(np.array(dados['Total_Alcohol']),size=65,replace=True)\n",
    "\n",
    "# print(bs.bootstrap(samples, stat_func=bs_stats.mean, num_iterations = 1000))\n",
    "\n",
    "# print(bs.bootstrap(samples, stat_func=bs_stats.std, num_iterations = 1000))\n"
   ]
  }
 ],
 "metadata": {
  "kernelspec": {
   "display_name": "Python 3",
   "language": "python",
   "name": "python3"
  }
 },
 "nbformat": 4,
 "nbformat_minor": 4
}
