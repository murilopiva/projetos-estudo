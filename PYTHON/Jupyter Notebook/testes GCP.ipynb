{
 "cells": [
  {
   "cell_type": "code",
   "execution_count": null,
   "metadata": {},
   "outputs": [],
   "source": [
    "import logging\n",
    "import requests\n",
    "import time\n",
    "import sys\n",
    "from datetime import datetime\n",
    "from requests.exceptions import ConnectionError,HTTPError,ProxyError,SSLError\n",
    "from datetime import datetime\n",
    "\n",
    "now = datetime.now()\n",
    "year = now.strftime(\"%Y\")\n",
    "month = now.strftime(\"%m\")\n",
    "\n",
    "### Configuration IBAMA Julgamento de Autos de Infração\n",
    "\n",
    "## GCP pointing ------------\n",
    "\n",
    "# GCP project name\n",
    "project = 'dev-data'\n",
    "\n",
    "# GCP bucket name\n",
    "#bucket_name = 'bvs-bigdata-datalake-stage-external-cadastral-rf-dev'\n",
    "bucket_name = 'bckt-teste-mcp'\n",
    "\n",
    "# Blob path\n",
    "blob_path1 = blob_path2 = year + '/' + month + '/'\n",
    "\n",
    "## File Names ------------\n",
    "\n",
    "# file name to save logging information\n",
    "log_filename = \"cnes.log'\"\n",
    "\n",
    "# File name to save scrapped data \n",
    "filename = 'cnes_proprietarios_41.json'\n",
    "\n",
    "## Scrap definitions ------------\n",
    "\n",
    "# Download URL \n",
    "url = 'http://cnes.datasus.gov.br/services/profissionais-2-vinculos-publicos?estado=41&resumo=false'\n",
    "       \n",
    "# Headers necessarry to request the data from Processos api webpage\n",
    "hdr = {'User-Agent': 'Mozilla/5.0 (X11; Linux x86_64) AppleWebKit/537.36 (KHTML, like Gecko) Chrome/91.0.4472.114 Safari/537.36',\n",
    "       'Referer': 'http://cnes.datasus.gov.br/pages/profissionais/consulta.jsp',\n",
    "      } \n",
    "\n",
    "# Boolean for request certification on data request\n",
    "certif = False\n",
    "\n",
    "\n"
   ]
  },
  {
   "cell_type": "code",
   "execution_count": null,
   "metadata": {},
   "outputs": [],
   "source": [
    "get_url = requests.get(url, headers=hdr, verify=True)\n",
    "\n",
    "if get_url.status_code == 200:\n",
    "    with open(filename, \"w\") as f:\n",
    "        json.dump(get_url.json(), f, indent=4)"
   ]
  },
  {
   "cell_type": "code",
   "execution_count": null,
   "metadata": {},
   "outputs": [],
   "source": []
  },
  {
   "cell_type": "code",
   "execution_count": null,
   "metadata": {},
   "outputs": [],
   "source": [
    "from google.cloud import storage\n",
    "\n",
    "# If you don't specify credentials when constructing the client, the\n",
    "# client library will look for credentials in the environment.\n",
    "storage_client = storage.Client()\n",
    "\n",
    "# Make an authenticated API request\n",
    "buckets = list(storage_client.list_buckets())\n",
    "print(buckets)\n",
    "\n",
    "#GOOGLE_APPLICATION_CREDENTIALS=\"C:\\Users\\User\\Documents\\ROX\\gcp-dev-roxpartner-06b24acc1608.json\"\n"
   ]
  }
 ],
 "metadata": {
  "kernelspec": {
   "display_name": "Python 3",
   "language": "python",
   "name": "python3"
  },
  "language_info": {
   "codemirror_mode": {
    "name": "ipython",
    "version": 3
   },
   "file_extension": ".py",
   "mimetype": "text/x-python",
   "name": "python",
   "nbconvert_exporter": "python",
   "pygments_lexer": "ipython3",
   "version": "3.7.6"
  }
 },
 "nbformat": 4,
 "nbformat_minor": 4
}
