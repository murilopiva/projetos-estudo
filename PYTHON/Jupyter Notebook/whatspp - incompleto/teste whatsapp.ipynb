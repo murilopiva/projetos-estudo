{
 "cells": [
  {
   "cell_type": "code",
   "execution_count": null,
   "metadata": {},
   "outputs": [],
   "source": [
    "#Using a shortcut to C:/chrome-dev-profile that sets profile which you have to scan wpp code (changing shortcut config)\n",
    "#working\n",
    "\n",
    "from selenium import webdriver\n",
    "\n",
    "options = webdriver.ChromeOptions() \n",
    "\n",
    "options.add_argument(\"user-data-dir=C:\\chrome-dev-profile\")\n",
    "\n",
    "driver = webdriver.Chrome(executable_path=\"chromedriver.exe\", options=options)\n",
    "driver.implicitly_wait(2) \n",
    "driver.get('https://web.whatsapp.com')\n",
    "driver.get_cookies()\n",
    "driver.find_element_by_css_selector(\"span[title='\" + input(\"Enter name to send message: \") + \"']\").click()\n",
    "inputString = input(\"Enter message to send: \")\n",
    "\n",
    "driver.find_element_by_xpath('//*[@id=\"main\"]/footer/div[1]/div[2]/div/div[2]').send_keys(inputString)\n",
    "driver.find_element_by_xpath('//*[@id=\"main\"]/footer/div[1]/div[3]/button').click()"
   ]
  },
  {
   "cell_type": "code",
   "execution_count": null,
   "metadata": {},
   "outputs": [],
   "source": [
    "\n",
    "import numpy as pd"
   ]
  },
  {
   "cell_type": "code",
   "execution_count": null,
   "metadata": {},
   "outputs": [],
   "source": [
    "#TRIED TO GET QD_COD BUT NO SUCCES\n",
    "\n",
    "#pip install pywhatkit\n",
    "import pywhatkit as kit\n",
    "from selenium import webdriver\n",
    "\n",
    "\n",
    "#kit.add_driver_path(\"chromedriver.exe\")\n",
    "#driver = webdriver.Chrome(executable_path=\"chromedriver.exe\")\n",
    "\n",
    "#kit.load_QRcode()\n",
    "#contato = input(\"Enter name to spam: \") \n",
    "\n",
    "kit.webdriver.Chrome(executable_path=\"chromedriver.exe\").find_element_by_css_selector(\"span[title='Regi']\")\n",
    "# css.click()\n",
    "\n",
    "#kit.load_QRcode()\n",
    "\n",
    "#driver.find_element_by_css_selector(\"span[title='\" + input(\"Enter name to spam: \") + \"']\").click()\n",
    "# inputString = input(\"Enter message to send: \")\n",
    "\n",
    "# driver.find_element_by_xpath('//*[@id=\"main\"]/footer/div[1]/div[2]/div/div[2]').send_keys(inputString)\n",
    "# driver.find_element_by_xpath('//*[@id=\"main\"]/footer/div[1]/div[3]/button').click()\n",
    "\n"
   ]
  },
  {
   "cell_type": "code",
   "execution_count": null,
   "metadata": {},
   "outputs": [],
   "source": [
    "# import pywhatkit\n",
    "\n",
    "# pywhatkit.sendwhatmsg_with_selenium(\"+919876543210\",\"This is a message\",15,00)#Will send message with most of the processes hidden\n",
    "\n",
    "# pywhatkit.send_file(\"+919876543210\",\"Path to file\",15,00)#Will send file to number with most of the processes hidden\n",
    "\n",
    "# pywhatkit.sendwhatmsg(\"+919876543210\",\"This is a message\",15,00)#Will open web.whatsapp.com at 14:59 and message will be sent at exactly 15:00\n",
    "\n",
    "# pywhatkit.info(\"Python\",lines=3,speak=None)#Will give information about the topic\n",
    "\n",
    "# pywhatkit.playonyt(\"Python\")#Will play the first YouTube video having \"Python\" in it\n",
    "\n",
    "# pywhatkit.search(\"Python\")#Will perform a Google search\n",
    "\n",
    "# pywhatkit.showHistory()#Will show information of all the messages sent using this library\n",
    "\n",
    "# pywhatkit.shutdown(time=100)#Will shutdown the system in 100 seconds\n",
    "\n",
    "# pywhatkit.cancelShutdown()#Will cancel the scheduled shutdown\n",
    "\n",
    "# pywhatkit.watch_tutorial_in_english/hindi()#Will open a tutorial on how to use this library on YouTube in respective language\n",
    "\n",
    "# kit.manual() #For more information"
   ]
  },
  {
   "cell_type": "code",
   "execution_count": null,
   "metadata": {},
   "outputs": [],
   "source": [
    "#pip install pywhatkit\n",
    "import pywhatkit as kit\n",
    "import datetime\n",
    "\n",
    "# now = datetime.datetime.now()\n",
    "\n",
    "# kit.sendwhatmsg(\"+5519994133968\",\"teste python\",now.hour,now.minute + 2, print_waitTime=False)\n",
    "\n"
   ]
  },
  {
   "cell_type": "code",
   "execution_count": null,
   "metadata": {},
   "outputs": [],
   "source": [
    "print ('oi')"
   ]
  }
 ],
 "metadata": {
  "kernelspec": {
   "display_name": "Python 3",
   "language": "python",
   "name": "python3"
  },
  "language_info": {
   "codemirror_mode": {
    "name": "ipython",
    "version": 3
   },
   "file_extension": ".py",
   "mimetype": "text/x-python",
   "name": "python",
   "nbconvert_exporter": "python",
   "pygments_lexer": "ipython3",
   "version": "3.7.6"
  }
 },
 "nbformat": 4,
 "nbformat_minor": 4
}
