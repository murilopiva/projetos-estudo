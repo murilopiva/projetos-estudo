{
 "cells": [
  {
   "cell_type": "code",
   "execution_count": 3,
   "metadata": {},
   "outputs": [
    {
     "name": "stdout",
     "output_type": "stream",
     "text": [
      "(1, 5626, None, '', None, None, 2, 1, None, None)\n"
     ]
    }
   ],
   "source": [
    "import pyodbc \n",
    "\n",
    "conn = pyodbc.connect('Driver={SQL Server};'\n",
    "                      'Server=Murilo\\Murilo;'\n",
    "                      'Database=wb_petshop;'\n",
    "                      'Trusted_Connection=yes;')\n",
    "\n",
    "cursor = conn.cursor()\n",
    "cursor.execute('SELECT top 1 * FROM tb_Cliente_telefone')\n",
    "\n",
    "for row in cursor:\n",
    "    print(row)\n",
    "    \n",
    "\n",
    "# sql_query = pd.read_sql_query('SELECT col from table',conn)\n",
    "# sql_query.sample()\n",
    "\n",
    "# print(sql_query)\n",
    "# print(type(sql_query))"
   ]
  }
 ],
 "metadata": {
  "kernelspec": {
   "display_name": "Python 3",
   "language": "python",
   "name": "python3"
  },
  "language_info": {
   "codemirror_mode": {
    "name": "ipython",
    "version": 3
   },
   "file_extension": ".py",
   "mimetype": "text/x-python",
   "name": "python",
   "nbconvert_exporter": "python",
   "pygments_lexer": "ipython3",
   "version": "3.7.6"
  }
 },
 "nbformat": 4,
 "nbformat_minor": 4
}
