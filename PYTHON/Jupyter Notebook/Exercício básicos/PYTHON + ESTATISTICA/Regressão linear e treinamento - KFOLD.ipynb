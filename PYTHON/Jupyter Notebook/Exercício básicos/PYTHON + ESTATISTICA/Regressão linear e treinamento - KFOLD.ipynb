{
 "cells": [
  {
   "cell_type": "code",
   "execution_count": 1,
   "metadata": {},
   "outputs": [
    {
     "name": "stdout",
     "output_type": "stream",
     "text": [
      "MAE medio:  0.6391106609154829  MAE desv pad:  0.07407854950020874\n",
      "MSE medio:  0.5968179490392558  MSE desv pad:  0.1337413324953067\n",
      "RMSE medio:  0.768037498632  RMSE desv pad:  0.08328475091129421\n"
     ]
    },
    {
     "data": {
      "text/plain": [
       "array([[0.22546541, 0.42682174, 0.57820847]])"
      ]
     },
     "execution_count": 1,
     "metadata": {},
     "output_type": "execute_result"
    }
   ],
   "source": [
    "import pandas as pd\n",
    "import numpy as np\n",
    "import os\n",
    "import statistics\n",
    "from sklearn.linear_model import LinearRegression\n",
    "from sklearn.model_selection import train_test_split\n",
    "from sklearn import metrics\n",
    "\n",
    "R = 10\n",
    "\n",
    "dados = pd.read_csv(\"HBAT.csv\")\n",
    "\n",
    "# Variável independente\n",
    "X = pd.DataFrame(dados[[\"x9\",\"x11\",\"x12\"]])\n",
    "\n",
    "# Variável dependente\n",
    "y = pd.DataFrame(dados[\"x19\"])\n",
    "\n",
    "linearRegressor = LinearRegression()\n",
    "\n",
    "mae = []\n",
    "mse = []\n",
    "rmse = []\n",
    "result = []\n",
    "model = []\n",
    "for i in range(1,R):\n",
    "    X_train, X_test, y_train, y_test = train_test_split(X, y, test_size=1/3)\n",
    "    \n",
    "    #Regressão Linear\n",
    "    model.append(linearRegressor.fit(X_train, y_train))\n",
    "    y_pred = linearRegressor.predict(X_test)\n",
    "\n",
    "    mae.append(metrics.mean_absolute_error(y_pred, y_test))\n",
    "    mse.append(metrics.mean_squared_error(y_pred, y_test))\n",
    "    rmse.append(np.sqrt(metrics.mean_squared_error(y_pred, y_test)))\n",
    "    \n",
    "    result.insert(i, [metrics.mean_absolute_error(y_pred, y_test),\n",
    "                 metrics.mean_squared_error(y_pred, y_test),\n",
    "                 np.sqrt(metrics.mean_squared_error(y_pred, y_test))])\n",
    "    \n",
    "    #KNN\n",
    "    \n",
    "    \n",
    "    #Redes Neurais\n",
    "    \n",
    "print(\"MAE medio: \", np.mean(mae), \" MAE desv pad: \", np.sqrt(np.var(mae)))\n",
    "print(\"MSE medio: \", np.mean(mse), \" MSE desv pad: \", np.sqrt(np.var(mse)))\n",
    "print(\"RMSE medio: \", np.mean(rmse), \" RMSE desv pad: \", np.sqrt(np.var(rmse)))\n",
    "\n",
    "model[2].coef_"
   ]
  }
 ],
 "metadata": {
  "kernelspec": {
   "display_name": "Python 3",
   "language": "python",
   "name": "python3"
  },
  "language_info": {
   "codemirror_mode": {
    "name": "ipython",
    "version": 3
   },
   "file_extension": ".py",
   "mimetype": "text/x-python",
   "name": "python",
   "nbconvert_exporter": "python",
   "pygments_lexer": "ipython3",
   "version": "3.7.6"
  }
 },
 "nbformat": 4,
 "nbformat_minor": 4
}
