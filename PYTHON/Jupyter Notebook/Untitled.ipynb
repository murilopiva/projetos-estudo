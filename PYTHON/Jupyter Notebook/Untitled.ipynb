{
 "cells": [
  {
   "cell_type": "code",
   "execution_count": 3,
   "metadata": {},
   "outputs": [
    {
     "name": "stdout",
     "output_type": "stream",
     "text": [
      "ps2pdf -dPDFSETTINGS=/ebook 03 - Algoritmos e Programação em Linguagem Python.pdf reduc/03 - Algoritmos e Programação em Linguagem Python.pdf\n",
      "ps2pdf -dPDFSETTINGS=/ebook teste1.pdf reduc/teste1.pdf\n",
      "ps2pdf -dPDFSETTINGS=/ebook test_out2.pdf reduc/test_out2.pdf\n"
     ]
    }
   ],
   "source": [
    "#!/usr/bin/python\n",
    "\n",
    "import os\n",
    "\n",
    "for fich in os.listdir('.'):\n",
    "        if fich[-3:]==\"pdf\":\n",
    "                os.system(\"ps2pdf -dPDFSETTINGS=/ebook %s reduc/%s\" % (fich,fich))\n",
    "                print (\"ps2pdf -dPDFSETTINGS=/ebook %s reduc/%s\" % (fich,fich))"
   ]
  }
 ],
 "metadata": {
  "kernelspec": {
   "display_name": "Python 3",
   "language": "python",
   "name": "python3"
  },
  "language_info": {
   "codemirror_mode": {
    "name": "ipython",
    "version": 3
   },
   "file_extension": ".py",
   "mimetype": "text/x-python",
   "name": "python",
   "nbconvert_exporter": "python",
   "pygments_lexer": "ipython3",
   "version": "3.7.6"
  }
 },
 "nbformat": 4,
 "nbformat_minor": 4
}
