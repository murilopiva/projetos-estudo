{
 "cells": [
  {
   "cell_type": "code",
   "execution_count": 1,
   "metadata": {},
   "outputs": [
    {
     "output_type": "stream",
     "name": "stderr",
     "text": "Using TensorFlow backend.\nWARNING:tensorflow:From C:\\Users\\User\\anaconda3\\lib\\site-packages\\tensorflow\\python\\ops\\resource_variable_ops.py:435: colocate_with (from tensorflow.python.framework.ops) is deprecated and will be removed in a future version.\nInstructions for updating:\nColocations handled automatically by placer.\ntracking <tf.Variable 'Variable:0' shape=(9, 4) dtype=float32> anchors\ntracking <tf.Variable 'Variable_1:0' shape=(9, 4) dtype=float32> anchors\ntracking <tf.Variable 'Variable_2:0' shape=(9, 4) dtype=float32> anchors\ntracking <tf.Variable 'Variable_3:0' shape=(9, 4) dtype=float32> anchors\ntracking <tf.Variable 'Variable_4:0' shape=(9, 4) dtype=float32> anchors\ncar  :  60.564929246902466\nbicycle  :  62.31797933578491\ntruck  :  50.5401611328125\ntruck  :  69.38515901565552\nperson  :  69.92042064666748\ncar  :  89.82686400413513\ncar  :  60.28761863708496\ncar  :  91.99614524841309\ncar  :  85.54700016975403\ncar  :  87.99048066139221\n"
    }
   ],
   "source": [
    "#pip install tensorflow==1.13.1\n",
    "#pip install opencv-python\n",
    "#pip install keras\n",
    "#pip install imageai --upgrade\n",
    "\n",
    "\n",
    "from imageai.Detection import ObjectDetection\n",
    "import os\n",
    "\n",
    "execution_path = os.getcwd()\n",
    "\n",
    "detector = ObjectDetection()\n",
    "detector.setModelTypeAsRetinaNet()\n",
    "detector.setModelPath( os.path.join(execution_path , \"resnet50_coco_best_v2.0.1.h5\"))\n",
    "detector.loadModel()\n",
    "detections = detector.detectObjectsFromImage(input_image=os.path.join(execution_path , \"tste.jpeg\"), output_image_path=os.path.join(execution_path , \"imagenew.jpg\"))\n",
    "\n",
    "for eachObject in detections:\n",
    "    print(eachObject[\"name\"] , \" : \" , eachObject[\"percentage_probability\"] )\n"
   ]
  }
 ],
 "metadata": {
  "language_info": {
   "codemirror_mode": {
    "name": "ipython",
    "version": 3
   },
   "file_extension": ".py",
   "mimetype": "text/x-python",
   "name": "python",
   "nbconvert_exporter": "python",
   "pygments_lexer": "ipython3",
   "version": "3.7.6-final"
  },
  "orig_nbformat": 2,
  "kernelspec": {
   "name": "python3",
   "display_name": "Python 3"
  }
 },
 "nbformat": 4,
 "nbformat_minor": 2
}