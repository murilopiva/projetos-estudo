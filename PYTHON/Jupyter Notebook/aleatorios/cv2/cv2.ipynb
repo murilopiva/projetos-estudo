{
 "cells": [
  {
   "cell_type": "code",
   "execution_count": 15,
   "metadata": {},
   "outputs": [
    {
     "output_type": "execute_result",
     "data": {
      "text/plain": "True"
     },
     "metadata": {},
     "execution_count": 15
    }
   ],
   "source": [
    "#pip install opencv-python\n",
    "\n",
    "import cv2\n",
    "face_cascade = cv2.CascadeClassifier(\"haarcascade_frontalface_default.xml\")\n",
    "\n",
    "#choose a pic with a front faced person\n",
    "#side faced wont work\n",
    "img = cv2.imread(r\"tste.jpg\")\n",
    "\n",
    "gray = cv2.cvtColor(img, cv2.COLOR_BGR2GRAY)\n",
    "\n",
    "faces = face_cascade.detectMultiScale(gray, 1.1, 4)\n",
    "blackwhite = cv2.equalizeHist(gray)\n",
    "\n",
    "rects = face_cascade.detectMultiScale(\n",
    "    blackwhite, scaleFactor=1.3, minNeighbors=4, minSize=(30, 30),\n",
    "    flags=cv2.CASCADE_SCALE_IMAGE)\n",
    "\n",
    "for x, y, w, h in rects:\n",
    "    cv2.rectangle(img, (x, y), (x + w, y + h), (0, 255, 0), 2)\n",
    "\n",
    "cv2.imwrite('result.png', img) "
   ]
  }
 ],
 "metadata": {
  "language_info": {
   "codemirror_mode": {
    "name": "ipython",
    "version": 3
   },
   "file_extension": ".py",
   "mimetype": "text/x-python",
   "name": "python",
   "nbconvert_exporter": "python",
   "pygments_lexer": "ipython3",
   "version": "3.7.6-final"
  },
  "orig_nbformat": 2,
  "kernelspec": {
   "name": "python3",
   "display_name": "Python 3"
  }
 },
 "nbformat": 4,
 "nbformat_minor": 2
}