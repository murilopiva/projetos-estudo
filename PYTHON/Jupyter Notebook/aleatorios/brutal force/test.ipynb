{
 "cells": [
  {
   "cell_type": "code",
   "execution_count": null,
   "metadata": {},
   "outputs": [],
   "source": [
    "#charlist = 'abcdefghijklmnopqrstuvwxyz!@#$%¨&*()_+-=1234567890'\n",
    "charlist = 'abcdefghijklmnopqrstuvwxyz'\n",
    "\n",
    "password = 'passw'\n",
    "\n",
    "for current in range(5):\n",
    "    a = [i for i in charlist]\n",
    "\n",
    "    for x in range(current):\n",
    "        a = [y + i for i in charlist for y in a]\n",
    "        if password in a:\n",
    "            print(f'password is : {a[a.index(password)]}')\n",
    "            exit()"
   ]
  },
  {
   "cell_type": "code",
   "execution_count": null,
   "metadata": {},
   "outputs": [],
   "source": []
  }
 ],
 "metadata": {
  "language_info": {
   "codemirror_mode": {
    "name": "ipython",
    "version": 3
   },
   "file_extension": ".py",
   "mimetype": "text/x-python",
   "name": "python",
   "nbconvert_exporter": "python",
   "pygments_lexer": "ipython3",
   "version": 3
  },
  "orig_nbformat": 2,
  "kernelspec": {
   "name": "python_defaultSpec_1593642729695",
   "display_name": "Python 3.7.6 64-bit ('User': virtualenv)"
  }
 },
 "nbformat": 4,
 "nbformat_minor": 2
}