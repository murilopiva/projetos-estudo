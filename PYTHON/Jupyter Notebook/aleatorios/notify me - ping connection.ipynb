{
 "cells": [
  {
   "cell_type": "code",
   "execution_count": null,
   "metadata": {},
   "outputs": [],
   "source": [
    "#win10toast\n",
    "#pip install py-notifier\n",
    "from pynotifier import Notification\n",
    "#requires win10toast installation \n",
    "\n",
    "Notification(\n",
    "    title='AVISO DO SISTEMA',\n",
    "    description='Notification Description',\n",
    "    duration=5,                              # Duration in seconds\n",
    "    urgency=Notification.URGENCY_CRITICAL\n",
    ").send()"
   ]
  },
  {
   "cell_type": "code",
   "execution_count": null,
   "metadata": {},
   "outputs": [],
   "source": [
    "#pip install ping-cmd\n",
    "from ping_cmd import host\n",
    "\n",
    "while True:\n",
    "    r = host.ping(\"XX.XX.0.XX\")\n",
    "    if r == 1:\n",
    "        Notification(title='AVISO DO SISTEMA',\n",
    "                     description='VPN CAIU',\n",
    "                     duration=5,\n",
    "                     urgency=Notification.URGENCY_CRITICAL\n",
    "                    ).send()\n",
    "        break"
   ]
  }
 ],
 "metadata": {
  "kernelspec": {
   "display_name": "Python 3",
   "language": "python",
   "name": "python3"
  },
  "language_info": {
   "codemirror_mode": {
    "name": "ipython",
    "version": 3
   },
   "file_extension": ".py",
   "mimetype": "text/x-python",
   "name": "python",
   "nbconvert_exporter": "python",
   "pygments_lexer": "ipython3",
   "version": "3.7.6"
  }
 },
 "nbformat": 4,
 "nbformat_minor": 4
}
