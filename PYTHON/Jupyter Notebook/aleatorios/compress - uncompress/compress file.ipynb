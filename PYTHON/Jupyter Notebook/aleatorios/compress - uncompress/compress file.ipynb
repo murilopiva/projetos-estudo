{
 "cells": [
  {
   "cell_type": "code",
   "execution_count": 6,
   "metadata": {},
   "outputs": [
    {
     "output_type": "stream",
     "name": "stderr",
     "text": "Compressing cat-comp10-11-12-2019.csv: 100%|██████████| 1/1 [00:03<00:00,  3.12s/it]\n"
    },
    {
     "output_type": "execute_result",
     "data": {
      "text/plain": "\"\\nmode:\\n'r' or 'r:*' open for reading with transparent compression\\n'r:'         open for reading exclusively uncompressed\\n'r:gz'       open for reading with gzip compression\\n'r:bz2'      open for reading with bzip2 compression\\n'r:xz'       open for reading with lzma compression\\n'a' or 'a:'  open for appending, creating the file if necessary\\n'w' or 'w:'  open for writing without compression\\n'w:gz'       open for writing with gzip compression\\n'w:bz2'      open for writing with bzip2 compression\\n'w:xz'       open for writing with lzma compression\\n\\n'x' or 'x:'  create a tarfile exclusively without compression, raise\\n             an exception if the file is already created\\n'x:gz'       create a gzip compressed tarfile, raise an exception\\n             if the file is already created\\n'x:bz2'      create a bzip2 compressed tarfile, raise an exception\\n             if the file is already created\\n'x:xz'       create an lzma compressed tarfile, raise an exception\\n             if the file is already created\\n\\n'r|*'        open a stream of tar blocks with transparent compression\\n'r|'         open an uncompressed stream of tar blocks for reading\\n'r|gz'       open a gzip compressed stream of tar blocks\\n'r|bz2'      open a bzip2 compressed stream of tar blocks\\n'r|xz'       open an lzma compressed stream of tar blocks\\n'w|'         open an uncompressed stream for writing\\n'w|gz'       open a gzip compressed stream for writing\\n'w|bz2'      open a bzip2 compressed stream for writing\\n'w|xz'       open an lzma compressed stream for writing\\n\""
     },
     "metadata": {},
     "execution_count": 6
    }
   ],
   "source": [
    "#pip install tqdm\n",
    "import tarfile\n",
    "from tqdm import tqdm\n",
    "\n",
    "def compress(tar_file, members):\n",
    "    # open file from gzip compressed writing\n",
    "    tar = tarfile.open(tar_file,mode=\"w:gz\" )\n",
    "    #with progess bar\n",
    "    #set the progress bar\n",
    "\n",
    "    progress = tqdm(members)\n",
    "    for member in progress:\n",
    "        #add file/folder/link ti tge tar file (compress)\n",
    "        tar.add(member)\n",
    "        #set the progress description of the progress bar\n",
    "        progress.set_description(f\"Compressing {member}\")\n",
    "\n",
    "    #close the file\n",
    "    tar.close()\n",
    "\n",
    "compress(\"compressed1.rar\", [\"cat-comp10-11-12-2019.csv\"])\n",
    "\n",
    "'''\n",
    "mode:\n",
    "'r' or 'r:*' open for reading with transparent compression\n",
    "'r:'         open for reading exclusively uncompressed\n",
    "'r:gz'       open for reading with gzip compression\n",
    "'r:bz2'      open for reading with bzip2 compression\n",
    "'r:xz'       open for reading with lzma compression\n",
    "'a' or 'a:'  open for appending, creating the file if necessary\n",
    "'w' or 'w:'  open for writing without compression\n",
    "'w:gz'       open for writing with gzip compression\n",
    "'w:bz2'      open for writing with bzip2 compression\n",
    "'w:xz'       open for writing with lzma compression\n",
    "\n",
    "'x' or 'x:'  create a tarfile exclusively without compression, raise\n",
    "             an exception if the file is already created\n",
    "'x:gz'       create a gzip compressed tarfile, raise an exception\n",
    "             if the file is already created\n",
    "'x:bz2'      create a bzip2 compressed tarfile, raise an exception\n",
    "             if the file is already created\n",
    "'x:xz'       create an lzma compressed tarfile, raise an exception\n",
    "             if the file is already created\n",
    "\n",
    "'r|*'        open a stream of tar blocks with transparent compression\n",
    "'r|'         open an uncompressed stream of tar blocks for reading\n",
    "'r|gz'       open a gzip compressed stream of tar blocks\n",
    "'r|bz2'      open a bzip2 compressed stream of tar blocks\n",
    "'r|xz'       open an lzma compressed stream of tar blocks\n",
    "'w|'         open an uncompressed stream for writing\n",
    "'w|gz'       open a gzip compressed stream for writing\n",
    "'w|bz2'      open a bzip2 compressed stream for writing\n",
    "'w|xz'       open an lzma compressed stream for writing\n",
    "'''"
   ]
  }
 ],
 "metadata": {
  "language_info": {
   "codemirror_mode": {
    "name": "ipython",
    "version": 3
   },
   "file_extension": ".py",
   "mimetype": "text/x-python",
   "name": "python",
   "nbconvert_exporter": "python",
   "pygments_lexer": "ipython3",
   "version": "3.7.6-final"
  },
  "orig_nbformat": 2,
  "kernelspec": {
   "name": "python3",
   "display_name": "Python 3"
  }
 },
 "nbformat": 4,
 "nbformat_minor": 2
}