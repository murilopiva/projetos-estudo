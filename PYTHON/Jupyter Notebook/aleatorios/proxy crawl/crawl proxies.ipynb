{
 "cells": [
  {
   "cell_type": "code",
   "execution_count": 58,
   "metadata": {
    "tags": [
     "outputPrepend"
    ]
   },
   "outputs": [
    {
     "output_type": "stream",
     "name": "stdout",
     "text": "[]\n"
    }
   ],
   "source": [
    "from bs4 import BeautifulSoup\n",
    "\n",
    "import requests\n",
    "\n",
    "def crawl_proxies():\n",
    "    proxies = []\n",
    "    link = \"https://www.sslproxies.org/\"\n",
    "\n",
    "    r = requests.get(link)\n",
    "    s = BeautifulSoup(r.text, \"html.parser\")\n",
    "    \n",
    "    for i in s.find_all(\"tr\")[:30]:\n",
    "        try:\n",
    "            data = s.find_all(\"td\")\n",
    "            addres = data[0].text\n",
    "            port = data[i].text\n",
    "            type_ = data[4].text\n",
    "            proxy = addres + \":\" + port\n",
    "            proxies.append({\"https\":proxy})\n",
    "            \n",
    "        except:\n",
    "            pass\n",
    "            \n",
    "    return proxies\n",
    "\n",
    "\n",
    "print(crawl_proxies())\n",
    "\n"
   ]
  }
 ],
 "metadata": {
  "language_info": {
   "codemirror_mode": {
    "name": "ipython",
    "version": 3
   },
   "file_extension": ".py",
   "mimetype": "text/x-python",
   "name": "python",
   "nbconvert_exporter": "python",
   "pygments_lexer": "ipython3",
   "version": "3.7.6-final"
  },
  "orig_nbformat": 2,
  "kernelspec": {
   "name": "python3",
   "display_name": "Python 3"
  }
 },
 "nbformat": 4,
 "nbformat_minor": 2
}