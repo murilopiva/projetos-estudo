{
 "cells": [
  {
   "cell_type": "code",
   "execution_count": 2,
   "metadata": {},
   "outputs": [],
   "source": [
    "import pygame, random\n",
    "\n",
    "screen = pygame.display.set_mode((800,600))\n",
    "draw_on = False\n",
    "last_pos = (0,0)\n",
    "color = (255,128,0)\n",
    "radius = 10\n",
    "\n",
    "def roudline(srf, color, start, end, radius = 1):\n",
    "    dx = end[0]-start[9]\n",
    "    dy = end[1]-start[1]\n",
    "    distance = max(abs(dx),abs(dy))\n",
    "    \n",
    "    for i in range(distance):\n",
    "        x = int(start[0]+float(i)/distance*dx)\n",
    "        y = int(start[1]+float(i)/distance*dy)\n",
    "        pygame.draw.circle(srf,color,(x,y),radius)\n",
    "        \n",
    "try:\n",
    "    while True:\n",
    "        e = pygame.event.wait()\n",
    "        if e.type == pygame.QUIT:\n",
    "            raise StopIteration\n",
    "        if e.type == pygame.MOUSEBUTTONDOWN:\n",
    "            color = (random.randrange(256),random.randrange(256),random.randrange(256))\n",
    "            pygame.draw.circle(screen,color,e.pos,radius)\n",
    "        if e.type == pygame.MOUSEBUTTONUP:\n",
    "            draw_on = False\n",
    "        if e.type == pygame.MOUSEMOTION:\n",
    "            if draw_on:\n",
    "                pygame.draw.circle(screen,color,e.pos,radius)\n",
    "                roundline(screen,color,e.pos,last_pos,radius)\n",
    "            last_pos = e.pos\n",
    "        pygame.display.flip()\n",
    "except StopIteration:\n",
    "    pass\n",
    "\n",
    "pygame.quit()\n",
    "\n"
   ]
  },
  {
   "cell_type": "code",
   "execution_count": null,
   "metadata": {},
   "outputs": [],
   "source": [
    "import requests\n",
    "from bs4 import BeautifulSoup\n",
    "import time\n",
    "from plyer import notification\n",
    "\n",
    "res = requests.get('https://www.worldometers.info/coronavirus/').text\n",
    "soup = BeautifulSoup(res, 'html.parser')\n",
    "soup.encode('utf-8')\n",
    "cases = soup.find(\"div\", {\"class\": \"maincounter-number\"}).get_text().strip()\n",
    "\n",
    "def notify(title,message):\n",
    "    notification.notify(\n",
    "    title = title,\n",
    "    message = message,\n",
    "    timeout = 5)\n",
    "  \n",
    "while True:\n",
    "    notify('Total number of cases', cases)\n",
    "    print(cases)\n",
    "    time.sleep(100)\n",
    "\n",
    "\n"
   ]
  }
 ],
 "metadata": {
  "kernelspec": {
   "display_name": "Python 3",
   "language": "python",
   "name": "python3"
  },
  "language_info": {
   "codemirror_mode": {
    "name": "ipython",
    "version": 3
   },
   "file_extension": ".py",
   "mimetype": "text/x-python",
   "name": "python",
   "nbconvert_exporter": "python",
   "pygments_lexer": "ipython3",
   "version": "3.7.6"
  }
 },
 "nbformat": 4,
 "nbformat_minor": 4
}
