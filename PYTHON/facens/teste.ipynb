{
 "cells": [
  {
   "cell_type": "code",
   "execution_count": 129,
   "metadata": {},
   "outputs": [],
   "source": [
    "def growth_rate(population_a,population_b):\n",
    "    anos = 0\n",
    "    x = population_a\n",
    "    y = population_b\n",
    "    \n",
    "    if type(population_a) != int or population_a < 0 :\n",
    "        print ('invalid argument')\n",
    "        return\n",
    "    \n",
    "    if type(population_b) != int or population_b < 0 :\n",
    "        print ('invalid argument')\n",
    "        return    \n",
    "    \n",
    "    while x < y:\n",
    "\n",
    "        x = x + (x * 0.03)\n",
    "        y = y + (y * 0.015)\n",
    "        \n",
    "        #print ('ano:' + str(anos) + ' popA: ' + str(x) +  '                  --- popB: ' + str(y))\n",
    "        anos += 1\n",
    "        \n",
    "    print (anos)"
   ]
  },
  {
   "cell_type": "code",
   "execution_count": 244,
   "metadata": {},
   "outputs": [],
   "source": [
    "def count_list(l):\n",
    "    #setei os key todos com 0, inicialmente\n",
    "    dic={'max':0,'sum':0,'occurs':0,'mean':0,'near-mean':0,'minus':0}\n",
    "    \n",
    "    dic['max'] = max(l) # maior valor\n",
    "    \n",
    "    soma = sum(l) # soma todos os elemtos\n",
    "    dic['sum'] = soma\n",
    "    \n",
    "    pos0 = l[0] # pega o valor o elemento 0\n",
    "    dic['occurs'] = l.count(pos0) # ve quantas ocorrencias possui o valor encontrado na posição 0\n",
    "    \n",
    "    media = soma / len(l)# media\n",
    "    dic['mean'] = media #seta a media\n",
    "    \n",
    "    l.sort() # ordena\n",
    "\n",
    "    prox = l[0] #pega o valor do primeiro elemento\n",
    "\n",
    "    for num in l:\n",
    "        #print (num)\n",
    "        if (num - media)<(num-prox):\n",
    "            prox = num    \n",
    "    \n",
    "    dic['near-mean'] = prox\n",
    "    \n",
    "    #soma dos valores negativos\n",
    "    neg = 0\n",
    "    for num in l:\n",
    "        if num < 0:\n",
    "            neg = neg + num\n",
    "    \n",
    "    dic['minus'] = neg \n",
    "    \n",
    "    print (dic)\n",
    "    "
   ]
  },
  {
   "cell_type": "code",
   "execution_count": 243,
   "metadata": {},
   "outputs": [
    {
     "name": "stdout",
     "output_type": "stream",
     "text": [
      "{'max': 3, 'sum': -3, 'occurs': 1, 'mean': -0.6, 'near-mean': 1, 'minus': -9}\n"
     ]
    }
   ],
   "source": [
    "count_list([1,2,3,-4,-5])"
   ]
  },
  {
   "cell_type": "code",
   "execution_count": null,
   "metadata": {},
   "outputs": [],
   "source": []
  }
 ],
 "metadata": {
  "kernelspec": {
   "display_name": "Python 3",
   "language": "python",
   "name": "python3"
  },
  "language_info": {
   "codemirror_mode": {
    "name": "ipython",
    "version": 3
   },
   "file_extension": ".py",
   "mimetype": "text/x-python",
   "name": "python",
   "nbconvert_exporter": "python",
   "pygments_lexer": "ipython3",
   "version": "3.7.6"
  }
 },
 "nbformat": 4,
 "nbformat_minor": 4
}
