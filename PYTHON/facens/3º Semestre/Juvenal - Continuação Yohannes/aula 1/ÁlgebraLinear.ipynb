{
 "cells": [
  {
   "cell_type": "markdown",
   "metadata": {},
   "source": [
    "# Álgebra linear"
   ]
  },
  {
   "cell_type": "code",
   "execution_count": null,
   "metadata": {},
   "outputs": [],
   "source": [
    "import pandas as pd\n",
    "import numpy as np"
   ]
  },
  {
   "cell_type": "markdown",
   "metadata": {},
   "source": [
    "## 1. Vetor linha / Vetor coluna"
   ]
  },
  {
   "cell_type": "markdown",
   "metadata": {},
   "source": [
    "O código abaixo mostra como a inicialização do uma matriz pode impactar suas dimenssões."
   ]
  },
  {
   "cell_type": "code",
   "execution_count": null,
   "metadata": {},
   "outputs": [],
   "source": [
    "vector   = np.array([1, 2, 3, 4, 5])\n",
    "vcolumn = np.array([1, 2, 3, 4, 5]).reshape(1,5)\n",
    "vline   = np.array([1, 2, 3, 4, 5]).reshape(5,1)\n",
    "\n",
    "display(\">>>>>>> Array <<<<<<<<<<<<\")\n",
    "display(vector.shape)\n",
    "display(vector)\n",
    "\n",
    "display(\">>>>>>> Vetor colunas <<<<\")\n",
    "display(vcolumn.shape)\n",
    "display(vcolumn)\n",
    "\n",
    "display(\">>>>>>> Vetor linhas <<<<<\")\n",
    "display(vline.shape)\n",
    "display(vline)"
   ]
  },
  {
   "cell_type": "markdown",
   "metadata": {},
   "source": [
    "## 2. Matrizes"
   ]
  },
  {
   "cell_type": "markdown",
   "metadata": {},
   "source": [
    "A seguir são apresentadas algumas funcionalidades do Numpy para inicialização rápida de matrizes."
   ]
  },
  {
   "cell_type": "code",
   "execution_count": null,
   "metadata": {},
   "outputs": [],
   "source": [
    "m42 = np.array([[1,1],\n",
    "                [2,2],\n",
    "                [3,3],\n",
    "                [4,4]])\n",
    "\n",
    "display(\">>>>>>> Matriz 4x2 <<<<<\")\n",
    "display(m42.shape)\n",
    "display(m42)\n",
    "\n",
    "mzeros = np.zeros((3,3))\n",
    "\n",
    "display(\">>>>>>> Matriz 3x3 <<<<<\")\n",
    "display(mzeros.shape)\n",
    "display(mzeros)\n",
    "\n",
    "mones = np.ones((2,4))\n",
    "\n",
    "display(\">>>>>>> Matriz 2x4 <<<<<\")\n",
    "display(mones.shape)\n",
    "display(mones)\n",
    "\n",
    "mrand = np.random.rand(2,4)\n",
    "\n",
    "display(\">>>>>>> Matriz 2x4 <<<<<\")\n",
    "display(mrand.shape)\n",
    "display(mrand)"
   ]
  },
  {
   "cell_type": "markdown",
   "metadata": {},
   "source": [
    "## 3. Operações em matrizes"
   ]
  },
  {
   "cell_type": "markdown",
   "metadata": {},
   "source": [
    "No código abaixo vemos como executar algumas operações básicas em matrizes com a ajuda da biblioteca Numpy."
   ]
  },
  {
   "cell_type": "code",
   "execution_count": null,
   "metadata": {},
   "outputs": [],
   "source": [
    "r0 = m42 * 0.5\n",
    "\n",
    "display(\">>>>>>> Multiplicação por constante: m42 x 0.5 <<<<<\")\n",
    "display(r0.shape)\n",
    "display(r0)\n",
    "\n",
    "\n",
    "r1 = m42.dot(mones)\n",
    "\n",
    "display(\">>>>>>> Multiplicação matricial: m42 x ones <<<<<\")\n",
    "display(r1.shape)\n",
    "display(r1)\n",
    "\n",
    "\n",
    "r2 = m42.dot(mrand)\n",
    "\n",
    "display(\">>>>>>> Multiplicação matricial: m42 x rand <<<<<\")\n",
    "display(r2.shape)\n",
    "display(r2)\n",
    "\n",
    "\n",
    "r3 = m42 * np.array([1, 2])\n",
    "\n",
    "display(\">>>>>>> Multiplicação element-wise (broadcast): <<<<<\")\n",
    "display(r3.shape)\n",
    "display(r3)\n",
    "\n",
    "\n",
    "temp = np.array([[2, 4],\n",
    "                 [2, 4],\n",
    "                 [2, 4],\n",
    "                 [2, 4]])\n",
    "r4 = m42 * temp\n",
    "\n",
    "display(\">>>>>>> Multiplicação element-wise (broadcast): <<<<<\")\n",
    "display(r4.shape)\n",
    "display(r4)\n",
    "\n",
    "\n",
    "r5 = r3 + r4\n",
    "\n",
    "display(\">>>>>>> Soma de matrizes: <<<<<\")\n",
    "display(r5.shape)\n",
    "display(r5)\n",
    "\n",
    "\n",
    "r6 = np.power(r5, 2)\n",
    "\n",
    "display(\">>>>>>> Potenciação de matrizes: <<<<<\")\n",
    "display(r6.shape)\n",
    "display(r6)"
   ]
  },
  {
   "cell_type": "markdown",
   "metadata": {},
   "source": [
    "## 4. Exercícios\n",
    "\n",
    "1. Dadas as matrizes $A$ e $B$, calcule $C = (A \\times B)^2 + 1$"
   ]
  },
  {
   "cell_type": "code",
   "execution_count": null,
   "metadata": {},
   "outputs": [],
   "source": [
    "A = np.array([[1,1],\n",
    "              [2,2],\n",
    "              [3,3],\n",
    "              [4,4]])\n",
    "\n",
    "B = np.array([[1],\n",
    "              [2]])\n"
   ]
  },
  {
   "cell_type": "code",
   "execution_count": null,
   "metadata": {},
   "outputs": [],
   "source": [
    "# Coloque sua resposta aqui"
   ]
  },
  {
   "cell_type": "markdown",
   "metadata": {},
   "source": [
    "2. Calcule $D = \\sqrt{B \\times A} $"
   ]
  },
  {
   "cell_type": "code",
   "execution_count": null,
   "metadata": {},
   "outputs": [],
   "source": [
    "# Coloque sua resposta aqui"
   ]
  }
 ],
 "metadata": {
  "kernelspec": {
   "display_name": "Python 3",
   "language": "python",
   "name": "python3"
  },
  "language_info": {
   "codemirror_mode": {
    "name": "ipython",
    "version": 3
   },
   "file_extension": ".py",
   "mimetype": "text/x-python",
   "name": "python",
   "nbconvert_exporter": "python",
   "pygments_lexer": "ipython3",
   "version": "3.7.3"
  }
 },
 "nbformat": 4,
 "nbformat_minor": 4
}
