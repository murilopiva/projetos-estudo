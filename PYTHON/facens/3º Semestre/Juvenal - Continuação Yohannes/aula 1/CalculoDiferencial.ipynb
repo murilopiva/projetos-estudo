{
 "cells": [
  {
   "cell_type": "markdown",
   "metadata": {},
   "source": [
    "# Cálculo Diferencial"
   ]
  },
  {
   "cell_type": "code",
   "execution_count": null,
   "metadata": {},
   "outputs": [],
   "source": [
    "import pandas as pd\n",
    "import numpy as np\n",
    "import pylab"
   ]
  },
  {
   "cell_type": "markdown",
   "metadata": {},
   "source": [
    "## 0. Função constante"
   ]
  },
  {
   "cell_type": "code",
   "execution_count": null,
   "metadata": {},
   "outputs": [],
   "source": [
    "x = np.linspace(-15,15,100) # 100 linearly spaced numbers\n",
    "\n",
    "y    = 50 + 0*x\n",
    "yhat = 0 + 0*x\n",
    "\n",
    "# compose plot\n",
    "pylab.plot(x,y)\n",
    "pylab.plot(x,yhat)\n",
    "pylab.show() # show the plot"
   ]
  },
  {
   "cell_type": "markdown",
   "metadata": {},
   "source": [
    "## 1. Função linear"
   ]
  },
  {
   "cell_type": "code",
   "execution_count": null,
   "metadata": {},
   "outputs": [],
   "source": [
    "x = np.linspace(-15,15,100) # 100 linearly spaced numbers\n",
    "\n",
    "y    = 3 * x + 1\n",
    "yhat = 3 + x*0\n",
    "\n",
    "# compose plot\n",
    "pylab.plot(x,y)\n",
    "pylab.plot(x,yhat)\n",
    "pylab.show() # show the plot"
   ]
  },
  {
   "cell_type": "markdown",
   "metadata": {},
   "source": [
    "## 1. Função quadrática"
   ]
  },
  {
   "cell_type": "code",
   "execution_count": null,
   "metadata": {},
   "outputs": [],
   "source": [
    "x = np.linspace(-15,15,100) # 100 linearly spaced numbers\n",
    "\n",
    "#y = np.sin(x)/x # computing the values of sin(x)/x\n",
    "y    = x ** 2 \n",
    "yhat = 2 * x\n",
    "\n",
    "# compose plot\n",
    "pylab.plot(x,y)\n",
    "pylab.plot(x,yhat)\n",
    "pylab.show() # show the plot"
   ]
  },
  {
   "cell_type": "code",
   "execution_count": null,
   "metadata": {},
   "outputs": [],
   "source": []
  }
 ],
 "metadata": {
  "kernelspec": {
   "display_name": "Python 3",
   "language": "python",
   "name": "python3"
  },
  "language_info": {
   "codemirror_mode": {
    "name": "ipython",
    "version": 3
   },
   "file_extension": ".py",
   "mimetype": "text/x-python",
   "name": "python",
   "nbconvert_exporter": "python",
   "pygments_lexer": "ipython3",
   "version": "3.7.3"
  }
 },
 "nbformat": 4,
 "nbformat_minor": 4
}
