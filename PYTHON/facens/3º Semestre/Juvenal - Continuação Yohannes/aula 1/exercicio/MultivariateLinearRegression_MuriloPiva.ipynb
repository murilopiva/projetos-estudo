{
 "cells": [
  {
   "cell_type": "markdown",
   "metadata": {},
   "source": [
    "<h1><center>Regressão Linear Multivariada</center></h1>"
   ]
  },
  {
   "cell_type": "markdown",
   "metadata": {},
   "source": [
    "Importando as bibliotecas:"
   ]
  },
  {
   "cell_type": "code",
   "execution_count": 3,
   "metadata": {},
   "outputs": [],
   "source": [
    "import pandas as pd\n",
    "import numpy as np\n",
    "\n",
    "np.set_printoptions(precision=8)"
   ]
  },
  {
   "cell_type": "markdown",
   "metadata": {},
   "source": [
    "# 1. Implementação"
   ]
  },
  {
   "cell_type": "markdown",
   "metadata": {},
   "source": [
    "Funções a serem implementadas no exercício:"
   ]
  },
  {
   "cell_type": "code",
   "execution_count": 4,
   "metadata": {},
   "outputs": [],
   "source": [
    "# ##############################################################################################\n",
    "# Esta função deve inicializar os parâmetros do modelo de Regressão Linear, sendo o vetor \n",
    "# de coeficientes = {m1, m2, m3, ..., mn} do tamanho da quantidade de atributos (n) e o bias um \n",
    "# valor escalar. Os resultados devem ser retornados em forma de tupla: (weights, bias).\n",
    "# ##############################################################################################\n",
    "#passo inicial zero\n",
    "\n",
    "\n",
    "# na dúvida, rever o jupyternb de algebra linear\n",
    "def initialize_weights_bias(x): #matriz x de entrada\n",
    "    try:\n",
    "        (nlines, ncolumns) = x.shape\n",
    "    except:    \n",
    "        ncolumns = 1\n",
    "\n",
    "    # AJUSTE O TRECHO ABAIXO\n",
    "    # não inicializar com zeros (0)\n",
    "    #inicializar com 1 ou nº randomico\n",
    "    # --------------------------\n",
    "    #weights = np.random.randint(1,10, size=ncolumns)\n",
    "    weights = np.ones(shape = ncolumns)    \n",
    "\n",
    "    weights = weights.reshape(len(weights), 1)\n",
    "    \n",
    "    #bias = np.random.randint(1,10)\n",
    "    bias = 0 #o bias pode ser zero\n",
    "    # --------------------------\n",
    "\n",
    "    return (weights, bias)"
   ]
  },
  {
   "cell_type": "code",
   "execution_count": 5,
   "metadata": {},
   "outputs": [],
   "source": [
    "# ##############################################################################################\n",
    "# Esta funcao deve computar a predicao para cada um dos m registros em x, baseado nos coeficien-\n",
    "# tes em weights e no bias. Utilize a funcao (1) dos slides.\n",
    "# ##############################################################################################\n",
    "def predict(x, weights, bias): #weights é o BETA da fórmula e o bias é o a da fórmula (coeficiente aditivo)\n",
    "    # CALCULE ABAIXO\n",
    "    # --------------------------\n",
    "    #return x.dot(... multiplicar x X weights e somar 0 bias\n",
    "    return x.dot(weights) + bias\n",
    "    # --------------------------\n",
    "\n"
   ]
  },
  {
   "cell_type": "code",
   "execution_count": 6,
   "metadata": {},
   "outputs": [],
   "source": [
    "# ##############################################################################################\n",
    "# Coloque aqui o trecho de código que vai calcular o custo gerado pelo modelo.\n",
    "# A variável \"y\" representa o dado real ocorrido, enquanto \"yhat\" indica as predições.\n",
    "# O custo deve ser calculado pelo Método de Mínimos Quadrados. Pode-se assumir que os arrays\n",
    "# fornecidos como parâmetro são numpy.array, então esta função pode ser implementada com\n",
    "# 3 linhas de código. Use a funcao (3) dos slides.\n",
    "# ##############################################################################################\n",
    "def cost_function(y, yhat): #y é o valor sugerido, valor conhecido, valor REAL; yhat (y^) é o predito\n",
    "    m = len(y)\n",
    "    \n",
    "    # CALCULE J ABAIXO\n",
    "    loss = y - yhat\n",
    "    lossSqr = np.square(loss) # com loss ** 2 dava erro quando é multivariado\n",
    "    # --------------------------\n",
    "    J = np.sum(lossSqr)  / m\n",
    "    # --------------------------\n",
    "    \n",
    "    #implementação do somatorio da perda\n",
    "    \n",
    "    return J\n"
   ]
  },
  {
   "cell_type": "code",
   "execution_count": 14,
   "metadata": {},
   "outputs": [],
   "source": [
    "# ##############################################################################################\n",
    "# O codigo abaixo apresenta alguns trechos destacados, os quais precisam ser corrigos.\n",
    "# ##############################################################################################\n",
    "def batch_gradient_descent(x, y, alpha=0.005, iterations=50):\n",
    "    m = len(y)\n",
    "    weights, bias = initialize_weights_bias(x)\n",
    "\n",
    "    for iteration in range(iterations):\n",
    "        yhat = predict(x, weights, bias)\n",
    "        #(z, m) = yhat.shape\n",
    "        yhat = yhat.reshape(m,1)\n",
    "        \n",
    "        loss = y - yhat\n",
    "        wgradient = (-2/m) *  x.T.dot(loss)#função 4\n",
    "        \n",
    "        # ATUALIZE OS COEFICIENTES\n",
    "        # --------------------------\n",
    "        weights = weights - wgradient * alpha\n",
    "        # --------------------------\n",
    "        \n",
    "        # CALCULE A DERIVADA PARCIAL \n",
    "        #  DA FUNCAO J EM RELACAO \n",
    "        #  AO BIAS. USE A FUNCAO (5)\n",
    "        #  DOS SLIDES.\n",
    "        # --------------------------        \n",
    "        bgradient = (-2/m) * np.sum(loss)\n",
    "        # --------------------------\n",
    "        \n",
    "        bias = bias - alpha * bgradient\n",
    "\n",
    "        nyhat = predict(x, weights, bias)\n",
    "        \n",
    "        cost = cost_function(y, nyhat)\n",
    "        print(\"Gradient descendent iteration %d. Cost = %.8f.\" %(iteration, cost))\n",
    "\n",
    "    return weights, bias"
   ]
  },
  {
   "cell_type": "markdown",
   "metadata": {},
   "source": [
    "### 1.1 Teste aqui seu código:\n",
    "----------------------------------------------------------------------------------------------------------------------------\n",
    "1. Inicialização de pesos. Resultados esperados:"
   ]
  },
  {
   "cell_type": "code",
   "execution_count": 15,
   "metadata": {},
   "outputs": [],
   "source": [
    "# (array([[1.]]), 0)\n",
    "# (array([[1.],\n",
    "#        [1.]]), 0)\n",
    "# (array([[1.],\n",
    "#        [1.],\n",
    "#        [1.],\n",
    "#        [1.]]), 0)"
   ]
  },
  {
   "cell_type": "code",
   "execution_count": 16,
   "metadata": {},
   "outputs": [
    {
     "name": "stdout",
     "output_type": "stream",
     "text": [
      "(array([[1.]]), 0)\n",
      "(array([[1.],\n",
      "       [1.]]), 0)\n",
      "(array([[1.],\n",
      "       [1.],\n",
      "       [1.],\n",
      "       [1.]]), 0)\n"
     ]
    }
   ],
   "source": [
    "x1 = np.array([0, 0, 0, 0, 0, 0])\n",
    "x2 = np.matrix('1 2; 3 4')\n",
    "x3 = np.matrix('11 12 13 14; 21 22 23 24; 31 32 33 34')\n",
    "\n",
    "parameters = initialize_weights_bias(x1)\n",
    "print(parameters)\n",
    "\n",
    "parameters = initialize_weights_bias(x2)\n",
    "print(parameters)\n",
    "\n",
    "parameters = initialize_weights_bias(x3)\n",
    "print(parameters)"
   ]
  },
  {
   "cell_type": "markdown",
   "metadata": {},
   "source": [
    "----------------------------------------------------------------------------------------------------------------------------\n",
    "2. Calcule a predição baseado no vetor x e nos parametros.  Resultados esperados:\n",
    "\n",
    "1.0\n",
    "\n",
    "[[3.5 6.5]]\n",
    "\n",
    "[[13.5 23.5 33.5]]"
   ]
  },
  {
   "cell_type": "code",
   "execution_count": 17,
   "metadata": {},
   "outputs": [
    {
     "name": "stdout",
     "output_type": "stream",
     "text": [
      "1.0\n",
      "[[3.5 6.5]]\n",
      "[[13.5 23.5 33.5]]\n"
     ]
    }
   ],
   "source": [
    "w1 = np.array([0.5])\n",
    "w2 = np.array([0.5, 1])\n",
    "w3 = np.array([0.25, 0.25, 0.25, 0.25])\n",
    "\n",
    "b1 = 1\n",
    "b2 = 1\n",
    "b3 = 1\n",
    "\n",
    "yhat1 = predict(np.array([0]), w1, b1)\n",
    "yhat2 = predict(x2, w2, b2)\n",
    "yhat3 = predict(x3, w3, b3)\n",
    "\n",
    "print(yhat1)\n",
    "print(yhat2)\n",
    "print(yhat3)"
   ]
  },
  {
   "cell_type": "markdown",
   "metadata": {},
   "source": [
    "----------------------------------------------------------------------------------------------------------------------------\n",
    "3. Teste a funcao de custo. Resultados esperados:\n",
    "\n",
    "    5.166666666666667"
   ]
  },
  {
   "cell_type": "code",
   "execution_count": 18,
   "metadata": {},
   "outputs": [
    {
     "name": "stdout",
     "output_type": "stream",
     "text": [
      "5.166666666666667\n"
     ]
    }
   ],
   "source": [
    "y = np.array([2, 2, 2, 2, 2, 2])\n",
    "yhat = np.array([1, 2, 3, 4, 5, 6])\n",
    "\n",
    "cost = cost_function(y=y, yhat=yhat)\n",
    "print(cost)"
   ]
  },
  {
   "cell_type": "markdown",
   "metadata": {},
   "source": [
    "----------------------------------------------------------------------------------------------------------------------------\n",
    "4. Otimize os pesos para os exemplos abaixo. Resultados esperados:\n",
    "\n",
    ">> Univariada"
   ]
  },
  {
   "cell_type": "code",
   "execution_count": 19,
   "metadata": {},
   "outputs": [
    {
     "name": "stdout",
     "output_type": "stream",
     "text": [
      "Gradient descendent iteration 0. Cost = 0.38000000.\n",
      "Gradient descendent iteration 1. Cost = 0.02360000.\n",
      "Gradient descendent iteration 2. Cost = 0.01128800.\n",
      "Gradient descendent iteration 3. Cost = 0.01052336.\n",
      "Gradient descendent iteration 4. Cost = 0.01015763.\n",
      "Gradient descendent iteration 5. Cost = 0.00981667.\n",
      "Gradient descendent iteration 6. Cost = 0.00948756.\n",
      "Gradient descendent iteration 7. Cost = 0.00916950.\n",
      "Gradient descendent iteration 8. Cost = 0.00886211.\n",
      "Gradient descendent iteration 9. Cost = 0.00856502.\n",
      "Gradient descendent iteration 10. Cost = 0.00827788.\n",
      "Gradient descendent iteration 11. Cost = 0.00800038.\n",
      "Gradient descendent iteration 12. Cost = 0.00773217.\n",
      "Gradient descendent iteration 13. Cost = 0.00747296.\n",
      "Gradient descendent iteration 14. Cost = 0.00722244.\n",
      "Gradient descendent iteration 15. Cost = 0.00698031.\n",
      "Gradient descendent iteration 16. Cost = 0.00674631.\n",
      "Gradient descendent iteration 17. Cost = 0.00652015.\n",
      "Gradient descendent iteration 18. Cost = 0.00630157.\n",
      "Gradient descendent iteration 19. Cost = 0.00609031.\n",
      "Gradient descendent iteration 20. Cost = 0.00588614.\n",
      "Gradient descendent iteration 21. Cost = 0.00568882.\n",
      "Gradient descendent iteration 22. Cost = 0.00549810.\n",
      "Gradient descendent iteration 23. Cost = 0.00531379.\n",
      "Gradient descendent iteration 24. Cost = 0.00513565.\n",
      "Gradient descendent iteration 25. Cost = 0.00496348.\n",
      "Gradient descendent iteration 26. Cost = 0.00479709.\n",
      "Gradient descendent iteration 27. Cost = 0.00463627.\n",
      "Gradient descendent iteration 28. Cost = 0.00448084.\n",
      "Gradient descendent iteration 29. Cost = 0.00433063.\n",
      "Gradient descendent iteration 30. Cost = 0.00418545.\n",
      "Gradient descendent iteration 31. Cost = 0.00404514.\n",
      "Gradient descendent iteration 32. Cost = 0.00390953.\n",
      "Gradient descendent iteration 33. Cost = 0.00377847.\n",
      "Gradient descendent iteration 34. Cost = 0.00365180.\n",
      "Gradient descendent iteration 35. Cost = 0.00352938.\n",
      "Gradient descendent iteration 36. Cost = 0.00341106.\n",
      "Gradient descendent iteration 37. Cost = 0.00329671.\n",
      "Gradient descendent iteration 38. Cost = 0.00318619.\n",
      "Gradient descendent iteration 39. Cost = 0.00307937.\n",
      "Gradient descendent iteration 40. Cost = 0.00297614.\n",
      "Gradient descendent iteration 41. Cost = 0.00287637.\n",
      "Gradient descendent iteration 42. Cost = 0.00277994.\n",
      "Gradient descendent iteration 43. Cost = 0.00268675.\n",
      "Gradient descendent iteration 44. Cost = 0.00259668.\n",
      "Gradient descendent iteration 45. Cost = 0.00250963.\n",
      "Gradient descendent iteration 46. Cost = 0.00242550.\n",
      "Gradient descendent iteration 47. Cost = 0.00234418.\n",
      "Gradient descendent iteration 48. Cost = 0.00226560.\n",
      "Gradient descendent iteration 49. Cost = 0.00218965.\n",
      "Gradient descendent iteration 50. Cost = 0.00211624.\n",
      "Gradient descendent iteration 51. Cost = 0.00204530.\n",
      "Gradient descendent iteration 52. Cost = 0.00197673.\n",
      "Gradient descendent iteration 53. Cost = 0.00191046.\n",
      "Gradient descendent iteration 54. Cost = 0.00184642.\n",
      "Gradient descendent iteration 55. Cost = 0.00178452.\n",
      "Gradient descendent iteration 56. Cost = 0.00172469.\n",
      "Gradient descendent iteration 57. Cost = 0.00166687.\n",
      "Gradient descendent iteration 58. Cost = 0.00161099.\n",
      "Gradient descendent iteration 59. Cost = 0.00155699.\n",
      "Gradient descendent iteration 60. Cost = 0.00150479.\n",
      "Gradient descendent iteration 61. Cost = 0.00145435.\n",
      "Gradient descendent iteration 62. Cost = 0.00140559.\n",
      "Gradient descendent iteration 63. Cost = 0.00135847.\n",
      "Gradient descendent iteration 64. Cost = 0.00131293.\n",
      "Gradient descendent iteration 65. Cost = 0.00126891.\n",
      "Gradient descendent iteration 66. Cost = 0.00122637.\n",
      "Gradient descendent iteration 67. Cost = 0.00118526.\n",
      "Gradient descendent iteration 68. Cost = 0.00114553.\n",
      "Gradient descendent iteration 69. Cost = 0.00110713.\n",
      "Gradient descendent iteration 70. Cost = 0.00107001.\n",
      "Gradient descendent iteration 71. Cost = 0.00103414.\n",
      "Gradient descendent iteration 72. Cost = 0.00099947.\n",
      "Gradient descendent iteration 73. Cost = 0.00096596.\n",
      "Gradient descendent iteration 74. Cost = 0.00093358.\n",
      "Gradient descendent iteration 75. Cost = 0.00090228.\n",
      "Gradient descendent iteration 76. Cost = 0.00087204.\n",
      "Gradient descendent iteration 77. Cost = 0.00084280.\n",
      "Gradient descendent iteration 78. Cost = 0.00081455.\n",
      "Gradient descendent iteration 79. Cost = 0.00078724.\n",
      "Gradient descendent iteration 80. Cost = 0.00076085.\n",
      "Gradient descendent iteration 81. Cost = 0.00073534.\n",
      "Gradient descendent iteration 82. Cost = 0.00071069.\n",
      "Gradient descendent iteration 83. Cost = 0.00068687.\n",
      "Gradient descendent iteration 84. Cost = 0.00066384.\n",
      "Gradient descendent iteration 85. Cost = 0.00064159.\n",
      "Gradient descendent iteration 86. Cost = 0.00062008.\n",
      "Gradient descendent iteration 87. Cost = 0.00059929.\n",
      "Gradient descendent iteration 88. Cost = 0.00057920.\n",
      "Gradient descendent iteration 89. Cost = 0.00055978.\n",
      "Gradient descendent iteration 90. Cost = 0.00054102.\n",
      "Gradient descendent iteration 91. Cost = 0.00052288.\n",
      "Gradient descendent iteration 92. Cost = 0.00050535.\n",
      "Gradient descendent iteration 93. Cost = 0.00048841.\n",
      "Gradient descendent iteration 94. Cost = 0.00047204.\n",
      "Gradient descendent iteration 95. Cost = 0.00045621.\n",
      "Gradient descendent iteration 96. Cost = 0.00044092.\n",
      "Gradient descendent iteration 97. Cost = 0.00042614.\n",
      "Gradient descendent iteration 98. Cost = 0.00041185.\n",
      "Gradient descendent iteration 99. Cost = 0.00039804.\n"
     ]
    },
    {
     "data": {
      "text/plain": [
       "'Coeficientes:'"
      ]
     },
     "metadata": {},
     "output_type": "display_data"
    },
    {
     "data": {
      "text/plain": [
       "array([[1.9870472]])"
      ]
     },
     "metadata": {},
     "output_type": "display_data"
    },
    {
     "data": {
      "text/plain": [
       "'Bias:'"
      ]
     },
     "metadata": {},
     "output_type": "display_data"
    },
    {
     "data": {
      "text/plain": [
       "0.04676370377164412"
      ]
     },
     "metadata": {},
     "output_type": "display_data"
    }
   ],
   "source": [
    "# univariada\n",
    "x1 = np.array([1, 2, 3, 4, 5]).reshape(5,1)\n",
    "y1 = np.array([2, 4, 6, 8, 10]).reshape(5,1)\n",
    "\n",
    "weights1, b1 = batch_gradient_descent(x1, y1, alpha=0.05, iterations=100)\n",
    "display(\"Coeficientes:\")\n",
    "display(weights1)\n",
    "display(\"Bias:\")\n",
    "display(b1)"
   ]
  },
  {
   "cell_type": "markdown",
   "metadata": {},
   "source": [
    "----------------------------------------------------------------------------------------------------------------------------\n",
    ">> Multivariada"
   ]
  },
  {
   "cell_type": "code",
   "execution_count": 20,
   "metadata": {},
   "outputs": [
    {
     "name": "stdout",
     "output_type": "stream",
     "text": [
      "Gradient descendent iteration 0. Cost = 0.43500000.\n",
      "Gradient descendent iteration 1. Cost = 0.23922500.\n",
      "Gradient descendent iteration 2. Cost = 0.16956287.\n",
      "Gradient descendent iteration 3. Cost = 0.14303360.\n",
      "Gradient descendent iteration 4. Cost = 0.13131229.\n",
      "Gradient descendent iteration 5. Cost = 0.12472862.\n",
      "Gradient descendent iteration 6. Cost = 0.11997936.\n",
      "Gradient descendent iteration 7. Cost = 0.11593457.\n",
      "Gradient descendent iteration 8. Cost = 0.11220610.\n",
      "Gradient descendent iteration 9. Cost = 0.10865913.\n",
      "Gradient descendent iteration 10. Cost = 0.10524532.\n",
      "Gradient descendent iteration 11. Cost = 0.10194594.\n",
      "Gradient descendent iteration 12. Cost = 0.09875245.\n",
      "Gradient descendent iteration 13. Cost = 0.09565983.\n",
      "Gradient descendent iteration 14. Cost = 0.09266435.\n",
      "Gradient descendent iteration 15. Cost = 0.08976277.\n",
      "Gradient descendent iteration 16. Cost = 0.08695208.\n",
      "Gradient descendent iteration 17. Cost = 0.08422940.\n",
      "Gradient descendent iteration 18. Cost = 0.08159199.\n",
      "Gradient descendent iteration 19. Cost = 0.07903716.\n",
      "Gradient descendent iteration 20. Cost = 0.07656233.\n",
      "Gradient descendent iteration 21. Cost = 0.07416499.\n",
      "Gradient descendent iteration 22. Cost = 0.07184271.\n",
      "Gradient descendent iteration 23. Cost = 0.06959316.\n",
      "Gradient descendent iteration 24. Cost = 0.06741404.\n",
      "Gradient descendent iteration 25. Cost = 0.06530315.\n",
      "Gradient descendent iteration 26. Cost = 0.06325836.\n",
      "Gradient descendent iteration 27. Cost = 0.06127760.\n",
      "Gradient descendent iteration 28. Cost = 0.05935886.\n",
      "Gradient descendent iteration 29. Cost = 0.05750020.\n",
      "Gradient descendent iteration 30. Cost = 0.05569974.\n",
      "Gradient descendent iteration 31. Cost = 0.05395566.\n",
      "Gradient descendent iteration 32. Cost = 0.05226618.\n",
      "Gradient descendent iteration 33. Cost = 0.05062961.\n",
      "Gradient descendent iteration 34. Cost = 0.04904428.\n",
      "Gradient descendent iteration 35. Cost = 0.04750860.\n",
      "Gradient descendent iteration 36. Cost = 0.04602099.\n",
      "Gradient descendent iteration 37. Cost = 0.04457997.\n",
      "Gradient descendent iteration 38. Cost = 0.04318407.\n",
      "Gradient descendent iteration 39. Cost = 0.04183188.\n",
      "Gradient descendent iteration 40. Cost = 0.04052203.\n",
      "Gradient descendent iteration 41. Cost = 0.03925320.\n",
      "Gradient descendent iteration 42. Cost = 0.03802409.\n",
      "Gradient descendent iteration 43. Cost = 0.03683347.\n",
      "Gradient descendent iteration 44. Cost = 0.03568013.\n",
      "Gradient descendent iteration 45. Cost = 0.03456290.\n",
      "Gradient descendent iteration 46. Cost = 0.03348066.\n",
      "Gradient descendent iteration 47. Cost = 0.03243231.\n",
      "Gradient descendent iteration 48. Cost = 0.03141678.\n",
      "Gradient descendent iteration 49. Cost = 0.03043305.\n",
      "Gradient descendent iteration 50. Cost = 0.02948012.\n",
      "Gradient descendent iteration 51. Cost = 0.02855703.\n",
      "Gradient descendent iteration 52. Cost = 0.02766285.\n",
      "Gradient descendent iteration 53. Cost = 0.02679666.\n",
      "Gradient descendent iteration 54. Cost = 0.02595760.\n",
      "Gradient descendent iteration 55. Cost = 0.02514481.\n",
      "Gradient descendent iteration 56. Cost = 0.02435746.\n",
      "Gradient descendent iteration 57. Cost = 0.02359478.\n",
      "Gradient descendent iteration 58. Cost = 0.02285597.\n",
      "Gradient descendent iteration 59. Cost = 0.02214030.\n",
      "Gradient descendent iteration 60. Cost = 0.02144704.\n",
      "Gradient descendent iteration 61. Cost = 0.02077548.\n",
      "Gradient descendent iteration 62. Cost = 0.02012495.\n",
      "Gradient descendent iteration 63. Cost = 0.01949480.\n",
      "Gradient descendent iteration 64. Cost = 0.01888437.\n",
      "Gradient descendent iteration 65. Cost = 0.01829306.\n",
      "Gradient descendent iteration 66. Cost = 0.01772026.\n",
      "Gradient descendent iteration 67. Cost = 0.01716540.\n",
      "Gradient descendent iteration 68. Cost = 0.01662791.\n",
      "Gradient descendent iteration 69. Cost = 0.01610726.\n",
      "Gradient descendent iteration 70. Cost = 0.01560290.\n",
      "Gradient descendent iteration 71. Cost = 0.01511434.\n",
      "Gradient descendent iteration 72. Cost = 0.01464107.\n",
      "Gradient descendent iteration 73. Cost = 0.01418263.\n",
      "Gradient descendent iteration 74. Cost = 0.01373854.\n",
      "Gradient descendent iteration 75. Cost = 0.01330835.\n",
      "Gradient descendent iteration 76. Cost = 0.01289164.\n",
      "Gradient descendent iteration 77. Cost = 0.01248797.\n",
      "Gradient descendent iteration 78. Cost = 0.01209695.\n",
      "Gradient descendent iteration 79. Cost = 0.01171816.\n",
      "Gradient descendent iteration 80. Cost = 0.01135124.\n",
      "Gradient descendent iteration 81. Cost = 0.01099581.\n",
      "Gradient descendent iteration 82. Cost = 0.01065151.\n",
      "Gradient descendent iteration 83. Cost = 0.01031798.\n",
      "Gradient descendent iteration 84. Cost = 0.00999490.\n",
      "Gradient descendent iteration 85. Cost = 0.00968194.\n",
      "Gradient descendent iteration 86. Cost = 0.00937878.\n",
      "Gradient descendent iteration 87. Cost = 0.00908511.\n",
      "Gradient descendent iteration 88. Cost = 0.00880063.\n",
      "Gradient descendent iteration 89. Cost = 0.00852506.\n",
      "Gradient descendent iteration 90. Cost = 0.00825812.\n",
      "Gradient descendent iteration 91. Cost = 0.00799954.\n",
      "Gradient descendent iteration 92. Cost = 0.00774906.\n",
      "Gradient descendent iteration 93. Cost = 0.00750642.\n",
      "Gradient descendent iteration 94. Cost = 0.00727138.\n",
      "Gradient descendent iteration 95. Cost = 0.00704369.\n",
      "Gradient descendent iteration 96. Cost = 0.00682314.\n",
      "Gradient descendent iteration 97. Cost = 0.00660949.\n",
      "Gradient descendent iteration 98. Cost = 0.00640253.\n",
      "Gradient descendent iteration 99. Cost = 0.00620206.\n",
      "Gradient descendent iteration 100. Cost = 0.00600786.\n",
      "Gradient descendent iteration 101. Cost = 0.00581974.\n",
      "Gradient descendent iteration 102. Cost = 0.00563751.\n",
      "Gradient descendent iteration 103. Cost = 0.00546098.\n",
      "Gradient descendent iteration 104. Cost = 0.00528999.\n",
      "Gradient descendent iteration 105. Cost = 0.00512435.\n",
      "Gradient descendent iteration 106. Cost = 0.00496389.\n",
      "Gradient descendent iteration 107. Cost = 0.00480846.\n",
      "Gradient descendent iteration 108. Cost = 0.00465790.\n",
      "Gradient descendent iteration 109. Cost = 0.00451205.\n",
      "Gradient descendent iteration 110. Cost = 0.00437077.\n",
      "Gradient descendent iteration 111. Cost = 0.00423391.\n",
      "Gradient descendent iteration 112. Cost = 0.00410133.\n",
      "Gradient descendent iteration 113. Cost = 0.00397291.\n",
      "Gradient descendent iteration 114. Cost = 0.00384851.\n",
      "Gradient descendent iteration 115. Cost = 0.00372801.\n",
      "Gradient descendent iteration 116. Cost = 0.00361127.\n",
      "Gradient descendent iteration 117. Cost = 0.00349820.\n",
      "Gradient descendent iteration 118. Cost = 0.00338866.\n",
      "Gradient descendent iteration 119. Cost = 0.00328255.\n",
      "Gradient descendent iteration 120. Cost = 0.00317977.\n",
      "Gradient descendent iteration 121. Cost = 0.00308020.\n",
      "Gradient descendent iteration 122. Cost = 0.00298376.\n",
      "Gradient descendent iteration 123. Cost = 0.00289033.\n",
      "Gradient descendent iteration 124. Cost = 0.00279982.\n",
      "Gradient descendent iteration 125. Cost = 0.00271216.\n",
      "Gradient descendent iteration 126. Cost = 0.00262723.\n",
      "Gradient descendent iteration 127. Cost = 0.00254497.\n",
      "Gradient descendent iteration 128. Cost = 0.00246528.\n",
      "Gradient descendent iteration 129. Cost = 0.00238809.\n",
      "Gradient descendent iteration 130. Cost = 0.00231331.\n",
      "Gradient descendent iteration 131. Cost = 0.00224087.\n",
      "Gradient descendent iteration 132. Cost = 0.00217071.\n",
      "Gradient descendent iteration 133. Cost = 0.00210274.\n",
      "Gradient descendent iteration 134. Cost = 0.00203690.\n",
      "Gradient descendent iteration 135. Cost = 0.00197312.\n",
      "Gradient descendent iteration 136. Cost = 0.00191133.\n",
      "Gradient descendent iteration 137. Cost = 0.00185149.\n",
      "Gradient descendent iteration 138. Cost = 0.00179351.\n",
      "Gradient descendent iteration 139. Cost = 0.00173735.\n",
      "Gradient descendent iteration 140. Cost = 0.00168295.\n",
      "Gradient descendent iteration 141. Cost = 0.00163025.\n",
      "Gradient descendent iteration 142. Cost = 0.00157921.\n",
      "Gradient descendent iteration 143. Cost = 0.00152976.\n",
      "Gradient descendent iteration 144. Cost = 0.00148186.\n",
      "Gradient descendent iteration 145. Cost = 0.00143546.\n",
      "Gradient descendent iteration 146. Cost = 0.00139051.\n",
      "Gradient descendent iteration 147. Cost = 0.00134697.\n",
      "Gradient descendent iteration 148. Cost = 0.00130479.\n",
      "Gradient descendent iteration 149. Cost = 0.00126394.\n",
      "Gradient descendent iteration 150. Cost = 0.00122436.\n",
      "Gradient descendent iteration 151. Cost = 0.00118602.\n",
      "Gradient descendent iteration 152. Cost = 0.00114889.\n",
      "Gradient descendent iteration 153. Cost = 0.00111291.\n",
      "Gradient descendent iteration 154. Cost = 0.00107806.\n",
      "Gradient descendent iteration 155. Cost = 0.00104431.\n",
      "Gradient descendent iteration 156. Cost = 0.00101161.\n",
      "Gradient descendent iteration 157. Cost = 0.00097993.\n",
      "Gradient descendent iteration 158. Cost = 0.00094925.\n",
      "Gradient descendent iteration 159. Cost = 0.00091953.\n",
      "Gradient descendent iteration 160. Cost = 0.00089073.\n",
      "Gradient descendent iteration 161. Cost = 0.00086284.\n",
      "Gradient descendent iteration 162. Cost = 0.00083583.\n",
      "Gradient descendent iteration 163. Cost = 0.00080965.\n",
      "Gradient descendent iteration 164. Cost = 0.00078430.\n",
      "Gradient descendent iteration 165. Cost = 0.00075974.\n",
      "Gradient descendent iteration 166. Cost = 0.00073595.\n",
      "Gradient descendent iteration 167. Cost = 0.00071291.\n",
      "Gradient descendent iteration 168. Cost = 0.00069059.\n",
      "Gradient descendent iteration 169. Cost = 0.00066896.\n",
      "Gradient descendent iteration 170. Cost = 0.00064802.\n",
      "Gradient descendent iteration 171. Cost = 0.00062773.\n",
      "Gradient descendent iteration 172. Cost = 0.00060807.\n",
      "Gradient descendent iteration 173. Cost = 0.00058903.\n",
      "Gradient descendent iteration 174. Cost = 0.00057059.\n",
      "Gradient descendent iteration 175. Cost = 0.00055272.\n",
      "Gradient descendent iteration 176. Cost = 0.00053541.\n",
      "Gradient descendent iteration 177. Cost = 0.00051865.\n",
      "Gradient descendent iteration 178. Cost = 0.00050241.\n",
      "Gradient descendent iteration 179. Cost = 0.00048668.\n",
      "Gradient descendent iteration 180. Cost = 0.00047144.\n",
      "Gradient descendent iteration 181. Cost = 0.00045668.\n",
      "Gradient descendent iteration 182. Cost = 0.00044238.\n",
      "Gradient descendent iteration 183. Cost = 0.00042852.\n",
      "Gradient descendent iteration 184. Cost = 0.00041511.\n",
      "Gradient descendent iteration 185. Cost = 0.00040211.\n",
      "Gradient descendent iteration 186. Cost = 0.00038952.\n",
      "Gradient descendent iteration 187. Cost = 0.00037732.\n",
      "Gradient descendent iteration 188. Cost = 0.00036551.\n",
      "Gradient descendent iteration 189. Cost = 0.00035406.\n",
      "Gradient descendent iteration 190. Cost = 0.00034297.\n",
      "Gradient descendent iteration 191. Cost = 0.00033224.\n",
      "Gradient descendent iteration 192. Cost = 0.00032183.\n",
      "Gradient descendent iteration 193. Cost = 0.00031175.\n",
      "Gradient descendent iteration 194. Cost = 0.00030199.\n",
      "Gradient descendent iteration 195. Cost = 0.00029254.\n",
      "Gradient descendent iteration 196. Cost = 0.00028338.\n",
      "Gradient descendent iteration 197. Cost = 0.00027450.\n",
      "Gradient descendent iteration 198. Cost = 0.00026591.\n",
      "Gradient descendent iteration 199. Cost = 0.00025758.\n",
      "Gradient descendent iteration 200. Cost = 0.00024952.\n",
      "Gradient descendent iteration 201. Cost = 0.00024170.\n",
      "Gradient descendent iteration 202. Cost = 0.00023414.\n",
      "Gradient descendent iteration 203. Cost = 0.00022680.\n",
      "Gradient descendent iteration 204. Cost = 0.00021970.\n",
      "Gradient descendent iteration 205. Cost = 0.00021282.\n",
      "Gradient descendent iteration 206. Cost = 0.00020616.\n",
      "Gradient descendent iteration 207. Cost = 0.00019970.\n",
      "Gradient descendent iteration 208. Cost = 0.00019345.\n",
      "Gradient descendent iteration 209. Cost = 0.00018739.\n",
      "Gradient descendent iteration 210. Cost = 0.00018153.\n",
      "Gradient descendent iteration 211. Cost = 0.00017584.\n",
      "Gradient descendent iteration 212. Cost = 0.00017034.\n",
      "Gradient descendent iteration 213. Cost = 0.00016500.\n",
      "Gradient descendent iteration 214. Cost = 0.00015984.\n",
      "Gradient descendent iteration 215. Cost = 0.00015483.\n",
      "Gradient descendent iteration 216. Cost = 0.00014998.\n",
      "Gradient descendent iteration 217. Cost = 0.00014529.\n",
      "Gradient descendent iteration 218. Cost = 0.00014074.\n",
      "Gradient descendent iteration 219. Cost = 0.00013633.\n",
      "Gradient descendent iteration 220. Cost = 0.00013206.\n",
      "Gradient descendent iteration 221. Cost = 0.00012793.\n",
      "Gradient descendent iteration 222. Cost = 0.00012392.\n",
      "Gradient descendent iteration 223. Cost = 0.00012004.\n",
      "Gradient descendent iteration 224. Cost = 0.00011628.\n",
      "Gradient descendent iteration 225. Cost = 0.00011264.\n",
      "Gradient descendent iteration 226. Cost = 0.00010911.\n",
      "Gradient descendent iteration 227. Cost = 0.00010570.\n",
      "Gradient descendent iteration 228. Cost = 0.00010239.\n",
      "Gradient descendent iteration 229. Cost = 0.00009918.\n",
      "Gradient descendent iteration 230. Cost = 0.00009608.\n",
      "Gradient descendent iteration 231. Cost = 0.00009307.\n",
      "Gradient descendent iteration 232. Cost = 0.00009015.\n",
      "Gradient descendent iteration 233. Cost = 0.00008733.\n"
     ]
    },
    {
     "name": "stdout",
     "output_type": "stream",
     "text": [
      "Gradient descendent iteration 234. Cost = 0.00008460.\n",
      "Gradient descendent iteration 235. Cost = 0.00008195.\n",
      "Gradient descendent iteration 236. Cost = 0.00007938.\n",
      "Gradient descendent iteration 237. Cost = 0.00007690.\n",
      "Gradient descendent iteration 238. Cost = 0.00007449.\n",
      "Gradient descendent iteration 239. Cost = 0.00007216.\n",
      "Gradient descendent iteration 240. Cost = 0.00006990.\n",
      "Gradient descendent iteration 241. Cost = 0.00006771.\n",
      "Gradient descendent iteration 242. Cost = 0.00006559.\n",
      "Gradient descendent iteration 243. Cost = 0.00006353.\n",
      "Gradient descendent iteration 244. Cost = 0.00006154.\n",
      "Gradient descendent iteration 245. Cost = 0.00005962.\n",
      "Gradient descendent iteration 246. Cost = 0.00005775.\n",
      "Gradient descendent iteration 247. Cost = 0.00005594.\n",
      "Gradient descendent iteration 248. Cost = 0.00005419.\n",
      "Gradient descendent iteration 249. Cost = 0.00005249.\n",
      "Gradient descendent iteration 250. Cost = 0.00005085.\n",
      "Gradient descendent iteration 251. Cost = 0.00004926.\n",
      "Gradient descendent iteration 252. Cost = 0.00004772.\n",
      "Gradient descendent iteration 253. Cost = 0.00004622.\n",
      "Gradient descendent iteration 254. Cost = 0.00004477.\n",
      "Gradient descendent iteration 255. Cost = 0.00004337.\n",
      "Gradient descendent iteration 256. Cost = 0.00004201.\n",
      "Gradient descendent iteration 257. Cost = 0.00004070.\n",
      "Gradient descendent iteration 258. Cost = 0.00003942.\n",
      "Gradient descendent iteration 259. Cost = 0.00003819.\n",
      "Gradient descendent iteration 260. Cost = 0.00003699.\n",
      "Gradient descendent iteration 261. Cost = 0.00003584.\n",
      "Gradient descendent iteration 262. Cost = 0.00003471.\n",
      "Gradient descendent iteration 263. Cost = 0.00003363.\n",
      "Gradient descendent iteration 264. Cost = 0.00003257.\n",
      "Gradient descendent iteration 265. Cost = 0.00003155.\n",
      "Gradient descendent iteration 266. Cost = 0.00003057.\n",
      "Gradient descendent iteration 267. Cost = 0.00002961.\n",
      "Gradient descendent iteration 268. Cost = 0.00002868.\n",
      "Gradient descendent iteration 269. Cost = 0.00002778.\n",
      "Gradient descendent iteration 270. Cost = 0.00002691.\n",
      "Gradient descendent iteration 271. Cost = 0.00002607.\n",
      "Gradient descendent iteration 272. Cost = 0.00002525.\n",
      "Gradient descendent iteration 273. Cost = 0.00002446.\n",
      "Gradient descendent iteration 274. Cost = 0.00002370.\n",
      "Gradient descendent iteration 275. Cost = 0.00002296.\n",
      "Gradient descendent iteration 276. Cost = 0.00002224.\n",
      "Gradient descendent iteration 277. Cost = 0.00002154.\n",
      "Gradient descendent iteration 278. Cost = 0.00002087.\n",
      "Gradient descendent iteration 279. Cost = 0.00002021.\n",
      "Gradient descendent iteration 280. Cost = 0.00001958.\n",
      "Gradient descendent iteration 281. Cost = 0.00001897.\n",
      "Gradient descendent iteration 282. Cost = 0.00001837.\n",
      "Gradient descendent iteration 283. Cost = 0.00001780.\n",
      "Gradient descendent iteration 284. Cost = 0.00001724.\n",
      "Gradient descendent iteration 285. Cost = 0.00001670.\n",
      "Gradient descendent iteration 286. Cost = 0.00001618.\n",
      "Gradient descendent iteration 287. Cost = 0.00001567.\n",
      "Gradient descendent iteration 288. Cost = 0.00001518.\n",
      "Gradient descendent iteration 289. Cost = 0.00001470.\n",
      "Gradient descendent iteration 290. Cost = 0.00001424.\n",
      "Gradient descendent iteration 291. Cost = 0.00001380.\n",
      "Gradient descendent iteration 292. Cost = 0.00001337.\n",
      "Gradient descendent iteration 293. Cost = 0.00001295.\n",
      "Gradient descendent iteration 294. Cost = 0.00001254.\n",
      "Gradient descendent iteration 295. Cost = 0.00001215.\n",
      "Gradient descendent iteration 296. Cost = 0.00001177.\n",
      "Gradient descendent iteration 297. Cost = 0.00001140.\n",
      "Gradient descendent iteration 298. Cost = 0.00001104.\n",
      "Gradient descendent iteration 299. Cost = 0.00001070.\n",
      "Gradient descendent iteration 300. Cost = 0.00001036.\n",
      "Gradient descendent iteration 301. Cost = 0.00001004.\n",
      "Gradient descendent iteration 302. Cost = 0.00000972.\n",
      "Gradient descendent iteration 303. Cost = 0.00000942.\n",
      "Gradient descendent iteration 304. Cost = 0.00000912.\n",
      "Gradient descendent iteration 305. Cost = 0.00000884.\n",
      "Gradient descendent iteration 306. Cost = 0.00000856.\n",
      "Gradient descendent iteration 307. Cost = 0.00000829.\n",
      "Gradient descendent iteration 308. Cost = 0.00000803.\n",
      "Gradient descendent iteration 309. Cost = 0.00000778.\n",
      "Gradient descendent iteration 310. Cost = 0.00000754.\n",
      "Gradient descendent iteration 311. Cost = 0.00000730.\n",
      "Gradient descendent iteration 312. Cost = 0.00000707.\n",
      "Gradient descendent iteration 313. Cost = 0.00000685.\n",
      "Gradient descendent iteration 314. Cost = 0.00000664.\n",
      "Gradient descendent iteration 315. Cost = 0.00000643.\n",
      "Gradient descendent iteration 316. Cost = 0.00000623.\n",
      "Gradient descendent iteration 317. Cost = 0.00000603.\n",
      "Gradient descendent iteration 318. Cost = 0.00000585.\n",
      "Gradient descendent iteration 319. Cost = 0.00000566.\n",
      "Gradient descendent iteration 320. Cost = 0.00000548.\n",
      "Gradient descendent iteration 321. Cost = 0.00000531.\n",
      "Gradient descendent iteration 322. Cost = 0.00000515.\n",
      "Gradient descendent iteration 323. Cost = 0.00000499.\n",
      "Gradient descendent iteration 324. Cost = 0.00000483.\n",
      "Gradient descendent iteration 325. Cost = 0.00000468.\n",
      "Gradient descendent iteration 326. Cost = 0.00000453.\n",
      "Gradient descendent iteration 327. Cost = 0.00000439.\n",
      "Gradient descendent iteration 328. Cost = 0.00000425.\n",
      "Gradient descendent iteration 329. Cost = 0.00000412.\n",
      "Gradient descendent iteration 330. Cost = 0.00000399.\n",
      "Gradient descendent iteration 331. Cost = 0.00000387.\n",
      "Gradient descendent iteration 332. Cost = 0.00000374.\n",
      "Gradient descendent iteration 333. Cost = 0.00000363.\n",
      "Gradient descendent iteration 334. Cost = 0.00000351.\n",
      "Gradient descendent iteration 335. Cost = 0.00000340.\n",
      "Gradient descendent iteration 336. Cost = 0.00000330.\n",
      "Gradient descendent iteration 337. Cost = 0.00000319.\n",
      "Gradient descendent iteration 338. Cost = 0.00000309.\n",
      "Gradient descendent iteration 339. Cost = 0.00000300.\n",
      "Gradient descendent iteration 340. Cost = 0.00000290.\n",
      "Gradient descendent iteration 341. Cost = 0.00000281.\n",
      "Gradient descendent iteration 342. Cost = 0.00000272.\n",
      "Gradient descendent iteration 343. Cost = 0.00000264.\n",
      "Gradient descendent iteration 344. Cost = 0.00000256.\n",
      "Gradient descendent iteration 345. Cost = 0.00000248.\n",
      "Gradient descendent iteration 346. Cost = 0.00000240.\n",
      "Gradient descendent iteration 347. Cost = 0.00000232.\n",
      "Gradient descendent iteration 348. Cost = 0.00000225.\n",
      "Gradient descendent iteration 349. Cost = 0.00000218.\n",
      "Gradient descendent iteration 350. Cost = 0.00000211.\n",
      "Gradient descendent iteration 351. Cost = 0.00000205.\n",
      "Gradient descendent iteration 352. Cost = 0.00000198.\n",
      "Gradient descendent iteration 353. Cost = 0.00000192.\n",
      "Gradient descendent iteration 354. Cost = 0.00000186.\n",
      "Gradient descendent iteration 355. Cost = 0.00000180.\n",
      "Gradient descendent iteration 356. Cost = 0.00000174.\n",
      "Gradient descendent iteration 357. Cost = 0.00000169.\n",
      "Gradient descendent iteration 358. Cost = 0.00000164.\n",
      "Gradient descendent iteration 359. Cost = 0.00000159.\n",
      "Gradient descendent iteration 360. Cost = 0.00000154.\n",
      "Gradient descendent iteration 361. Cost = 0.00000149.\n",
      "Gradient descendent iteration 362. Cost = 0.00000144.\n",
      "Gradient descendent iteration 363. Cost = 0.00000140.\n",
      "Gradient descendent iteration 364. Cost = 0.00000135.\n",
      "Gradient descendent iteration 365. Cost = 0.00000131.\n",
      "Gradient descendent iteration 366. Cost = 0.00000127.\n",
      "Gradient descendent iteration 367. Cost = 0.00000123.\n",
      "Gradient descendent iteration 368. Cost = 0.00000119.\n",
      "Gradient descendent iteration 369. Cost = 0.00000115.\n",
      "Gradient descendent iteration 370. Cost = 0.00000112.\n",
      "Gradient descendent iteration 371. Cost = 0.00000108.\n",
      "Gradient descendent iteration 372. Cost = 0.00000105.\n",
      "Gradient descendent iteration 373. Cost = 0.00000102.\n",
      "Gradient descendent iteration 374. Cost = 0.00000098.\n",
      "Gradient descendent iteration 375. Cost = 0.00000095.\n",
      "Gradient descendent iteration 376. Cost = 0.00000092.\n",
      "Gradient descendent iteration 377. Cost = 0.00000089.\n",
      "Gradient descendent iteration 378. Cost = 0.00000087.\n",
      "Gradient descendent iteration 379. Cost = 0.00000084.\n",
      "Gradient descendent iteration 380. Cost = 0.00000081.\n",
      "Gradient descendent iteration 381. Cost = 0.00000079.\n",
      "Gradient descendent iteration 382. Cost = 0.00000076.\n",
      "Gradient descendent iteration 383. Cost = 0.00000074.\n",
      "Gradient descendent iteration 384. Cost = 0.00000072.\n",
      "Gradient descendent iteration 385. Cost = 0.00000069.\n",
      "Gradient descendent iteration 386. Cost = 0.00000067.\n",
      "Gradient descendent iteration 387. Cost = 0.00000065.\n",
      "Gradient descendent iteration 388. Cost = 0.00000063.\n",
      "Gradient descendent iteration 389. Cost = 0.00000061.\n",
      "Gradient descendent iteration 390. Cost = 0.00000059.\n",
      "Gradient descendent iteration 391. Cost = 0.00000057.\n",
      "Gradient descendent iteration 392. Cost = 0.00000056.\n",
      "Gradient descendent iteration 393. Cost = 0.00000054.\n",
      "Gradient descendent iteration 394. Cost = 0.00000052.\n",
      "Gradient descendent iteration 395. Cost = 0.00000050.\n",
      "Gradient descendent iteration 396. Cost = 0.00000049.\n",
      "Gradient descendent iteration 397. Cost = 0.00000047.\n",
      "Gradient descendent iteration 398. Cost = 0.00000046.\n",
      "Gradient descendent iteration 399. Cost = 0.00000044.\n",
      "Gradient descendent iteration 400. Cost = 0.00000043.\n",
      "Gradient descendent iteration 401. Cost = 0.00000042.\n",
      "Gradient descendent iteration 402. Cost = 0.00000040.\n",
      "Gradient descendent iteration 403. Cost = 0.00000039.\n",
      "Gradient descendent iteration 404. Cost = 0.00000038.\n",
      "Gradient descendent iteration 405. Cost = 0.00000037.\n",
      "Gradient descendent iteration 406. Cost = 0.00000036.\n",
      "Gradient descendent iteration 407. Cost = 0.00000034.\n",
      "Gradient descendent iteration 408. Cost = 0.00000033.\n",
      "Gradient descendent iteration 409. Cost = 0.00000032.\n",
      "Gradient descendent iteration 410. Cost = 0.00000031.\n",
      "Gradient descendent iteration 411. Cost = 0.00000030.\n",
      "Gradient descendent iteration 412. Cost = 0.00000029.\n",
      "Gradient descendent iteration 413. Cost = 0.00000028.\n",
      "Gradient descendent iteration 414. Cost = 0.00000028.\n",
      "Gradient descendent iteration 415. Cost = 0.00000027.\n",
      "Gradient descendent iteration 416. Cost = 0.00000026.\n",
      "Gradient descendent iteration 417. Cost = 0.00000025.\n",
      "Gradient descendent iteration 418. Cost = 0.00000024.\n",
      "Gradient descendent iteration 419. Cost = 0.00000024.\n",
      "Gradient descendent iteration 420. Cost = 0.00000023.\n",
      "Gradient descendent iteration 421. Cost = 0.00000022.\n",
      "Gradient descendent iteration 422. Cost = 0.00000021.\n",
      "Gradient descendent iteration 423. Cost = 0.00000021.\n",
      "Gradient descendent iteration 424. Cost = 0.00000020.\n",
      "Gradient descendent iteration 425. Cost = 0.00000019.\n",
      "Gradient descendent iteration 426. Cost = 0.00000019.\n",
      "Gradient descendent iteration 427. Cost = 0.00000018.\n",
      "Gradient descendent iteration 428. Cost = 0.00000018.\n",
      "Gradient descendent iteration 429. Cost = 0.00000017.\n",
      "Gradient descendent iteration 430. Cost = 0.00000017.\n",
      "Gradient descendent iteration 431. Cost = 0.00000016.\n",
      "Gradient descendent iteration 432. Cost = 0.00000016.\n",
      "Gradient descendent iteration 433. Cost = 0.00000015.\n",
      "Gradient descendent iteration 434. Cost = 0.00000015.\n",
      "Gradient descendent iteration 435. Cost = 0.00000014.\n",
      "Gradient descendent iteration 436. Cost = 0.00000014.\n",
      "Gradient descendent iteration 437. Cost = 0.00000013.\n",
      "Gradient descendent iteration 438. Cost = 0.00000013.\n",
      "Gradient descendent iteration 439. Cost = 0.00000012.\n",
      "Gradient descendent iteration 440. Cost = 0.00000012.\n",
      "Gradient descendent iteration 441. Cost = 0.00000012.\n",
      "Gradient descendent iteration 442. Cost = 0.00000011.\n",
      "Gradient descendent iteration 443. Cost = 0.00000011.\n",
      "Gradient descendent iteration 444. Cost = 0.00000011.\n",
      "Gradient descendent iteration 445. Cost = 0.00000010.\n",
      "Gradient descendent iteration 446. Cost = 0.00000010.\n",
      "Gradient descendent iteration 447. Cost = 0.00000010.\n",
      "Gradient descendent iteration 448. Cost = 0.00000009.\n",
      "Gradient descendent iteration 449. Cost = 0.00000009.\n",
      "Gradient descendent iteration 450. Cost = 0.00000009.\n",
      "Gradient descendent iteration 451. Cost = 0.00000008.\n",
      "Gradient descendent iteration 452. Cost = 0.00000008.\n",
      "Gradient descendent iteration 453. Cost = 0.00000008.\n",
      "Gradient descendent iteration 454. Cost = 0.00000008.\n",
      "Gradient descendent iteration 455. Cost = 0.00000007.\n",
      "Gradient descendent iteration 456. Cost = 0.00000007.\n",
      "Gradient descendent iteration 457. Cost = 0.00000007.\n",
      "Gradient descendent iteration 458. Cost = 0.00000007.\n",
      "Gradient descendent iteration 459. Cost = 0.00000007.\n",
      "Gradient descendent iteration 460. Cost = 0.00000006.\n",
      "Gradient descendent iteration 461. Cost = 0.00000006.\n",
      "Gradient descendent iteration 462. Cost = 0.00000006.\n",
      "Gradient descendent iteration 463. Cost = 0.00000006.\n",
      "Gradient descendent iteration 464. Cost = 0.00000006.\n",
      "Gradient descendent iteration 465. Cost = 0.00000005.\n",
      "Gradient descendent iteration 466. Cost = 0.00000005.\n",
      "Gradient descendent iteration 467. Cost = 0.00000005.\n",
      "Gradient descendent iteration 468. Cost = 0.00000005.\n",
      "Gradient descendent iteration 469. Cost = 0.00000005.\n",
      "Gradient descendent iteration 470. Cost = 0.00000005.\n",
      "Gradient descendent iteration 471. Cost = 0.00000004.\n",
      "Gradient descendent iteration 472. Cost = 0.00000004.\n",
      "Gradient descendent iteration 473. Cost = 0.00000004.\n",
      "Gradient descendent iteration 474. Cost = 0.00000004.\n",
      "Gradient descendent iteration 475. Cost = 0.00000004.\n",
      "Gradient descendent iteration 476. Cost = 0.00000004.\n",
      "Gradient descendent iteration 477. Cost = 0.00000004.\n",
      "Gradient descendent iteration 478. Cost = 0.00000004.\n",
      "Gradient descendent iteration 479. Cost = 0.00000003.\n",
      "Gradient descendent iteration 480. Cost = 0.00000003.\n",
      "Gradient descendent iteration 481. Cost = 0.00000003.\n",
      "Gradient descendent iteration 482. Cost = 0.00000003.\n",
      "Gradient descendent iteration 483. Cost = 0.00000003.\n",
      "Gradient descendent iteration 484. Cost = 0.00000003.\n",
      "Gradient descendent iteration 485. Cost = 0.00000003.\n",
      "Gradient descendent iteration 486. Cost = 0.00000003.\n",
      "Gradient descendent iteration 487. Cost = 0.00000003.\n",
      "Gradient descendent iteration 488. Cost = 0.00000003.\n",
      "Gradient descendent iteration 489. Cost = 0.00000003.\n",
      "Gradient descendent iteration 490. Cost = 0.00000002.\n",
      "Gradient descendent iteration 491. Cost = 0.00000002.\n",
      "Gradient descendent iteration 492. Cost = 0.00000002.\n",
      "Gradient descendent iteration 493. Cost = 0.00000002.\n",
      "Gradient descendent iteration 494. Cost = 0.00000002.\n",
      "Gradient descendent iteration 495. Cost = 0.00000002.\n",
      "Gradient descendent iteration 496. Cost = 0.00000002.\n",
      "Gradient descendent iteration 497. Cost = 0.00000002.\n",
      "Gradient descendent iteration 498. Cost = 0.00000002.\n",
      "Gradient descendent iteration 499. Cost = 0.00000002.\n"
     ]
    },
    {
     "data": {
      "text/plain": [
       "'Coeficientes:'"
      ]
     },
     "metadata": {},
     "output_type": "display_data"
    },
    {
     "data": {
      "text/plain": [
       "matrix([[1.00005603],\n",
       "        [1.00005603]])"
      ]
     },
     "metadata": {},
     "output_type": "display_data"
    },
    {
     "data": {
      "text/plain": [
       "'Bias:'"
      ]
     },
     "metadata": {},
     "output_type": "display_data"
    },
    {
     "data": {
      "text/plain": [
       "0.999667354496315"
      ]
     },
     "metadata": {},
     "output_type": "display_data"
    }
   ],
   "source": [
    "# multivariada\n",
    "x2 = np.matrix('1 1; 2 2; 3 3; 4 4')\n",
    "y2 = np.array([3, 5, 7, 9]).reshape(4,1)\n",
    "\n",
    "weights2, b2 = batch_gradient_descent(x2, y2, alpha=0.05, iterations=500)\n",
    "display(\"Coeficientes:\")\n",
    "display(weights2)\n",
    "display(\"Bias:\")\n",
    "display(b2)"
   ]
  },
  {
   "cell_type": "markdown",
   "metadata": {},
   "source": [
    "# 2. Aplicação em caso real: Boston House Pricing"
   ]
  },
  {
   "cell_type": "markdown",
   "metadata": {},
   "source": [
    "Criando uma classe wrapper para facilitar o uso"
   ]
  },
  {
   "cell_type": "code",
   "execution_count": 21,
   "metadata": {},
   "outputs": [],
   "source": [
    "class Facens_LinearRegression:\n",
    "    def __init__(self, learning_rate=0.005, epochs=50):\n",
    "        self.learning_rate = learning_rate\n",
    "        self.epochs = epochs\n",
    "\n",
    "    def fit(self, X, Y):\n",
    "        (w,b) = batch_gradient_descent(X, Y, \n",
    "                                       alpha=self.learning_rate, \n",
    "                                       iterations=self.epochs)\n",
    "        \n",
    "        self.weights = w\n",
    "        self.bias = b\n",
    "        \n",
    "    def predict(self, X):\n",
    "        return predict(X, self.weights, self.bias)"
   ]
  },
  {
   "cell_type": "markdown",
   "metadata": {},
   "source": [
    "### 2.1 Importando os dados:"
   ]
  },
  {
   "cell_type": "markdown",
   "metadata": {},
   "source": [
    "Os atributos independentes do conjunto X são (nesta ordem):\n",
    "- *CRIM* per capita crime rate by town\n",
    "- *ZN* proportion of residential land zoned for lots over 25,000 sq.ft.\n",
    "- *INDUS* proportion of non-retail business acres per town\n",
    "- *CHAS* Charles River dummy variable (= 1 if tract bounds river; 0 otherwise)\n",
    "- *NOX* nitric oxides concentration (parts per 10 million)\n",
    "- *RM* average number of rooms per dwelling\n",
    "- *AGE* proportion of owner-occupied units built prior to 1940\n",
    "- *DIS* weighted distances to five Boston employment centres\n",
    "- *RAD* index of accessibility to radial highways\n",
    "- *TAX* full-value property-tax rate per 10000 USD\n",
    "- *PTRATIO* pupil-teacher ratio by town\n",
    "- *B* 1000(Bk - 0.63)^2 where Bk is the proportion of blacks by town\n",
    "- *LSTAT* % lower status of the population\n",
    "        \n",
    "O atributo alvo Y é:\n",
    "\n",
    "- *MEDV* Median value of owner-occupied homes in 1000’s"
   ]
  },
  {
   "cell_type": "code",
   "execution_count": 22,
   "metadata": {},
   "outputs": [],
   "source": [
    "from sklearn.datasets import load_boston"
   ]
  },
  {
   "cell_type": "code",
   "execution_count": 23,
   "metadata": {},
   "outputs": [],
   "source": [
    "X, Y = load_boston(return_X_y=True)\n",
    "Y = Y.reshape(len(Y),1)"
   ]
  },
  {
   "cell_type": "markdown",
   "metadata": {},
   "source": [
    "### 2.2 Primeira tentativa de regressão"
   ]
  },
  {
   "cell_type": "code",
   "execution_count": 24,
   "metadata": {},
   "outputs": [],
   "source": [
    "flr = Facens_LinearRegression(learning_rate=0.005, epochs=5)"
   ]
  },
  {
   "cell_type": "code",
   "execution_count": 25,
   "metadata": {},
   "outputs": [
    {
     "name": "stdout",
     "output_type": "stream",
     "text": [
      "Gradient descendent iteration 0. Cost = 8040154854131.18750000.\n",
      "Gradient descendent iteration 1. Cost = 78727452724886896640.00000000.\n",
      "Gradient descendent iteration 2. Cost = 770882574125724857127665664.00000000.\n",
      "Gradient descendent iteration 3. Cost = 7548319224983011329889724943826944.00000000.\n",
      "Gradient descendent iteration 4. Cost = 73911546369892273738287483305867608064000.00000000.\n"
     ]
    }
   ],
   "source": [
    "flr.fit(X, Y)"
   ]
  },
  {
   "cell_type": "code",
   "execution_count": null,
   "metadata": {},
   "outputs": [],
   "source": []
  },
  {
   "cell_type": "markdown",
   "metadata": {},
   "source": [
    "### 2.3 Segunda tentativa"
   ]
  },
  {
   "cell_type": "code",
   "execution_count": 26,
   "metadata": {},
   "outputs": [],
   "source": [
    "from sklearn.preprocessing import StandardScaler"
   ]
  },
  {
   "cell_type": "code",
   "execution_count": 27,
   "metadata": {},
   "outputs": [],
   "source": [
    "scaler = StandardScaler()\n",
    "Xs = scaler.fit_transform(X, Y)"
   ]
  },
  {
   "cell_type": "code",
   "execution_count": 28,
   "metadata": {},
   "outputs": [
    {
     "name": "stdout",
     "output_type": "stream",
     "text": [
      "Gradient descendent iteration 0. Cost = 472.91168984.\n",
      "Gradient descendent iteration 1. Cost = 379.25803773.\n",
      "Gradient descendent iteration 2. Cost = 310.70192918.\n",
      "Gradient descendent iteration 3. Cost = 256.32487619.\n",
      "Gradient descendent iteration 4. Cost = 212.48567420.\n"
     ]
    }
   ],
   "source": [
    "flr2 = Facens_LinearRegression(learning_rate=0.05, epochs=5)\n",
    "flr2.fit(Xs, Y)"
   ]
  },
  {
   "cell_type": "markdown",
   "metadata": {},
   "source": [
    "# Avaliação"
   ]
  },
  {
   "cell_type": "markdown",
   "metadata": {},
   "source": [
    "Verificando as predições"
   ]
  },
  {
   "cell_type": "code",
   "execution_count": 29,
   "metadata": {},
   "outputs": [],
   "source": [
    "ypred = flr2.predict(Xs)"
   ]
  },
  {
   "cell_type": "code",
   "execution_count": 30,
   "metadata": {},
   "outputs": [],
   "source": [
    "res = pd.DataFrame({\"Valor Real\":Y.reshape(len(Y)), \"Predição\":ypred.reshape(len(ypred))})"
   ]
  },
  {
   "cell_type": "code",
   "execution_count": 31,
   "metadata": {},
   "outputs": [],
   "source": [
    "res[\"Resíduo\"] = res[\"Valor Real\"] - res[\"Predição\"]"
   ]
  },
  {
   "cell_type": "code",
   "execution_count": 32,
   "metadata": {},
   "outputs": [],
   "source": [
    "import seaborn as sns"
   ]
  },
  {
   "cell_type": "code",
   "execution_count": 33,
   "metadata": {},
   "outputs": [
    {
     "data": {
      "text/plain": [
       "Text(0.5, 1.0, 'Residual Plot')"
      ]
     },
     "execution_count": 33,
     "metadata": {},
     "output_type": "execute_result"
    },
    {
     "data": {
      "image/png": "[encoded data removed]",
      "text/plain": [
       "<Figure size 432x288 with 1 Axes>"
      ]
     },
     "metadata": {
      "needs_background": "light"
     },
     "output_type": "display_data"
    }
   ],
   "source": [
    "ax = sns.scatterplot(data=res, x=\"Valor Real\", y=\"Resíduo\")\n",
    "ax.set_title(\"Residual Plot\")"
   ]
  },
  {
   "cell_type": "code",
   "execution_count": null,
   "metadata": {},
   "outputs": [],
   "source": []
  }
 ],
 "metadata": {
  "kernelspec": {
   "display_name": "Python 3",
   "language": "python",
   "name": "python3"
  },
  "language_info": {
   "codemirror_mode": {
    "name": "ipython",
    "version": 3
   },
   "file_extension": ".py",
   "mimetype": "text/x-python",
   "name": "python",
   "nbconvert_exporter": "python",
   "pygments_lexer": "ipython3",
   "version": "3.7.6"
  }
 },
 "nbformat": 4,
 "nbformat_minor": 4
}
