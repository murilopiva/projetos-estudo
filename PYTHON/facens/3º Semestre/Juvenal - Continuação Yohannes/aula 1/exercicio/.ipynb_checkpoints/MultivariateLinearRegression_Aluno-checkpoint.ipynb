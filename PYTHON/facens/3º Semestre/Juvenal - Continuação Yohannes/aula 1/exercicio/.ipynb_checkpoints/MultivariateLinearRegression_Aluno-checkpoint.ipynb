{
 "cells": [
  {
   "cell_type": "markdown",
   "metadata": {},
   "source": [
    "<h1><center>Regressão Linear Multivariada</center></h1>"
   ]
  },
  {
   "cell_type": "markdown",
   "metadata": {},
   "source": [
    "Importando as bibliotecas:"
   ]
  },
  {
   "cell_type": "code",
   "execution_count": null,
   "metadata": {},
   "outputs": [],
   "source": [
    "import pandas as pd\n",
    "import numpy as np\n",
    "\n",
    "np.set_printoptions(precision=8)"
   ]
  },
  {
   "cell_type": "markdown",
   "metadata": {},
   "source": [
    "# 1. Implementação"
   ]
  },
  {
   "cell_type": "markdown",
   "metadata": {},
   "source": [
    "Funções a serem implementadas no exercício:"
   ]
  },
  {
   "cell_type": "code",
   "execution_count": null,
   "metadata": {},
   "outputs": [],
   "source": [
    "# ##############################################################################################\n",
    "# Esta função deve inicializar os parâmetros do modelo de Regressão Linear, sendo o vetor \n",
    "# de coeficientes = {m1, m2, m3, ..., mn} do tamanho da quantidade de atributos (n) e o bias um \n",
    "# valor escalar. Os resultados devem ser retornados em forma de tupla: (weights, bias).\n",
    "# ##############################################################################################\n",
    "#passo inicial zero\n",
    "\n",
    "\n",
    "# na dúvida, rever o jupyternb de algebra linear\n",
    "def initialize_weights_bias(x): #matriz x de entrada\n",
    "    try:\n",
    "        (nlines, ncolumns) = x.shape\n",
    "    except:    \n",
    "        ncolumns = 1\n",
    "\n",
    "    # AJUSTE O TRECHO ABAIXO\n",
    "    # não inicializar com zeros (0)\n",
    "    #inicializar com 1 ou nº randomico\n",
    "    # --------------------------\n",
    "    #weights = np.random.randint(1,10, size=ncolumns)\n",
    "    weights = np.ones(shape = ncolumns)    \n",
    "\n",
    "    weights = weights.reshape(len(weights), 1)\n",
    "    \n",
    "    #bias = np.random.randint(1,10)\n",
    "    bias = 0 #o bias pode ser zero\n",
    "    # --------------------------\n",
    "\n",
    "    return (weights, bias)"
   ]
  },
  {
   "cell_type": "code",
   "execution_count": null,
   "metadata": {},
   "outputs": [],
   "source": [
    "# ##############################################################################################\n",
    "# Esta funcao deve computar a predicao para cada um dos m registros em x, baseado nos coeficien-\n",
    "# tes em weights e no bias. Utilize a funcao (1) dos slides.\n",
    "# ##############################################################################################\n",
    "def predict(x, weights, bias): #weights é o BETA da fórmula e o bias é o a da fórmula (coeficiente aditivo)\n",
    "    # CALCULE ABAIXO\n",
    "    # --------------------------\n",
    "    #return x.dot(... multiplicar x X weights e somar 0 bias\n",
    "    return x.dot(weights) + bias\n",
    "    # --------------------------\n",
    "\n"
   ]
  },
  {
   "cell_type": "code",
   "execution_count": null,
   "metadata": {},
   "outputs": [],
   "source": [
    "# ##############################################################################################\n",
    "# Coloque aqui o trecho de código que vai calcular o custo gerado pelo modelo.\n",
    "# A variável \"y\" representa o dado real ocorrido, enquanto \"yhat\" indica as predições.\n",
    "# O custo deve ser calculado pelo Método de Mínimos Quadrados. Pode-se assumir que os arrays\n",
    "# fornecidos como parâmetro são numpy.array, então esta função pode ser implementada com\n",
    "# 3 linhas de código. Use a funcao (3) dos slides.\n",
    "# ##############################################################################################\n",
    "def cost_function(y, yhat): #y é o valor sugerido, valor conhecido, valor REAL; yhat (y^) é o predito\n",
    "    m = len(y)\n",
    "    \n",
    "    # CALCULE J ABAIXO\n",
    "    loss = yhat - y\n",
    "    lossSqr = np.square(loss) # com loss ** 2 dava erro quando é multivariado\n",
    "    # --------------------------\n",
    "    J = np.sum(lossSqr)  / m\n",
    "    # --------------------------\n",
    "    \n",
    "    #implementação do somatorio da perda\n",
    "    \n",
    "    return J\n"
   ]
  },
  {
   "cell_type": "code",
   "execution_count": null,
   "metadata": {},
   "outputs": [],
   "source": [
    "# ##############################################################################################\n",
    "# O codigo abaixo apresenta alguns trechos destacados, os quais precisam ser corrigos.\n",
    "# ##############################################################################################\n",
    "def batch_gradient_descent(x, y, alpha=0.005, iterations=50):\n",
    "    m = len(y)\n",
    "    weights, bias = initialize_weights_bias(x)\n",
    "\n",
    "    for iteration in range(iterations):\n",
    "        yhat = predict(x, weights, bias)\n",
    "        #(z, m) = yhat.shape\n",
    "        yhat = yhat.reshape(m,1)\n",
    "        \n",
    "        loss = y - yhat\n",
    "        wgradient = (-2/m) *  x.T.dot(loss)#função 4\n",
    "        \n",
    "        # ATUALIZE OS COEFICIENTES\n",
    "        # --------------------------\n",
    "        weights = weights + wgradient\n",
    "        # --------------------------\n",
    "        \n",
    "        # CALCULE A DERIVADA PARCIAL \n",
    "        #  DA FUNCAO J EM RELACAO \n",
    "        #  AO BIAS. USE A FUNCAO (5)\n",
    "        #  DOS SLIDES.\n",
    "        # --------------------------        \n",
    "        bgradient = (-2/m) * np.sum(loss)\n",
    "        # --------------------------\n",
    "        \n",
    "        bias = bias + alpha * bgradient\n",
    "\n",
    "        nyhat = predict(x, weights, bias)\n",
    "        \n",
    "        cost = cost_function(y, nyhat)\n",
    "        print(\"Gradient descendent iteration %d. Cost = %.8f.\" %(iteration, cost))\n",
    "\n",
    "    return weights, bias"
   ]
  },
  {
   "cell_type": "markdown",
   "metadata": {},
   "source": [
    "### 1.1 Teste aqui seu código:\n",
    "----------------------------------------------------------------------------------------------------------------------------\n",
    "1. Inicialização de pesos. Resultados esperados:"
   ]
  },
  {
   "cell_type": "code",
   "execution_count": null,
   "metadata": {},
   "outputs": [],
   "source": [
    "# (array([[1.]]), 0)\n",
    "# (array([[1.],\n",
    "#        [1.]]), 0)\n",
    "# (array([[1.],\n",
    "#        [1.],\n",
    "#        [1.],\n",
    "#        [1.]]), 0)"
   ]
  },
  {
   "cell_type": "code",
   "execution_count": null,
   "metadata": {},
   "outputs": [],
   "source": [
    "x1 = np.array([0, 0, 0, 0, 0, 0])\n",
    "x2 = np.matrix('1 2; 3 4')\n",
    "x3 = np.matrix('11 12 13 14; 21 22 23 24; 31 32 33 34')\n",
    "\n",
    "parameters = initialize_weights_bias(x1)\n",
    "print(parameters)\n",
    "\n",
    "parameters = initialize_weights_bias(x2)\n",
    "print(parameters)\n",
    "\n",
    "parameters = initialize_weights_bias(x3)\n",
    "print(parameters)"
   ]
  },
  {
   "cell_type": "markdown",
   "metadata": {},
   "source": [
    "----------------------------------------------------------------------------------------------------------------------------\n",
    "2. Calcule a predição baseado no vetor x e nos parametros.  Resultados esperados:\n",
    "\n",
    "1.0\n",
    "\n",
    "[[3.5 6.5]]\n",
    "\n",
    "[[13.5 23.5 33.5]]"
   ]
  },
  {
   "cell_type": "code",
   "execution_count": null,
   "metadata": {},
   "outputs": [],
   "source": [
    "w1 = np.array([0.5])\n",
    "w2 = np.array([0.5, 1])\n",
    "w3 = np.array([0.25, 0.25, 0.25, 0.25])\n",
    "\n",
    "b1 = 1\n",
    "b2 = 1\n",
    "b3 = 1\n",
    "\n",
    "yhat1 = predict(np.array([0]), w1, b1)\n",
    "yhat2 = predict(x2, w2, b2)\n",
    "yhat3 = predict(x3, w3, b3)\n",
    "\n",
    "print(yhat1)\n",
    "print(yhat2)\n",
    "print(yhat3)"
   ]
  },
  {
   "cell_type": "markdown",
   "metadata": {},
   "source": [
    "----------------------------------------------------------------------------------------------------------------------------\n",
    "3. Teste a funcao de custo. Resultados esperados:\n",
    "\n",
    "    5.166666666666667"
   ]
  },
  {
   "cell_type": "code",
   "execution_count": null,
   "metadata": {},
   "outputs": [],
   "source": [
    "y = np.array([2, 2, 2, 2, 2, 2])\n",
    "yhat = np.array([1, 2, 3, 4, 5, 6])\n",
    "\n",
    "cost = cost_function(y=y, yhat=yhat)\n",
    "print(cost)"
   ]
  },
  {
   "cell_type": "markdown",
   "metadata": {},
   "source": [
    "----------------------------------------------------------------------------------------------------------------------------\n",
    "4. Otimize os pesos para os exemplos abaixo. Resultados esperados:\n",
    "\n",
    ">> Univariada"
   ]
  },
  {
   "cell_type": "code",
   "execution_count": null,
   "metadata": {},
   "outputs": [],
   "source": [
    "# univariada\n",
    "x1 = np.array([1, 2, 3, 4, 5]).reshape(5,1)\n",
    "y1 = np.array([2, 4, 6, 8, 10]).reshape(5,1)\n",
    "\n",
    "weights1, b1 = batch_gradient_descent(x1, y1, alpha=0.05, iterations=100)\n",
    "display(\"Coeficientes:\")\n",
    "display(weights1)\n",
    "display(\"Bias:\")\n",
    "display(b1)"
   ]
  },
  {
   "cell_type": "markdown",
   "metadata": {},
   "source": [
    "----------------------------------------------------------------------------------------------------------------------------\n",
    ">> Multivariada"
   ]
  },
  {
   "cell_type": "code",
   "execution_count": null,
   "metadata": {},
   "outputs": [],
   "source": [
    "# multivariada\n",
    "x2 = np.matrix('1 1; 2 2; 3 3; 4 4')\n",
    "y2 = np.array([3, 5, 7, 9]).reshape(4,1)\n",
    "\n",
    "weights2, b2 = batch_gradient_descent(x2, y2, alpha=0.05, iterations=500)\n",
    "display(\"Coeficientes:\")\n",
    "display(weights2)\n",
    "display(\"Bias:\")\n",
    "display(b2)"
   ]
  },
  {
   "cell_type": "markdown",
   "metadata": {},
   "source": [
    "# 2. Aplicação em caso real: Boston House Pricing"
   ]
  },
  {
   "cell_type": "markdown",
   "metadata": {},
   "source": [
    "Criando uma classe wrapper para facilitar o uso"
   ]
  },
  {
   "cell_type": "code",
   "execution_count": null,
   "metadata": {},
   "outputs": [],
   "source": [
    "class Facens_LinearRegression:\n",
    "    def __init__(self, learning_rate=0.005, epochs=50):\n",
    "        self.learning_rate = learning_rate\n",
    "        self.epochs = epochs\n",
    "\n",
    "    def fit(self, X, Y):\n",
    "        (w,b) = batch_gradient_descent(X, Y, \n",
    "                                       alpha=self.learning_rate, \n",
    "                                       iterations=self.epochs)\n",
    "        \n",
    "        self.weights = w\n",
    "        self.bias = b\n",
    "        \n",
    "    def predict(self, X):\n",
    "        return predict(X, self.weights, self.bias)"
   ]
  },
  {
   "cell_type": "markdown",
   "metadata": {},
   "source": [
    "### 2.1 Importando os dados:"
   ]
  },
  {
   "cell_type": "markdown",
   "metadata": {},
   "source": [
    "Os atributos independentes do conjunto X são (nesta ordem):\n",
    "- *CRIM* per capita crime rate by town\n",
    "- *ZN* proportion of residential land zoned for lots over 25,000 sq.ft.\n",
    "- *INDUS* proportion of non-retail business acres per town\n",
    "- *CHAS* Charles River dummy variable (= 1 if tract bounds river; 0 otherwise)\n",
    "- *NOX* nitric oxides concentration (parts per 10 million)\n",
    "- *RM* average number of rooms per dwelling\n",
    "- *AGE* proportion of owner-occupied units built prior to 1940\n",
    "- *DIS* weighted distances to five Boston employment centres\n",
    "- *RAD* index of accessibility to radial highways\n",
    "- *TAX* full-value property-tax rate per 10000 USD\n",
    "- *PTRATIO* pupil-teacher ratio by town\n",
    "- *B* 1000(Bk - 0.63)^2 where Bk is the proportion of blacks by town\n",
    "- *LSTAT* % lower status of the population\n",
    "        \n",
    "O atributo alvo Y é:\n",
    "\n",
    "- *MEDV* Median value of owner-occupied homes in 1000’s"
   ]
  },
  {
   "cell_type": "code",
   "execution_count": null,
   "metadata": {},
   "outputs": [],
   "source": [
    "from sklearn.datasets import load_boston"
   ]
  },
  {
   "cell_type": "code",
   "execution_count": null,
   "metadata": {},
   "outputs": [],
   "source": [
    "X, Y = load_boston(return_X_y=True)\n",
    "Y = Y.reshape(len(Y),1)"
   ]
  },
  {
   "cell_type": "markdown",
   "metadata": {},
   "source": [
    "### 2.2 Primeira tentativa de regressão"
   ]
  },
  {
   "cell_type": "code",
   "execution_count": null,
   "metadata": {},
   "outputs": [],
   "source": [
    "flr = Facens_LinearRegression(learning_rate=0.005, epochs=5)"
   ]
  },
  {
   "cell_type": "code",
   "execution_count": null,
   "metadata": {},
   "outputs": [],
   "source": [
    "flr.fit(X, Y)"
   ]
  },
  {
   "cell_type": "code",
   "execution_count": null,
   "metadata": {},
   "outputs": [],
   "source": []
  },
  {
   "cell_type": "markdown",
   "metadata": {},
   "source": [
    "### 2.3 Segunda tentativa"
   ]
  },
  {
   "cell_type": "code",
   "execution_count": null,
   "metadata": {},
   "outputs": [],
   "source": [
    "from sklearn.preprocessing import StandardScaler"
   ]
  },
  {
   "cell_type": "code",
   "execution_count": null,
   "metadata": {},
   "outputs": [],
   "source": [
    "scaler = StandardScaler()\n",
    "Xs = scaler.fit_transform(X, Y)"
   ]
  },
  {
   "cell_type": "code",
   "execution_count": null,
   "metadata": {},
   "outputs": [],
   "source": [
    "flr2 = Facens_LinearRegression(learning_rate=0.05, epochs=5)\n",
    "flr2.fit(Xs, Y)"
   ]
  },
  {
   "cell_type": "markdown",
   "metadata": {},
   "source": [
    "# Avaliação"
   ]
  },
  {
   "cell_type": "markdown",
   "metadata": {},
   "source": [
    "Verificando as predições"
   ]
  },
  {
   "cell_type": "code",
   "execution_count": null,
   "metadata": {},
   "outputs": [],
   "source": [
    "ypred = flr2.predict(Xs)"
   ]
  },
  {
   "cell_type": "code",
   "execution_count": null,
   "metadata": {},
   "outputs": [],
   "source": [
    "res = pd.DataFrame({\"Valor Real\":Y.reshape(len(Y)), \"Predição\":ypred.reshape(len(ypred))})"
   ]
  },
  {
   "cell_type": "code",
   "execution_count": null,
   "metadata": {},
   "outputs": [],
   "source": [
    "res[\"Resíduo\"] = res[\"Valor Real\"] - res[\"Predição\"]"
   ]
  },
  {
   "cell_type": "code",
   "execution_count": null,
   "metadata": {},
   "outputs": [],
   "source": [
    "import seaborn as sns"
   ]
  },
  {
   "cell_type": "code",
   "execution_count": null,
   "metadata": {},
   "outputs": [],
   "source": [
    "ax = sns.scatterplot(data=res, x=\"Valor Real\", y=\"Resíduo\")\n",
    "ax.set_title(\"Residual Plot\")"
   ]
  },
  {
   "cell_type": "code",
   "execution_count": null,
   "metadata": {},
   "outputs": [],
   "source": []
  }
 ],
 "metadata": {
  "kernelspec": {
   "display_name": "Python 3",
   "language": "python",
   "name": "python3"
  },
  "language_info": {
   "codemirror_mode": {
    "name": "ipython",
    "version": 3
   },
   "file_extension": ".py",
   "mimetype": "text/x-python",
   "name": "python",
   "nbconvert_exporter": "python",
   "pygments_lexer": "ipython3",
   "version": "3.7.6"
  }
 },
 "nbformat": 4,
 "nbformat_minor": 4
}
