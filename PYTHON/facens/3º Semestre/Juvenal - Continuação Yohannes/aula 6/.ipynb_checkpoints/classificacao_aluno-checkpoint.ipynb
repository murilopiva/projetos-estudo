{
 "cells": [
  {
   "cell_type": "markdown",
   "metadata": {},
   "source": [
    "<h1><center>Análise de Crédito (Give me some credit!)</center></h1>"
   ]
  },
  {
   "cell_type": "markdown",
   "metadata": {},
   "source": [
    "Neste exercício vamos construir um classificador para prever inadimplência de tomadores de empréstimo. O problema foi apresentado na plataforma Kaggle (https://www.kaggle.com/c/GiveMeSomeCredit), com o prêmio de 5000 USD para o ganhador. Os atributos disponíveis nos dados são descritos abaixo:\n",
    "\n",
    "<img src=\"DescricaoAtributos.png\">\n",
    "\n",
    "Segundo as regras, a avaliação do modelo deve ser feita pela métrica AUC, sendo que melhor resultado obtido pelos participantes nos testes foi 0.8695:\n",
    "\n",
    "<img src=\"Kaggle_Ranking.png\">\n",
    "\n",
    "Para facilitar, primeiro implementamos cada uma das etapas da Extração de Conhecimento em rotinas separadas, em seguida essas são chamadas abaixo no programa principal."
   ]
  },
  {
   "cell_type": "markdown",
   "metadata": {},
   "source": [
    "## 0. Importação de módulos"
   ]
  },
  {
   "cell_type": "code",
   "execution_count": 1,
   "metadata": {},
   "outputs": [],
   "source": [
    "import pandas as pd\n",
    "import scikitplot as skplt\n",
    "import seaborn as sns\n",
    "import matplotlib.pyplot as plt\n",
    "import warnings\n",
    "from imblearn.combine import SMOTETomek\n",
    "from sklearn.model_selection import train_test_split\n",
    "from sklearn.metrics import classification_report\n",
    "from sklearn.preprocessing import StandardScaler\n",
    "\n",
    "from sklearn.linear_model import LogisticRegression\n",
    "from sklearn.tree import DecisionTreeClassifier\n",
    "\n",
    "warnings.filterwarnings('ignore')"
   ]
  },
  {
   "cell_type": "markdown",
   "metadata": {},
   "source": [
    "## 1.1. Carga de dados"
   ]
  },
  {
   "cell_type": "code",
   "execution_count": 10,
   "metadata": {},
   "outputs": [],
   "source": [
    "\n",
    "url = \"https://raw.githubusercontent.com/brvnl/AplicacoesAprendizadoMaquina/main/cs-training.csv\"\n",
    "df = pd.read_csv(url)\n",
    "df.drop(columns=\"Unnamed: 0\", inplace=True)\n"
   ]
  },
  {
   "cell_type": "code",
   "execution_count": 11,
   "metadata": {},
   "outputs": [
    {
     "name": "stdout",
     "output_type": "stream",
     "text": [
      "<class 'pandas.core.frame.DataFrame'>\n",
      "RangeIndex: 150000 entries, 0 to 149999\n",
      "Data columns (total 11 columns):\n",
      " #   Column                                Non-Null Count   Dtype  \n",
      "---  ------                                --------------   -----  \n",
      " 0   SeriousDlqin2yrs                      150000 non-null  int64  \n",
      " 1   RevolvingUtilizationOfUnsecuredLines  150000 non-null  float64\n",
      " 2   age                                   150000 non-null  int64  \n",
      " 3   NumberOfTime30-59DaysPastDueNotWorse  150000 non-null  int64  \n",
      " 4   DebtRatio                             150000 non-null  float64\n",
      " 5   MonthlyIncome                         120269 non-null  float64\n",
      " 6   NumberOfOpenCreditLinesAndLoans       150000 non-null  int64  \n",
      " 7   NumberOfTimes90DaysLate               150000 non-null  int64  \n",
      " 8   NumberRealEstateLoansOrLines          150000 non-null  int64  \n",
      " 9   NumberOfTime60-89DaysPastDueNotWorse  150000 non-null  int64  \n",
      " 10  NumberOfDependents                    146076 non-null  float64\n",
      "dtypes: float64(4), int64(7)\n",
      "memory usage: 12.6 MB\n"
     ]
    }
   ],
   "source": [
    "df.info()"
   ]
  },
  {
   "cell_type": "markdown",
   "metadata": {},
   "source": [
    "## 1.2. Análise exploratória"
   ]
  },
  {
   "cell_type": "code",
   "execution_count": null,
   "metadata": {},
   "outputs": [],
   "source": [
    "# Para atributos numéricos discretos, esta função conta a quantidade de registros por valor,\n",
    "# providenciando a distribuição para as duas classes.\n",
    "def countplot_comparisson(df):\n",
    "    int_attr = [\"age\", \n",
    "                \"NumberOfDependents\",\n",
    "                \"NumberOfOpenCreditLinesAndLoans\", \n",
    "                \"NumberRealEstateLoansOrLines\", \n",
    "                \"NumberOfTime30-59DaysPastDueNotWorse\", \n",
    "                \"NumberOfTime60-89DaysPastDueNotWorse\",\n",
    "                \"NumberOfTimes90DaysLate\"]\n",
    "    \n",
    "    for c in int_attr:\n",
    "        fig2, ax2 = plt.subplots(figsize=(20,8))\n",
    "        sns.countplot(x=c, hue=\"SeriousDlqin2yrs\", data=df).set_title(c)\n",
    "        \n",
    "    return\n",
    "\n",
    "# Para atributos numéricos contínuos esta função exibe a distribuição dos dados em formato \n",
    "# box-plot, um para cada classe.\n",
    "def boxplot_comparisson(df):\n",
    "    float_attr = [\"MonthlyIncome\", \n",
    "                  \"RevolvingUtilizationOfUnsecuredLines\", \n",
    "                  \"DebtRatio\"]\n",
    "    \n",
    "    for c in float_attr:\n",
    "        fig3, ax3 = plt.subplots(figsize=(20,8))\n",
    "        \n",
    "        g = sns.boxplot(x=\"SeriousDlqin2yrs\", hue=\"SeriousDlqin2yrs\", y=c, data=df)\n",
    "        g.set_title(c)\n",
    "        g.set_yscale(\"log\")\n",
    "        \n",
    "# Checa a correlação entre cada um dos atributos (são todos numéricos)\n",
    "def check_correlation(df): \n",
    "    fig, ax = plt.subplots(figsize=(20,8))\n",
    "    sns.heatmap(\n",
    "        df.corr(), \n",
    "        vmin=-1, vmax=1, center=0,\n",
    "        cmap=sns.diverging_palette(20, 220, n=200),\n",
    "        square=True,\n",
    "        annot = True\n",
    "    ).set_title('Correlação')\n",
    "    \n",
    "    return \n",
    "\n",
    "# Exibe informações básicas sobre o dataset. Comente/ descomente as linhas \n",
    "# conforme quiser.\n",
    "def analise_exploratoria(df):\n",
    "    fig1, ax1 = plt.subplots(figsize=(20,8))\n",
    "    sns.countplot(x=\"SeriousDlqin2yrs\", data=df).set_title('Balanceamento de Classes')\n",
    "\n",
    "    #countplot_comparisson(df)\n",
    "    #boxplot_comparisson(df)\n",
    "    check_correlation(df)\n",
    "    \n",
    "    return"
   ]
  },
  {
   "cell_type": "markdown",
   "metadata": {},
   "source": [
    "## 1.3 Pré Processamento"
   ]
  },
  {
   "cell_type": "code",
   "execution_count": null,
   "metadata": {},
   "outputs": [],
   "source": [
    "# Ajusta a diferença de registros entre as classes\n",
    "def reamostragem(X, Y):\n",
    "    smt = SMOTETomek(sampling_strategy='all')\n",
    "    X_smt, y_smt = smt.fit_resample(X, Y)\n",
    "\n",
    "    previous_pos = len(Y[Y[\"SeriousDlqin2yrs\"]==1])\n",
    "    previous_neg = len(Y[Y[\"SeriousDlqin2yrs\"]==0])\n",
    "    current_pos = len(y_smt[y_smt==1])\n",
    "    current_neg = len(y_smt[y_smt==0])\n",
    "    \n",
    "    print(\"INFO* Antes da reamostragem: Pos=%d/ Neg=%d; Após reamostragem: Pos=%d/ Neg=%d.\" %(previous_pos, previous_neg, current_pos, current_neg))\n",
    "    \n",
    "    return (X_smt, y_smt)\n",
    "\n",
    "# Normaliza os valores numéricos pela média e desvio padrão.\n",
    "def normalizacao_mean_std(X):\n",
    "    scaler = StandardScaler()\n",
    "    X = scaler.fit_transform(X)\n",
    "    \n",
    "    return X\n",
    "\n",
    "\n",
    "# Esta função deve realizar todas as etapas de pre-processamento antes de calibrar o modelo.\n",
    "def preprocessamento(df):\n",
    "    \n",
    "    # Descar linhas NaN\n",
    "    #df.dropna(axis=0, how=\"any\", inplace=True)\n",
    "    \n",
    "    # Preenche NaNs com a média\n",
    "    #for c in df.columns:\n",
    "    #    df[c].fillna((df[c].mean()), inplace=True)\n",
    "        \n",
    "    # Preenche NaNs com zero\n",
    "    for c in df.columns:\n",
    "        df[c].fillna(0, inplace=True)\n",
    "    \n",
    "    # Separando \n",
    "    Y = df[\"SeriousDlqin2yrs\"].to_frame()\n",
    "    X = df.drop(columns=\"SeriousDlqin2yrs\")\n",
    "    \n",
    "    # Normalizar atributos independentes\n",
    "    X = normalizacao_mean_std(X)\n",
    "\n",
    "    return (X, Y)"
   ]
  },
  {
   "cell_type": "markdown",
   "metadata": {},
   "source": [
    "## 2. Amostragem e treino"
   ]
  },
  {
   "cell_type": "code",
   "execution_count": null,
   "metadata": {},
   "outputs": [],
   "source": [
    "# Esta função deve reunir todas as etapas para a obtenção do modelo, seja diretamente\n",
    "# sobre os dados de treino (Hold Out) ou por otimização Validação Cruzada + Grid Search.\n",
    "# Escolha o método de classificação de sua preferência.\n",
    "\n",
    "from sklearn.neighbors import KNeighborsClassifier\n",
    "from sklearn.model_selection import GridSearchCV\n",
    "from sklearn.model_selection import cross_val_score\n",
    "\n",
    "def otimizacao(X_train, Y_train): \n",
    "\n",
    "#     grid_params = {\n",
    "#         'n_neighbors': [3, 5, 6, 7, 8, 9, 10, 11, 12, 15, 20, 30],\n",
    "#         'weights': ['uniform', 'distance'],\n",
    "#         'metric': ['euclidean', 'manhattan', 'chebyshev'],\n",
    "#         'algorithm': ['ball_tree', 'kd_tree']\n",
    "#         #'leaf_size' : [5, 10, 20, 30, 40, 50, 60, 70, 80, 90, 100]\n",
    "#     }\n",
    "    \n",
    "    grid_params = {\n",
    "        'criterion': ['gini', 'entropy'],\n",
    "        'splitter': ['best', 'random'],\n",
    "        'max_features': [1,2,3,4,5],\n",
    "        'max_depth': [1,2,3,4,5,6,7,8,9],\n",
    "        'min_samples_split': [1,2,3,4,5,6,7,8,9],\n",
    "        'min_samples_leaf': [1,2,3,4,5,6,7,8,9],\n",
    "        'max_leaf_nodes': [1,2,3,4,5,6,7,8,9],\n",
    "        'random_state': [1,2,3,4,5,6,7,8,9]\n",
    "    }    \n",
    "\n",
    "    dtc = DecisionTreeClassifier()\n",
    "\n",
    "    model = GridSearchCV(dtc, grid_params)\n",
    "    model.fit(X_train, Y_train)\n",
    "    \n",
    "#     gs = GridSearchCV(knn, grid_params, cv=5, n_jobs=1)\n",
    "\n",
    "#     gs_results = gs.fit(X_train, y_train)\n",
    "    \n",
    "#     model = gs_results\n",
    "\n",
    "    print(model.best_score_)\n",
    "    print(model.best_estimator_)\n",
    "    print(model.best_params_)    \n",
    "    \n",
    "    return model"
   ]
  },
  {
   "cell_type": "code",
   "execution_count": null,
   "metadata": {},
   "outputs": [],
   "source": [
    "[15:23, 26/06/2021] +55 15 98122-9091: parameters = {'criterion':['gini', 'entropy'], 'splitter':['best', 'random']}\n",
    "    dtc = DecisionTreeClassifier()\n",
    "    model = GridSearchCV(dtc, parameters)\n",
    "    model.fit(X_train, Y_train)\n",
    "[15:23, 26/06/2021] +55 15 98122-9091: # Treinamento com dados com reamostragem\n",
    "model_rs = otimizacao(X_train_rs, y_train_rs)\n",
    "\n",
    "# Treinamento com dados sem reamostragem\n",
    "model = otimizacao(X_train, y_train)\n",
    "[15:23, 26/06/2021] +55 15 98122-9091: # Preenchendo performance em treino e teste\n",
    "res = {\"train\": {\"actual\": y_train_rs,\n",
    "               \"pred\": model_rs.predict(X_train_rs),\n",
    "               \"prob\": model_rs.predict_proba(X_train_rs)},\n",
    "     \n",
    "       \"test\": {\"actual\": y_test_rs,\n",
    "               \"pred\": model_rs.predict(X_test_rs),\n",
    "               \"prob\": model_rs.predict_proba(X_test_rs)}}\n",
    "\n",
    "# Exibindo resultados\n",
    "resultados(res)"
   ]
  },
  {
   "cell_type": "markdown",
   "metadata": {},
   "source": [
    "## 3. Resultados"
   ]
  },
  {
   "cell_type": "code",
   "execution_count": null,
   "metadata": {},
   "outputs": [],
   "source": [
    "# Essa função exibe os resultados da classificação pelo modelo gerado. Para tanto, a função\n",
    "# espera receber um dicionário cuja primeira chave é a fase (Treino, Validação e Teste) e a \n",
    "# segunda os dados (actual, pred e pred_prob).\n",
    "def resultados(res):\n",
    "\n",
    "    # Medidas de acerto \n",
    "    for phase in res.keys():\n",
    "        print(\"-------------------------------------------------------------\")\n",
    "        print(\"Evaluating %s\" %(phase))\n",
    "        print(classification_report(res[phase][\"actual\"], res[phase][\"pred\"]))\n",
    "    \n",
    "    # Matriz de Confusão\n",
    "    for phase in res.keys():\n",
    "        print(\"-------------------------------------------------------------\")\n",
    "        print(\"Evaluating %s\" %(phase))\n",
    "        skplt.metrics.plot_confusion_matrix(res[phase][\"actual\"], res[phase][\"pred\"])\n",
    "        plt.show()\n",
    "    \n",
    "    # Curva ROC-AUC\n",
    "    for phase in res.keys():\n",
    "        print(\"-------------------------------------------------------------\")\n",
    "        print(\"Evaluating %s\" %(phase))\n",
    "        skplt.metrics.plot_roc_curve(res[phase][\"actual\"], res[phase][\"prob\"])\n",
    "        plt.show()\n",
    "\n",
    "    return"
   ]
  },
  {
   "cell_type": "markdown",
   "metadata": {},
   "source": [
    "# Programa Principal"
   ]
  },
  {
   "cell_type": "markdown",
   "metadata": {},
   "source": [
    "Carregando os dados:"
   ]
  },
  {
   "cell_type": "code",
   "execution_count": null,
   "metadata": {},
   "outputs": [],
   "source": [
    "# Carrega os dados para um daframe\n",
    "df_treino = carrega_treino()\n",
    "print(\"INFO* Registros de treino orginais: %d; Colunas: %d.\" %(df_treino.shape))"
   ]
  },
  {
   "cell_type": "markdown",
   "metadata": {},
   "source": [
    "Análise exploratória (opcional):"
   ]
  },
  {
   "cell_type": "code",
   "execution_count": null,
   "metadata": {},
   "outputs": [],
   "source": [
    "# Exibe características do atributo alvo, dos demais atributos e da relação entre eles.\n",
    "analise_exploratoria(df_treino)"
   ]
  },
  {
   "cell_type": "markdown",
   "metadata": {},
   "source": [
    "Pré-processamento e separação Treino/Teste:"
   ]
  },
  {
   "cell_type": "code",
   "execution_count": null,
   "metadata": {},
   "outputs": [],
   "source": [
    "# Executa todas as rotinas de preprocessamento e separa atributo alvo\n",
    "X, Y = preprocessamento(df_treino)\n",
    "print(\"INFO* Registros após preproc: %d; Colunas em X: %d; Colunas em Y: 1.\" %(X.shape))\n",
    "\n",
    "# Separa 5% dos dados para teste (+- 5000 registros)\n",
    "X_train, X_test, y_train, y_test = train_test_split(X, Y, test_size=0.05, stratify=Y, shuffle=True)\n",
    "print(\"INFO* Registros separados para treino: %d; teste: %d.\" %(len(y_train), len(y_test)))"
   ]
  },
  {
   "cell_type": "markdown",
   "metadata": {},
   "source": [
    "Ajuste de balanceamento (opcional):"
   ]
  },
  {
   "cell_type": "code",
   "execution_count": null,
   "metadata": {},
   "outputs": [],
   "source": [
    "# Emprega tecnicas de reamostragem para tratar o desbalanceamento de classes\n",
    "X_train_rs, y_train_rs = reamostragem(X_train, y_train)\n",
    "print(\"INFO* Registros de treino após reamostragem: %d linhas, %d colunas.\" %(X_train_rs.shape))"
   ]
  },
  {
   "cell_type": "markdown",
   "metadata": {},
   "source": [
    "Calibrando o modelo:"
   ]
  },
  {
   "cell_type": "code",
   "execution_count": null,
   "metadata": {},
   "outputs": [],
   "source": [
    "# Treinamento com dados com reamostragem\n",
    "#model = otimizacao(X_train_rs, y_train_rs)\n",
    "\n",
    "# Treinamento com dados sem reamostragem\n",
    "model = otimizacao(X_train, y_train)"
   ]
  },
  {
   "cell_type": "markdown",
   "metadata": {},
   "source": [
    "Analisando os resultados"
   ]
  },
  {
   "cell_type": "code",
   "execution_count": null,
   "metadata": {},
   "outputs": [],
   "source": [
    "# Preenchendo performance em treino e teste\n",
    "res = {\"train\": {\"actual\": y_train,\n",
    "               \"pred\": model.predict(X_train),\n",
    "               \"prob\": model.predict_proba(X_train)},\n",
    "     \n",
    "       \"test\": {\"actual\": y_test,\n",
    "               \"pred\": model.predict(X_test),\n",
    "               \"prob\": model.predict_proba(X_test)}}\n",
    "\n",
    "# Exibindo resultados\n",
    "resultados(res)"
   ]
  },
  {
   "cell_type": "code",
   "execution_count": null,
   "metadata": {},
   "outputs": [],
   "source": []
  }
 ],
 "metadata": {
  "kernelspec": {
   "display_name": "Python 3",
   "language": "python",
   "name": "python3"
  },
  "language_info": {
   "codemirror_mode": {
    "name": "ipython",
    "version": 3
   },
   "file_extension": ".py",
   "mimetype": "text/x-python",
   "name": "python",
   "nbconvert_exporter": "python",
   "pygments_lexer": "ipython3",
   "version": "3.7.6"
  }
 },
 "nbformat": 4,
 "nbformat_minor": 4
}
