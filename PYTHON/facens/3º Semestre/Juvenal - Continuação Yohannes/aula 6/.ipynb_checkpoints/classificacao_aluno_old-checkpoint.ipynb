{
 "cells": [
  {
   "cell_type": "markdown",
   "metadata": {},
   "source": [
    "<h1><center>Análise de Crédito (Give me some credit!)</center></h1>"
   ]
  },
  {
   "cell_type": "markdown",
   "metadata": {},
   "source": [
    "Neste exercício vamos construir um classificador para prever inadimplência de tomadores de empréstimo. O problema foi apresentado na plataforma Kaggle (https://www.kaggle.com/c/GiveMeSomeCredit), com o prêmio de 5000 USD para o ganhador. Os atributos disponíveis nos dados são descritos abaixo:\n",
    "\n",
    "<img src=\"DescricaoAtributos.png\">\n",
    "\n",
    "Segundo as regras, a avaliação do modelo deve ser feita pela métrica AUC, sendo que melhor resultado obtido pelos participantes nos testes foi 0.8695:\n",
    "\n",
    "<img src=\"Kaggle_Ranking.png\">\n",
    "\n",
    "Para facilitar, primeiro implementamos cada uma das etapas da Extração de Conhecimento em rotinas separadas, em seguida essas são chamadas abaixo no programa principal."
   ]
  },
  {
   "cell_type": "markdown",
   "metadata": {},
   "source": [
    "## 0. Importação de módulos"
   ]
  },
  {
   "cell_type": "code",
   "execution_count": 1,
   "metadata": {},
   "outputs": [],
   "source": [
    "import pandas as pd\n",
    "import scikitplot as skplt\n",
    "import seaborn as sns\n",
    "import matplotlib.pyplot as plt\n",
    "import warnings\n",
    "from imblearn.combine import SMOTETomek\n",
    "from sklearn.model_selection import train_test_split\n",
    "from sklearn.metrics import classification_report\n",
    "from sklearn.preprocessing import StandardScaler\n",
    "from sklearn.metrics import roc_auc_score\n",
    "from sklearn.linear_model import LogisticRegression\n",
    "from sklearn.tree import DecisionTreeClassifier\n",
    "from sklearn.ensemble import RandomForestClassifier\n",
    "\n",
    "warnings.filterwarnings('ignore')"
   ]
  },
  {
   "cell_type": "markdown",
   "metadata": {},
   "source": [
    "## 1.1. Carga de dados"
   ]
  },
  {
   "cell_type": "code",
   "execution_count": 2,
   "metadata": {},
   "outputs": [],
   "source": [
    "# Para este problema temos dois arquivos: treino e tete. O arquivo de teste, no entanto, não está rotulado, \n",
    "# logo trabalharemos apenas com os dados de treino\n",
    "def carrega_treino():\n",
    "    url = \"https://raw.githubusercontent.com/brvnl/AplicacoesAprendizadoMaquina/main/cs-training.csv\"\n",
    "    df = pd.read_csv(url)\n",
    "    df.drop(columns=\"Unnamed: 0\", inplace=True)\n",
    "    return df"
   ]
  },
  {
   "cell_type": "markdown",
   "metadata": {},
   "source": [
    "## 1.2. Análise exploratória"
   ]
  },
  {
   "cell_type": "code",
   "execution_count": 3,
   "metadata": {},
   "outputs": [],
   "source": [
    "# Para atributos numéricos discretos, esta função conta a quantidade de registros por valor,\n",
    "# providenciando a distribuição para as duas classes.\n",
    "def countplot_comparisson(df):\n",
    "    int_attr = [\"age\", \n",
    "                \"NumberOfDependents\",\n",
    "                \"NumberOfOpenCreditLinesAndLoans\", \n",
    "                \"NumberRealEstateLoansOrLines\", \n",
    "                \"NumberOfTime30-59DaysPastDueNotWorse\", \n",
    "                \"NumberOfTime60-89DaysPastDueNotWorse\",\n",
    "                \"NumberOfTimes90DaysLate\"]\n",
    "    \n",
    "    for c in int_attr:\n",
    "        fig2, ax2 = plt.subplots(figsize=(20,8))\n",
    "        sns.countplot(x=c, hue=\"SeriousDlqin2yrs\", data=df).set_title(c)\n",
    "        \n",
    "    return\n",
    "\n",
    "# Para atributos numéricos contínuos esta função exibe a distribuição dos dados em formato \n",
    "# box-plot, um para cada classe.\n",
    "def boxplot_comparisson(df):\n",
    "    float_attr = [\"MonthlyIncome\", \n",
    "                  \"RevolvingUtilizationOfUnsecuredLines\", \n",
    "                  \"DebtRatio\"]\n",
    "    \n",
    "    for c in float_attr:\n",
    "        fig3, ax3 = plt.subplots(figsize=(20,8))\n",
    "        \n",
    "        g = sns.boxplot(x=\"SeriousDlqin2yrs\", hue=\"SeriousDlqin2yrs\", y=c, data=df)\n",
    "        g.set_title(c)\n",
    "        g.set_yscale(\"log\")\n",
    "        \n",
    "# Checa a correlação entre cada um dos atributos (são todos numéricos)\n",
    "def check_correlation(df): \n",
    "    fig, ax = plt.subplots(figsize=(20,8))\n",
    "    sns.heatmap(\n",
    "        df.corr(), \n",
    "        vmin=-1, vmax=1, center=0,\n",
    "        cmap=sns.diverging_palette(20, 220, n=200),\n",
    "        square=True,\n",
    "        annot = True\n",
    "    ).set_title('Correlação')\n",
    "    \n",
    "    return \n",
    "\n",
    "# Exibe informações básicas sobre o dataset. Comente/ descomente as linhas \n",
    "# conforme quiser.\n",
    "def analise_exploratoria(df):\n",
    "    fig1, ax1 = plt.subplots(figsize=(20,8))\n",
    "    sns.countplot(x=\"SeriousDlqin2yrs\", data=df).set_title('Balanceamento de Classes')\n",
    "\n",
    "    #countplot_comparisson(df)\n",
    "    #boxplot_comparisson(df)\n",
    "    check_correlation(df)\n",
    "    \n",
    "    return"
   ]
  },
  {
   "cell_type": "markdown",
   "metadata": {},
   "source": [
    "## 1.3 Pré Processamento"
   ]
  },
  {
   "cell_type": "code",
   "execution_count": 4,
   "metadata": {},
   "outputs": [],
   "source": [
    "# Ajusta a diferença de registros entre as classes\n",
    "def reamostragem(X, Y):\n",
    "    smt = SMOTETomek(sampling_strategy='all')\n",
    "    X_smt, y_smt = smt.fit_resample(X, Y)\n",
    "\n",
    "    previous_pos = len(Y[Y[\"SeriousDlqin2yrs\"]==1])\n",
    "    previous_neg = len(Y[Y[\"SeriousDlqin2yrs\"]==0])\n",
    "    current_pos = len(y_smt[y_smt==1])\n",
    "    current_neg = len(y_smt[y_smt==0])\n",
    "    \n",
    "    print(\"INFO* Antes da reamostragem: Pos=%d/ Neg=%d; Após reamostragem: Pos=%d/ Neg=%d.\" %(previous_pos, previous_neg, current_pos, current_neg))\n",
    "    \n",
    "    return (X_smt, y_smt)\n",
    "\n",
    "# Normaliza os valores numéricos pela média e desvio padrão.\n",
    "def normalizacao_mean_std(X):\n",
    "    scaler = StandardScaler()\n",
    "    X = scaler.fit_transform(X)\n",
    "    \n",
    "    return X\n",
    "\n",
    "\n",
    "# Esta função deve realizar todas as etapas de pre-processamento antes de calibrar o modelo.\n",
    "def preprocessamento(df):\n",
    "    \n",
    "    # Descar linhas NaN\n",
    "    #df.dropna(axis=0, how=\"any\", inplace=True)\n",
    "    \n",
    "    # Preenche NaNs com a média\n",
    "    #for c in df.columns:\n",
    "    #    df[c].fillna((df[c].mean()), inplace=True)\n",
    "        \n",
    "    # Preenche NaNs com zero\n",
    "    for c in df.columns:\n",
    "        df[c].fillna(0, inplace=True)\n",
    "    \n",
    "    # Separando \n",
    "    Y = df[\"SeriousDlqin2yrs\"].to_frame()\n",
    "    X = df.drop(columns=\"SeriousDlqin2yrs\")\n",
    "    \n",
    "    # Normalizar atributos independentes\n",
    "    X = normalizacao_mean_std(X)\n",
    "\n",
    "    return (X, Y)"
   ]
  },
  {
   "cell_type": "markdown",
   "metadata": {},
   "source": [
    "## 2. Amostragem e treino"
   ]
  },
  {
   "cell_type": "code",
   "execution_count": 15,
   "metadata": {},
   "outputs": [],
   "source": [
    "# Esta função deve reunir todas as etapas para a obtenção do modelo, seja diretamente\n",
    "# sobre os dados de treino (Hold Out) ou por otimização Validação Cruzada + Grid Search.\n",
    "# Escolha o método de classificação de sua preferência.\n",
    "\n",
    "from sklearn.neighbors import KNeighborsClassifier\n",
    "from sklearn.model_selection import GridSearchCV\n",
    "from sklearn.model_selection import cross_val_score\n",
    "\n",
    "def otimizacao(X_train, Y_train): \n",
    "\n",
    "#     grid_params = {\n",
    "#         'n_neighbors': [3, 5, 6, 7, 8, 9, 10, 11, 12, 15, 20, 30],\n",
    "#         'weights': ['uniform', 'distance'],\n",
    "#         'metric': ['euclidean', 'manhattan', 'chebyshev'],\n",
    "#         'algorithm': ['ball_tree', 'kd_tree']\n",
    "#         #'leaf_size' : [5, 10, 20, 30, 40, 50, 60, 70, 80, 90, 100]\n",
    "#     }\n",
    "#     grid_params = {\n",
    "#         'criterion': ['gini', 'entropy'],\n",
    "#         'splitter': ['best', 'random'],\n",
    "#         'max_features': [1,2,3,4,5],\n",
    "#         'max_depth': [1,2,3,4,5,6,7,8,9],\n",
    "#         'min_samples_split': [1,2,3,4,5,6,7,8,9],\n",
    "#         'min_samples_leaf': [1,2,3,4,5,6,7,8,9],\n",
    "#         'max_leaf_nodes': [1,2,3,4,5,6,7,8,9],\n",
    "#         'random_state': [1,2,3,4,5,6,7,8,9]\n",
    "#     }    \n",
    "    \n",
    "    grid_params = {\n",
    "        'criterion': ['entropy']\n",
    "    }    \n",
    "\n",
    "    dtc = RandomForestClassifier()\n",
    "\n",
    "    model = GridSearchCV(dtc, grid_params)\n",
    "    model.fit(X_train, Y_train)\n",
    "    \n",
    "#     gs = GridSearchCV(knn, grid_params, cv=5, n_jobs=1)\n",
    "\n",
    "#     gs_results = gs.fit(X_train, y_train)\n",
    "    \n",
    "#     model = gs_results\n",
    "\n",
    "    print(f\"Best score: {model.best_score_}\")\n",
    "    print(f\"Best estimators: {model.best_estimator_}\")\n",
    "    print(f\"Best param: {model.best_params_}\")    \n",
    "    \n",
    "    return model"
   ]
  },
  {
   "cell_type": "markdown",
   "metadata": {},
   "source": [
    "## 3. Resultados"
   ]
  },
  {
   "cell_type": "code",
   "execution_count": 6,
   "metadata": {},
   "outputs": [],
   "source": [
    "# Essa função exibe os resultados da classificação pelo modelo gerado. Para tanto, a função\n",
    "# espera receber um dicionário cuja primeira chave é a fase (Treino, Validação e Teste) e a \n",
    "# segunda os dados (actual, pred e pred_prob).\n",
    "def resultados(res):\n",
    "\n",
    "    # Medidas de acerto \n",
    "    for phase in res.keys():\n",
    "        print(\"-------------------------------------------------------------\")\n",
    "        print(\"Evaluating %s\" %(phase))\n",
    "        print(classification_report(res[phase][\"actual\"], res[phase][\"pred\"]))\n",
    "    \n",
    "    # Matriz de Confusão\n",
    "    for phase in res.keys():\n",
    "        print(\"-------------------------------------------------------------\")\n",
    "        print(\"Evaluating %s\" %(phase))\n",
    "        skplt.metrics.plot_confusion_matrix(res[phase][\"actual\"], res[phase][\"pred\"])\n",
    "        plt.show()\n",
    "    \n",
    "    # Curva ROC-AUC\n",
    "    for phase in res.keys():\n",
    "        print(\"-------------------------------------------------------------\")\n",
    "        print(\"Evaluating %s\" %(phase))\n",
    "        skplt.metrics.plot_roc_curve(res[phase][\"actual\"], res[phase][\"prob\"])\n",
    "        plt.show()\n",
    "\n",
    "    prob_tst = model.predict_proba(X_test)\n",
    "    prob_1 = prob_tst[:,1]\n",
    "\n",
    "    prob_tr = model.predict_proba(X_train)\n",
    "    prob_2 = prob_tr[:,1]\n",
    "\n",
    "    print('AUC Score Train: ', (roc_auc_score(y_train,prob_2)))\n",
    "    print('AUC Score Test: ', (roc_auc_score(y_test,prob_1)))\n",
    "    \n",
    "    return"
   ]
  },
  {
   "cell_type": "markdown",
   "metadata": {},
   "source": [
    "# Programa Principal"
   ]
  },
  {
   "cell_type": "markdown",
   "metadata": {},
   "source": [
    "Carregando os dados:"
   ]
  },
  {
   "cell_type": "code",
   "execution_count": 7,
   "metadata": {},
   "outputs": [
    {
     "name": "stdout",
     "output_type": "stream",
     "text": [
      "INFO* Registros de treino orginais: 150000; Colunas: 11.\n"
     ]
    }
   ],
   "source": [
    "# Carrega os dados para um daframe\n",
    "df_treino = carrega_treino()\n",
    "print(\"INFO* Registros de treino orginais: %d; Colunas: %d.\" %(df_treino.shape))"
   ]
  },
  {
   "cell_type": "markdown",
   "metadata": {},
   "source": [
    "Análise exploratória (opcional):"
   ]
  },
  {
   "cell_type": "code",
   "execution_count": 8,
   "metadata": {},
   "outputs": [],
   "source": [
    "# Exibe características do atributo alvo, dos demais atributos e da relação entre eles.\n",
    "#analise_exploratoria(df_treino)"
   ]
  },
  {
   "cell_type": "markdown",
   "metadata": {},
   "source": [
    "Pré-processamento e separação Treino/Teste:"
   ]
  },
  {
   "cell_type": "code",
   "execution_count": 9,
   "metadata": {},
   "outputs": [
    {
     "name": "stdout",
     "output_type": "stream",
     "text": [
      "INFO* Registros após preproc: 150000; Colunas em X: 10; Colunas em Y: 1.\n",
      "INFO* Registros separados para treino: 142500; teste: 7500.\n"
     ]
    }
   ],
   "source": [
    "# Executa todas as rotinas de preprocessamento e separa atributo alvo\n",
    "X, Y = preprocessamento(df_treino)\n",
    "print(\"INFO* Registros após preproc: %d; Colunas em X: %d; Colunas em Y: 1.\" %(X.shape))\n",
    "\n",
    "# Separa 5% dos dados para teste (+- 5000 registros)\n",
    "X_train, X_test, y_train, y_test = train_test_split(X, Y, test_size=0.05, stratify=Y, shuffle=True)\n",
    "print(\"INFO* Registros separados para treino: %d; teste: %d.\" %(len(y_train), len(y_test)))"
   ]
  },
  {
   "cell_type": "markdown",
   "metadata": {},
   "source": [
    "Ajuste de balanceamento (opcional):"
   ]
  },
  {
   "cell_type": "code",
   "execution_count": 10,
   "metadata": {},
   "outputs": [],
   "source": [
    "# # Emprega tecnicas de reamostragem para tratar o desbalanceamento de classes\n",
    "# X_train_rs, y_train_rs = reamostragem(X_train, y_train)\n",
    "# print(\"INFO* Registros de treino após reamostragem: %d linhas, %d colunas.\" %(X_train_rs.shape))"
   ]
  },
  {
   "cell_type": "markdown",
   "metadata": {},
   "source": [
    "Calibrando o modelo:"
   ]
  },
  {
   "cell_type": "code",
   "execution_count": 16,
   "metadata": {},
   "outputs": [
    {
     "name": "stdout",
     "output_type": "stream",
     "text": [
      "Best score: 0.9289052631578947\n",
      "Best estimators: RandomForestClassifier(criterion='entropy', n_estimators=5)\n",
      "Best param: {'criterion': 'entropy', 'n_estimators': 5}\n"
     ]
    }
   ],
   "source": [
    "model = otimizacao(X_train, y_train)"
   ]
  },
  {
   "cell_type": "markdown",
   "metadata": {},
   "source": [
    "Analisando os resultados"
   ]
  },
  {
   "cell_type": "code",
   "execution_count": 12,
   "metadata": {},
   "outputs": [
    {
     "name": "stdout",
     "output_type": "stream",
     "text": [
      "-------------------------------------------------------------\n",
      "Evaluating train\n",
      "              precision    recall  f1-score   support\n",
      "\n",
      "           0       1.00      1.00      1.00    132975\n",
      "           1       1.00      0.99      0.99      9525\n",
      "\n",
      "    accuracy                           1.00    142500\n",
      "   macro avg       1.00      0.99      1.00    142500\n",
      "weighted avg       1.00      1.00      1.00    142500\n",
      "\n",
      "-------------------------------------------------------------\n",
      "Evaluating test\n",
      "              precision    recall  f1-score   support\n",
      "\n",
      "           0       0.94      0.99      0.97      6999\n",
      "           1       0.54      0.17      0.26       501\n",
      "\n",
      "    accuracy                           0.93      7500\n",
      "   macro avg       0.74      0.58      0.61      7500\n",
      "weighted avg       0.92      0.93      0.92      7500\n",
      "\n",
      "-------------------------------------------------------------\n",
      "Evaluating train\n"
     ]
    },
    {
     "data": {
      "image/png": "[encoded data removed]",
      "text/plain": [
       "<Figure size 432x288 with 2 Axes>"
      ]
     },
     "metadata": {
      "needs_background": "light"
     },
     "output_type": "display_data"
    },
    {
     "name": "stdout",
     "output_type": "stream",
     "text": [
      "-------------------------------------------------------------\n",
      "Evaluating test\n"
     ]
    },
    {
     "data": {
      "image/png": "[encoded data removed]",
      "text/plain": [
       "<Figure size 432x288 with 2 Axes>"
      ]
     },
     "metadata": {
      "needs_background": "light"
     },
     "output_type": "display_data"
    },
    {
     "name": "stdout",
     "output_type": "stream",
     "text": [
      "-------------------------------------------------------------\n",
      "Evaluating train\n"
     ]
    },
    {
     "data": {
      "image/png": "[encoded data removed]",
      "text/plain": [
       "<Figure size 432x288 with 1 Axes>"
      ]
     },
     "metadata": {
      "needs_background": "light"
     },
     "output_type": "display_data"
    },
    {
     "name": "stdout",
     "output_type": "stream",
     "text": [
      "-------------------------------------------------------------\n",
      "Evaluating test\n"
     ]
    },
    {
     "data": {
      "image/png": "[encoded data removed]",
      "text/plain": [
       "<Figure size 432x288 with 1 Axes>"
      ]
     },
     "metadata": {
      "needs_background": "light"
     },
     "output_type": "display_data"
    },
    {
     "name": "stdout",
     "output_type": "stream",
     "text": [
      "AUC Score Train:  0.99995664884811\n",
      "AUC Score Test:  0.8196434677437524\n"
     ]
    }
   ],
   "source": [
    "# Preenchendo performance em treino e teste\n",
    "res = {\"train\": {\"actual\": y_train,\n",
    "               \"pred\": model.predict(X_train),\n",
    "               \"prob\": model.predict_proba(X_train)},\n",
    "     \n",
    "       \"test\": {\"actual\": y_test,\n",
    "               \"pred\": model.predict(X_test),\n",
    "               \"prob\": model.predict_proba(X_test)}}\n",
    "\n",
    "# Exibindo resultados\n",
    "resultados(res)"
   ]
  },
  {
   "cell_type": "code",
   "execution_count": null,
   "metadata": {},
   "outputs": [],
   "source": []
  }
 ],
 "metadata": {
  "kernelspec": {
   "display_name": "Python 3",
   "language": "python",
   "name": "python3"
  },
  "language_info": {
   "codemirror_mode": {
    "name": "ipython",
    "version": 3
   },
   "file_extension": ".py",
   "mimetype": "text/x-python",
   "name": "python",
   "nbconvert_exporter": "python",
   "pygments_lexer": "ipython3",
   "version": "3.7.6"
  }
 },
 "nbformat": 4,
 "nbformat_minor": 4
}
