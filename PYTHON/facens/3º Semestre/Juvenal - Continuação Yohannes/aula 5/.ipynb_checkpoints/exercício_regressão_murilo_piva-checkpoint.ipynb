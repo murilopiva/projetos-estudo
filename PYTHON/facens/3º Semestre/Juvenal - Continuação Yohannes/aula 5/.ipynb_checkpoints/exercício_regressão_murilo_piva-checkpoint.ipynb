{
 "cells": [
  {
   "cell_type": "markdown",
   "metadata": {},
   "source": [
    "## 1 - Realizando imports necessários"
   ]
  },
  {
   "cell_type": "code",
   "execution_count": 1,
   "metadata": {},
   "outputs": [],
   "source": [
    "import pandas as pd\n",
    "import warnings\n",
    "import numpy as np\n",
    "\n",
    "from sklearn.model_selection import train_test_split\n",
    "from sklearn.metrics import classification_report\n",
    "\n",
    "from sklearn.linear_model import LogisticRegression\n",
    "from sklearn.tree import DecisionTreeClassifier\n",
    "from sklearn.metrics import mean_squared_error, r2_score\n",
    "\n",
    "from sklearn.ensemble import RandomForestRegressor\n",
    "from sklearn.neural_network import MLPRegressor\n",
    "\n",
    "from sklearn.linear_model import ElasticNet\n",
    "\n",
    "from sklearn.linear_model import LinearRegression\n",
    "from sklearn.model_selection import cross_val_score\n",
    "from sklearn.tree import DecisionTreeRegressor\n",
    "import sklearn.metrics as metrics\n",
    "\n",
    "from sklearn.linear_model import Lasso\n",
    "from sklearn.linear_model import Ridge\n",
    "\n",
    "warnings.filterwarnings('ignore')"
   ]
  },
  {
   "cell_type": "markdown",
   "metadata": {},
   "source": [
    "## 2 - Alimentando variável de Data Frame do Pandas com o conteúdo do arquivo CSV."
   ]
  },
  {
   "cell_type": "code",
   "execution_count": 2,
   "metadata": {},
   "outputs": [],
   "source": [
    "url = \"https://raw.githubusercontent.com/brvnl/multivariatelinearregression/master/student/student-mat.csv\"\n",
    "df = pd.read_csv(url, sep=';')"
   ]
  },
  {
   "cell_type": "markdown",
   "metadata": {},
   "source": [
    "## 3 - Criando variável cols para organizar de maneira melhor quais colunas farão parte da análise.\n",
    "\n",
    "### Neste caso, serão usadas apenas as colunas do tipo númerico."
   ]
  },
  {
   "cell_type": "code",
   "execution_count": 3,
   "metadata": {},
   "outputs": [],
   "source": [
    "cols = [\"age\", \n",
    "        \"Medu\",\n",
    "        \"Fedu\", \n",
    "        \"traveltime\", \n",
    "        \"studytime\", \n",
    "        \"failures\",\n",
    "        \"famrel\",\n",
    "        \"freetime\",\n",
    "        \"goout\",\n",
    "        \"Dalc\",\n",
    "        \"Walc\",\n",
    "        \"health\",\n",
    "        \"absences\",\n",
    "        \"G1\",\n",
    "        \"G2\"\n",
    "       ]"
   ]
  },
  {
   "cell_type": "markdown",
   "metadata": {},
   "source": [
    "## 4 - Criando variáveis X e Y para realizar o split de treino e teste"
   ]
  },
  {
   "cell_type": "code",
   "execution_count": 4,
   "metadata": {},
   "outputs": [],
   "source": [
    "Y = df[\"G3\"].to_frame()\n",
    "X = df[cols]"
   ]
  },
  {
   "cell_type": "markdown",
   "metadata": {},
   "source": [
    "## 5 - Realizando split com 25% dos dados para teste."
   ]
  },
  {
   "cell_type": "code",
   "execution_count": 52,
   "metadata": {},
   "outputs": [],
   "source": [
    "X_train, X_test, y_train, y_test = train_test_split(X, Y, test_size=0.33, shuffle=True, random_state = 42)"
   ]
  },
  {
   "cell_type": "markdown",
   "metadata": {},
   "source": [
    "## 6 - Armazenando os regressores e os parâmetros desejados para realizar o loop"
   ]
  },
  {
   "cell_type": "code",
   "execution_count": 50,
   "metadata": {},
   "outputs": [],
   "source": [
    "regs = [\n",
    "        LinearRegression()\n",
    "        ,RandomForestRegressor()\n",
    "        ,Ridge()\n",
    "        ,Lasso()\n",
    "        ,ElasticNet()\n",
    "        ,DecisionTreeRegressor()\n",
    "        ,MLPRegressor()\n",
    "       ]"
   ]
  },
  {
   "cell_type": "code",
   "execution_count": 71,
   "metadata": {
    "scrolled": false
   },
   "outputs": [
    {
     "data": {
      "text/html": [
       "<div>\n",
       "<style scoped>\n",
       "    .dataframe tbody tr th:only-of-type {\n",
       "        vertical-align: middle;\n",
       "    }\n",
       "\n",
       "    .dataframe tbody tr th {\n",
       "        vertical-align: top;\n",
       "    }\n",
       "\n",
       "    .dataframe thead th {\n",
       "        text-align: right;\n",
       "    }\n",
       "</style>\n",
       "<table border=\"1\" class=\"dataframe\">\n",
       "  <thead>\n",
       "    <tr style=\"text-align: right;\">\n",
       "      <th></th>\n",
       "      <th>Regressor</th>\n",
       "      <th>MSE</th>\n",
       "      <th>MAE</th>\n",
       "      <th>RMSE</th>\n",
       "      <th>Coef. Determ.</th>\n",
       "      <th>Train Score</th>\n",
       "      <th>Test Score</th>\n",
       "    </tr>\n",
       "  </thead>\n",
       "  <tbody>\n",
       "    <tr>\n",
       "      <th>0</th>\n",
       "      <td>LinearRegression()</td>\n",
       "      <td>4.265053</td>\n",
       "      <td>1.321309</td>\n",
       "      <td>2.065200</td>\n",
       "      <td>0.806514</td>\n",
       "      <td>0.851242</td>\n",
       "      <td>0.806514</td>\n",
       "    </tr>\n",
       "    <tr>\n",
       "      <th>1</th>\n",
       "      <td>(DecisionTreeRegressor(max_features='auto', ra...</td>\n",
       "      <td>2.763301</td>\n",
       "      <td>1.058473</td>\n",
       "      <td>1.662318</td>\n",
       "      <td>0.874642</td>\n",
       "      <td>0.983076</td>\n",
       "      <td>0.874642</td>\n",
       "    </tr>\n",
       "    <tr>\n",
       "      <th>2</th>\n",
       "      <td>Ridge()</td>\n",
       "      <td>4.263645</td>\n",
       "      <td>1.320769</td>\n",
       "      <td>2.064860</td>\n",
       "      <td>0.806578</td>\n",
       "      <td>0.851241</td>\n",
       "      <td>0.806578</td>\n",
       "    </tr>\n",
       "    <tr>\n",
       "      <th>3</th>\n",
       "      <td>Lasso()</td>\n",
       "      <td>4.321931</td>\n",
       "      <td>1.209653</td>\n",
       "      <td>2.078925</td>\n",
       "      <td>0.803934</td>\n",
       "      <td>0.830625</td>\n",
       "      <td>0.803934</td>\n",
       "    </tr>\n",
       "    <tr>\n",
       "      <th>4</th>\n",
       "      <td>ElasticNet()</td>\n",
       "      <td>4.283950</td>\n",
       "      <td>1.238608</td>\n",
       "      <td>2.069771</td>\n",
       "      <td>0.805657</td>\n",
       "      <td>0.832669</td>\n",
       "      <td>0.805657</td>\n",
       "    </tr>\n",
       "    <tr>\n",
       "      <th>5</th>\n",
       "      <td>DecisionTreeRegressor()</td>\n",
       "      <td>5.061069</td>\n",
       "      <td>1.198473</td>\n",
       "      <td>2.249682</td>\n",
       "      <td>0.770403</td>\n",
       "      <td>1.000000</td>\n",
       "      <td>0.770403</td>\n",
       "    </tr>\n",
       "    <tr>\n",
       "      <th>6</th>\n",
       "      <td>MLPRegressor()</td>\n",
       "      <td>3.332500</td>\n",
       "      <td>1.162979</td>\n",
       "      <td>1.825514</td>\n",
       "      <td>0.848820</td>\n",
       "      <td>0.888938</td>\n",
       "      <td>0.848820</td>\n",
       "    </tr>\n",
       "  </tbody>\n",
       "</table>\n",
       "</div>"
      ],
      "text/plain": [
       "                                           Regressor       MSE       MAE  \\\n",
       "0                                 LinearRegression()  4.265053  1.321309   \n",
       "1  (DecisionTreeRegressor(max_features='auto', ra...  2.763301  1.058473   \n",
       "2                                            Ridge()  4.263645  1.320769   \n",
       "3                                            Lasso()  4.321931  1.209653   \n",
       "4                                       ElasticNet()  4.283950  1.238608   \n",
       "5                            DecisionTreeRegressor()  5.061069  1.198473   \n",
       "6                                     MLPRegressor()  3.332500  1.162979   \n",
       "\n",
       "       RMSE  Coef. Determ.  Train Score  Test Score  \n",
       "0  2.065200       0.806514     0.851242    0.806514  \n",
       "1  1.662318       0.874642     0.983076    0.874642  \n",
       "2  2.064860       0.806578     0.851241    0.806578  \n",
       "3  2.078925       0.803934     0.830625    0.803934  \n",
       "4  2.069771       0.805657     0.832669    0.805657  \n",
       "5  2.249682       0.770403     1.000000    0.770403  \n",
       "6  1.825514       0.848820     0.888938    0.848820  "
      ]
     },
     "execution_count": 71,
     "metadata": {},
     "output_type": "execute_result"
    }
   ],
   "source": [
    "mse_teste = []\n",
    "mae_teste = []\n",
    "rmse_teste = []\n",
    "coef_det = []\n",
    "train_score = []\n",
    "test_score = []\n",
    "\n",
    "for i in regs:\n",
    "    model = i\n",
    "    model.fit(X_train, y_train)\n",
    "\n",
    "    mse_teste.append(metrics.mean_squared_error(y_test,model.predict(X_test)))\n",
    "    mae_teste.append(metrics.mean_absolute_error(y_test,model.predict(X_test)))\n",
    "    rmse_teste.append(metrics.mean_squared_error(y_test,model.predict(X_test),squared=False))\n",
    "    coef_det.append(r2_score(y_test, model.predict(X_test)))\n",
    "    train_score.append(model.score(X_train, y_train))\n",
    "    test_score.append(model.score(X_test, y_test))\n",
    "    \n",
    "result = pd.DataFrame({\n",
    "    \"Regressor\": regs,\n",
    "    \"MSE\":mse_teste,\n",
    "    \"MAE\":mae_teste,\n",
    "    \"RMSE\":rmse_teste,\n",
    "    \"Coef. Determ.\": coef_det,\n",
    "    \"Train Score\": train_score,\n",
    "    \"Test Score\": test_score\n",
    "})\n",
    "\n",
    "result    \n"
   ]
  },
  {
   "cell_type": "code",
   "execution_count": 72,
   "metadata": {},
   "outputs": [
    {
     "name": "stdout",
     "output_type": "stream",
     "text": [
      "[9.24868312]\n"
     ]
    }
   ],
   "source": [
    "print(model.predict(np.array([[16,3,3,1,2,0,4,3,2,1,2,5,4,6,10]])))"
   ]
  }
 ],
 "metadata": {
  "kernelspec": {
   "display_name": "Python 3",
   "language": "python",
   "name": "python3"
  },
  "language_info": {
   "codemirror_mode": {
    "name": "ipython",
    "version": 3
   },
   "file_extension": ".py",
   "mimetype": "text/x-python",
   "name": "python",
   "nbconvert_exporter": "python",
   "pygments_lexer": "ipython3",
   "version": "3.7.6"
  }
 },
 "nbformat": 4,
 "nbformat_minor": 4
}
