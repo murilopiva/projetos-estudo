{
 "cells": [
  {
   "cell_type": "markdown",
   "metadata": {},
   "source": [
    "## Séries Temporais com Árvores de decisão"
   ]
  },
  {
   "cell_type": "code",
   "execution_count": 1,
   "metadata": {},
   "outputs": [
    {
     "ename": "FileNotFoundError",
     "evalue": "[Errno 2] File GOOGL_Nasdaq_data.csv does not exist: 'GOOGL_Nasdaq_data.csv'",
     "output_type": "error",
     "traceback": [
      "\u001b[1;31m---------------------------------------------------------------------------\u001b[0m",
      "\u001b[1;31mFileNotFoundError\u001b[0m                         Traceback (most recent call last)",
      "\u001b[1;32m<ipython-input-1-c214a17c7d40>\u001b[0m in \u001b[0;36m<module>\u001b[1;34m\u001b[0m\n\u001b[0;32m      1\u001b[0m \u001b[1;32mimport\u001b[0m \u001b[0mpandas\u001b[0m \u001b[1;32mas\u001b[0m \u001b[0mpd\u001b[0m\u001b[1;33m\u001b[0m\u001b[1;33m\u001b[0m\u001b[0m\n\u001b[0;32m      2\u001b[0m \u001b[1;33m\u001b[0m\u001b[0m\n\u001b[1;32m----> 3\u001b[1;33m \u001b[0macoes\u001b[0m \u001b[1;33m=\u001b[0m \u001b[0mpd\u001b[0m\u001b[1;33m.\u001b[0m\u001b[0mread_csv\u001b[0m\u001b[1;33m(\u001b[0m\u001b[1;34m'GOOGL_Nasdaq_data.csv'\u001b[0m\u001b[1;33m)\u001b[0m\u001b[1;33m\u001b[0m\u001b[1;33m\u001b[0m\u001b[0m\n\u001b[0m",
      "\u001b[1;32m~\\anaconda3\\lib\\site-packages\\pandas\\io\\parsers.py\u001b[0m in \u001b[0;36mparser_f\u001b[1;34m(filepath_or_buffer, sep, delimiter, header, names, index_col, usecols, squeeze, prefix, mangle_dupe_cols, dtype, engine, converters, true_values, false_values, skipinitialspace, skiprows, skipfooter, nrows, na_values, keep_default_na, na_filter, verbose, skip_blank_lines, parse_dates, infer_datetime_format, keep_date_col, date_parser, dayfirst, cache_dates, iterator, chunksize, compression, thousands, decimal, lineterminator, quotechar, quoting, doublequote, escapechar, comment, encoding, dialect, error_bad_lines, warn_bad_lines, delim_whitespace, low_memory, memory_map, float_precision)\u001b[0m\n\u001b[0;32m    674\u001b[0m         )\n\u001b[0;32m    675\u001b[0m \u001b[1;33m\u001b[0m\u001b[0m\n\u001b[1;32m--> 676\u001b[1;33m         \u001b[1;32mreturn\u001b[0m \u001b[0m_read\u001b[0m\u001b[1;33m(\u001b[0m\u001b[0mfilepath_or_buffer\u001b[0m\u001b[1;33m,\u001b[0m \u001b[0mkwds\u001b[0m\u001b[1;33m)\u001b[0m\u001b[1;33m\u001b[0m\u001b[1;33m\u001b[0m\u001b[0m\n\u001b[0m\u001b[0;32m    677\u001b[0m \u001b[1;33m\u001b[0m\u001b[0m\n\u001b[0;32m    678\u001b[0m     \u001b[0mparser_f\u001b[0m\u001b[1;33m.\u001b[0m\u001b[0m__name__\u001b[0m \u001b[1;33m=\u001b[0m \u001b[0mname\u001b[0m\u001b[1;33m\u001b[0m\u001b[1;33m\u001b[0m\u001b[0m\n",
      "\u001b[1;32m~\\anaconda3\\lib\\site-packages\\pandas\\io\\parsers.py\u001b[0m in \u001b[0;36m_read\u001b[1;34m(filepath_or_buffer, kwds)\u001b[0m\n\u001b[0;32m    446\u001b[0m \u001b[1;33m\u001b[0m\u001b[0m\n\u001b[0;32m    447\u001b[0m     \u001b[1;31m# Create the parser.\u001b[0m\u001b[1;33m\u001b[0m\u001b[1;33m\u001b[0m\u001b[1;33m\u001b[0m\u001b[0m\n\u001b[1;32m--> 448\u001b[1;33m     \u001b[0mparser\u001b[0m \u001b[1;33m=\u001b[0m \u001b[0mTextFileReader\u001b[0m\u001b[1;33m(\u001b[0m\u001b[0mfp_or_buf\u001b[0m\u001b[1;33m,\u001b[0m \u001b[1;33m**\u001b[0m\u001b[0mkwds\u001b[0m\u001b[1;33m)\u001b[0m\u001b[1;33m\u001b[0m\u001b[1;33m\u001b[0m\u001b[0m\n\u001b[0m\u001b[0;32m    449\u001b[0m \u001b[1;33m\u001b[0m\u001b[0m\n\u001b[0;32m    450\u001b[0m     \u001b[1;32mif\u001b[0m \u001b[0mchunksize\u001b[0m \u001b[1;32mor\u001b[0m \u001b[0miterator\u001b[0m\u001b[1;33m:\u001b[0m\u001b[1;33m\u001b[0m\u001b[1;33m\u001b[0m\u001b[0m\n",
      "\u001b[1;32m~\\anaconda3\\lib\\site-packages\\pandas\\io\\parsers.py\u001b[0m in \u001b[0;36m__init__\u001b[1;34m(self, f, engine, **kwds)\u001b[0m\n\u001b[0;32m    878\u001b[0m             \u001b[0mself\u001b[0m\u001b[1;33m.\u001b[0m\u001b[0moptions\u001b[0m\u001b[1;33m[\u001b[0m\u001b[1;34m\"has_index_names\"\u001b[0m\u001b[1;33m]\u001b[0m \u001b[1;33m=\u001b[0m \u001b[0mkwds\u001b[0m\u001b[1;33m[\u001b[0m\u001b[1;34m\"has_index_names\"\u001b[0m\u001b[1;33m]\u001b[0m\u001b[1;33m\u001b[0m\u001b[1;33m\u001b[0m\u001b[0m\n\u001b[0;32m    879\u001b[0m \u001b[1;33m\u001b[0m\u001b[0m\n\u001b[1;32m--> 880\u001b[1;33m         \u001b[0mself\u001b[0m\u001b[1;33m.\u001b[0m\u001b[0m_make_engine\u001b[0m\u001b[1;33m(\u001b[0m\u001b[0mself\u001b[0m\u001b[1;33m.\u001b[0m\u001b[0mengine\u001b[0m\u001b[1;33m)\u001b[0m\u001b[1;33m\u001b[0m\u001b[1;33m\u001b[0m\u001b[0m\n\u001b[0m\u001b[0;32m    881\u001b[0m \u001b[1;33m\u001b[0m\u001b[0m\n\u001b[0;32m    882\u001b[0m     \u001b[1;32mdef\u001b[0m \u001b[0mclose\u001b[0m\u001b[1;33m(\u001b[0m\u001b[0mself\u001b[0m\u001b[1;33m)\u001b[0m\u001b[1;33m:\u001b[0m\u001b[1;33m\u001b[0m\u001b[1;33m\u001b[0m\u001b[0m\n",
      "\u001b[1;32m~\\anaconda3\\lib\\site-packages\\pandas\\io\\parsers.py\u001b[0m in \u001b[0;36m_make_engine\u001b[1;34m(self, engine)\u001b[0m\n\u001b[0;32m   1112\u001b[0m     \u001b[1;32mdef\u001b[0m \u001b[0m_make_engine\u001b[0m\u001b[1;33m(\u001b[0m\u001b[0mself\u001b[0m\u001b[1;33m,\u001b[0m \u001b[0mengine\u001b[0m\u001b[1;33m=\u001b[0m\u001b[1;34m\"c\"\u001b[0m\u001b[1;33m)\u001b[0m\u001b[1;33m:\u001b[0m\u001b[1;33m\u001b[0m\u001b[1;33m\u001b[0m\u001b[0m\n\u001b[0;32m   1113\u001b[0m         \u001b[1;32mif\u001b[0m \u001b[0mengine\u001b[0m \u001b[1;33m==\u001b[0m \u001b[1;34m\"c\"\u001b[0m\u001b[1;33m:\u001b[0m\u001b[1;33m\u001b[0m\u001b[1;33m\u001b[0m\u001b[0m\n\u001b[1;32m-> 1114\u001b[1;33m             \u001b[0mself\u001b[0m\u001b[1;33m.\u001b[0m\u001b[0m_engine\u001b[0m \u001b[1;33m=\u001b[0m \u001b[0mCParserWrapper\u001b[0m\u001b[1;33m(\u001b[0m\u001b[0mself\u001b[0m\u001b[1;33m.\u001b[0m\u001b[0mf\u001b[0m\u001b[1;33m,\u001b[0m \u001b[1;33m**\u001b[0m\u001b[0mself\u001b[0m\u001b[1;33m.\u001b[0m\u001b[0moptions\u001b[0m\u001b[1;33m)\u001b[0m\u001b[1;33m\u001b[0m\u001b[1;33m\u001b[0m\u001b[0m\n\u001b[0m\u001b[0;32m   1115\u001b[0m         \u001b[1;32melse\u001b[0m\u001b[1;33m:\u001b[0m\u001b[1;33m\u001b[0m\u001b[1;33m\u001b[0m\u001b[0m\n\u001b[0;32m   1116\u001b[0m             \u001b[1;32mif\u001b[0m \u001b[0mengine\u001b[0m \u001b[1;33m==\u001b[0m \u001b[1;34m\"python\"\u001b[0m\u001b[1;33m:\u001b[0m\u001b[1;33m\u001b[0m\u001b[1;33m\u001b[0m\u001b[0m\n",
      "\u001b[1;32m~\\anaconda3\\lib\\site-packages\\pandas\\io\\parsers.py\u001b[0m in \u001b[0;36m__init__\u001b[1;34m(self, src, **kwds)\u001b[0m\n\u001b[0;32m   1889\u001b[0m         \u001b[0mkwds\u001b[0m\u001b[1;33m[\u001b[0m\u001b[1;34m\"usecols\"\u001b[0m\u001b[1;33m]\u001b[0m \u001b[1;33m=\u001b[0m \u001b[0mself\u001b[0m\u001b[1;33m.\u001b[0m\u001b[0musecols\u001b[0m\u001b[1;33m\u001b[0m\u001b[1;33m\u001b[0m\u001b[0m\n\u001b[0;32m   1890\u001b[0m \u001b[1;33m\u001b[0m\u001b[0m\n\u001b[1;32m-> 1891\u001b[1;33m         \u001b[0mself\u001b[0m\u001b[1;33m.\u001b[0m\u001b[0m_reader\u001b[0m \u001b[1;33m=\u001b[0m \u001b[0mparsers\u001b[0m\u001b[1;33m.\u001b[0m\u001b[0mTextReader\u001b[0m\u001b[1;33m(\u001b[0m\u001b[0msrc\u001b[0m\u001b[1;33m,\u001b[0m \u001b[1;33m**\u001b[0m\u001b[0mkwds\u001b[0m\u001b[1;33m)\u001b[0m\u001b[1;33m\u001b[0m\u001b[1;33m\u001b[0m\u001b[0m\n\u001b[0m\u001b[0;32m   1892\u001b[0m         \u001b[0mself\u001b[0m\u001b[1;33m.\u001b[0m\u001b[0munnamed_cols\u001b[0m \u001b[1;33m=\u001b[0m \u001b[0mself\u001b[0m\u001b[1;33m.\u001b[0m\u001b[0m_reader\u001b[0m\u001b[1;33m.\u001b[0m\u001b[0munnamed_cols\u001b[0m\u001b[1;33m\u001b[0m\u001b[1;33m\u001b[0m\u001b[0m\n\u001b[0;32m   1893\u001b[0m \u001b[1;33m\u001b[0m\u001b[0m\n",
      "\u001b[1;32mpandas\\_libs\\parsers.pyx\u001b[0m in \u001b[0;36mpandas._libs.parsers.TextReader.__cinit__\u001b[1;34m()\u001b[0m\n",
      "\u001b[1;32mpandas\\_libs\\parsers.pyx\u001b[0m in \u001b[0;36mpandas._libs.parsers.TextReader._setup_parser_source\u001b[1;34m()\u001b[0m\n",
      "\u001b[1;31mFileNotFoundError\u001b[0m: [Errno 2] File GOOGL_Nasdaq_data.csv does not exist: 'GOOGL_Nasdaq_data.csv'"
     ]
    }
   ],
   "source": [
    "import pandas as pd\n",
    "\n",
    "acoes = pd.read_csv('GOOGL_Nasdaq_data.csv')"
   ]
  },
  {
   "cell_type": "code",
   "execution_count": null,
   "metadata": {},
   "outputs": [],
   "source": [
    "acoes.shape"
   ]
  },
  {
   "cell_type": "code",
   "execution_count": 3,
   "metadata": {},
   "outputs": [
    {
     "data": {
      "text/plain": [
       "Index(['Date', 'Close/Last', 'Volume', 'Open', 'High', 'Low'], dtype='object')"
      ]
     },
     "execution_count": 3,
     "metadata": {},
     "output_type": "execute_result"
    }
   ],
   "source": [
    "acoes.columns"
   ]
  },
  {
   "cell_type": "code",
   "execution_count": 5,
   "metadata": {},
   "outputs": [
    {
     "data": {
      "text/html": [
       "<div>\n",
       "<style scoped>\n",
       "    .dataframe tbody tr th:only-of-type {\n",
       "        vertical-align: middle;\n",
       "    }\n",
       "\n",
       "    .dataframe tbody tr th {\n",
       "        vertical-align: top;\n",
       "    }\n",
       "\n",
       "    .dataframe thead th {\n",
       "        text-align: right;\n",
       "    }\n",
       "</style>\n",
       "<table border=\"1\" class=\"dataframe\">\n",
       "  <thead>\n",
       "    <tr style=\"text-align: right;\">\n",
       "      <th></th>\n",
       "      <th>Date</th>\n",
       "      <th>Close/Last</th>\n",
       "      <th>Volume</th>\n",
       "      <th>Open</th>\n",
       "      <th>High</th>\n",
       "      <th>Low</th>\n",
       "    </tr>\n",
       "  </thead>\n",
       "  <tbody>\n",
       "    <tr>\n",
       "      <th>0</th>\n",
       "      <td>02/18/2021</td>\n",
       "      <td>$2105.81</td>\n",
       "      <td>1128549</td>\n",
       "      <td>$2105</td>\n",
       "      <td>$2121.99</td>\n",
       "      <td>$2093.33</td>\n",
       "    </tr>\n",
       "    <tr>\n",
       "      <th>1</th>\n",
       "      <td>02/17/2021</td>\n",
       "      <td>$2118.62</td>\n",
       "      <td>1015177</td>\n",
       "      <td>$2093.98</td>\n",
       "      <td>$2122.4434</td>\n",
       "      <td>$2088.35</td>\n",
       "    </tr>\n",
       "    <tr>\n",
       "      <th>2</th>\n",
       "      <td>02/16/2021</td>\n",
       "      <td>$2110.7</td>\n",
       "      <td>1550195</td>\n",
       "      <td>$2091.75</td>\n",
       "      <td>$2145.14</td>\n",
       "      <td>$2091.75</td>\n",
       "    </tr>\n",
       "    <tr>\n",
       "      <th>3</th>\n",
       "      <td>02/12/2021</td>\n",
       "      <td>$2095.03</td>\n",
       "      <td>949525</td>\n",
       "      <td>$2079.77</td>\n",
       "      <td>$2099.5</td>\n",
       "      <td>$2073.57</td>\n",
       "    </tr>\n",
       "    <tr>\n",
       "      <th>4</th>\n",
       "      <td>02/11/2021</td>\n",
       "      <td>$2088.75</td>\n",
       "      <td>1024029</td>\n",
       "      <td>$2091</td>\n",
       "      <td>$2094</td>\n",
       "      <td>$2068.86</td>\n",
       "    </tr>\n",
       "  </tbody>\n",
       "</table>\n",
       "</div>"
      ],
      "text/plain": [
       "         Date Close/Last   Volume      Open        High       Low\n",
       "0  02/18/2021   $2105.81  1128549     $2105    $2121.99  $2093.33\n",
       "1  02/17/2021   $2118.62  1015177  $2093.98  $2122.4434  $2088.35\n",
       "2  02/16/2021    $2110.7  1550195  $2091.75    $2145.14  $2091.75\n",
       "3  02/12/2021   $2095.03   949525  $2079.77     $2099.5  $2073.57\n",
       "4  02/11/2021   $2088.75  1024029     $2091       $2094  $2068.86"
      ]
     },
     "execution_count": 5,
     "metadata": {},
     "output_type": "execute_result"
    }
   ],
   "source": [
    "acoes.head()"
   ]
  },
  {
   "cell_type": "code",
   "execution_count": 6,
   "metadata": {},
   "outputs": [],
   "source": [
    "acoes['Close/Last'] = pd.to_numeric(acoes['Close/Last'].str.replace('$',''))"
   ]
  },
  {
   "cell_type": "code",
   "execution_count": 7,
   "metadata": {},
   "outputs": [
    {
     "data": {
      "text/html": [
       "<div>\n",
       "<style scoped>\n",
       "    .dataframe tbody tr th:only-of-type {\n",
       "        vertical-align: middle;\n",
       "    }\n",
       "\n",
       "    .dataframe tbody tr th {\n",
       "        vertical-align: top;\n",
       "    }\n",
       "\n",
       "    .dataframe thead th {\n",
       "        text-align: right;\n",
       "    }\n",
       "</style>\n",
       "<table border=\"1\" class=\"dataframe\">\n",
       "  <thead>\n",
       "    <tr style=\"text-align: right;\">\n",
       "      <th></th>\n",
       "      <th>Close/Last</th>\n",
       "      <th>Volume</th>\n",
       "    </tr>\n",
       "  </thead>\n",
       "  <tbody>\n",
       "    <tr>\n",
       "      <th>count</th>\n",
       "      <td>1259.000000</td>\n",
       "      <td>1.259000e+03</td>\n",
       "    </tr>\n",
       "    <tr>\n",
       "      <th>mean</th>\n",
       "      <td>1129.290770</td>\n",
       "      <td>1.791081e+06</td>\n",
       "    </tr>\n",
       "    <tr>\n",
       "      <th>std</th>\n",
       "      <td>284.614057</td>\n",
       "      <td>8.339034e+05</td>\n",
       "    </tr>\n",
       "    <tr>\n",
       "      <th>min</th>\n",
       "      <td>681.140000</td>\n",
       "      <td>4.656380e+05</td>\n",
       "    </tr>\n",
       "    <tr>\n",
       "      <th>25%</th>\n",
       "      <td>934.785000</td>\n",
       "      <td>1.276680e+06</td>\n",
       "    </tr>\n",
       "    <tr>\n",
       "      <th>50%</th>\n",
       "      <td>1103.590000</td>\n",
       "      <td>1.567503e+06</td>\n",
       "    </tr>\n",
       "    <tr>\n",
       "      <th>75%</th>\n",
       "      <td>1258.145000</td>\n",
       "      <td>2.015582e+06</td>\n",
       "    </tr>\n",
       "    <tr>\n",
       "      <th>max</th>\n",
       "      <td>2118.620000</td>\n",
       "      <td>7.038718e+06</td>\n",
       "    </tr>\n",
       "  </tbody>\n",
       "</table>\n",
       "</div>"
      ],
      "text/plain": [
       "        Close/Last        Volume\n",
       "count  1259.000000  1.259000e+03\n",
       "mean   1129.290770  1.791081e+06\n",
       "std     284.614057  8.339034e+05\n",
       "min     681.140000  4.656380e+05\n",
       "25%     934.785000  1.276680e+06\n",
       "50%    1103.590000  1.567503e+06\n",
       "75%    1258.145000  2.015582e+06\n",
       "max    2118.620000  7.038718e+06"
      ]
     },
     "execution_count": 7,
     "metadata": {},
     "output_type": "execute_result"
    }
   ],
   "source": [
    "acoes.describe()"
   ]
  },
  {
   "cell_type": "markdown",
   "metadata": {},
   "source": [
    "### Vamos criar o rótulo, se a ação fechou acima ou abaixo do dia anterior"
   ]
  },
  {
   "cell_type": "code",
   "execution_count": 8,
   "metadata": {},
   "outputs": [],
   "source": [
    "acoes['Menos1'] = acoes['Close/Last'].shift(-1)\n",
    "#acoes['Media3'] = (acoes['Menos1'] + acoes['Menos2'] + acoes['Menos3']) / 3"
   ]
  },
  {
   "cell_type": "code",
   "execution_count": 9,
   "metadata": {},
   "outputs": [
    {
     "data": {
      "text/html": [
       "<div>\n",
       "<style scoped>\n",
       "    .dataframe tbody tr th:only-of-type {\n",
       "        vertical-align: middle;\n",
       "    }\n",
       "\n",
       "    .dataframe tbody tr th {\n",
       "        vertical-align: top;\n",
       "    }\n",
       "\n",
       "    .dataframe thead th {\n",
       "        text-align: right;\n",
       "    }\n",
       "</style>\n",
       "<table border=\"1\" class=\"dataframe\">\n",
       "  <thead>\n",
       "    <tr style=\"text-align: right;\">\n",
       "      <th></th>\n",
       "      <th>Date</th>\n",
       "      <th>Close/Last</th>\n",
       "      <th>Menos1</th>\n",
       "    </tr>\n",
       "  </thead>\n",
       "  <tbody>\n",
       "    <tr>\n",
       "      <th>0</th>\n",
       "      <td>02/18/2021</td>\n",
       "      <td>2105.81</td>\n",
       "      <td>2118.62</td>\n",
       "    </tr>\n",
       "    <tr>\n",
       "      <th>1</th>\n",
       "      <td>02/17/2021</td>\n",
       "      <td>2118.62</td>\n",
       "      <td>2110.70</td>\n",
       "    </tr>\n",
       "    <tr>\n",
       "      <th>2</th>\n",
       "      <td>02/16/2021</td>\n",
       "      <td>2110.70</td>\n",
       "      <td>2095.03</td>\n",
       "    </tr>\n",
       "    <tr>\n",
       "      <th>3</th>\n",
       "      <td>02/12/2021</td>\n",
       "      <td>2095.03</td>\n",
       "      <td>2088.75</td>\n",
       "    </tr>\n",
       "    <tr>\n",
       "      <th>4</th>\n",
       "      <td>02/11/2021</td>\n",
       "      <td>2088.75</td>\n",
       "      <td>2086.48</td>\n",
       "    </tr>\n",
       "    <tr>\n",
       "      <th>...</th>\n",
       "      <td>...</td>\n",
       "      <td>...</td>\n",
       "      <td>...</td>\n",
       "    </tr>\n",
       "    <tr>\n",
       "      <th>1254</th>\n",
       "      <td>02/25/2016</td>\n",
       "      <td>729.12</td>\n",
       "      <td>720.90</td>\n",
       "    </tr>\n",
       "    <tr>\n",
       "      <th>1255</th>\n",
       "      <td>02/24/2016</td>\n",
       "      <td>720.90</td>\n",
       "      <td>717.29</td>\n",
       "    </tr>\n",
       "    <tr>\n",
       "      <th>1256</th>\n",
       "      <td>02/23/2016</td>\n",
       "      <td>717.29</td>\n",
       "      <td>729.05</td>\n",
       "    </tr>\n",
       "    <tr>\n",
       "      <th>1257</th>\n",
       "      <td>02/22/2016</td>\n",
       "      <td>729.05</td>\n",
       "      <td>722.11</td>\n",
       "    </tr>\n",
       "    <tr>\n",
       "      <th>1258</th>\n",
       "      <td>02/19/2016</td>\n",
       "      <td>722.11</td>\n",
       "      <td>NaN</td>\n",
       "    </tr>\n",
       "  </tbody>\n",
       "</table>\n",
       "<p>1259 rows × 3 columns</p>\n",
       "</div>"
      ],
      "text/plain": [
       "            Date  Close/Last   Menos1\n",
       "0     02/18/2021     2105.81  2118.62\n",
       "1     02/17/2021     2118.62  2110.70\n",
       "2     02/16/2021     2110.70  2095.03\n",
       "3     02/12/2021     2095.03  2088.75\n",
       "4     02/11/2021     2088.75  2086.48\n",
       "...          ...         ...      ...\n",
       "1254  02/25/2016      729.12   720.90\n",
       "1255  02/24/2016      720.90   717.29\n",
       "1256  02/23/2016      717.29   729.05\n",
       "1257  02/22/2016      729.05   722.11\n",
       "1258  02/19/2016      722.11      NaN\n",
       "\n",
       "[1259 rows x 3 columns]"
      ]
     },
     "execution_count": 9,
     "metadata": {},
     "output_type": "execute_result"
    }
   ],
   "source": [
    "acoes[['Date','Close/Last','Menos1']]"
   ]
  },
  {
   "cell_type": "code",
   "execution_count": 10,
   "metadata": {},
   "outputs": [
    {
     "name": "stderr",
     "output_type": "stream",
     "text": [
      "C:\\Users\\Pichau\\Anaconda3\\lib\\site-packages\\ipykernel_launcher.py:2: SettingWithCopyWarning: \n",
      "A value is trying to be set on a copy of a slice from a DataFrame\n",
      "\n",
      "See the caveats in the documentation: https://pandas.pydata.org/pandas-docs/stable/user_guide/indexing.html#returning-a-view-versus-a-copy\n",
      "  \n"
     ]
    }
   ],
   "source": [
    "acoes['classe'] = 'Não'\n",
    "acoes['classe'][acoes['Close/Last'] - acoes['Menos1'] > 0] = 'Sim'"
   ]
  },
  {
   "cell_type": "code",
   "execution_count": 12,
   "metadata": {},
   "outputs": [
    {
     "data": {
      "text/html": [
       "<div>\n",
       "<style scoped>\n",
       "    .dataframe tbody tr th:only-of-type {\n",
       "        vertical-align: middle;\n",
       "    }\n",
       "\n",
       "    .dataframe tbody tr th {\n",
       "        vertical-align: top;\n",
       "    }\n",
       "\n",
       "    .dataframe thead th {\n",
       "        text-align: right;\n",
       "    }\n",
       "</style>\n",
       "<table border=\"1\" class=\"dataframe\">\n",
       "  <thead>\n",
       "    <tr style=\"text-align: right;\">\n",
       "      <th></th>\n",
       "      <th>Date</th>\n",
       "      <th>Menos1</th>\n",
       "      <th>classe</th>\n",
       "    </tr>\n",
       "  </thead>\n",
       "  <tbody>\n",
       "    <tr>\n",
       "      <th>0</th>\n",
       "      <td>02/18/2021</td>\n",
       "      <td>2118.62</td>\n",
       "      <td>Não</td>\n",
       "    </tr>\n",
       "    <tr>\n",
       "      <th>1</th>\n",
       "      <td>02/17/2021</td>\n",
       "      <td>2110.70</td>\n",
       "      <td>Sim</td>\n",
       "    </tr>\n",
       "    <tr>\n",
       "      <th>2</th>\n",
       "      <td>02/16/2021</td>\n",
       "      <td>2095.03</td>\n",
       "      <td>Sim</td>\n",
       "    </tr>\n",
       "    <tr>\n",
       "      <th>3</th>\n",
       "      <td>02/12/2021</td>\n",
       "      <td>2088.75</td>\n",
       "      <td>Sim</td>\n",
       "    </tr>\n",
       "    <tr>\n",
       "      <th>4</th>\n",
       "      <td>02/11/2021</td>\n",
       "      <td>2086.48</td>\n",
       "      <td>Sim</td>\n",
       "    </tr>\n",
       "    <tr>\n",
       "      <th>...</th>\n",
       "      <td>...</td>\n",
       "      <td>...</td>\n",
       "      <td>...</td>\n",
       "    </tr>\n",
       "    <tr>\n",
       "      <th>1254</th>\n",
       "      <td>02/25/2016</td>\n",
       "      <td>720.90</td>\n",
       "      <td>Sim</td>\n",
       "    </tr>\n",
       "    <tr>\n",
       "      <th>1255</th>\n",
       "      <td>02/24/2016</td>\n",
       "      <td>717.29</td>\n",
       "      <td>Sim</td>\n",
       "    </tr>\n",
       "    <tr>\n",
       "      <th>1256</th>\n",
       "      <td>02/23/2016</td>\n",
       "      <td>729.05</td>\n",
       "      <td>Não</td>\n",
       "    </tr>\n",
       "    <tr>\n",
       "      <th>1257</th>\n",
       "      <td>02/22/2016</td>\n",
       "      <td>722.11</td>\n",
       "      <td>Sim</td>\n",
       "    </tr>\n",
       "    <tr>\n",
       "      <th>1258</th>\n",
       "      <td>02/19/2016</td>\n",
       "      <td>NaN</td>\n",
       "      <td>Não</td>\n",
       "    </tr>\n",
       "  </tbody>\n",
       "</table>\n",
       "<p>1259 rows × 3 columns</p>\n",
       "</div>"
      ],
      "text/plain": [
       "            Date   Menos1 classe\n",
       "0     02/18/2021  2118.62    Não\n",
       "1     02/17/2021  2110.70    Sim\n",
       "2     02/16/2021  2095.03    Sim\n",
       "3     02/12/2021  2088.75    Sim\n",
       "4     02/11/2021  2086.48    Sim\n",
       "...          ...      ...    ...\n",
       "1254  02/25/2016   720.90    Sim\n",
       "1255  02/24/2016   717.29    Sim\n",
       "1256  02/23/2016   729.05    Não\n",
       "1257  02/22/2016   722.11    Sim\n",
       "1258  02/19/2016      NaN    Não\n",
       "\n",
       "[1259 rows x 3 columns]"
      ]
     },
     "execution_count": 12,
     "metadata": {},
     "output_type": "execute_result"
    }
   ],
   "source": [
    "acoes[['Date','Menos1','classe']]"
   ]
  },
  {
   "cell_type": "markdown",
   "metadata": {},
   "source": [
    "### Vamos adicionar mais colunas"
   ]
  },
  {
   "cell_type": "code",
   "execution_count": 13,
   "metadata": {},
   "outputs": [],
   "source": [
    "acoes['Menos2'] = acoes['Close/Last'].shift(-2)\n",
    "acoes['Menos3'] = acoes['Close/Last'].shift(-3)\n",
    "acoes['Menos7'] = acoes['Close/Last'].shift(-7)"
   ]
  },
  {
   "cell_type": "markdown",
   "metadata": {},
   "source": [
    "### Vamos manter apenas as colunas que interessam para classificar e excluir as linhas que ficaram com NaN no fim do conjunto"
   ]
  },
  {
   "cell_type": "code",
   "execution_count": 14,
   "metadata": {},
   "outputs": [],
   "source": [
    "acoes = acoes[['Menos1','Menos2','Menos3','Menos7','classe']][:-7]"
   ]
  },
  {
   "cell_type": "code",
   "execution_count": 15,
   "metadata": {},
   "outputs": [
    {
     "data": {
      "text/html": [
       "<div>\n",
       "<style scoped>\n",
       "    .dataframe tbody tr th:only-of-type {\n",
       "        vertical-align: middle;\n",
       "    }\n",
       "\n",
       "    .dataframe tbody tr th {\n",
       "        vertical-align: top;\n",
       "    }\n",
       "\n",
       "    .dataframe thead th {\n",
       "        text-align: right;\n",
       "    }\n",
       "</style>\n",
       "<table border=\"1\" class=\"dataframe\">\n",
       "  <thead>\n",
       "    <tr style=\"text-align: right;\">\n",
       "      <th></th>\n",
       "      <th>Menos1</th>\n",
       "      <th>Menos2</th>\n",
       "      <th>Menos3</th>\n",
       "      <th>Menos7</th>\n",
       "      <th>classe</th>\n",
       "    </tr>\n",
       "  </thead>\n",
       "  <tbody>\n",
       "    <tr>\n",
       "      <th>0</th>\n",
       "      <td>2118.62</td>\n",
       "      <td>2110.70</td>\n",
       "      <td>2095.03</td>\n",
       "      <td>2084.52</td>\n",
       "      <td>Não</td>\n",
       "    </tr>\n",
       "    <tr>\n",
       "      <th>1</th>\n",
       "      <td>2110.70</td>\n",
       "      <td>2095.03</td>\n",
       "      <td>2088.75</td>\n",
       "      <td>2088.83</td>\n",
       "      <td>Sim</td>\n",
       "    </tr>\n",
       "    <tr>\n",
       "      <th>2</th>\n",
       "      <td>2095.03</td>\n",
       "      <td>2088.75</td>\n",
       "      <td>2086.48</td>\n",
       "      <td>2053.63</td>\n",
       "      <td>Sim</td>\n",
       "    </tr>\n",
       "    <tr>\n",
       "      <th>3</th>\n",
       "      <td>2088.75</td>\n",
       "      <td>2086.48</td>\n",
       "      <td>2075.39</td>\n",
       "      <td>2058.88</td>\n",
       "      <td>Sim</td>\n",
       "    </tr>\n",
       "    <tr>\n",
       "      <th>4</th>\n",
       "      <td>2086.48</td>\n",
       "      <td>2075.39</td>\n",
       "      <td>2084.52</td>\n",
       "      <td>1919.12</td>\n",
       "      <td>Sim</td>\n",
       "    </tr>\n",
       "    <tr>\n",
       "      <th>...</th>\n",
       "      <td>...</td>\n",
       "      <td>...</td>\n",
       "      <td>...</td>\n",
       "      <td>...</td>\n",
       "      <td>...</td>\n",
       "    </tr>\n",
       "    <tr>\n",
       "      <th>1247</th>\n",
       "      <td>730.22</td>\n",
       "      <td>731.59</td>\n",
       "      <td>739.48</td>\n",
       "      <td>729.12</td>\n",
       "      <td>Não</td>\n",
       "    </tr>\n",
       "    <tr>\n",
       "      <th>1248</th>\n",
       "      <td>731.59</td>\n",
       "      <td>739.48</td>\n",
       "      <td>742.17</td>\n",
       "      <td>720.90</td>\n",
       "      <td>Não</td>\n",
       "    </tr>\n",
       "    <tr>\n",
       "      <th>1249</th>\n",
       "      <td>739.48</td>\n",
       "      <td>742.17</td>\n",
       "      <td>717.22</td>\n",
       "      <td>717.29</td>\n",
       "      <td>Não</td>\n",
       "    </tr>\n",
       "    <tr>\n",
       "      <th>1250</th>\n",
       "      <td>742.17</td>\n",
       "      <td>717.22</td>\n",
       "      <td>724.86</td>\n",
       "      <td>729.05</td>\n",
       "      <td>Não</td>\n",
       "    </tr>\n",
       "    <tr>\n",
       "      <th>1251</th>\n",
       "      <td>717.22</td>\n",
       "      <td>724.86</td>\n",
       "      <td>729.12</td>\n",
       "      <td>722.11</td>\n",
       "      <td>Sim</td>\n",
       "    </tr>\n",
       "  </tbody>\n",
       "</table>\n",
       "<p>1252 rows × 5 columns</p>\n",
       "</div>"
      ],
      "text/plain": [
       "       Menos1   Menos2   Menos3   Menos7 classe\n",
       "0     2118.62  2110.70  2095.03  2084.52    Não\n",
       "1     2110.70  2095.03  2088.75  2088.83    Sim\n",
       "2     2095.03  2088.75  2086.48  2053.63    Sim\n",
       "3     2088.75  2086.48  2075.39  2058.88    Sim\n",
       "4     2086.48  2075.39  2084.52  1919.12    Sim\n",
       "...       ...      ...      ...      ...    ...\n",
       "1247   730.22   731.59   739.48   729.12    Não\n",
       "1248   731.59   739.48   742.17   720.90    Não\n",
       "1249   739.48   742.17   717.22   717.29    Não\n",
       "1250   742.17   717.22   724.86   729.05    Não\n",
       "1251   717.22   724.86   729.12   722.11    Sim\n",
       "\n",
       "[1252 rows x 5 columns]"
      ]
     },
     "execution_count": 15,
     "metadata": {},
     "output_type": "execute_result"
    }
   ],
   "source": [
    "acoes"
   ]
  },
  {
   "cell_type": "markdown",
   "metadata": {},
   "source": [
    "### Em seguida, vamos separar em treino e teste pra não perder a relação temporal e classificar"
   ]
  },
  {
   "cell_type": "code",
   "execution_count": 16,
   "metadata": {},
   "outputs": [],
   "source": [
    "X_treino, y_treino = acoes[['Menos1','Menos2','Menos3','Menos7']][200:], acoes[['classe']][200:]\n",
    "X_teste, y_teste = acoes[['Menos1','Menos2','Menos3','Menos7']][:200], acoes[['classe']][:200]"
   ]
  },
  {
   "cell_type": "code",
   "execution_count": 17,
   "metadata": {},
   "outputs": [
    {
     "data": {
      "text/plain": [
       "DecisionTreeClassifier(ccp_alpha=0.0, class_weight=None, criterion='gini',\n",
       "                       max_depth=None, max_features=None, max_leaf_nodes=None,\n",
       "                       min_impurity_decrease=0.0, min_impurity_split=None,\n",
       "                       min_samples_leaf=1, min_samples_split=2,\n",
       "                       min_weight_fraction_leaf=0.0, presort='deprecated',\n",
       "                       random_state=None, splitter='best')"
      ]
     },
     "execution_count": 17,
     "metadata": {},
     "output_type": "execute_result"
    }
   ],
   "source": [
    "from sklearn.tree import DecisionTreeClassifier\n",
    "\n",
    "model = DecisionTreeClassifier()\n",
    "model.fit(X_treino, y_treino)"
   ]
  },
  {
   "cell_type": "code",
   "execution_count": 19,
   "metadata": {},
   "outputs": [
    {
     "name": "stdout",
     "output_type": "stream",
     "text": [
      "0.5\n"
     ]
    }
   ],
   "source": [
    "from sklearn.metrics import accuracy_score\n",
    "\n",
    "y_pred = model.predict(X_teste)\n",
    "print(accuracy_score(y_teste, y_pred))"
   ]
  },
  {
   "cell_type": "code",
   "execution_count": 20,
   "metadata": {},
   "outputs": [
    {
     "name": "stdout",
     "output_type": "stream",
     "text": [
      "|--- Menos1 <= 720.83\n",
      "|   |--- Menos3 <= 712.44\n",
      "|   |   |--- Menos3 <= 709.61\n",
      "|   |   |   |--- Menos1 <= 709.57\n",
      "|   |   |   |   |--- class: Sim\n",
      "|   |   |   |--- Menos1 >  709.57\n",
      "|   |   |   |   |--- Menos3 <= 705.60\n",
      "|   |   |   |   |   |--- class: Não\n",
      "|   |   |   |   |--- Menos3 >  705.60\n",
      "|   |   |   |   |   |--- Menos7 <= 726.83\n",
      "|   |   |   |   |   |   |--- class: Sim\n",
      "|   |   |   |   |   |--- Menos7 >  726.83\n",
      "|   |   |   |   |   |   |--- Menos2 <= 709.67\n",
      "|   |   |   |   |   |   |   |--- class: Sim\n",
      "|   |   |   |   |   |   |--- Menos2 >  709.67\n",
      "|   |   |   |   |   |   |   |--- class: Não\n",
      "|   |   |--- Menos3 >  709.61\n",
      "|   |   |   |--- class: Não\n",
      "|   |--- Menos3 >  712.44\n",
      "|   |   |--- class: Sim\n",
      "|--- Menos1 >  720.83\n",
      "|   |--- Menos7 <= 708.16\n",
      "|   |   |--- class: Sim\n",
      "|   |--- Menos7 >  708.16\n",
      "|   |   |--- Menos1 <= 744.57\n",
      "|   |   |   |--- Menos3 <= 715.38\n",
      "|   |   |   |   |--- class: Sim\n",
      "|   |   |   |--- Menos3 >  715.38\n",
      "|   |   |   |   |--- Menos2 <= 764.23\n",
      "|   |   |   |   |   |--- Menos1 <= 737.51\n",
      "|   |   |   |   |   |   |--- Menos1 <= 736.39\n",
      "|   |   |   |   |   |   |   |--- Menos2 <= 737.62\n",
      "|   |   |   |   |   |   |   |   |--- Menos3 <= 742.37\n",
      "|   |   |   |   |   |   |   |   |   |--- Menos2 <= 730.30\n",
      "|   |   |   |   |   |   |   |   |   |   |--- Menos2 <= 727.64\n",
      "|   |   |   |   |   |   |   |   |   |   |   |--- truncated branch of depth 2\n",
      "|   |   |   |   |   |   |   |   |   |   |--- Menos2 >  727.64\n",
      "|   |   |   |   |   |   |   |   |   |   |   |--- truncated branch of depth 2\n",
      "|   |   |   |   |   |   |   |   |   |--- Menos2 >  730.30\n",
      "|   |   |   |   |   |   |   |   |   |   |--- class: Não\n",
      "|   |   |   |   |   |   |   |   |--- Menos3 >  742.37\n",
      "|   |   |   |   |   |   |   |   |   |--- class: Sim\n",
      "|   |   |   |   |   |   |   |--- Menos2 >  737.62\n",
      "|   |   |   |   |   |   |   |   |--- class: Não\n",
      "|   |   |   |   |   |   |--- Menos1 >  736.39\n",
      "|   |   |   |   |   |   |   |--- class: Sim\n",
      "|   |   |   |   |   |--- Menos1 >  737.51\n",
      "|   |   |   |   |   |   |--- class: Não\n",
      "|   |   |   |   |--- Menos2 >  764.23\n",
      "|   |   |   |   |   |--- class: Sim\n",
      "|   |   |--- Menos1 >  744.57\n",
      "|   |   |   |--- Menos1 <= 757.55\n",
      "|   |   |   |   |--- Menos1 <= 749.54\n",
      "|   |   |   |   |   |--- Menos1 <= 748.03\n",
      "|   |   |   |   |   |   |--- class: Sim\n",
      "|   |   |   |   |   |--- Menos1 >  748.03\n",
      "|   |   |   |   |   |   |--- class: Não\n",
      "|   |   |   |   |--- Menos1 >  749.54\n",
      "|   |   |   |   |   |--- Menos1 <= 754.62\n",
      "|   |   |   |   |   |   |--- class: Sim\n",
      "|   |   |   |   |   |--- Menos1 >  754.62\n",
      "|   |   |   |   |   |   |--- Menos1 <= 757.22\n",
      "|   |   |   |   |   |   |   |--- Menos7 <= 732.34\n",
      "|   |   |   |   |   |   |   |   |--- class: Sim\n",
      "|   |   |   |   |   |   |   |--- Menos7 >  732.34\n",
      "|   |   |   |   |   |   |   |   |--- class: Não\n",
      "|   |   |   |   |   |   |--- Menos1 >  757.22\n",
      "|   |   |   |   |   |   |   |--- class: Sim\n",
      "|   |   |   |--- Menos1 >  757.55\n",
      "|   |   |   |   |--- Menos7 <= 751.89\n",
      "|   |   |   |   |   |--- class: Não\n",
      "|   |   |   |   |--- Menos7 >  751.89\n",
      "|   |   |   |   |   |--- Menos2 <= 758.11\n",
      "|   |   |   |   |   |   |--- class: Sim\n",
      "|   |   |   |   |   |--- Menos2 >  758.11\n",
      "|   |   |   |   |   |   |--- Menos2 <= 1388.39\n",
      "|   |   |   |   |   |   |   |--- Menos1 <= 1347.68\n",
      "|   |   |   |   |   |   |   |   |--- Menos3 <= 1338.48\n",
      "|   |   |   |   |   |   |   |   |   |--- Menos2 <= 1304.86\n",
      "|   |   |   |   |   |   |   |   |   |   |--- Menos1 <= 1302.89\n",
      "|   |   |   |   |   |   |   |   |   |   |   |--- truncated branch of depth 30\n",
      "|   |   |   |   |   |   |   |   |   |   |--- Menos1 >  1302.89\n",
      "|   |   |   |   |   |   |   |   |   |   |   |--- class: Sim\n",
      "|   |   |   |   |   |   |   |   |   |--- Menos2 >  1304.86\n",
      "|   |   |   |   |   |   |   |   |   |   |--- Menos1 <= 1323.40\n",
      "|   |   |   |   |   |   |   |   |   |   |   |--- class: Não\n",
      "|   |   |   |   |   |   |   |   |   |   |--- Menos1 >  1323.40\n",
      "|   |   |   |   |   |   |   |   |   |   |   |--- truncated branch of depth 2\n",
      "|   |   |   |   |   |   |   |   |--- Menos3 >  1338.48\n",
      "|   |   |   |   |   |   |   |   |   |--- Menos3 <= 1358.55\n",
      "|   |   |   |   |   |   |   |   |   |   |--- class: Sim\n",
      "|   |   |   |   |   |   |   |   |   |--- Menos3 >  1358.55\n",
      "|   |   |   |   |   |   |   |   |   |   |--- Menos7 <= 1436.71\n",
      "|   |   |   |   |   |   |   |   |   |   |   |--- class: Não\n",
      "|   |   |   |   |   |   |   |   |   |   |--- Menos7 >  1436.71\n",
      "|   |   |   |   |   |   |   |   |   |   |   |--- class: Sim\n",
      "|   |   |   |   |   |   |   |--- Menos1 >  1347.68\n",
      "|   |   |   |   |   |   |   |   |--- Menos7 <= 1345.65\n",
      "|   |   |   |   |   |   |   |   |   |--- Menos2 <= 1353.40\n",
      "|   |   |   |   |   |   |   |   |   |   |--- class: Não\n",
      "|   |   |   |   |   |   |   |   |   |--- Menos2 >  1353.40\n",
      "|   |   |   |   |   |   |   |   |   |   |--- Menos1 <= 1353.40\n",
      "|   |   |   |   |   |   |   |   |   |   |   |--- class: Sim\n",
      "|   |   |   |   |   |   |   |   |   |   |--- Menos1 >  1353.40\n",
      "|   |   |   |   |   |   |   |   |   |   |   |--- truncated branch of depth 2\n",
      "|   |   |   |   |   |   |   |   |--- Menos7 >  1345.65\n",
      "|   |   |   |   |   |   |   |   |   |--- class: Não\n",
      "|   |   |   |   |   |   |--- Menos2 >  1388.39\n",
      "|   |   |   |   |   |   |   |--- Menos2 <= 1483.03\n",
      "|   |   |   |   |   |   |   |   |--- Menos7 <= 1461.43\n",
      "|   |   |   |   |   |   |   |   |   |--- Menos7 <= 1365.10\n",
      "|   |   |   |   |   |   |   |   |   |   |--- Menos2 <= 1417.00\n",
      "|   |   |   |   |   |   |   |   |   |   |   |--- class: Sim\n",
      "|   |   |   |   |   |   |   |   |   |   |--- Menos2 >  1417.00\n",
      "|   |   |   |   |   |   |   |   |   |   |   |--- class: Não\n",
      "|   |   |   |   |   |   |   |   |   |--- Menos7 >  1365.10\n",
      "|   |   |   |   |   |   |   |   |   |   |--- class: Sim\n",
      "|   |   |   |   |   |   |   |   |--- Menos7 >  1461.43\n",
      "|   |   |   |   |   |   |   |   |   |--- Menos1 <= 1452.38\n",
      "|   |   |   |   |   |   |   |   |   |   |--- class: Sim\n",
      "|   |   |   |   |   |   |   |   |   |--- Menos1 >  1452.38\n",
      "|   |   |   |   |   |   |   |   |   |   |--- class: Não\n",
      "|   |   |   |   |   |   |   |--- Menos2 >  1483.03\n",
      "|   |   |   |   |   |   |   |   |--- Menos1 <= 1497.38\n",
      "|   |   |   |   |   |   |   |   |   |--- class: Não\n",
      "|   |   |   |   |   |   |   |   |--- Menos1 >  1497.38\n",
      "|   |   |   |   |   |   |   |   |   |--- Menos2 <= 1519.08\n",
      "|   |   |   |   |   |   |   |   |   |   |--- Menos7 <= 1445.73\n",
      "|   |   |   |   |   |   |   |   |   |   |   |--- class: Não\n",
      "|   |   |   |   |   |   |   |   |   |   |--- Menos7 >  1445.73\n",
      "|   |   |   |   |   |   |   |   |   |   |   |--- class: Sim\n",
      "|   |   |   |   |   |   |   |   |   |--- Menos2 >  1519.08\n",
      "|   |   |   |   |   |   |   |   |   |   |--- class: Não\n",
      "\n"
     ]
    }
   ],
   "source": [
    "from sklearn.tree import export_text\n",
    "\n",
    "r = export_text(model, X_treino.columns.tolist())\n",
    "print(r)"
   ]
  },
  {
   "cell_type": "markdown",
   "metadata": {},
   "source": [
    "### Vamos variar o parêmtro de profundidade da árvore\n",
    "\n"
   ]
  },
  {
   "cell_type": "code",
   "execution_count": 42,
   "metadata": {},
   "outputs": [
    {
     "name": "stdout",
     "output_type": "stream",
     "text": [
      "Profundidade: 2 - Acurácia no treino 0.5313688212927756\n",
      "Profundidade: 2 - Acurácia no teste 0.58\n",
      "\n",
      "Profundidade: 3 - Acurácia no treino 0.5475285171102662\n",
      "Profundidade: 3 - Acurácia no teste 0.58\n",
      "\n",
      "Profundidade: 4 - Acurácia no treino 0.5494296577946768\n",
      "Profundidade: 4 - Acurácia no teste 0.58\n",
      "\n",
      "Profundidade: 10 - Acurácia no treino 0.596958174904943\n",
      "Profundidade: 10 - Acurácia no teste 0.49\n",
      "\n"
     ]
    }
   ],
   "source": [
    "for max_depth in [2,3,4,10]:\n",
    "    model = DecisionTreeClassifier(max_depth = max_depth)\n",
    "    model.fit(X_treino, y_treino)\n",
    "    \n",
    "    y_pred = model.predict(X_treino)\n",
    "    print('Profundidade:', max_depth, '-', 'Acurácia no treino', accuracy_score(y_treino, y_pred))\n",
    "    \n",
    "    y_pred = model.predict(X_teste)\n",
    "    print('Profundidade:', max_depth, '-', 'Acurácia no teste', accuracy_score(y_teste, y_pred))\n",
    "    \n",
    "    print()"
   ]
  },
  {
   "cell_type": "code",
   "execution_count": 33,
   "metadata": {},
   "outputs": [
    {
     "name": "stdout",
     "output_type": "stream",
     "text": [
      "Profundidade: 4 - 0.58\n",
      "|--- Menos1 <= 720.83\n",
      "|   |--- Menos3 <= 712.44\n",
      "|   |   |--- Menos3 <= 709.61\n",
      "|   |   |   |--- class: Sim\n",
      "|   |   |--- Menos3 >  709.61\n",
      "|   |   |   |--- class: Não\n",
      "|   |--- Menos3 >  712.44\n",
      "|   |   |--- class: Sim\n",
      "|--- Menos1 >  720.83\n",
      "|   |--- Menos7 <= 708.16\n",
      "|   |   |--- class: Sim\n",
      "|   |--- Menos7 >  708.16\n",
      "|   |   |--- Menos1 <= 744.57\n",
      "|   |   |   |--- class: Não\n",
      "|   |   |--- Menos1 >  744.57\n",
      "|   |   |   |--- class: Sim\n",
      "\n"
     ]
    }
   ],
   "source": [
    "model = DecisionTreeClassifier(max_depth = 3)\n",
    "model.fit(X_treino, y_treino)\n",
    "y_pred = model.predict(X_teste)\n",
    "print('Profundidade:', max_depth, '-', accuracy_score(y_teste, y_pred))\n",
    "\n",
    "r = export_text(model, X_treino.columns.tolist())\n",
    "print(r)"
   ]
  },
  {
   "cell_type": "markdown",
   "metadata": {},
   "source": [
    "## Exercício 1\n",
    "\n",
    "E se em vez de usarmos o valor absoluto, utilizarmos a diferença? Assim a regra aprende com as diferenças. Ou ainda, se simplemente marcamos se o valor subiu ou desceu."
   ]
  },
  {
   "cell_type": "code",
   "execution_count": null,
   "metadata": {},
   "outputs": [],
   "source": []
  },
  {
   "cell_type": "markdown",
   "metadata": {},
   "source": [
    "## Exercício 2\n",
    "\n",
    "Escolha outra ação na Nasdaq relacionada a tecnologia e acrescente ao conjunto de dados para verificar se as duas ações juntas se ajudam."
   ]
  },
  {
   "cell_type": "code",
   "execution_count": null,
   "metadata": {},
   "outputs": [],
   "source": []
  }
 ],
 "metadata": {
  "kernelspec": {
   "display_name": "Python 3",
   "language": "python",
   "name": "python3"
  },
  "language_info": {
   "codemirror_mode": {
    "name": "ipython",
    "version": 3
   },
   "file_extension": ".py",
   "mimetype": "text/x-python",
   "name": "python",
   "nbconvert_exporter": "python",
   "pygments_lexer": "ipython3",
   "version": "3.7.6"
  }
 },
 "nbformat": 4,
 "nbformat_minor": 2
}
