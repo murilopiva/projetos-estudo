{
 "cells": [
  {
   "cell_type": "markdown",
   "metadata": {},
   "source": [
    "## Árvores de Decisão (Algoritmo ID3) - Implementação"
   ]
  },
  {
   "cell_type": "code",
   "execution_count": 3,
   "metadata": {
    "scrolled": true
   },
   "outputs": [
    {
     "name": "stdout",
     "output_type": "stream",
     "text": [
      "(14, 3)\n"
     ]
    }
   ],
   "source": [
    "import pandas as pd\n",
    "import random\n",
    "\n",
    "df = pd.read_csv('golf2.csv',sep='\\t')\n",
    "print(df.shape)"
   ]
  },
  {
   "cell_type": "code",
   "execution_count": 7,
   "metadata": {},
   "outputs": [
    {
     "data": {
      "text/html": [
       "<div>\n",
       "<style scoped>\n",
       "    .dataframe tbody tr th:only-of-type {\n",
       "        vertical-align: middle;\n",
       "    }\n",
       "\n",
       "    .dataframe tbody tr th {\n",
       "        vertical-align: top;\n",
       "    }\n",
       "\n",
       "    .dataframe thead th {\n",
       "        text-align: right;\n",
       "    }\n",
       "</style>\n",
       "<table border=\"1\" class=\"dataframe\">\n",
       "  <thead>\n",
       "    <tr style=\"text-align: right;\">\n",
       "      <th></th>\n",
       "      <th>Precipitacao</th>\n",
       "      <th>Temperatura</th>\n",
       "      <th>Jogar Golf?</th>\n",
       "    </tr>\n",
       "  </thead>\n",
       "  <tbody>\n",
       "    <tr>\n",
       "      <th>0</th>\n",
       "      <td>88</td>\n",
       "      <td>35</td>\n",
       "      <td>Não</td>\n",
       "    </tr>\n",
       "    <tr>\n",
       "      <th>1</th>\n",
       "      <td>85</td>\n",
       "      <td>34</td>\n",
       "      <td>Sim</td>\n",
       "    </tr>\n",
       "    <tr>\n",
       "      <th>2</th>\n",
       "      <td>60</td>\n",
       "      <td>33</td>\n",
       "      <td>Sim</td>\n",
       "    </tr>\n",
       "    <tr>\n",
       "      <th>3</th>\n",
       "      <td>0</td>\n",
       "      <td>24</td>\n",
       "      <td>Sim</td>\n",
       "    </tr>\n",
       "    <tr>\n",
       "      <th>4</th>\n",
       "      <td>0</td>\n",
       "      <td>15</td>\n",
       "      <td>Sim</td>\n",
       "    </tr>\n",
       "  </tbody>\n",
       "</table>\n",
       "</div>"
      ],
      "text/plain": [
       "   Precipitacao  Temperatura Jogar Golf?\n",
       "0            88           35         Não\n",
       "1            85           34         Sim\n",
       "2            60           33         Sim\n",
       "3             0           24         Sim\n",
       "4             0           15         Sim"
      ]
     },
     "execution_count": 7,
     "metadata": {},
     "output_type": "execute_result"
    }
   ],
   "source": [
    "df.head()"
   ]
  },
  {
   "cell_type": "code",
   "execution_count": 4,
   "metadata": {},
   "outputs": [
    {
     "data": {
      "text/html": [
       "<div>\n",
       "<style scoped>\n",
       "    .dataframe tbody tr th:only-of-type {\n",
       "        vertical-align: middle;\n",
       "    }\n",
       "\n",
       "    .dataframe tbody tr th {\n",
       "        vertical-align: top;\n",
       "    }\n",
       "\n",
       "    .dataframe thead th {\n",
       "        text-align: right;\n",
       "    }\n",
       "</style>\n",
       "<table border=\"1\" class=\"dataframe\">\n",
       "  <thead>\n",
       "    <tr style=\"text-align: right;\">\n",
       "      <th></th>\n",
       "      <th>Precipitacao</th>\n",
       "      <th>Temperatura</th>\n",
       "    </tr>\n",
       "  </thead>\n",
       "  <tbody>\n",
       "    <tr>\n",
       "      <th>count</th>\n",
       "      <td>14.000000</td>\n",
       "      <td>14.000000</td>\n",
       "    </tr>\n",
       "    <tr>\n",
       "      <th>mean</th>\n",
       "      <td>29.357143</td>\n",
       "      <td>24.428571</td>\n",
       "    </tr>\n",
       "    <tr>\n",
       "      <th>std</th>\n",
       "      <td>29.387614</td>\n",
       "      <td>8.855370</td>\n",
       "    </tr>\n",
       "    <tr>\n",
       "      <th>min</th>\n",
       "      <td>0.000000</td>\n",
       "      <td>10.000000</td>\n",
       "    </tr>\n",
       "    <tr>\n",
       "      <th>25%</th>\n",
       "      <td>15.000000</td>\n",
       "      <td>17.250000</td>\n",
       "    </tr>\n",
       "    <tr>\n",
       "      <th>50%</th>\n",
       "      <td>19.000000</td>\n",
       "      <td>24.500000</td>\n",
       "    </tr>\n",
       "    <tr>\n",
       "      <th>75%</th>\n",
       "      <td>42.500000</td>\n",
       "      <td>32.250000</td>\n",
       "    </tr>\n",
       "    <tr>\n",
       "      <th>max</th>\n",
       "      <td>88.000000</td>\n",
       "      <td>36.000000</td>\n",
       "    </tr>\n",
       "  </tbody>\n",
       "</table>\n",
       "</div>"
      ],
      "text/plain": [
       "       Precipitacao  Temperatura\n",
       "count     14.000000    14.000000\n",
       "mean      29.357143    24.428571\n",
       "std       29.387614     8.855370\n",
       "min        0.000000    10.000000\n",
       "25%       15.000000    17.250000\n",
       "50%       19.000000    24.500000\n",
       "75%       42.500000    32.250000\n",
       "max       88.000000    36.000000"
      ]
     },
     "execution_count": 4,
     "metadata": {},
     "output_type": "execute_result"
    }
   ],
   "source": [
    "df.describe()"
   ]
  },
  {
   "cell_type": "code",
   "execution_count": 5,
   "metadata": {},
   "outputs": [
    {
     "data": {
      "text/plain": [
       "['Não', 'Sim', 'SIm']"
      ]
     },
     "execution_count": 5,
     "metadata": {},
     "output_type": "execute_result"
    }
   ],
   "source": [
    "list(df['Jogar Golf?'].unique())"
   ]
  },
  {
   "cell_type": "markdown",
   "metadata": {},
   "source": [
    "### Calculando a entropia inicial"
   ]
  },
  {
   "cell_type": "code",
   "execution_count": 8,
   "metadata": {},
   "outputs": [],
   "source": [
    "from collections import Counter\n",
    "from math import log\n",
    "from scipy.stats import entropy\n",
    "\n",
    "def entropia(df, classe):\n",
    "    \n",
    "    if len(df) == 0:\n",
    "        return 1.0\n",
    "\n",
    "    classes = list(df[classe].unique())\n",
    "    \n",
    "    # se há apenas uma classe, a entropia é zero\n",
    "    if len(classes) == 1:\n",
    "        return 0\n",
    "    else:\n",
    "        prob = []\n",
    "        contagem = Counter(df[classe])\n",
    "        entropia = 0\n",
    "        for classe, contagem_classe in contagem.items():\n",
    "            prob.append(contagem_classe / len(df))\n",
    "            #print(classe, prob)\n",
    "            #entropia += prob * (log(prob, 2))\n",
    "        return entropy(prob, base=2)"
   ]
  },
  {
   "cell_type": "code",
   "execution_count": 11,
   "metadata": {},
   "outputs": [
    {
     "name": "stdout",
     "output_type": "stream",
     "text": [
      "Entropia 3.521640636343319\n"
     ]
    }
   ],
   "source": [
    "E_inicial = entropia(df,'Temperatura')\n",
    "print(\"Entropia\", E_inicial)"
   ]
  },
  {
   "cell_type": "markdown",
   "metadata": {},
   "source": [
    "### Calculando ganho de informação para cada atributo"
   ]
  },
  {
   "cell_type": "code",
   "execution_count": 13,
   "metadata": {},
   "outputs": [],
   "source": [
    "def ganho_informacao(df, classe):\n",
    "    \n",
    "    E_inicial = entropia(df, classe)\n",
    "    \n",
    "    atributos = list(df.columns)\n",
    "    atributos.remove(classe)\n",
    "    \n",
    "    melhor_atributo = \"\"\n",
    "    melhor_G = 0\n",
    "    \n",
    "    for atributo in atributos:\n",
    "    \n",
    "        media = df[atributo].mean()\n",
    "\n",
    "        c1 = df[df[atributo] >= media].copy()\n",
    "        c2 = df[df[atributo] < media].copy()\n",
    "\n",
    "        E_c1 = entropia(c1, classe)\n",
    "        E_c2 = entropia(c2, classe)\n",
    "\n",
    "        print(\"Entropia C1\", E_c1)\n",
    "        print(\"Entropia C2\", E_c2)\n",
    "\n",
    "        E_c1 = E_c1 * (len(c1)/len(df))\n",
    "        E_c2 = E_c2 * (len(c2)/len(df))\n",
    "\n",
    "        print(\"Entropia C1 (normalizada)\", E_c1)\n",
    "        print(\"Entropia C2 (normalizada)\", E_c2)    \n",
    "\n",
    "        G = E_inicial - (E_c1 + E_c2)\n",
    "        \n",
    "        print(\"\\tGanho\", atributo, G)\n",
    "        \n",
    "        if G > melhor_G:\n",
    "            melhor_G = G\n",
    "            melhor_atributo = atributo\n",
    "            \n",
    "    return melhor_atributo"
   ]
  },
  {
   "cell_type": "code",
   "execution_count": 14,
   "metadata": {},
   "outputs": [
    {
     "name": "stdout",
     "output_type": "stream",
     "text": [
      "Entropia C1 0.8112781244591328\n",
      "Entropia C2 0.8812908992306927\n",
      "Entropia C1 (normalizada) 0.23179374984546652\n",
      "Entropia C2 (normalizada) 0.6294934994504948\n",
      "\tGanho Precipitacao 0.0018333192706697643\n",
      "Entropia C1 0.9852281360342515\n",
      "Entropia C2 0.5916727785823274\n",
      "Entropia C1 (normalizada) 0.49261406801712576\n",
      "Entropia C2 (normalizada) 0.2958363892911637\n",
      "\tGanho Temperatura 0.07467011125834166\n"
     ]
    },
    {
     "data": {
      "text/plain": [
       "'Temperatura'"
      ]
     },
     "execution_count": 14,
     "metadata": {},
     "output_type": "execute_result"
    }
   ],
   "source": [
    "ganho_informacao(df, 'Jogar Golf?')\n",
    "\n",
    "\n",
    "            Temperatura >= media\n",
    "       Sim                     Não\n",
    " CLASSE = SIM          CLASSE = SIM\n"
   ]
  },
  {
   "cell_type": "markdown",
   "metadata": {},
   "source": [
    "### Juntando as partes do algoritmo ID3 e adaptando a função de informação de ganho para construir os filhos"
   ]
  },
  {
   "cell_type": "code",
   "execution_count": 17,
   "metadata": {},
   "outputs": [],
   "source": [
    "\"\"\" como queremos a estrutura da nossa árvore:\n",
    "inicial\n",
    "    atributo operacao (entropia)\n",
    "        classe\n",
    "    atributo operacao (entropia)\n",
    "        atributo operacao (entropia)\n",
    "            classe\n",
    "        atributo operacao (entropia)\n",
    "            classe\n",
    "            \n",
    "cada nó tem as propriedades:\n",
    "    df e entropia\n",
    "    + atributo (se for nó de decisao)\n",
    "    + classe (se for nó de classificacao)\n",
    "todos tem a propriedade 'filhos' que apontam onde estão os filhos\n",
    "\"\"\"\n",
    "\n",
    "def ganho_informacao(df, classe):\n",
    "    \n",
    "    E_inicial = entropia(df, classe)\n",
    "    \n",
    "    atributos = list(df.columns)\n",
    "    atributos.remove(classe)\n",
    "    \n",
    "    melhor_atributo = \"\"\n",
    "    melhor_G = -1\n",
    "    \n",
    "        \n",
    "    for atributo in atributos:\n",
    "    \n",
    "        media = df[atributo].mean()\n",
    "\n",
    "        c1 = df[df[atributo] >= media].copy()\n",
    "        c2 = df[df[atributo] < media].copy()\n",
    "\n",
    "        E_c1 = entropia(c1, classe)\n",
    "        E_c2 = entropia(c2, classe)\n",
    "\n",
    "        E_c1_norm = E_c1 * (len(c1)/len(df))\n",
    "        E_c2_norm = E_c2 * (len(c2)/len(df))\n",
    "\n",
    "        G = E_inicial - (E_c1_norm + E_c2_norm)\n",
    "        \n",
    "        if G > melhor_G:\n",
    "            \n",
    "            melhor_G = G\n",
    "            \n",
    "            aux_atributos = atributos.copy()\n",
    "            aux_atributos.remove(atributo)\n",
    "            aux_atributos.append(classe)\n",
    "            \n",
    "            classes_c1 = Counter(c1[classe])\n",
    "            classes_c2 = Counter(c2[classe])\n",
    "                        \n",
    "            filho_esq = {'df':c1[aux_atributos], \n",
    "                         'atributo':atributo,\n",
    "                         'operacao':'>= '+str(media),\n",
    "                         'entropia':E_c1}\n",
    "            filho_dir = {'df':c2[aux_atributos],\n",
    "                         'atributo':atributo,\n",
    "                         'operacao':'< '+str(media),\n",
    "                         'entropia':E_c2}\n",
    "            \n",
    "            \n",
    "            if len(classes_c1) == 0:\n",
    "                filho_esq['classe'] = list(df[classe])[0]  \n",
    "            elif len(classes_c1) == 1:\n",
    "                filho_esq['classe'] = list(classes_c1.keys())[0]\n",
    "                \n",
    "            if len(classes_c2) == 0:\n",
    "                filho_dir['classe'] = list(df[classe])[0]  \n",
    "            elif len(classes_c2) == 1:\n",
    "                filho_dir['classe'] = list(classes_c2.keys())[0]\n",
    "                \n",
    "            if len(aux_atributos) == 1:\n",
    "                if 'classe' not in filho_esq.keys():\n",
    "                    filho_esq['classe'] = classes_c1.most_common(1)[0][0]\n",
    "                    \n",
    "                if 'classe' not in filho_dir.keys():\n",
    "                    filho_dir['classe'] = classes_c2.most_common(1)[0][0]\n",
    "                \n",
    "            \n",
    "    return filho_esq, filho_dir\n",
    "\n",
    "\n",
    "def poda(arvore, no=0):\n",
    "        \n",
    "    no = arvore[no]\n",
    "    \n",
    "    if 'filhos' in no.keys():\n",
    "        poda(arvore, no['filhos'][0])\n",
    "        poda(arvore, no['filhos'][1])\n",
    "        \n",
    "        filho_esq = arvore[no['filhos'][0]]\n",
    "        filho_dir = arvore[no['filhos'][1]]\n",
    "        \n",
    "        classes = []\n",
    "        \n",
    "        if 'classe' in filho_esq and 'classe' in filho_dir:\n",
    "\n",
    "            if filho_esq['classe'] not in classes:\n",
    "                classes.append(filho_esq['classe'])\n",
    "\n",
    "            if filho_dir['classe'] not in classes:\n",
    "                classes.append(filho_dir['classe'])\n",
    "\n",
    "            if len(classes) == 1:\n",
    "                no['classe'] = classes[0]\n",
    "        \n",
    "    return arvore\n",
    "\n",
    "\n",
    "def ID3(df, classe):\n",
    "    \n",
    "    arvore = [{'df':df, 'entropia':entropia(df, classe), 'filhos':None}]\n",
    "\n",
    "    nao_visitados = [0]\n",
    "    \n",
    "    while len(nao_visitados) > 0:\n",
    "\n",
    "        no = nao_visitados[0]\n",
    "        aux = arvore[no]\n",
    "\n",
    "        if 'classe' not in aux.keys():\n",
    "                        \n",
    "            filho_esq, filho_dir = ganho_informacao(aux['df'], classe)\n",
    "            \n",
    "            # verifica se ambos os filhos apontam a mesma classe para ajustar o pai\n",
    "            if 'classe' in filho_esq and 'classe' in filho_dir and filho_esq['classe'] == filho_dir['classe']:\n",
    "                arvore[no]['classe'] = filho_esq['classe']\n",
    "            else:\n",
    "                arvore.append(filho_esq)\n",
    "                arvore.append(filho_dir)\n",
    "\n",
    "                arvore[no]['filhos'] = [len(arvore)-2, len(arvore)-1]\n",
    "                nao_visitados.append(len(arvore)-2)\n",
    "                nao_visitados.append(len(arvore)-1)\n",
    "                        \n",
    "        nao_visitados.remove(no)\n",
    "\n",
    "    # poda da árvore\n",
    "    arvore = poda(arvore)\n",
    "        \n",
    "    return arvore"
   ]
  },
  {
   "cell_type": "code",
   "execution_count": 19,
   "metadata": {},
   "outputs": [
    {
     "data": {
      "text/plain": [
       "[{'df':     Precipitacao  Temperatura Jogar Golf?\n",
       "  0             88           35         Não\n",
       "  1             85           34         Sim\n",
       "  2             60           33         Sim\n",
       "  3              0           24         Sim\n",
       "  4              0           15         Sim\n",
       "  5              5           16         Não\n",
       "  6             50           12         Sim\n",
       "  7             20           25         Não\n",
       "  8             20           10         Sim\n",
       "  9             18           21         Sim\n",
       "  10            20           21         Sim\n",
       "  11            15           36         Sim\n",
       "  12            15           30         Sim\n",
       "  13            15           30         Não,\n",
       "  'entropia': 0.8631205685666311,\n",
       "  'filhos': [1, 2]},\n",
       " {'df':     Precipitacao Jogar Golf?\n",
       "  0             88         Não\n",
       "  1             85         Sim\n",
       "  2             60         Sim\n",
       "  7             20         Não\n",
       "  11            15         Sim\n",
       "  12            15         Sim\n",
       "  13            15         Não,\n",
       "  'atributo': 'Temperatura',\n",
       "  'operacao': '>= 24.428571428571427',\n",
       "  'entropia': 0.9852281360342515,\n",
       "  'filhos': [3, 4]},\n",
       " {'df':     Precipitacao Jogar Golf?\n",
       "  3              0         Sim\n",
       "  4              0         Sim\n",
       "  5              5         Não\n",
       "  6             50         Sim\n",
       "  8             20         Sim\n",
       "  9             18         Sim\n",
       "  10            20         Sim,\n",
       "  'atributo': 'Temperatura',\n",
       "  'operacao': '< 24.428571428571427',\n",
       "  'entropia': 0.5916727785823274,\n",
       "  'classe': 'Sim'},\n",
       " {'df':   Jogar Golf?\n",
       "  0         Não\n",
       "  1         Sim\n",
       "  2         Sim,\n",
       "  'atributo': 'Precipitacao',\n",
       "  'operacao': '>= 42.57142857142857',\n",
       "  'entropia': 0.9182958340544894,\n",
       "  'classe': 'Sim'},\n",
       " {'df':    Jogar Golf?\n",
       "  7          Não\n",
       "  11         Sim\n",
       "  12         Sim\n",
       "  13         Não,\n",
       "  'atributo': 'Precipitacao',\n",
       "  'operacao': '< 42.57142857142857',\n",
       "  'entropia': 1.0,\n",
       "  'classe': 'Não'}]"
      ]
     },
     "execution_count": 19,
     "metadata": {},
     "output_type": "execute_result"
    }
   ],
   "source": [
    "arvore = ID3(df, classe='Jogar Golf?')\n",
    "arvore"
   ]
  },
  {
   "cell_type": "markdown",
   "metadata": {},
   "source": [
    "### Exibindo a árvore"
   ]
  },
  {
   "cell_type": "code",
   "execution_count": 20,
   "metadata": {},
   "outputs": [],
   "source": [
    "def exibe_arvore(arvore, no, nivel=0):\n",
    "    \n",
    "    no = arvore[no]\n",
    "    \n",
    "    if 'classe' not in no.keys() and 'atributo' not in no.keys():\n",
    "        print('Inicial', \"(E:\", no['entropia'], \")\")\n",
    "    elif 'classe' not in no.keys():\n",
    "        print('\\t'*nivel, no['atributo'], no['operacao'], \"(E:\", no['entropia'], \")\")\n",
    "    else:\n",
    "        print('\\t'*nivel, no['atributo'], no['operacao'], \"(E:\", no['entropia'], \")\", no['classe'])\n",
    "\n",
    "    if 'classe' not in no.keys():\n",
    "        exibe_arvore(arvore, no['filhos'][0], nivel + 1)\n",
    "        exibe_arvore(arvore, no['filhos'][1], nivel + 1)"
   ]
  },
  {
   "cell_type": "code",
   "execution_count": 21,
   "metadata": {},
   "outputs": [
    {
     "name": "stdout",
     "output_type": "stream",
     "text": [
      "Inicial (E: 0.8631205685666311 )\n",
      "\t Temperatura >= 24.428571428571427 (E: 0.9852281360342515 )\n",
      "\t\t Precipitacao >= 42.57142857142857 (E: 0.9182958340544894 ) Sim\n",
      "\t\t Precipitacao < 42.57142857142857 (E: 1.0 ) Não\n",
      "\t Temperatura < 24.428571428571427 (E: 0.5916727785823274 ) Sim\n"
     ]
    }
   ],
   "source": [
    "exibe_arvore(arvore, 0)"
   ]
  },
  {
   "cell_type": "markdown",
   "metadata": {},
   "source": [
    "### Utiliza a árvore para classificação"
   ]
  },
  {
   "cell_type": "code",
   "execution_count": 23,
   "metadata": {},
   "outputs": [],
   "source": [
    "def classifica(arvore, amostra):\n",
    "    \n",
    "    no = arvore[0]\n",
    "    \n",
    "    while 'classe' not in no.keys():\n",
    "                \n",
    "        filho_esq = arvore[no['filhos'][0]]\n",
    "        filho_dir = arvore[no['filhos'][1]]\n",
    "        \n",
    "        atributo = None\n",
    "        operacao = None\n",
    "        if 'atributo' in filho_esq.keys():\n",
    "            atributo = filho_esq['atributo']\n",
    "            operacao = filho_esq['operacao']\n",
    "        else:\n",
    "            atributo = filho_dir['operacao']\n",
    "            \n",
    "        operacao = float(operacao.replace('<','').replace('>=',''))\n",
    "        \n",
    "        if amostra[atributo] >= operacao:\n",
    "            no = filho_esq\n",
    "        else:\n",
    "            no = filho_dir\n",
    "            \n",
    "    print(no['classe'])"
   ]
  },
  {
   "cell_type": "code",
   "execution_count": 24,
   "metadata": {},
   "outputs": [
    {
     "name": "stdout",
     "output_type": "stream",
     "text": [
      "Não\n"
     ]
    }
   ],
   "source": [
    "classifica(arvore, {'Temperatura':33, 'Precipitacao':20})"
   ]
  },
  {
   "cell_type": "markdown",
   "metadata": {},
   "source": [
    "### Exercício 1\n",
    "\n",
    "Utilize o conjunto de dados **golf.csv** e verifique a classe para a amostra a seguir."
   ]
  },
  {
   "cell_type": "code",
   "execution_count": null,
   "metadata": {},
   "outputs": [],
   "source": [
    "amostra = {'Clima': 'Chuvoso', 'Temperatura': 'Frio', 'Umidade': 'Alta', 'Vento': 'VERDADEIRO'}"
   ]
  },
  {
   "cell_type": "code",
   "execution_count": null,
   "metadata": {},
   "outputs": [],
   "source": []
  }
 ],
 "metadata": {
  "kernelspec": {
   "display_name": "Python 3",
   "language": "python",
   "name": "python3"
  },
  "language_info": {
   "codemirror_mode": {
    "name": "ipython",
    "version": 3
   },
   "file_extension": ".py",
   "mimetype": "text/x-python",
   "name": "python",
   "nbconvert_exporter": "python",
   "pygments_lexer": "ipython3",
   "version": "3.7.6"
  }
 },
 "nbformat": 4,
 "nbformat_minor": 2
}
