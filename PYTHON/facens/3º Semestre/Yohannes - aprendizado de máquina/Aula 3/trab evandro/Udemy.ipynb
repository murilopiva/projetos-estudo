{
 "cells": [
  {
   "cell_type": "markdown",
   "metadata": {},
   "source": [
    "Importar bibliotecas"
   ]
  },
  {
   "cell_type": "code",
   "execution_count": 1,
   "metadata": {},
   "outputs": [],
   "source": [
    "import pandas as pd\n",
    "import numpy as np\n",
    "import nltk\n",
    "import re\n",
    "import matplotlib.pyplot as plt\n",
    "import seaborn as sns\n",
    "from tqdm import tqdm\n",
    "from sklearn.feature_extraction.text import TfidfVectorizer\n",
    "from sklearn.model_selection import train_test_split\n",
    "from nltk.corpus import stopwords\n",
    "from sklearn.preprocessing import MultiLabelBinarizer\n",
    "from sklearn.preprocessing import OneHotEncoder\n",
    "from sklearn.linear_model import LogisticRegression\n",
    "\n",
    "# Binary Relevance\n",
    "from sklearn.multiclass import OneVsRestClassifier\n",
    "\n",
    "# Performance metric\n",
    "from sklearn.metrics import f1_score"
   ]
  },
  {
   "cell_type": "markdown",
   "metadata": {},
   "source": [
    "Importar Dados"
   ]
  },
  {
   "cell_type": "code",
   "execution_count": 2,
   "metadata": {},
   "outputs": [],
   "source": [
    "dfUdemy = pd.read_csv('udemy_courses.csv')"
   ]
  },
  {
   "cell_type": "code",
   "execution_count": 3,
   "metadata": {},
   "outputs": [
    {
     "data": {
      "text/html": [
       "<div>\n",
       "<style scoped>\n",
       "    .dataframe tbody tr th:only-of-type {\n",
       "        vertical-align: middle;\n",
       "    }\n",
       "\n",
       "    .dataframe tbody tr th {\n",
       "        vertical-align: top;\n",
       "    }\n",
       "\n",
       "    .dataframe thead th {\n",
       "        text-align: right;\n",
       "    }\n",
       "</style>\n",
       "<table border=\"1\" class=\"dataframe\">\n",
       "  <thead>\n",
       "    <tr style=\"text-align: right;\">\n",
       "      <th></th>\n",
       "      <th>course_id</th>\n",
       "      <th>course_title</th>\n",
       "      <th>url</th>\n",
       "      <th>is_paid</th>\n",
       "      <th>price</th>\n",
       "      <th>num_subscribers</th>\n",
       "      <th>num_reviews</th>\n",
       "      <th>num_lectures</th>\n",
       "      <th>level</th>\n",
       "      <th>content_duration</th>\n",
       "      <th>published_timestamp</th>\n",
       "      <th>subject</th>\n",
       "    </tr>\n",
       "  </thead>\n",
       "  <tbody>\n",
       "    <tr>\n",
       "      <th>0</th>\n",
       "      <td>1070968</td>\n",
       "      <td>Ultimate Investment Banking Course</td>\n",
       "      <td>https://www.udemy.com/ultimate-investment-bank...</td>\n",
       "      <td>True</td>\n",
       "      <td>200</td>\n",
       "      <td>2147</td>\n",
       "      <td>23</td>\n",
       "      <td>51</td>\n",
       "      <td>All Levels</td>\n",
       "      <td>1.5 hours</td>\n",
       "      <td>2017-01-18T20:58:58Z</td>\n",
       "      <td>Business Finance</td>\n",
       "    </tr>\n",
       "    <tr>\n",
       "      <th>1</th>\n",
       "      <td>1113822</td>\n",
       "      <td>Complete GST Course &amp; Certification - Grow You...</td>\n",
       "      <td>https://www.udemy.com/goods-and-services-tax/</td>\n",
       "      <td>True</td>\n",
       "      <td>75</td>\n",
       "      <td>2792</td>\n",
       "      <td>923</td>\n",
       "      <td>274</td>\n",
       "      <td>All Levels</td>\n",
       "      <td>39 hours</td>\n",
       "      <td>2017-03-09T16:34:20Z</td>\n",
       "      <td>Business Finance</td>\n",
       "    </tr>\n",
       "    <tr>\n",
       "      <th>2</th>\n",
       "      <td>1006314</td>\n",
       "      <td>Financial Modeling for Business Analysts and C...</td>\n",
       "      <td>https://www.udemy.com/financial-modeling-for-b...</td>\n",
       "      <td>True</td>\n",
       "      <td>45</td>\n",
       "      <td>2174</td>\n",
       "      <td>74</td>\n",
       "      <td>51</td>\n",
       "      <td>Intermediate Level</td>\n",
       "      <td>2.5 hours</td>\n",
       "      <td>2016-12-19T19:26:30Z</td>\n",
       "      <td>Business Finance</td>\n",
       "    </tr>\n",
       "    <tr>\n",
       "      <th>3</th>\n",
       "      <td>1210588</td>\n",
       "      <td>Beginner to Pro - Financial Analysis in Excel ...</td>\n",
       "      <td>https://www.udemy.com/complete-excel-finance-c...</td>\n",
       "      <td>True</td>\n",
       "      <td>95</td>\n",
       "      <td>2451</td>\n",
       "      <td>11</td>\n",
       "      <td>36</td>\n",
       "      <td>All Levels</td>\n",
       "      <td>3 hours</td>\n",
       "      <td>2017-05-30T20:07:24Z</td>\n",
       "      <td>Business Finance</td>\n",
       "    </tr>\n",
       "    <tr>\n",
       "      <th>4</th>\n",
       "      <td>1011058</td>\n",
       "      <td>How To Maximize Your Profits Trading Options</td>\n",
       "      <td>https://www.udemy.com/how-to-maximize-your-pro...</td>\n",
       "      <td>True</td>\n",
       "      <td>200</td>\n",
       "      <td>1276</td>\n",
       "      <td>45</td>\n",
       "      <td>26</td>\n",
       "      <td>Intermediate Level</td>\n",
       "      <td>2 hours</td>\n",
       "      <td>2016-12-13T14:57:18Z</td>\n",
       "      <td>Business Finance</td>\n",
       "    </tr>\n",
       "  </tbody>\n",
       "</table>\n",
       "</div>"
      ],
      "text/plain": [
       "   course_id                                       course_title  \\\n",
       "0    1070968                 Ultimate Investment Banking Course   \n",
       "1    1113822  Complete GST Course & Certification - Grow You...   \n",
       "2    1006314  Financial Modeling for Business Analysts and C...   \n",
       "3    1210588  Beginner to Pro - Financial Analysis in Excel ...   \n",
       "4    1011058       How To Maximize Your Profits Trading Options   \n",
       "\n",
       "                                                 url is_paid price  \\\n",
       "0  https://www.udemy.com/ultimate-investment-bank...    True   200   \n",
       "1      https://www.udemy.com/goods-and-services-tax/    True    75   \n",
       "2  https://www.udemy.com/financial-modeling-for-b...    True    45   \n",
       "3  https://www.udemy.com/complete-excel-finance-c...    True    95   \n",
       "4  https://www.udemy.com/how-to-maximize-your-pro...    True   200   \n",
       "\n",
       "   num_subscribers  num_reviews  num_lectures               level  \\\n",
       "0             2147           23            51          All Levels   \n",
       "1             2792          923           274          All Levels   \n",
       "2             2174           74            51  Intermediate Level   \n",
       "3             2451           11            36          All Levels   \n",
       "4             1276           45            26  Intermediate Level   \n",
       "\n",
       "  content_duration   published_timestamp           subject  \n",
       "0        1.5 hours  2017-01-18T20:58:58Z  Business Finance  \n",
       "1         39 hours  2017-03-09T16:34:20Z  Business Finance  \n",
       "2        2.5 hours  2016-12-19T19:26:30Z  Business Finance  \n",
       "3          3 hours  2017-05-30T20:07:24Z  Business Finance  \n",
       "4          2 hours  2016-12-13T14:57:18Z  Business Finance  "
      ]
     },
     "execution_count": 3,
     "metadata": {},
     "output_type": "execute_result"
    }
   ],
   "source": [
    "dfUdemy.head()"
   ]
  },
  {
   "cell_type": "markdown",
   "metadata": {},
   "source": [
    "Limpar coluna URL"
   ]
  },
  {
   "cell_type": "code",
   "execution_count": 4,
   "metadata": {},
   "outputs": [],
   "source": [
    "dfUdemy['clean_url'] = dfUdemy['url'].str.replace('https://www.udemy.com/','')\n",
    "dfUdemy['clean_url'] = dfUdemy['clean_url'].str.replace('/','')\n",
    "dfUdemy['clean_url'] = dfUdemy['clean_url'].str.replace('-',' ')"
   ]
  },
  {
   "cell_type": "markdown",
   "metadata": {},
   "source": [
    "Criar coluna juntando as colunas 'Course Title' e 'Clean Url'"
   ]
  },
  {
   "cell_type": "code",
   "execution_count": 5,
   "metadata": {},
   "outputs": [],
   "source": [
    "dfUdemy['course_url'] = dfUdemy['course_title'] + ' ' + dfUdemy['clean_url']"
   ]
  },
  {
   "cell_type": "markdown",
   "metadata": {},
   "source": [
    "Criar novo DataFrame apenas com as colunas necessárias para analise"
   ]
  },
  {
   "cell_type": "code",
   "execution_count": 6,
   "metadata": {},
   "outputs": [],
   "source": [
    "dfCursos = dfUdemy[['course_title', 'url', 'course_url', 'subject']]"
   ]
  },
  {
   "cell_type": "code",
   "execution_count": 7,
   "metadata": {},
   "outputs": [
    {
     "data": {
      "text/html": [
       "<div>\n",
       "<style scoped>\n",
       "    .dataframe tbody tr th:only-of-type {\n",
       "        vertical-align: middle;\n",
       "    }\n",
       "\n",
       "    .dataframe tbody tr th {\n",
       "        vertical-align: top;\n",
       "    }\n",
       "\n",
       "    .dataframe thead th {\n",
       "        text-align: right;\n",
       "    }\n",
       "</style>\n",
       "<table border=\"1\" class=\"dataframe\">\n",
       "  <thead>\n",
       "    <tr style=\"text-align: right;\">\n",
       "      <th></th>\n",
       "      <th>course_title</th>\n",
       "      <th>url</th>\n",
       "      <th>course_url</th>\n",
       "      <th>subject</th>\n",
       "    </tr>\n",
       "  </thead>\n",
       "  <tbody>\n",
       "    <tr>\n",
       "      <th>count</th>\n",
       "      <td>3683</td>\n",
       "      <td>3683</td>\n",
       "      <td>3683</td>\n",
       "      <td>3683</td>\n",
       "    </tr>\n",
       "    <tr>\n",
       "      <th>unique</th>\n",
       "      <td>3668</td>\n",
       "      <td>3677</td>\n",
       "      <td>3677</td>\n",
       "      <td>4</td>\n",
       "    </tr>\n",
       "    <tr>\n",
       "      <th>top</th>\n",
       "      <td>Acoustic Blues Guitar Lessons</td>\n",
       "      <td>https://www.udemy.com/essentials-of-money-value/</td>\n",
       "      <td>Essentials of money value: Get a financial Lif...</td>\n",
       "      <td>Web Development</td>\n",
       "    </tr>\n",
       "    <tr>\n",
       "      <th>freq</th>\n",
       "      <td>3</td>\n",
       "      <td>2</td>\n",
       "      <td>2</td>\n",
       "      <td>1200</td>\n",
       "    </tr>\n",
       "  </tbody>\n",
       "</table>\n",
       "</div>"
      ],
      "text/plain": [
       "                         course_title  \\\n",
       "count                            3683   \n",
       "unique                           3668   \n",
       "top     Acoustic Blues Guitar Lessons   \n",
       "freq                                3   \n",
       "\n",
       "                                                     url  \\\n",
       "count                                               3683   \n",
       "unique                                              3677   \n",
       "top     https://www.udemy.com/essentials-of-money-value/   \n",
       "freq                                                   2   \n",
       "\n",
       "                                               course_url          subject  \n",
       "count                                                3683             3683  \n",
       "unique                                               3677                4  \n",
       "top     Essentials of money value: Get a financial Lif...  Web Development  \n",
       "freq                                                    2             1200  "
      ]
     },
     "execution_count": 7,
     "metadata": {},
     "output_type": "execute_result"
    }
   ],
   "source": [
    "dfCursos.describe()"
   ]
  },
  {
   "cell_type": "markdown",
   "metadata": {},
   "source": [
    "Função para limpar campos"
   ]
  },
  {
   "cell_type": "code",
   "execution_count": 8,
   "metadata": {},
   "outputs": [],
   "source": [
    "def clean_text(text):\n",
    "    # remove barra invertida-apóstrofo\n",
    "    text = re.sub(\"\\'\", \"\", text)\n",
    "    # remove tudo, exceto alfabetos\n",
    "    text = re.sub(\"[^a-zA-Z]\",\" \",text)\n",
    "    # remove os espaços em branco\n",
    "    text = ' '.join(text.split())\n",
    "    # converter texto em minúsculas\n",
    "    text = text.lower()\n",
    "    \n",
    "    return text"
   ]
  },
  {
   "cell_type": "markdown",
   "metadata": {},
   "source": [
    "Aplica a função de limpar o campo na coluna 'Course Url'"
   ]
  },
  {
   "cell_type": "code",
   "execution_count": 9,
   "metadata": {},
   "outputs": [
    {
     "name": "stderr",
     "output_type": "stream",
     "text": [
      "<ipython-input-9-16e82389d1f7>:1: SettingWithCopyWarning: \n",
      "A value is trying to be set on a copy of a slice from a DataFrame.\n",
      "Try using .loc[row_indexer,col_indexer] = value instead\n",
      "\n",
      "See the caveats in the documentation: https://pandas.pydata.org/pandas-docs/stable/user_guide/indexing.html#returning-a-view-versus-a-copy\n",
      "  dfCursos['clean_course'] = dfCursos['course_url'].apply(lambda x: clean_text(x))\n"
     ]
    }
   ],
   "source": [
    "dfCursos['clean_course'] = dfCursos['course_url'].apply(lambda x: clean_text(x))"
   ]
  },
  {
   "cell_type": "code",
   "execution_count": 10,
   "metadata": {
    "scrolled": false
   },
   "outputs": [
    {
     "data": {
      "text/html": [
       "<div>\n",
       "<style scoped>\n",
       "    .dataframe tbody tr th:only-of-type {\n",
       "        vertical-align: middle;\n",
       "    }\n",
       "\n",
       "    .dataframe tbody tr th {\n",
       "        vertical-align: top;\n",
       "    }\n",
       "\n",
       "    .dataframe thead th {\n",
       "        text-align: right;\n",
       "    }\n",
       "</style>\n",
       "<table border=\"1\" class=\"dataframe\">\n",
       "  <thead>\n",
       "    <tr style=\"text-align: right;\">\n",
       "      <th></th>\n",
       "      <th>course_title</th>\n",
       "      <th>url</th>\n",
       "      <th>course_url</th>\n",
       "      <th>subject</th>\n",
       "      <th>clean_course</th>\n",
       "    </tr>\n",
       "  </thead>\n",
       "  <tbody>\n",
       "    <tr>\n",
       "      <th>0</th>\n",
       "      <td>Ultimate Investment Banking Course</td>\n",
       "      <td>https://www.udemy.com/ultimate-investment-bank...</td>\n",
       "      <td>Ultimate Investment Banking Course ultimate in...</td>\n",
       "      <td>Business Finance</td>\n",
       "      <td>ultimate investment banking course ultimate in...</td>\n",
       "    </tr>\n",
       "    <tr>\n",
       "      <th>1</th>\n",
       "      <td>Complete GST Course &amp; Certification - Grow You...</td>\n",
       "      <td>https://www.udemy.com/goods-and-services-tax/</td>\n",
       "      <td>Complete GST Course &amp; Certification - Grow You...</td>\n",
       "      <td>Business Finance</td>\n",
       "      <td>complete gst course certification grow your ca...</td>\n",
       "    </tr>\n",
       "    <tr>\n",
       "      <th>2</th>\n",
       "      <td>Financial Modeling for Business Analysts and C...</td>\n",
       "      <td>https://www.udemy.com/financial-modeling-for-b...</td>\n",
       "      <td>Financial Modeling for Business Analysts and C...</td>\n",
       "      <td>Business Finance</td>\n",
       "      <td>financial modeling for business analysts and c...</td>\n",
       "    </tr>\n",
       "    <tr>\n",
       "      <th>3</th>\n",
       "      <td>Beginner to Pro - Financial Analysis in Excel ...</td>\n",
       "      <td>https://www.udemy.com/complete-excel-finance-c...</td>\n",
       "      <td>Beginner to Pro - Financial Analysis in Excel ...</td>\n",
       "      <td>Business Finance</td>\n",
       "      <td>beginner to pro financial analysis in excel co...</td>\n",
       "    </tr>\n",
       "    <tr>\n",
       "      <th>4</th>\n",
       "      <td>How To Maximize Your Profits Trading Options</td>\n",
       "      <td>https://www.udemy.com/how-to-maximize-your-pro...</td>\n",
       "      <td>How To Maximize Your Profits Trading Options h...</td>\n",
       "      <td>Business Finance</td>\n",
       "      <td>how to maximize your profits trading options h...</td>\n",
       "    </tr>\n",
       "  </tbody>\n",
       "</table>\n",
       "</div>"
      ],
      "text/plain": [
       "                                        course_title  \\\n",
       "0                 Ultimate Investment Banking Course   \n",
       "1  Complete GST Course & Certification - Grow You...   \n",
       "2  Financial Modeling for Business Analysts and C...   \n",
       "3  Beginner to Pro - Financial Analysis in Excel ...   \n",
       "4       How To Maximize Your Profits Trading Options   \n",
       "\n",
       "                                                 url  \\\n",
       "0  https://www.udemy.com/ultimate-investment-bank...   \n",
       "1      https://www.udemy.com/goods-and-services-tax/   \n",
       "2  https://www.udemy.com/financial-modeling-for-b...   \n",
       "3  https://www.udemy.com/complete-excel-finance-c...   \n",
       "4  https://www.udemy.com/how-to-maximize-your-pro...   \n",
       "\n",
       "                                          course_url           subject  \\\n",
       "0  Ultimate Investment Banking Course ultimate in...  Business Finance   \n",
       "1  Complete GST Course & Certification - Grow You...  Business Finance   \n",
       "2  Financial Modeling for Business Analysts and C...  Business Finance   \n",
       "3  Beginner to Pro - Financial Analysis in Excel ...  Business Finance   \n",
       "4  How To Maximize Your Profits Trading Options h...  Business Finance   \n",
       "\n",
       "                                        clean_course  \n",
       "0  ultimate investment banking course ultimate in...  \n",
       "1  complete gst course certification grow your ca...  \n",
       "2  financial modeling for business analysts and c...  \n",
       "3  beginner to pro financial analysis in excel co...  \n",
       "4  how to maximize your profits trading options h...  "
      ]
     },
     "execution_count": 10,
     "metadata": {},
     "output_type": "execute_result"
    }
   ],
   "source": [
    "dfCursos.head()"
   ]
  },
  {
   "cell_type": "markdown",
   "metadata": {},
   "source": [
    "Visualizar os valores únicos da coluna 'Subject'"
   ]
  },
  {
   "cell_type": "code",
   "execution_count": 11,
   "metadata": {},
   "outputs": [
    {
     "data": {
      "text/plain": [
       "array(['Business Finance', 'Graphic Design', 'Musical Instruments',\n",
       "       'Web Development'], dtype=object)"
      ]
     },
     "execution_count": 11,
     "metadata": {},
     "output_type": "execute_result"
    }
   ],
   "source": [
    "dfCursos['subject'].unique()"
   ]
  },
  {
   "cell_type": "markdown",
   "metadata": {},
   "source": [
    "Contar a frequencia da coluna 'Subject'"
   ]
  },
  {
   "cell_type": "code",
   "execution_count": 12,
   "metadata": {},
   "outputs": [
    {
     "data": {
      "text/plain": [
       "Web Development        1200\n",
       "Business Finance       1199\n",
       "Musical Instruments     681\n",
       "Graphic Design          603\n",
       "Name: subject, dtype: int64"
      ]
     },
     "execution_count": 12,
     "metadata": {},
     "output_type": "execute_result"
    }
   ],
   "source": [
    "dfCursos['subject'].value_counts()"
   ]
  },
  {
   "cell_type": "markdown",
   "metadata": {},
   "source": [
    "Função para contar a frequencia de cada palavra em determinada coluna"
   ]
  },
  {
   "cell_type": "code",
   "execution_count": 13,
   "metadata": {},
   "outputs": [],
   "source": [
    "def freq_words(x, s, terms = 30):\n",
    "    if s == False:\n",
    "        all_words = [text for text in x]\n",
    "    else:\n",
    "        all_words = ' '.join([text for text in x])\n",
    "        all_words = all_words.split()\n",
    "  \n",
    "    fdist = nltk.FreqDist(all_words)\n",
    "    words_df = pd.DataFrame({'word':list(fdist.keys()), 'count':list(fdist.values())})\n",
    "\n",
    "    # selecting top 20 most frequent words\n",
    "    d = words_df.nlargest(columns=\"count\", n = terms) \n",
    "    plt.figure(figsize=(12,15))\n",
    "    ax = sns.barplot(data=d, x= \"count\", y = \"word\")\n",
    "    ax.set(ylabel = 'Word')\n",
    "    plt.show()"
   ]
  },
  {
   "cell_type": "markdown",
   "metadata": {},
   "source": [
    "Plotar no gráfico a frequencia de cada 'Subject'"
   ]
  },
  {
   "cell_type": "code",
   "execution_count": 14,
   "metadata": {},
   "outputs": [
    {
     "data": {
      "image/png": "[encoded data removed]",
      "text/plain": [
       "<Figure size 864x1080 with 1 Axes>"
      ]
     },
     "metadata": {
      "needs_background": "light"
     },
     "output_type": "display_data"
    }
   ],
   "source": [
    "freq_words(dfCursos['subject'], False)"
   ]
  },
  {
   "cell_type": "markdown",
   "metadata": {},
   "source": [
    "Plotar no gráfico as 100 palavras mais frequentes do campo 'Clean Course'"
   ]
  },
  {
   "cell_type": "code",
   "execution_count": 15,
   "metadata": {},
   "outputs": [
    {
     "data": {
      "image/png": "[encoded data removed]",
      "text/plain": [
       "<Figure size 864x1080 with 1 Axes>"
      ]
     },
     "metadata": {
      "needs_background": "light"
     },
     "output_type": "display_data"
    }
   ],
   "source": [
    "# print 100 most frequent words\n",
    "freq_words(dfCursos['clean_course'], True, 100)"
   ]
  },
  {
   "cell_type": "markdown",
   "metadata": {},
   "source": [
    "Download do pacote de palavras irrelevantes da biblioteca NLTK"
   ]
  },
  {
   "cell_type": "code",
   "execution_count": 16,
   "metadata": {},
   "outputs": [
    {
     "name": "stderr",
     "output_type": "stream",
     "text": [
      "[nltk_data] Downloading package stopwords to\n",
      "[nltk_data]     C:\\Users\\00203885\\AppData\\Roaming\\nltk_data...\n",
      "[nltk_data]   Package stopwords is already up-to-date!\n"
     ]
    }
   ],
   "source": [
    "nltk.download('stopwords')\n",
    "stop_words = set(stopwords.words('english'))"
   ]
  },
  {
   "cell_type": "markdown",
   "metadata": {},
   "source": [
    "Função para remover as palavras irrelevantes"
   ]
  },
  {
   "cell_type": "code",
   "execution_count": 17,
   "metadata": {},
   "outputs": [],
   "source": [
    "def remove_stopwords(text):\n",
    "    no_stopword_text = [w for w in text.split() if not w in stop_words]\n",
    "    return ' '.join(no_stopword_text)"
   ]
  },
  {
   "cell_type": "markdown",
   "metadata": {},
   "source": [
    "Removendo as palavras irrelevantes da coluna 'Clean Course'"
   ]
  },
  {
   "cell_type": "code",
   "execution_count": 18,
   "metadata": {},
   "outputs": [
    {
     "name": "stderr",
     "output_type": "stream",
     "text": [
      "<ipython-input-18-dc1d9f901ab9>:1: SettingWithCopyWarning: \n",
      "A value is trying to be set on a copy of a slice from a DataFrame.\n",
      "Try using .loc[row_indexer,col_indexer] = value instead\n",
      "\n",
      "See the caveats in the documentation: https://pandas.pydata.org/pandas-docs/stable/user_guide/indexing.html#returning-a-view-versus-a-copy\n",
      "  dfCursos['clean_course'] = dfCursos['clean_course'].apply(lambda x: remove_stopwords(x))\n"
     ]
    }
   ],
   "source": [
    "dfCursos['clean_course'] = dfCursos['clean_course'].apply(lambda x: remove_stopwords(x))"
   ]
  },
  {
   "cell_type": "markdown",
   "metadata": {},
   "source": [
    "Plotar no gráfico as 100 palavras mais frequentes do campo 'Clean Course' após remover as palavras irrelevantes"
   ]
  },
  {
   "cell_type": "code",
   "execution_count": 19,
   "metadata": {},
   "outputs": [
    {
     "data": {
      "image/png": "[encoded data removed]",
      "text/plain": [
       "<Figure size 864x1080 with 1 Axes>"
      ]
     },
     "metadata": {
      "needs_background": "light"
     },
     "output_type": "display_data"
    }
   ],
   "source": [
    "freq_words(dfCursos['clean_course'], 100)"
   ]
  },
  {
   "cell_type": "markdown",
   "metadata": {},
   "source": [
    "### Convertendo Texto em Características\n",
    "\n",
    "Usando o OneHotEncode() do sklearn para codificar a variável de destino. Uma vez que existem 4 tags de assunto exclusivas, haverá 4 novas variáveis de destino."
   ]
  },
  {
   "cell_type": "code",
   "execution_count": 20,
   "metadata": {},
   "outputs": [],
   "source": [
    "# Instatniate One-Hot-Encoder\n",
    "ohe = OneHotEncoder(categories = \"auto\",sparse = False)\n",
    "\n",
    "# One-Hot-Encode Class column of df\n",
    "y = ohe.fit_transform(dfCursos[['subject']])"
   ]
  },
  {
   "cell_type": "markdown",
   "metadata": {},
   "source": [
    "Dividindo os dados em treino (80%) e teste (20%)"
   ]
  },
  {
   "cell_type": "code",
   "execution_count": 21,
   "metadata": {},
   "outputs": [],
   "source": [
    "# split dataset into training and validation set\n",
    "xtrain, xval, ytrain, yval = train_test_split(dfCursos['clean_course'], y, test_size=0.2, random_state=9)"
   ]
  },
  {
   "cell_type": "markdown",
   "metadata": {},
   "source": [
    "Usando os resursos do TF-IDF para processar os dados de texto"
   ]
  },
  {
   "cell_type": "code",
   "execution_count": 22,
   "metadata": {},
   "outputs": [],
   "source": [
    "tfidf_vectorizer = TfidfVectorizer(max_df=0.8, max_features=5000)"
   ]
  },
  {
   "cell_type": "code",
   "execution_count": 23,
   "metadata": {},
   "outputs": [],
   "source": [
    "# create TF-IDF features\n",
    "xtrain_tfidf = tfidf_vectorizer.fit_transform(xtrain)\n",
    "xval_tfidf = tfidf_vectorizer.transform(xval)"
   ]
  },
  {
   "cell_type": "markdown",
   "metadata": {},
   "source": [
    "Construindo um modelo de regressão logística por ser mais rápido para treinar com poucos recursos.\n",
    "\n",
    "Usando a classe OneVsRestClassifier do sk-learn para resolver como um problema de relev6ancia binária"
   ]
  },
  {
   "cell_type": "code",
   "execution_count": 24,
   "metadata": {},
   "outputs": [],
   "source": [
    "lr = LogisticRegression()\n",
    "clf = OneVsRestClassifier(lr)"
   ]
  },
  {
   "cell_type": "markdown",
   "metadata": {},
   "source": [
    "Ajuste do modelo no conjunto de treino"
   ]
  },
  {
   "cell_type": "code",
   "execution_count": 25,
   "metadata": {},
   "outputs": [
    {
     "data": {
      "text/plain": [
       "OneVsRestClassifier(estimator=LogisticRegression())"
      ]
     },
     "execution_count": 25,
     "metadata": {},
     "output_type": "execute_result"
    }
   ],
   "source": [
    "# fit model on train data\n",
    "clf.fit(xtrain_tfidf, ytrain)"
   ]
  },
  {
   "cell_type": "markdown",
   "metadata": {},
   "source": [
    "Fazendo a predição no conjunto de validação"
   ]
  },
  {
   "cell_type": "code",
   "execution_count": 26,
   "metadata": {},
   "outputs": [],
   "source": [
    "# make predictions for validation set\n",
    "y_pred = clf.predict(xval_tfidf)"
   ]
  },
  {
   "cell_type": "markdown",
   "metadata": {},
   "source": [
    "Verificando um exemplo de previsão"
   ]
  },
  {
   "cell_type": "code",
   "execution_count": 27,
   "metadata": {},
   "outputs": [
    {
     "data": {
      "text/plain": [
       "array([0, 0, 0, 0])"
      ]
     },
     "execution_count": 27,
     "metadata": {},
     "output_type": "execute_result"
    }
   ],
   "source": [
    "y_pred[5]"
   ]
  },
  {
   "cell_type": "markdown",
   "metadata": {},
   "source": [
    "Usando a função inverse_transform junto com o OneHotencode para converter a matriz prevista"
   ]
  },
  {
   "cell_type": "code",
   "execution_count": 28,
   "metadata": {},
   "outputs": [
    {
     "data": {
      "text/plain": [
       "array(['Business Finance'], dtype=object)"
      ]
     },
     "execution_count": 28,
     "metadata": {},
     "output_type": "execute_result"
    }
   ],
   "source": [
    "ohe.inverse_transform(y_pred)[5]"
   ]
  },
  {
   "cell_type": "markdown",
   "metadata": {},
   "source": [
    "Avaliar o desempenho"
   ]
  },
  {
   "cell_type": "code",
   "execution_count": 29,
   "metadata": {},
   "outputs": [
    {
     "data": {
      "text/plain": [
       "0.9049373618275609"
      ]
     },
     "execution_count": 29,
     "metadata": {},
     "output_type": "execute_result"
    }
   ],
   "source": [
    "# evaluate performance\n",
    "f1_score(yval, y_pred, average=\"micro\")"
   ]
  },
  {
   "cell_type": "markdown",
   "metadata": {},
   "source": [
    "Obtivemos uma pontuação decente na F1 de 0,916. Essas previsões foram feitas com base em um valor limite de 0,5, o que significa que as probabilidades maiores ou iguais a 0,5 foram convertidas em 1 e as demais em 0."
   ]
  },
  {
   "cell_type": "markdown",
   "metadata": {},
   "source": [
    "Testar outros valores de limites"
   ]
  },
  {
   "cell_type": "code",
   "execution_count": 30,
   "metadata": {},
   "outputs": [],
   "source": [
    "# predict probabilities\n",
    "y_pred_prob = clf.predict_proba(xval_tfidf)"
   ]
  },
  {
   "cell_type": "code",
   "execution_count": 31,
   "metadata": {},
   "outputs": [],
   "source": [
    "t = 0.3 # threshold value\n",
    "y_pred_new = (y_pred_prob >= t).astype(int)"
   ]
  },
  {
   "cell_type": "code",
   "execution_count": 32,
   "metadata": {},
   "outputs": [
    {
     "data": {
      "text/plain": [
       "0.9481582537517053"
      ]
     },
     "execution_count": 32,
     "metadata": {},
     "output_type": "execute_result"
    }
   ],
   "source": [
    "# evaluate performance\n",
    "f1_score(yval, y_pred_new, average=\"micro\")"
   ]
  },
  {
   "cell_type": "markdown",
   "metadata": {},
   "source": [
    "### Criar função de inferência\n",
    "\n",
    "Construir uma função de inferência. Ele pegará um curso e seguirá as etapas abaixo:\n",
    "\n",
    "*   Limpe o texto\n",
    "*   Remova as palavras irrelevantes do texto limpo\n",
    "*   Extraia recursos do texto\n",
    "*   Fazer previsões\n",
    "*   Retorna as tags subject previstas"
   ]
  },
  {
   "cell_type": "code",
   "execution_count": 33,
   "metadata": {},
   "outputs": [],
   "source": [
    "def infer_tags(q):\n",
    "    q = clean_text(q)\n",
    "    q = remove_stopwords(q)\n",
    "    q_vec = tfidf_vectorizer.transform([q])\n",
    "    q_pred = clf.predict(q_vec)\n",
    "    r = ohe.inverse_transform(q_pred)\n",
    "    r = r[0]\n",
    "    r = r[0]\n",
    "    return r"
   ]
  },
  {
   "cell_type": "markdown",
   "metadata": {},
   "source": [
    "Testando alguns exemplos"
   ]
  },
  {
   "cell_type": "code",
   "execution_count": 34,
   "metadata": {
    "scrolled": false
   },
   "outputs": [
    {
     "name": "stdout",
     "output_type": "stream",
     "text": [
      "Course:  How to read a Profit & Loss Account and Balance Sheet\n",
      "Predicted subject:  Business Finance\n",
      "Actual subject:  Business Finance\n",
      "Answer: Right \n",
      "\n",
      "Course:  Introduction to Piano - By PGN Piano!\n",
      "Predicted subject:  Musical Instruments\n",
      "Actual subject:  Musical Instruments\n",
      "Answer: Right \n",
      "\n",
      "Course:  Photoshop & Illustrator CC Essentials in Arabic\n",
      "Predicted subject:  Graphic Design\n",
      "Actual subject:  Graphic Design\n",
      "Answer: Right \n",
      "\n",
      "Course:  JavaScript manipulation of the DOM Document Object Model\n",
      "Predicted subject:  Web Development\n",
      "Actual subject:  Web Development\n",
      "Answer: Right \n",
      "\n",
      "Course:  Learn  After Effects and master 3d layers in after effects\n",
      "Predicted subject:  Business Finance\n",
      "Actual subject:  Graphic Design\n",
      "Answer: Wrong \n",
      "\n",
      "Course:  Learn To Build A Google Map App Using Angular 2\n",
      "Predicted subject:  Web Development\n",
      "Actual subject:  Web Development\n",
      "Answer: Right \n",
      "\n",
      "Course:  App Design + Web Design + Photoshop = Combined Course\n",
      "Predicted subject:  Graphic Design\n",
      "Actual subject:  Graphic Design\n",
      "Answer: Right \n",
      "\n",
      "Course:  Pin Bars: The Most Powerful Forex Trading Signal\n",
      "Predicted subject:  Business Finance\n",
      "Actual subject:  Business Finance\n",
      "Answer: Right \n",
      "\n",
      "Course:  Core Financial Statement Concepts\n",
      "Predicted subject:  Business Finance\n",
      "Actual subject:  Business Finance\n",
      "Answer: Right \n",
      "\n",
      "Course:  Learn and Understand AngularJS\n",
      "Predicted subject:  Web Development\n",
      "Actual subject:  Web Development\n",
      "Answer: Right \n",
      "\n",
      "Total Predictions:  10\n",
      "Correct Predictions:  9\n",
      "% Correct:  90.0\n"
     ]
    }
   ],
   "source": [
    "count = 0\n",
    "rg = 10\n",
    "for i in range(rg):\n",
    "    k = xval.sample(1).index[0]\n",
    "    print(\"Course: \", dfCursos['course_title'][k])\n",
    "    print(\"Predicted subject: \", infer_tags(xval[k]))\n",
    "    print(\"Actual subject: \", dfCursos['subject'][k])  \n",
    "    if infer_tags(xval[k]) == dfCursos['subject'][k]:\n",
    "        print(\"Answer: Right\", \"\\n\")\n",
    "        count = count + 1\n",
    "    else:\n",
    "        print(\"Answer: Wrong\", \"\\n\")\n",
    "\n",
    "print(\"Total Predictions: \", rg)\n",
    "print(\"Correct Predictions: \", count)\n",
    "print(\"% Correct: \", (count/rg)*100)"
   ]
  }
 ],
 "metadata": {
  "kernelspec": {
   "display_name": "Python 3",
   "language": "python",
   "name": "python3"
  },
  "language_info": {
   "codemirror_mode": {
    "name": "ipython",
    "version": 3
   },
   "file_extension": ".py",
   "mimetype": "text/x-python",
   "name": "python",
   "nbconvert_exporter": "python",
   "pygments_lexer": "ipython3",
   "version": "3.8.5"
  }
 },
 "nbformat": 4,
 "nbformat_minor": 4
}
