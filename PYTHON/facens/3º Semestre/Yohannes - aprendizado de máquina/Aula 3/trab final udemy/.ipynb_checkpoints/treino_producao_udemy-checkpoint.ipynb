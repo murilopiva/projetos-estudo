{
 "cells": [
  {
   "cell_type": "code",
   "execution_count": 2,
   "metadata": {},
   "outputs": [],
   "source": [
    "import pandas as pd\n",
    "import numpy as np\n",
    "import nltk\n",
    "import re\n",
    "import matplotlib.pyplot as plt\n",
    "import seaborn as sns\n",
    "from tqdm import tqdm\n",
    "from sklearn.feature_extraction.text import TfidfVectorizer\n",
    "from sklearn.model_selection import train_test_split\n",
    "from nltk.corpus import stopwords\n",
    "from wordcloud import WordCloud, STOPWORDS\n",
    "\n",
    "from sklearn.naive_bayes import ComplementNB\n",
    "from sklearn.metrics import accuracy_score\n",
    "from sklearn.model_selection import cross_val_score\n",
    "from sklearn.metrics import classification_report\n",
    "\n",
    "import warnings\n",
    "import os\n",
    "\n",
    "# Performance metric\n",
    "from sklearn.metrics import f1_score\n",
    "\n",
    "os.chdir(r\"C:\\Users\\User\\Documents\\GitHub\\projetos-estudo\\PYTHON\\facens\\3º Semestre\\Yohannes - aprendizado de máquina\\Aula 3\")\n",
    "df = pd.read_csv('udemy_courses.csv', encoding='latin-1')\n"
   ]
  },
  {
   "cell_type": "code",
   "execution_count": 3,
   "metadata": {},
   "outputs": [],
   "source": [
    "#Limpar coluna URL\n",
    "df['clean_url'] = df['url'].str.replace('https://www.udemy.com/','')\n",
    "df['clean_url'] = df['clean_url'].str.replace('/','')\n",
    "df['clean_url'] = df['clean_url'].str.replace('-',' ')"
   ]
  },
  {
   "cell_type": "code",
   "execution_count": 4,
   "metadata": {},
   "outputs": [],
   "source": [
    "#Criar coluna juntando as colunas 'Course Title' e 'Clean Url'\n",
    "df['course_url'] = df['course_title'] + ' ' + df['clean_url']\n"
   ]
  },
  {
   "cell_type": "code",
   "execution_count": 6,
   "metadata": {},
   "outputs": [],
   "source": [
    "#Criar novo DataFrame apenas com as colunas necessárias para analise\n",
    "dfCursos = df[['course_title', 'url', 'course_url', 'subject']]\n",
    "\n",
    "\n"
   ]
  },
  {
   "cell_type": "code",
   "execution_count": 7,
   "metadata": {},
   "outputs": [],
   "source": [
    "#Função para limpar campos\n",
    "def clean_text(text):\n",
    "    # remove barra invertida-apóstrofo\n",
    "    text = re.sub(\"\\'\", \"\", text)\n",
    "    # remove tudo, exceto alfabetos\n",
    "    text = re.sub(\"[^a-zA-Z]\",\" \",text)\n",
    "    # remove os espaços em branco\n",
    "    text = ' '.join(text.split())\n",
    "    # converter texto em minúsculas\n",
    "    text = text.lower()\n",
    "    \n",
    "    return text\n",
    "\n"
   ]
  },
  {
   "cell_type": "code",
   "execution_count": 9,
   "metadata": {},
   "outputs": [
    {
     "name": "stderr",
     "output_type": "stream",
     "text": [
      "C:\\Users\\User\\AppData\\Roaming\\Python\\Python37\\site-packages\\ipykernel_launcher.py:2: SettingWithCopyWarning: \n",
      "A value is trying to be set on a copy of a slice from a DataFrame.\n",
      "Try using .loc[row_indexer,col_indexer] = value instead\n",
      "\n",
      "See the caveats in the documentation: https://pandas.pydata.org/pandas-docs/stable/user_guide/indexing.html#returning-a-view-versus-a-copy\n",
      "  \n"
     ]
    }
   ],
   "source": [
    "#Aplica a função de limpar o campo na coluna 'Course Url'\n",
    "dfCursos['clean_course'] = dfCursos['course_url'].apply(lambda x: clean_text(x))\n",
    "\n"
   ]
  },
  {
   "cell_type": "code",
   "execution_count": 10,
   "metadata": {},
   "outputs": [
    {
     "name": "stderr",
     "output_type": "stream",
     "text": [
      "[nltk_data] Downloading package stopwords to\n",
      "[nltk_data]     C:\\Users\\User\\AppData\\Roaming\\nltk_data...\n",
      "[nltk_data]   Package stopwords is already up-to-date!\n"
     ]
    }
   ],
   "source": [
    "#Download do pacote de palavras irrelevantes da biblioteca NLTK\n",
    "nltk.download('stopwords')\n",
    "stop_words = set(stopwords.words('english'))\n",
    "\n"
   ]
  },
  {
   "cell_type": "code",
   "execution_count": 11,
   "metadata": {},
   "outputs": [],
   "source": [
    "#Função para remover as palavras irrelevantes\n",
    "def remove_stopwords(text):\n",
    "    no_stopword_text = [w for w in text.split() if not w in stop_words]\n",
    "    return ' '.join(no_stopword_text)"
   ]
  },
  {
   "cell_type": "code",
   "execution_count": 12,
   "metadata": {},
   "outputs": [
    {
     "name": "stderr",
     "output_type": "stream",
     "text": [
      "C:\\Users\\User\\AppData\\Roaming\\Python\\Python37\\site-packages\\ipykernel_launcher.py:2: SettingWithCopyWarning: \n",
      "A value is trying to be set on a copy of a slice from a DataFrame.\n",
      "Try using .loc[row_indexer,col_indexer] = value instead\n",
      "\n",
      "See the caveats in the documentation: https://pandas.pydata.org/pandas-docs/stable/user_guide/indexing.html#returning-a-view-versus-a-copy\n",
      "  \n"
     ]
    }
   ],
   "source": [
    "#Removendo as palavras irrelevantes da coluna 'Clean Course'\n",
    "dfCursos['clean_course'] = dfCursos['clean_course'].apply(lambda x: remove_stopwords(x))\n"
   ]
  },
  {
   "cell_type": "code",
   "execution_count": 13,
   "metadata": {},
   "outputs": [],
   "source": [
    "# criando vocabulário\n",
    "          \n",
    "def palavrasVocabulario(qtdLinhaPorRotulo, dadosUdemy_Tratados):\n",
    "    vocabulario = []\n",
    "    colunas_usadasModelo = ['course_title', 'url']\n",
    "\n",
    "    for subject in dadosUdemy_Tratados['subject'].unique():\n",
    "        for row in dadosUdemy_Tratados[dadosUdemy_Tratados['subject'] == subject]['clean_course'][:qtdLinhaPorRotulo]:\n",
    "            for p in row.lower().split():\n",
    "                p = p.replace(' ','')\n",
    "                if p not in vocabulario:\n",
    "                    vocabulario.append(p)\n",
    "    \n",
    "    return vocabulario\n"
   ]
  },
  {
   "cell_type": "code",
   "execution_count": 14,
   "metadata": {},
   "outputs": [],
   "source": [
    "# agora é necessário representar cada frase usando o vocabulário\n",
    "def Gerar_Amostras(dfCursos, vocabulario):\n",
    "    amostras = []\n",
    "    for t in list(dfCursos['clean_course']):\n",
    "        amostra = []\n",
    "        for p in vocabulario:\n",
    "            if p in t.lower().replace('.','').split():\n",
    "                amostra.append(1)\n",
    "            else:\n",
    "                amostra.append(0)\n",
    "\n",
    "        amostras.append(amostra)\n",
    "\n",
    "    return np.array(amostras)"
   ]
  },
  {
   "cell_type": "code",
   "execution_count": 15,
   "metadata": {},
   "outputs": [],
   "source": [
    "vocabulario = palavrasVocabulario(200,dfCursos)\n",
    "amostras = Gerar_Amostras(dfCursos, vocabulario)  "
   ]
  },
  {
   "cell_type": "code",
   "execution_count": 27,
   "metadata": {},
   "outputs": [
    {
     "data": {
      "text/html": [
       "<div>\n",
       "<style scoped>\n",
       "    .dataframe tbody tr th:only-of-type {\n",
       "        vertical-align: middle;\n",
       "    }\n",
       "\n",
       "    .dataframe tbody tr th {\n",
       "        vertical-align: top;\n",
       "    }\n",
       "\n",
       "    .dataframe thead th {\n",
       "        text-align: right;\n",
       "    }\n",
       "</style>\n",
       "<table border=\"1\" class=\"dataframe\">\n",
       "  <thead>\n",
       "    <tr style=\"text-align: right;\">\n",
       "      <th></th>\n",
       "      <th>course_title</th>\n",
       "      <th>url</th>\n",
       "      <th>course_url</th>\n",
       "      <th>subject</th>\n",
       "      <th>clean_course</th>\n",
       "    </tr>\n",
       "  </thead>\n",
       "  <tbody>\n",
       "    <tr>\n",
       "      <th>0</th>\n",
       "      <td>Ultimate Investment Banking Course</td>\n",
       "      <td>https://www.udemy.com/ultimate-investment-bank...</td>\n",
       "      <td>Ultimate Investment Banking Course ultimate in...</td>\n",
       "      <td>Business Finance</td>\n",
       "      <td>ultimate investment banking course ultimate in...</td>\n",
       "    </tr>\n",
       "    <tr>\n",
       "      <th>1</th>\n",
       "      <td>Complete GST Course &amp; Certification - Grow You...</td>\n",
       "      <td>https://www.udemy.com/goods-and-services-tax/</td>\n",
       "      <td>Complete GST Course &amp; Certification - Grow You...</td>\n",
       "      <td>Business Finance</td>\n",
       "      <td>complete gst course certification grow ca prac...</td>\n",
       "    </tr>\n",
       "    <tr>\n",
       "      <th>2</th>\n",
       "      <td>Financial Modeling for Business Analysts and C...</td>\n",
       "      <td>https://www.udemy.com/financial-modeling-for-b...</td>\n",
       "      <td>Financial Modeling for Business Analysts and C...</td>\n",
       "      <td>Business Finance</td>\n",
       "      <td>financial modeling business analysts consultan...</td>\n",
       "    </tr>\n",
       "    <tr>\n",
       "      <th>3</th>\n",
       "      <td>Beginner to Pro - Financial Analysis in Excel ...</td>\n",
       "      <td>https://www.udemy.com/complete-excel-finance-c...</td>\n",
       "      <td>Beginner to Pro - Financial Analysis in Excel ...</td>\n",
       "      <td>Business Finance</td>\n",
       "      <td>beginner pro financial analysis excel complete...</td>\n",
       "    </tr>\n",
       "    <tr>\n",
       "      <th>4</th>\n",
       "      <td>How To Maximize Your Profits Trading Options</td>\n",
       "      <td>https://www.udemy.com/how-to-maximize-your-pro...</td>\n",
       "      <td>How To Maximize Your Profits Trading Options h...</td>\n",
       "      <td>Business Finance</td>\n",
       "      <td>maximize profits trading options maximize prof...</td>\n",
       "    </tr>\n",
       "    <tr>\n",
       "      <th>...</th>\n",
       "      <td>...</td>\n",
       "      <td>...</td>\n",
       "      <td>...</td>\n",
       "      <td>...</td>\n",
       "      <td>...</td>\n",
       "    </tr>\n",
       "    <tr>\n",
       "      <th>3678</th>\n",
       "      <td>Learn jQuery from Scratch - Master of JavaScri...</td>\n",
       "      <td>https://www.udemy.com/easy-jquery-for-beginner...</td>\n",
       "      <td>Learn jQuery from Scratch - Master of JavaScri...</td>\n",
       "      <td>Web Development</td>\n",
       "      <td>learn jquery scratch master javascript library...</td>\n",
       "    </tr>\n",
       "    <tr>\n",
       "      <th>3679</th>\n",
       "      <td>How To Design A WordPress Website With No Codi...</td>\n",
       "      <td>https://www.udemy.com/how-to-make-a-wordpress-...</td>\n",
       "      <td>How To Design A WordPress Website With No Codi...</td>\n",
       "      <td>Web Development</td>\n",
       "      <td>design wordpress website coding make wordpress...</td>\n",
       "    </tr>\n",
       "    <tr>\n",
       "      <th>3680</th>\n",
       "      <td>Learn and Build using Polymer</td>\n",
       "      <td>https://www.udemy.com/learn-and-build-using-po...</td>\n",
       "      <td>Learn and Build using Polymer learn and build ...</td>\n",
       "      <td>Web Development</td>\n",
       "      <td>learn build using polymer learn build using po...</td>\n",
       "    </tr>\n",
       "    <tr>\n",
       "      <th>3681</th>\n",
       "      <td>CSS Animations: Create Amazing Effects on Your...</td>\n",
       "      <td>https://www.udemy.com/css-animations-create-am...</td>\n",
       "      <td>CSS Animations: Create Amazing Effects on Your...</td>\n",
       "      <td>Web Development</td>\n",
       "      <td>css animations create amazing effects website ...</td>\n",
       "    </tr>\n",
       "    <tr>\n",
       "      <th>3682</th>\n",
       "      <td>Using MODX CMS to Build Websites: A Beginner's...</td>\n",
       "      <td>https://www.udemy.com/using-modx-cms-to-build-...</td>\n",
       "      <td>Using MODX CMS to Build Websites: A Beginner's...</td>\n",
       "      <td>Web Development</td>\n",
       "      <td>using modx cms build websites beginners guide ...</td>\n",
       "    </tr>\n",
       "  </tbody>\n",
       "</table>\n",
       "<p>3683 rows × 5 columns</p>\n",
       "</div>"
      ],
      "text/plain": [
       "                                           course_title  \\\n",
       "0                    Ultimate Investment Banking Course   \n",
       "1     Complete GST Course & Certification - Grow You...   \n",
       "2     Financial Modeling for Business Analysts and C...   \n",
       "3     Beginner to Pro - Financial Analysis in Excel ...   \n",
       "4          How To Maximize Your Profits Trading Options   \n",
       "...                                                 ...   \n",
       "3678  Learn jQuery from Scratch - Master of JavaScri...   \n",
       "3679  How To Design A WordPress Website With No Codi...   \n",
       "3680                      Learn and Build using Polymer   \n",
       "3681  CSS Animations: Create Amazing Effects on Your...   \n",
       "3682  Using MODX CMS to Build Websites: A Beginner's...   \n",
       "\n",
       "                                                    url  \\\n",
       "0     https://www.udemy.com/ultimate-investment-bank...   \n",
       "1         https://www.udemy.com/goods-and-services-tax/   \n",
       "2     https://www.udemy.com/financial-modeling-for-b...   \n",
       "3     https://www.udemy.com/complete-excel-finance-c...   \n",
       "4     https://www.udemy.com/how-to-maximize-your-pro...   \n",
       "...                                                 ...   \n",
       "3678  https://www.udemy.com/easy-jquery-for-beginner...   \n",
       "3679  https://www.udemy.com/how-to-make-a-wordpress-...   \n",
       "3680  https://www.udemy.com/learn-and-build-using-po...   \n",
       "3681  https://www.udemy.com/css-animations-create-am...   \n",
       "3682  https://www.udemy.com/using-modx-cms-to-build-...   \n",
       "\n",
       "                                             course_url           subject  \\\n",
       "0     Ultimate Investment Banking Course ultimate in...  Business Finance   \n",
       "1     Complete GST Course & Certification - Grow You...  Business Finance   \n",
       "2     Financial Modeling for Business Analysts and C...  Business Finance   \n",
       "3     Beginner to Pro - Financial Analysis in Excel ...  Business Finance   \n",
       "4     How To Maximize Your Profits Trading Options h...  Business Finance   \n",
       "...                                                 ...               ...   \n",
       "3678  Learn jQuery from Scratch - Master of JavaScri...   Web Development   \n",
       "3679  How To Design A WordPress Website With No Codi...   Web Development   \n",
       "3680  Learn and Build using Polymer learn and build ...   Web Development   \n",
       "3681  CSS Animations: Create Amazing Effects on Your...   Web Development   \n",
       "3682  Using MODX CMS to Build Websites: A Beginner's...   Web Development   \n",
       "\n",
       "                                           clean_course  \n",
       "0     ultimate investment banking course ultimate in...  \n",
       "1     complete gst course certification grow ca prac...  \n",
       "2     financial modeling business analysts consultan...  \n",
       "3     beginner pro financial analysis excel complete...  \n",
       "4     maximize profits trading options maximize prof...  \n",
       "...                                                 ...  \n",
       "3678  learn jquery scratch master javascript library...  \n",
       "3679  design wordpress website coding make wordpress...  \n",
       "3680  learn build using polymer learn build using po...  \n",
       "3681  css animations create amazing effects website ...  \n",
       "3682  using modx cms build websites beginners guide ...  \n",
       "\n",
       "[3683 rows x 5 columns]"
      ]
     },
     "execution_count": 27,
     "metadata": {},
     "output_type": "execute_result"
    }
   ],
   "source": [
    "dfCursos.loc[:,:]"
   ]
  },
  {
   "cell_type": "code",
   "execution_count": 18,
   "metadata": {},
   "outputs": [
    {
     "data": {
      "text/plain": [
       "(3683, 5)"
      ]
     },
     "execution_count": 18,
     "metadata": {},
     "output_type": "execute_result"
    }
   ],
   "source": [
    "dfCursos.shape"
   ]
  },
  {
   "cell_type": "code",
   "execution_count": 80,
   "metadata": {},
   "outputs": [
    {
     "data": {
      "text/html": [
       "<div>\n",
       "<style scoped>\n",
       "    .dataframe tbody tr th:only-of-type {\n",
       "        vertical-align: middle;\n",
       "    }\n",
       "\n",
       "    .dataframe tbody tr th {\n",
       "        vertical-align: top;\n",
       "    }\n",
       "\n",
       "    .dataframe thead th {\n",
       "        text-align: right;\n",
       "    }\n",
       "</style>\n",
       "<table border=\"1\" class=\"dataframe\">\n",
       "  <thead>\n",
       "    <tr style=\"text-align: right;\">\n",
       "      <th></th>\n",
       "      <th>subject</th>\n",
       "    </tr>\n",
       "  </thead>\n",
       "  <tbody>\n",
       "    <tr>\n",
       "      <th>0</th>\n",
       "      <td>Business Finance</td>\n",
       "    </tr>\n",
       "    <tr>\n",
       "      <th>1</th>\n",
       "      <td>Business Finance</td>\n",
       "    </tr>\n",
       "    <tr>\n",
       "      <th>2</th>\n",
       "      <td>Business Finance</td>\n",
       "    </tr>\n",
       "    <tr>\n",
       "      <th>3</th>\n",
       "      <td>Business Finance</td>\n",
       "    </tr>\n",
       "    <tr>\n",
       "      <th>4</th>\n",
       "      <td>Business Finance</td>\n",
       "    </tr>\n",
       "    <tr>\n",
       "      <th>...</th>\n",
       "      <td>...</td>\n",
       "    </tr>\n",
       "    <tr>\n",
       "      <th>3678</th>\n",
       "      <td>Web Development</td>\n",
       "    </tr>\n",
       "    <tr>\n",
       "      <th>3679</th>\n",
       "      <td>Web Development</td>\n",
       "    </tr>\n",
       "    <tr>\n",
       "      <th>3680</th>\n",
       "      <td>Web Development</td>\n",
       "    </tr>\n",
       "    <tr>\n",
       "      <th>3681</th>\n",
       "      <td>Web Development</td>\n",
       "    </tr>\n",
       "    <tr>\n",
       "      <th>3682</th>\n",
       "      <td>Web Development</td>\n",
       "    </tr>\n",
       "  </tbody>\n",
       "</table>\n",
       "<p>3683 rows × 1 columns</p>\n",
       "</div>"
      ],
      "text/plain": [
       "               subject\n",
       "0     Business Finance\n",
       "1     Business Finance\n",
       "2     Business Finance\n",
       "3     Business Finance\n",
       "4     Business Finance\n",
       "...                ...\n",
       "3678   Web Development\n",
       "3679   Web Development\n",
       "3680   Web Development\n",
       "3681   Web Development\n",
       "3682   Web Development\n",
       "\n",
       "[3683 rows x 1 columns]"
      ]
     },
     "execution_count": 80,
     "metadata": {},
     "output_type": "execute_result"
    }
   ],
   "source": [
    "dfCursos.iloc[:,3:4]"
   ]
  },
  {
   "cell_type": "code",
   "execution_count": 87,
   "metadata": {},
   "outputs": [],
   "source": [
    "X, y = dfCursos.iloc[:,2:3].values, dfCursos.iloc[:,3:4].values"
   ]
  },
  {
   "cell_type": "code",
   "execution_count": 89,
   "metadata": {},
   "outputs": [
    {
     "data": {
      "text/plain": [
       "array([['Business Finance'],\n",
       "       ['Business Finance'],\n",
       "       ['Business Finance'],\n",
       "       ...,\n",
       "       ['Web Development'],\n",
       "       ['Web Development'],\n",
       "       ['Web Development']], dtype=object)"
      ]
     },
     "execution_count": 89,
     "metadata": {},
     "output_type": "execute_result"
    }
   ],
   "source": [
    "y"
   ]
  },
  {
   "cell_type": "code",
   "execution_count": 44,
   "metadata": {},
   "outputs": [
    {
     "data": {
      "text/html": [
       "<div>\n",
       "<style scoped>\n",
       "    .dataframe tbody tr th:only-of-type {\n",
       "        vertical-align: middle;\n",
       "    }\n",
       "\n",
       "    .dataframe tbody tr th {\n",
       "        vertical-align: top;\n",
       "    }\n",
       "\n",
       "    .dataframe thead th {\n",
       "        text-align: right;\n",
       "    }\n",
       "</style>\n",
       "<table border=\"1\" class=\"dataframe\">\n",
       "  <thead>\n",
       "    <tr style=\"text-align: right;\">\n",
       "      <th></th>\n",
       "      <th>course_title</th>\n",
       "      <th>url</th>\n",
       "      <th>course_url</th>\n",
       "      <th>subject</th>\n",
       "      <th>clean_course</th>\n",
       "    </tr>\n",
       "  </thead>\n",
       "  <tbody>\n",
       "    <tr>\n",
       "      <th>0</th>\n",
       "      <td>Ultimate Investment Banking Course</td>\n",
       "      <td>https://www.udemy.com/ultimate-investment-bank...</td>\n",
       "      <td>Ultimate Investment Banking Course ultimate in...</td>\n",
       "      <td>Business Finance</td>\n",
       "      <td>ultimate investment banking course ultimate in...</td>\n",
       "    </tr>\n",
       "    <tr>\n",
       "      <th>1</th>\n",
       "      <td>Complete GST Course &amp; Certification - Grow You...</td>\n",
       "      <td>https://www.udemy.com/goods-and-services-tax/</td>\n",
       "      <td>Complete GST Course &amp; Certification - Grow You...</td>\n",
       "      <td>Business Finance</td>\n",
       "      <td>complete gst course certification grow ca prac...</td>\n",
       "    </tr>\n",
       "    <tr>\n",
       "      <th>2</th>\n",
       "      <td>Financial Modeling for Business Analysts and C...</td>\n",
       "      <td>https://www.udemy.com/financial-modeling-for-b...</td>\n",
       "      <td>Financial Modeling for Business Analysts and C...</td>\n",
       "      <td>Business Finance</td>\n",
       "      <td>financial modeling business analysts consultan...</td>\n",
       "    </tr>\n",
       "    <tr>\n",
       "      <th>3</th>\n",
       "      <td>Beginner to Pro - Financial Analysis in Excel ...</td>\n",
       "      <td>https://www.udemy.com/complete-excel-finance-c...</td>\n",
       "      <td>Beginner to Pro - Financial Analysis in Excel ...</td>\n",
       "      <td>Business Finance</td>\n",
       "      <td>beginner pro financial analysis excel complete...</td>\n",
       "    </tr>\n",
       "    <tr>\n",
       "      <th>4</th>\n",
       "      <td>How To Maximize Your Profits Trading Options</td>\n",
       "      <td>https://www.udemy.com/how-to-maximize-your-pro...</td>\n",
       "      <td>How To Maximize Your Profits Trading Options h...</td>\n",
       "      <td>Business Finance</td>\n",
       "      <td>maximize profits trading options maximize prof...</td>\n",
       "    </tr>\n",
       "  </tbody>\n",
       "</table>\n",
       "</div>"
      ],
      "text/plain": [
       "                                        course_title  \\\n",
       "0                 Ultimate Investment Banking Course   \n",
       "1  Complete GST Course & Certification - Grow You...   \n",
       "2  Financial Modeling for Business Analysts and C...   \n",
       "3  Beginner to Pro - Financial Analysis in Excel ...   \n",
       "4       How To Maximize Your Profits Trading Options   \n",
       "\n",
       "                                                 url  \\\n",
       "0  https://www.udemy.com/ultimate-investment-bank...   \n",
       "1      https://www.udemy.com/goods-and-services-tax/   \n",
       "2  https://www.udemy.com/financial-modeling-for-b...   \n",
       "3  https://www.udemy.com/complete-excel-finance-c...   \n",
       "4  https://www.udemy.com/how-to-maximize-your-pro...   \n",
       "\n",
       "                                          course_url           subject  \\\n",
       "0  Ultimate Investment Banking Course ultimate in...  Business Finance   \n",
       "1  Complete GST Course & Certification - Grow You...  Business Finance   \n",
       "2  Financial Modeling for Business Analysts and C...  Business Finance   \n",
       "3  Beginner to Pro - Financial Analysis in Excel ...  Business Finance   \n",
       "4  How To Maximize Your Profits Trading Options h...  Business Finance   \n",
       "\n",
       "                                        clean_course  \n",
       "0  ultimate investment banking course ultimate in...  \n",
       "1  complete gst course certification grow ca prac...  \n",
       "2  financial modeling business analysts consultan...  \n",
       "3  beginner pro financial analysis excel complete...  \n",
       "4  maximize profits trading options maximize prof...  "
      ]
     },
     "execution_count": 44,
     "metadata": {},
     "output_type": "execute_result"
    }
   ],
   "source": [
    "dfCursos.head()"
   ]
  },
  {
   "cell_type": "code",
   "execution_count": 94,
   "metadata": {},
   "outputs": [
    {
     "name": "stderr",
     "output_type": "stream",
     "text": [
      "C:\\Users\\User\\anaconda3\\lib\\site-packages\\sklearn\\utils\\validation.py:760: DataConversionWarning: A column-vector y was passed when a 1d array was expected. Please change the shape of y to (n_samples, ), for example using ravel().\n",
      "  y = column_or_1d(y, warn=True)\n"
     ]
    },
    {
     "data": {
      "text/plain": [
       "ComplementNB(alpha=1.0, class_prior=None, fit_prior=True, norm=False)"
      ]
     },
     "execution_count": 94,
     "metadata": {},
     "output_type": "execute_result"
    }
   ],
   "source": [
    "model = ComplementNB()\n",
    "model.fit(amostras, y)\n",
    "#y_pred_cnb = model_cnb.predict(X_test)\n",
    "\n"
   ]
  },
  {
   "cell_type": "code",
   "execution_count": 95,
   "metadata": {},
   "outputs": [],
   "source": [
    "# como testar com uma amostra nova\n",
    "\n",
    "def testarAmostra(amostra_nova):\n",
    "    amostra = []\n",
    "\n",
    "    for p in vocabulario:\n",
    "        if p in amostra_nova.lower().replace('.','').split():\n",
    "            amostra.append(1)\n",
    "        else:\n",
    "            amostra.append(0)\n",
    "\n",
    "\n",
    "    print('Course: ',amostra_nova)    \n",
    "    print('Predicted subject: ',model.predict([amostra]))\n",
    "    print(model.predict_proba([amostra]))\n",
    "    print('')\n"
   ]
  },
  {
   "cell_type": "code",
   "execution_count": 97,
   "metadata": {},
   "outputs": [
    {
     "name": "stdout",
     "output_type": "stream",
     "text": [
      "Course:  How to play Contemporary Piano\n",
      "Predicted subject:  ['Musical Instruments']\n",
      "[[1.08953420e-04 1.48466423e-04 9.99645637e-01 9.69433438e-05]]\n",
      "\n"
     ]
    }
   ],
   "source": [
    "testarAmostra('How to play Contemporary Piano')"
   ]
  },
  {
   "cell_type": "code",
   "execution_count": null,
   "metadata": {},
   "outputs": [],
   "source": []
  }
 ],
 "metadata": {
  "kernelspec": {
   "display_name": "Python 3",
   "language": "python",
   "name": "python3"
  },
  "language_info": {
   "codemirror_mode": {
    "name": "ipython",
    "version": 3
   },
   "file_extension": ".py",
   "mimetype": "text/x-python",
   "name": "python",
   "nbconvert_exporter": "python",
   "pygments_lexer": "ipython3",
   "version": "3.7.6"
  }
 },
 "nbformat": 4,
 "nbformat_minor": 4
}
