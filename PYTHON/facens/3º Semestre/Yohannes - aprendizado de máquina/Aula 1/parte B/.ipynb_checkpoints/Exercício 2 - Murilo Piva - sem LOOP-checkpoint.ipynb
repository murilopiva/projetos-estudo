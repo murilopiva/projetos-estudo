{
 "cells": [
  {
   "cell_type": "markdown",
   "metadata": {},
   "source": [
    "## Exercício - MURILO PIVA 203019\n",
    "\n",
    "Aumente a quantidade de amostras utilizadas para montar o vocabulário e avalie se o resultado melhora ou piora. Crie uma tabela comparativa com os 3 métodos (colunas) de Naive Bayes do Scikit-Learn e avalie diferentes tamanhos de vocabulário (linhas). Faça isso em um arquivo a parte, com seu nome no cabeçalho do documento, o código necessário do experimento e, ao final, a tabela contend os resultados, e sua conclusão."
   ]
  },
  {
   "cell_type": "code",
   "execution_count": 141,
   "metadata": {},
   "outputs": [
    {
     "name": "stdout",
     "output_type": "stream",
     "text": [
      "(5572, 5)\n"
     ]
    }
   ],
   "source": [
    "import pandas as pd\n",
    "import numpy as np\n",
    "\n",
    "df = pd.read_csv('spam.csv', encoding='latin-1')\n",
    "df = df.rename(columns={\"v2\" : \"text\", \"v1\":\"label\"})\n",
    "\n",
    "print(df.shape)"
   ]
  },
  {
   "cell_type": "code",
   "execution_count": 271,
   "metadata": {},
   "outputs": [],
   "source": [
    "textos = list(df['text'][:1000])\n",
    "\n",
    "vocabulario = []\n",
    "for t in textos:\n",
    "    palavras = t.lower().replace('.','').split()\n",
    "    for p in palavras:\n",
    "        if p not in vocabulario:\n",
    "            vocabulario.append(p)\n",
    "            "
   ]
  },
  {
   "cell_type": "code",
   "execution_count": 272,
   "metadata": {},
   "outputs": [],
   "source": [
    "# agora é necessário representar cada frase usando o vocabulário\n",
    "\n",
    "textos = list(df['text'])\n",
    "amostras = []\n",
    "for t in textos:\n",
    "    amostra = []\n",
    "    for p in vocabulario:\n",
    "        if p in t.lower().replace('.','').split():\n",
    "            amostra.append(1)\n",
    "        else:\n",
    "            amostra.append(0)\n",
    "            \n",
    "    amostras.append(amostra)\n",
    "    \n",
    "amostras = np.array(amostras)"
   ]
  },
  {
   "cell_type": "markdown",
   "metadata": {},
   "source": [
    "## Separação de dados e treinamento"
   ]
  },
  {
   "cell_type": "code",
   "execution_count": 273,
   "metadata": {},
   "outputs": [],
   "source": [
    "from sklearn.model_selection import train_test_split\n",
    "\n",
    "X_train, X_test, y_train, y_test = train_test_split(amostras, df['label'], test_size=0.33, random_state=42)"
   ]
  },
  {
   "cell_type": "code",
   "execution_count": 274,
   "metadata": {},
   "outputs": [
    {
     "name": "stdout",
     "output_type": "stream",
     "text": [
      "\n"
     ]
    }
   ],
   "source": [
    "# temos 3 modelos, vamos avaliar diferentes cenários e observar os resultados\n",
    "\n",
    "from sklearn.naive_bayes import BernoulliNB, ComplementNB, MultinomialNB\n",
    "from sklearn.metrics import accuracy_score\n"
   ]
  },
  {
   "cell_type": "code",
   "execution_count": 275,
   "metadata": {},
   "outputs": [
    {
     "name": "stdout",
     "output_type": "stream",
     "text": [
      "0.9733550842849374\n"
     ]
    }
   ],
   "source": [
    "model = BernoulliNB()\n",
    "\n",
    "model.fit(X_train, y_train)\n",
    "\n",
    "y_pred = model.predict(X_test)\n",
    "\n",
    "modeloBernoulli = accuracy_score(y_test, y_pred)\n",
    "\n",
    "print(modeloBernoulli)"
   ]
  },
  {
   "cell_type": "code",
   "execution_count": 276,
   "metadata": {},
   "outputs": [
    {
     "name": "stdout",
     "output_type": "stream",
     "text": [
      "0.9608482871125612\n"
     ]
    }
   ],
   "source": [
    "model = ComplementNB()\n",
    "\n",
    "model.fit(X_train, y_train)\n",
    "\n",
    "y_pred = model.predict(X_test)\n",
    "\n",
    "modeloComplement = accuracy_score(y_test, y_pred)\n",
    "\n",
    "print(modeloComplement)"
   ]
  },
  {
   "cell_type": "code",
   "execution_count": 277,
   "metadata": {},
   "outputs": [
    {
     "name": "stdout",
     "output_type": "stream",
     "text": [
      "0.9755301794453507\n"
     ]
    }
   ],
   "source": [
    "model = MultinomialNB()\n",
    "\n",
    "model.fit(X_train, y_train)\n",
    "\n",
    "y_pred = model.predict(X_test)\n",
    "\n",
    "modeloMultinomial = accuracy_score(y_test, y_pred)\n",
    "\n",
    "print(modeloMultinomial)"
   ]
  },
  {
   "cell_type": "code",
   "execution_count": 196,
   "metadata": {
    "scrolled": false
   },
   "outputs": [],
   "source": [
    "#resultado = pd.DataFrame()"
   ]
  },
  {
   "cell_type": "code",
   "execution_count": 199,
   "metadata": {},
   "outputs": [],
   "source": [
    "# resultado = pd.DataFrame(\n",
    "#     {'BernoulliNB': [modeloBernoulli],\n",
    "#      'ComplementNB': [modeloComplement],\n",
    "#      'MultinomialNB': [modeloMultinomial],\n",
    "#      'Descrição': '5 Amostras; usando split, e replace de pontos'}\n",
    "# )"
   ]
  },
  {
   "cell_type": "code",
   "execution_count": 278,
   "metadata": {},
   "outputs": [],
   "source": [
    "x = pd.DataFrame(\n",
    "    {'BernoulliNB': [modeloBernoulli],\n",
    "     'ComplementNB': [modeloComplement],\n",
    "     'MultinomialNB': [modeloMultinomial],\n",
    "     'Descrição': '1000 Amostras; usando split, e replace de pontos'}\n",
    ")\n",
    "resultado = resultado.append(x)\n"
   ]
  },
  {
   "cell_type": "code",
   "execution_count": 279,
   "metadata": {},
   "outputs": [
    {
     "data": {
      "text/html": [
       "<div>\n",
       "<style scoped>\n",
       "    .dataframe tbody tr th:only-of-type {\n",
       "        vertical-align: middle;\n",
       "    }\n",
       "\n",
       "    .dataframe tbody tr th {\n",
       "        vertical-align: top;\n",
       "    }\n",
       "\n",
       "    .dataframe thead th {\n",
       "        text-align: right;\n",
       "    }\n",
       "</style>\n",
       "<table border=\"1\" class=\"dataframe\">\n",
       "  <thead>\n",
       "    <tr style=\"text-align: right;\">\n",
       "      <th></th>\n",
       "      <th>BernoulliNB</th>\n",
       "      <th>ComplementNB</th>\n",
       "      <th>MultinomialNB</th>\n",
       "      <th>Descrição</th>\n",
       "    </tr>\n",
       "  </thead>\n",
       "  <tbody>\n",
       "    <tr>\n",
       "      <th>0</th>\n",
       "      <td>0.915715</td>\n",
       "      <td>0.829799</td>\n",
       "      <td>0.911909</td>\n",
       "      <td>5 Amostras; usando split, e replace de pontos</td>\n",
       "    </tr>\n",
       "    <tr>\n",
       "      <th>0</th>\n",
       "      <td>0.970092</td>\n",
       "      <td>0.923872</td>\n",
       "      <td>0.959761</td>\n",
       "      <td>100 Amostras; usando split, e replace de pontos</td>\n",
       "    </tr>\n",
       "    <tr>\n",
       "      <th>0</th>\n",
       "      <td>0.971724</td>\n",
       "      <td>0.952692</td>\n",
       "      <td>0.974443</td>\n",
       "      <td>150 Amostras; usando split, e replace de pontos</td>\n",
       "    </tr>\n",
       "    <tr>\n",
       "      <th>0</th>\n",
       "      <td>0.973355</td>\n",
       "      <td>0.955411</td>\n",
       "      <td>0.975530</td>\n",
       "      <td>200 Amostras; usando split, e replace de pontos</td>\n",
       "    </tr>\n",
       "    <tr>\n",
       "      <th>0</th>\n",
       "      <td>0.972268</td>\n",
       "      <td>0.957042</td>\n",
       "      <td>0.972811</td>\n",
       "      <td>400 Amostras; usando split, e replace de pontos</td>\n",
       "    </tr>\n",
       "    <tr>\n",
       "      <th>0</th>\n",
       "      <td>0.973899</td>\n",
       "      <td>0.955411</td>\n",
       "      <td>0.973899</td>\n",
       "      <td>600 Amostras; usando split, e replace de pontos</td>\n",
       "    </tr>\n",
       "    <tr>\n",
       "      <th>0</th>\n",
       "      <td>0.973355</td>\n",
       "      <td>0.960848</td>\n",
       "      <td>0.975530</td>\n",
       "      <td>1000 Amostras; usando split, e replace de pontos</td>\n",
       "    </tr>\n",
       "  </tbody>\n",
       "</table>\n",
       "</div>"
      ],
      "text/plain": [
       "   BernoulliNB  ComplementNB  MultinomialNB  \\\n",
       "0     0.915715      0.829799       0.911909   \n",
       "0     0.970092      0.923872       0.959761   \n",
       "0     0.971724      0.952692       0.974443   \n",
       "0     0.973355      0.955411       0.975530   \n",
       "0     0.972268      0.957042       0.972811   \n",
       "0     0.973899      0.955411       0.973899   \n",
       "0     0.973355      0.960848       0.975530   \n",
       "\n",
       "                                          Descrição  \n",
       "0     5 Amostras; usando split, e replace de pontos  \n",
       "0   100 Amostras; usando split, e replace de pontos  \n",
       "0   150 Amostras; usando split, e replace de pontos  \n",
       "0   200 Amostras; usando split, e replace de pontos  \n",
       "0   400 Amostras; usando split, e replace de pontos  \n",
       "0   600 Amostras; usando split, e replace de pontos  \n",
       "0  1000 Amostras; usando split, e replace de pontos  "
      ]
     },
     "execution_count": 279,
     "metadata": {},
     "output_type": "execute_result"
    }
   ],
   "source": [
    "resultado"
   ]
  },
  {
   "cell_type": "code",
   "execution_count": null,
   "metadata": {},
   "outputs": [],
   "source": []
  }
 ],
 "metadata": {
  "kernelspec": {
   "display_name": "Python 3",
   "language": "python",
   "name": "python3"
  },
  "language_info": {
   "codemirror_mode": {
    "name": "ipython",
    "version": 3
   },
   "file_extension": ".py",
   "mimetype": "text/x-python",
   "name": "python",
   "nbconvert_exporter": "python",
   "pygments_lexer": "ipython3",
   "version": "3.7.6"
  }
 },
 "nbformat": 4,
 "nbformat_minor": 2
}
