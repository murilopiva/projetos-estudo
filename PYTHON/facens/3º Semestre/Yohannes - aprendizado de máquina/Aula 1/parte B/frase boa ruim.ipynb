{
 "cells": [
  {
   "cell_type": "code",
   "execution_count": 119,
   "metadata": {
    "scrolled": true
   },
   "outputs": [
    {
     "data": {
      "text/html": [
       "<div>\n",
       "<style scoped>\n",
       "    .dataframe tbody tr th:only-of-type {\n",
       "        vertical-align: middle;\n",
       "    }\n",
       "\n",
       "    .dataframe tbody tr th {\n",
       "        vertical-align: top;\n",
       "    }\n",
       "\n",
       "    .dataframe thead th {\n",
       "        text-align: right;\n",
       "    }\n",
       "</style>\n",
       "<table border=\"1\" class=\"dataframe\">\n",
       "  <thead>\n",
       "    <tr style=\"text-align: right;\">\n",
       "      <th></th>\n",
       "      <th>Odeio</th>\n",
       "      <th>Não</th>\n",
       "      <th>Prom/Desc</th>\n",
       "      <th>Amo</th>\n",
       "      <th>Resultado</th>\n",
       "    </tr>\n",
       "  </thead>\n",
       "  <tbody>\n",
       "    <tr>\n",
       "      <th>0</th>\n",
       "      <td>SIM</td>\n",
       "      <td>NÃO</td>\n",
       "      <td>NÃO</td>\n",
       "      <td>NÃO</td>\n",
       "      <td>Ruim</td>\n",
       "    </tr>\n",
       "    <tr>\n",
       "      <th>1</th>\n",
       "      <td>NÃO</td>\n",
       "      <td>NÃO</td>\n",
       "      <td>NÃO</td>\n",
       "      <td>NÃO</td>\n",
       "      <td>Ruim</td>\n",
       "    </tr>\n",
       "    <tr>\n",
       "      <th>2</th>\n",
       "      <td>NÃO</td>\n",
       "      <td>NÃO</td>\n",
       "      <td>SIM</td>\n",
       "      <td>SIM</td>\n",
       "      <td>Bom</td>\n",
       "    </tr>\n",
       "    <tr>\n",
       "      <th>3</th>\n",
       "      <td>SIM</td>\n",
       "      <td>SIM</td>\n",
       "      <td>NÃO</td>\n",
       "      <td>NÃO</td>\n",
       "      <td>Ruim</td>\n",
       "    </tr>\n",
       "    <tr>\n",
       "      <th>4</th>\n",
       "      <td>NÃO</td>\n",
       "      <td>NÃO</td>\n",
       "      <td>SIM</td>\n",
       "      <td>SIM</td>\n",
       "      <td>Bom</td>\n",
       "    </tr>\n",
       "  </tbody>\n",
       "</table>\n",
       "</div>"
      ],
      "text/plain": [
       "  Odeio  Não Prom/Desc  Amo Resultado\n",
       "0   SIM  NÃO       NÃO  NÃO      Ruim\n",
       "1   NÃO  NÃO       NÃO  NÃO      Ruim\n",
       "2   NÃO  NÃO       SIM  SIM       Bom\n",
       "3   SIM  SIM       NÃO  NÃO      Ruim\n",
       "4   NÃO  NÃO       SIM  SIM       Bom"
      ]
     },
     "execution_count": 119,
     "metadata": {},
     "output_type": "execute_result"
    }
   ],
   "source": [
    "import pandas as pd\n",
    "\n",
    "df = pd.DataFrame({'Odeio':['SIM','NÃO','NÃO','SIM','NÃO'], \n",
    "                   'Não':['NÃO','NÃO','NÃO','SIM','NÃO'], \n",
    "                   'Prom/Desc':['NÃO','NÃO','SIM','NÃO','SIM'], \n",
    "                   'Amo':['NÃO','NÃO','SIM','NÃO','SIM'],\n",
    "                   'Resultado': ['Ruim','Ruim','Bom','Ruim','Bom']})\n",
    "\n",
    "df\n",
    "\n"
   ]
  },
  {
   "cell_type": "code",
   "execution_count": 122,
   "metadata": {},
   "outputs": [
    {
     "name": "stdout",
     "output_type": "stream",
     "text": [
      "Total de resultado bom 2\n",
      "Total de resultado ruim: 3\n"
     ]
    }
   ],
   "source": [
    "df_bom = df[df['Resultado'] == 'Bom']\n",
    "df_ruim = df[df['Resultado'] == 'Ruim']\n",
    "\n",
    "total_bom = len(df_bom)\n",
    "total_ruim = len(df_ruim)\n",
    "print(\"Total de resultado bom\", total_bom)\n",
    "print(\"Total de resultado ruim:\", total_ruim)"
   ]
  },
  {
   "cell_type": "code",
   "execution_count": 136,
   "metadata": {},
   "outputs": [
    {
     "name": "stdout",
     "output_type": "stream",
     "text": [
      "{'Odeio', 'Amo', 'Não', 'Prom/Desc'}\n"
     ]
    }
   ],
   "source": [
    "prob_bom = dict()\n",
    "prob_ruim = dict()\n",
    "\n",
    "colunas = set(df.columns)\n",
    "colunas.remove('Resultado')\n",
    "print(colunas)"
   ]
  },
  {
   "cell_type": "code",
   "execution_count": 146,
   "metadata": {},
   "outputs": [
    {
     "name": "stdout",
     "output_type": "stream",
     "text": [
      "0.4\n",
      "0.6\n"
     ]
    }
   ],
   "source": [
    "pBom = total_bom / len(df)\n",
    "pRuim = total_ruim / len(df)\n",
    "print(pBom)\n",
    "print(pRuim)"
   ]
  },
  {
   "cell_type": "code",
   "execution_count": 138,
   "metadata": {},
   "outputs": [],
   "source": [
    "for c in colunas:\n",
    "    prob_bom[c] = dict()\n",
    "    prob_ruim[c] = dict()\n",
    "    \n",
    "    valores_possiveis = df[c]\n",
    "    \n",
    "    valores = list(df_bom[c])\n",
    "    total = len(valores)\n",
    "    for v in set(valores_possiveis):\n",
    "        prob_bom[c][v] = valores.count(v) / total\n",
    "        if prob_bom[c][v] == 0:\n",
    "            prob_bom[c][v] = 0.0001\n",
    "            \n",
    "    valores = list(df_ruim[c])\n",
    "    total = len(valores)\n",
    "    for v in set(valores_possiveis):\n",
    "        prob_ruim[c][v] = valores.count(v) / total\n",
    "        if prob_ruim[c][v] == 0:\n",
    "            prob_ruim[c][v] = 0.0001"
   ]
  },
  {
   "cell_type": "code",
   "execution_count": null,
   "metadata": {},
   "outputs": [],
   "source": []
  },
  {
   "cell_type": "code",
   "execution_count": 163,
   "metadata": {},
   "outputs": [],
   "source": [
    "# bom = prob_bom['Odeio']['SIM'] *prob_bom['Amo']['SIM'] *prob_bom['Não']['SIM'] * prob_bom['Prom/Desc']['NÃO'] * pBom\n",
    "# ruim = prob_ruim['Odeio']['SIM'] *prob_ruim['Amo']['SIM'] *prob_ruim['Não']['SIM'] * prob_ruim['Prom/Desc']['NÃO'] * pRuim\n",
    "\n",
    "bom = prob_bom['Odeio']['SIM'] *prob_bom['Amo']['SIM']  * pBom\n",
    "ruim = prob_ruim['Odeio']['SIM'] *prob_ruim['Amo']['SIM']* pRuim"
   ]
  },
  {
   "cell_type": "code",
   "execution_count": 164,
   "metadata": {},
   "outputs": [
    {
     "name": "stdout",
     "output_type": "stream",
     "text": [
      "0.000040000000000000003272122157\n",
      "0.000040000000000000003272122157\n"
     ]
    }
   ],
   "source": [
    "print ('{0:.30f}'.format(bom))\n",
    "print ('{0:.30f}'.format(ruim))"
   ]
  },
  {
   "cell_type": "code",
   "execution_count": 158,
   "metadata": {},
   "outputs": [
    {
     "name": "stdout",
     "output_type": "stream",
     "text": [
      "0.0000400000\n"
     ]
    }
   ],
   "source": [
    "print ('{0:.10f}'.format(bom))"
   ]
  },
  {
   "cell_type": "code",
   "execution_count": 114,
   "metadata": {},
   "outputs": [
    {
     "name": "stdout",
     "output_type": "stream",
     "text": [
      "Frase ruim\n"
     ]
    }
   ],
   "source": [
    "if bom > ruim:\n",
    "    print(\"Frase boa\")\n",
    "else:\n",
    "    print(\"Frase ruim\")"
   ]
  }
 ],
 "metadata": {
  "kernelspec": {
   "display_name": "Python 3",
   "language": "python",
   "name": "python3"
  },
  "language_info": {
   "codemirror_mode": {
    "name": "ipython",
    "version": 3
   },
   "file_extension": ".py",
   "mimetype": "text/x-python",
   "name": "python",
   "nbconvert_exporter": "python",
   "pygments_lexer": "ipython3",
   "version": "3.7.6"
  }
 },
 "nbformat": 4,
 "nbformat_minor": 4
}
