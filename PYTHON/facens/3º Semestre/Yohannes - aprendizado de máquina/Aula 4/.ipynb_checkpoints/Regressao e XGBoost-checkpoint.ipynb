{
 "cells": [
  {
   "cell_type": "markdown",
   "metadata": {
    "id": "VOwZwoJAo3hp"
   },
   "source": [
    "### Gradient Boosting Trees - XGBoost"
   ]
  },
  {
   "cell_type": "markdown",
   "metadata": {
    "id": "XSJzN2H_Bp6T"
   },
   "source": [
    "XGBoost é uma técnica de ensemble de árvores que funciona por boosting, criando árvores simples que melhoram iterativamente, revendo as amostras que as versões anteriores classificaram errado. Nesse material, baseado em https://blog.cambridgespark.com/hyperparameter-tuning-in-xgboost-4ff9100a3b2f, serão cobertos os principais parâmetros e a otimização deles para o bom treinamento do método XGBoost no contexto da regressão.\n",
    "\n",
    "#### Instalando a biblioteca"
   ]
  },
  {
   "cell_type": "code",
   "execution_count": 1,
   "metadata": {
    "colab": {
     "base_uri": "https://localhost:8080/"
    },
    "id": "DplIAiUvosht",
    "outputId": "9c3a08b5-fe8f-4313-99ad-edb121029062"
   },
   "outputs": [
    {
     "name": "stdout",
     "output_type": "stream",
     "text": [
      "Collecting xgboost\n",
      "  Downloading xgboost-1.3.3-py3-none-win_amd64.whl (95.2 MB)\n",
      "Requirement already satisfied: numpy in c:\\users\\user\\anaconda3\\lib\\site-packages (from xgboost) (1.18.1)\n",
      "Requirement already satisfied: scipy in c:\\users\\user\\anaconda3\\lib\\site-packages (from xgboost) (1.4.1)\n",
      "Installing collected packages: xgboost\n",
      "Successfully installed xgboost-1.3.3\n"
     ]
    }
   ],
   "source": [
    "!pip install xgboost"
   ]
  },
  {
   "cell_type": "markdown",
   "metadata": {
    "id": "S5wyGAdsCV9s"
   },
   "source": [
    "#### Carregando o dataset Facebook Comment Volume"
   ]
  },
  {
   "cell_type": "code",
   "execution_count": 29,
   "metadata": {
    "colab": {
     "base_uri": "https://localhost:8080/",
     "height": 224
    },
    "id": "059653mxp24o",
    "outputId": "f608935b-a631-415c-f927-14b032787689"
   },
   "outputs": [
    {
     "data": {
      "text/html": [
       "<div>\n",
       "<style scoped>\n",
       "    .dataframe tbody tr th:only-of-type {\n",
       "        vertical-align: middle;\n",
       "    }\n",
       "\n",
       "    .dataframe tbody tr th {\n",
       "        vertical-align: top;\n",
       "    }\n",
       "\n",
       "    .dataframe thead th {\n",
       "        text-align: right;\n",
       "    }\n",
       "</style>\n",
       "<table border=\"1\" class=\"dataframe\">\n",
       "  <thead>\n",
       "    <tr style=\"text-align: right;\">\n",
       "      <th></th>\n",
       "      <th>0</th>\n",
       "      <th>1</th>\n",
       "      <th>2</th>\n",
       "      <th>3</th>\n",
       "      <th>4</th>\n",
       "      <th>5</th>\n",
       "      <th>6</th>\n",
       "      <th>7</th>\n",
       "      <th>8</th>\n",
       "      <th>9</th>\n",
       "      <th>...</th>\n",
       "      <th>44</th>\n",
       "      <th>45</th>\n",
       "      <th>46</th>\n",
       "      <th>47</th>\n",
       "      <th>48</th>\n",
       "      <th>49</th>\n",
       "      <th>50</th>\n",
       "      <th>51</th>\n",
       "      <th>52</th>\n",
       "      <th>53</th>\n",
       "    </tr>\n",
       "  </thead>\n",
       "  <tbody>\n",
       "    <tr>\n",
       "      <th>0</th>\n",
       "      <td>634995</td>\n",
       "      <td>0</td>\n",
       "      <td>463</td>\n",
       "      <td>1</td>\n",
       "      <td>0.0</td>\n",
       "      <td>806.0</td>\n",
       "      <td>11.291045</td>\n",
       "      <td>1.0</td>\n",
       "      <td>70.495138</td>\n",
       "      <td>0.0</td>\n",
       "      <td>...</td>\n",
       "      <td>0</td>\n",
       "      <td>0</td>\n",
       "      <td>0</td>\n",
       "      <td>0</td>\n",
       "      <td>0</td>\n",
       "      <td>0</td>\n",
       "      <td>0</td>\n",
       "      <td>0</td>\n",
       "      <td>1</td>\n",
       "      <td>0</td>\n",
       "    </tr>\n",
       "    <tr>\n",
       "      <th>1</th>\n",
       "      <td>634995</td>\n",
       "      <td>0</td>\n",
       "      <td>463</td>\n",
       "      <td>1</td>\n",
       "      <td>0.0</td>\n",
       "      <td>806.0</td>\n",
       "      <td>11.291045</td>\n",
       "      <td>1.0</td>\n",
       "      <td>70.495138</td>\n",
       "      <td>0.0</td>\n",
       "      <td>...</td>\n",
       "      <td>0</td>\n",
       "      <td>0</td>\n",
       "      <td>0</td>\n",
       "      <td>0</td>\n",
       "      <td>0</td>\n",
       "      <td>0</td>\n",
       "      <td>0</td>\n",
       "      <td>1</td>\n",
       "      <td>0</td>\n",
       "      <td>0</td>\n",
       "    </tr>\n",
       "    <tr>\n",
       "      <th>2</th>\n",
       "      <td>634995</td>\n",
       "      <td>0</td>\n",
       "      <td>463</td>\n",
       "      <td>1</td>\n",
       "      <td>0.0</td>\n",
       "      <td>806.0</td>\n",
       "      <td>11.291045</td>\n",
       "      <td>1.0</td>\n",
       "      <td>70.495138</td>\n",
       "      <td>0.0</td>\n",
       "      <td>...</td>\n",
       "      <td>1</td>\n",
       "      <td>0</td>\n",
       "      <td>0</td>\n",
       "      <td>0</td>\n",
       "      <td>0</td>\n",
       "      <td>0</td>\n",
       "      <td>0</td>\n",
       "      <td>0</td>\n",
       "      <td>1</td>\n",
       "      <td>0</td>\n",
       "    </tr>\n",
       "    <tr>\n",
       "      <th>3</th>\n",
       "      <td>634995</td>\n",
       "      <td>0</td>\n",
       "      <td>463</td>\n",
       "      <td>1</td>\n",
       "      <td>0.0</td>\n",
       "      <td>806.0</td>\n",
       "      <td>11.291045</td>\n",
       "      <td>1.0</td>\n",
       "      <td>70.495138</td>\n",
       "      <td>0.0</td>\n",
       "      <td>...</td>\n",
       "      <td>1</td>\n",
       "      <td>0</td>\n",
       "      <td>0</td>\n",
       "      <td>1</td>\n",
       "      <td>0</td>\n",
       "      <td>0</td>\n",
       "      <td>0</td>\n",
       "      <td>0</td>\n",
       "      <td>0</td>\n",
       "      <td>0</td>\n",
       "    </tr>\n",
       "    <tr>\n",
       "      <th>4</th>\n",
       "      <td>634995</td>\n",
       "      <td>0</td>\n",
       "      <td>463</td>\n",
       "      <td>1</td>\n",
       "      <td>0.0</td>\n",
       "      <td>806.0</td>\n",
       "      <td>11.291045</td>\n",
       "      <td>1.0</td>\n",
       "      <td>70.495138</td>\n",
       "      <td>0.0</td>\n",
       "      <td>...</td>\n",
       "      <td>0</td>\n",
       "      <td>0</td>\n",
       "      <td>0</td>\n",
       "      <td>0</td>\n",
       "      <td>0</td>\n",
       "      <td>1</td>\n",
       "      <td>0</td>\n",
       "      <td>0</td>\n",
       "      <td>0</td>\n",
       "      <td>0</td>\n",
       "    </tr>\n",
       "  </tbody>\n",
       "</table>\n",
       "<p>5 rows × 54 columns</p>\n",
       "</div>"
      ],
      "text/plain": [
       "       0   1    2   3    4      5          6    7          8    9   ...  44  \\\n",
       "0  634995   0  463   1  0.0  806.0  11.291045  1.0  70.495138  0.0  ...   0   \n",
       "1  634995   0  463   1  0.0  806.0  11.291045  1.0  70.495138  0.0  ...   0   \n",
       "2  634995   0  463   1  0.0  806.0  11.291045  1.0  70.495138  0.0  ...   1   \n",
       "3  634995   0  463   1  0.0  806.0  11.291045  1.0  70.495138  0.0  ...   1   \n",
       "4  634995   0  463   1  0.0  806.0  11.291045  1.0  70.495138  0.0  ...   0   \n",
       "\n",
       "   45  46  47  48  49  50  51  52  53  \n",
       "0   0   0   0   0   0   0   0   1   0  \n",
       "1   0   0   0   0   0   0   1   0   0  \n",
       "2   0   0   0   0   0   0   0   1   0  \n",
       "3   0   0   1   0   0   0   0   0   0  \n",
       "4   0   0   0   0   1   0   0   0   0  \n",
       "\n",
       "[5 rows x 54 columns]"
      ]
     },
     "execution_count": 29,
     "metadata": {},
     "output_type": "execute_result"
    }
   ],
   "source": [
    "import pandas as pd\n",
    "\n",
    "# Dataset disponível em: https://archive.ics.uci.edu/ml/datasets/Facebook+Comment+Volume+Dataset\n",
    "\n",
    "df = pd.read_csv(\"Features_Variant_1.csv\", header=None)\n",
    "df.head(n=5)"
   ]
  },
  {
   "cell_type": "code",
   "execution_count": 30,
   "metadata": {
    "colab": {
     "base_uri": "https://localhost:8080/"
    },
    "id": "hAhJqlYOyaV8",
    "outputId": "807b35c1-6127-4627-8c20-3f818943d872"
   },
   "outputs": [
    {
     "name": "stdout",
     "output_type": "stream",
     "text": [
      "(40949, 54)\n"
     ]
    }
   ],
   "source": [
    "print(df.shape)"
   ]
  },
  {
   "cell_type": "markdown",
   "metadata": {
    "id": "-PpiP8BICo3I"
   },
   "source": [
    "#### Separação dos dados"
   ]
  },
  {
   "cell_type": "code",
   "execution_count": 31,
   "metadata": {
    "id": "w6VNJPaTydBj"
   },
   "outputs": [],
   "source": [
    "X, y = df.loc[:,:52].values, df.loc[:,53].values"
   ]
  },
  {
   "cell_type": "code",
   "execution_count": 39,
   "metadata": {},
   "outputs": [
    {
     "data": {
      "text/plain": [
       "array([[     0,    463],\n",
       "       [     0,    463],\n",
       "       [     0,    463],\n",
       "       ...,\n",
       "       [    70, 497000],\n",
       "       [    70, 497000],\n",
       "       [    70, 497000]], dtype=int64)"
      ]
     },
     "execution_count": 39,
     "metadata": {},
     "output_type": "execute_result"
    }
   ],
   "source": [
    "df.loc[:,1:2].values"
   ]
  },
  {
   "cell_type": "code",
   "execution_count": 6,
   "metadata": {
    "id": "7AHWk2HOyljW"
   },
   "outputs": [],
   "source": [
    "from sklearn.model_selection import train_test_split\n",
    "X_train, X_test, y_train, y_test = train_test_split(X,y,test_size=.1, random_state=42)"
   ]
  },
  {
   "cell_type": "code",
   "execution_count": 7,
   "metadata": {
    "id": "YM-tIoIpyqy2"
   },
   "outputs": [],
   "source": [
    "import xgboost as xgb\n",
    "\n",
    "dtrain = xgb.DMatrix(X_train, label=y_train)\n",
    "dtest = xgb.DMatrix(X_test, label=y_test)"
   ]
  },
  {
   "cell_type": "markdown",
   "metadata": {
    "id": "3OWdR6yZCtPh"
   },
   "source": [
    "#### Cálculo do baseline\n",
    "\n",
    "Como estimativa, no problema de regressão, é esperado que algum modelo de regressão seja melhor do que simplesmente prever como a saída a média dos valores já observados (que seria o menor erro em média sem alguma estratégia mais inteligente)."
   ]
  },
  {
   "cell_type": "code",
   "execution_count": 8,
   "metadata": {
    "colab": {
     "base_uri": "https://localhost:8080/"
    },
    "id": "MJIsuKq9yww_",
    "outputId": "5bea0f51-d981-457b-ee15-2b160c4c25f9"
   },
   "outputs": [
    {
     "name": "stdout",
     "output_type": "stream",
     "text": [
      "Baseline MAE = 11.31\n"
     ]
    }
   ],
   "source": [
    "from sklearn.metrics import mean_absolute_error\n",
    "\n",
    "import numpy as np\n",
    "\n",
    "# \"Learn\" the mean from the training data\n",
    "mean_train = np.mean(y_train)\n",
    "\n",
    "# Get predictions on the test set\n",
    "baseline_predictions = np.ones(y_test.shape) * mean_train\n",
    "\n",
    "# Compute MAE\n",
    "mae_baseline = mean_absolute_error(y_test, baseline_predictions)\n",
    "\n",
    "print(\"Baseline MAE = {:.2f}\".format(mae_baseline))"
   ]
  },
  {
   "cell_type": "markdown",
   "metadata": {
    "id": "8dK8zD0iDsHX"
   },
   "source": [
    "#### Definição dos parâmetros iniciais para XGB\n",
    "\n",
    "- Profundidade máxima\n",
    "- Quantidade de filhos no nó\n",
    "- Taxa de aprendizagem\n",
    "- Amostragem de registros\n",
    "- Amostragem de colunas\n",
    "- Função objetiva\n",
    "\n",
    "Definição completa dos parÂmetros: http://xgboost.readthedocs.io/en/latest/parameter.html"
   ]
  },
  {
   "cell_type": "code",
   "execution_count": 9,
   "metadata": {
    "id": "avegMs_VzHUs"
   },
   "outputs": [],
   "source": [
    "params = {\n",
    "    # Parameters that we are going to tune.\n",
    "    'max_depth':6,\n",
    "    'min_child_weight': 1,\n",
    "    'eta':.3,\n",
    "    'subsample': 1,\n",
    "    'colsample_bytree': 1,\n",
    "    # Other parameters\n",
    "    'objective':'reg:squarederror',\n",
    "}"
   ]
  },
  {
   "cell_type": "markdown",
   "metadata": {
    "id": "M3pbcZboF80U"
   },
   "source": [
    "A métrica de avaliação a ser utilizada será o erro médio absoluto, que é a medida mais simples, em um problema de regressão. Esse parâmetro será incluído no dicionário de parâmetros, mas o objetivo não é encontrar a melhor configuração.\n",
    "\n",
    "Já o parâmetro **num_boost_round** diz respeito ao números de iterações que será realizado antes da parada forçada do algoritmo."
   ]
  },
  {
   "cell_type": "code",
   "execution_count": 10,
   "metadata": {
    "id": "5xwnejTZF8AN"
   },
   "outputs": [],
   "source": [
    "\n",
    "params['eval_metric'] = \"mae\"\n",
    "\n",
    "num_boost_round = 999"
   ]
  },
  {
   "cell_type": "markdown",
   "metadata": {
    "id": "gX0_LUIDELZZ"
   },
   "source": [
    "#### Treinamento do XGB com os parâmetros iniciais\n",
    "\n",
    "Em seguida, o treinamento do XGB será feito com os parâmetros iniciais, considerando a parada antecipada se após 10 iterações não for notada melhoria na métrica observada."
   ]
  },
  {
   "cell_type": "code",
   "execution_count": 11,
   "metadata": {
    "colab": {
     "base_uri": "https://localhost:8080/"
    },
    "id": "0uhM_9MozbRb",
    "outputId": "461aa454-d677-4796-b02c-e047faf2bcbf"
   },
   "outputs": [
    {
     "name": "stdout",
     "output_type": "stream",
     "text": [
      "[0]\tTest-mae:5.97478\n",
      "[1]\tTest-mae:5.03359\n",
      "[2]\tTest-mae:4.64571\n",
      "[3]\tTest-mae:4.42330\n",
      "[4]\tTest-mae:4.39328\n",
      "[5]\tTest-mae:4.35544\n",
      "[6]\tTest-mae:4.31317\n",
      "[7]\tTest-mae:4.33087\n",
      "[8]\tTest-mae:4.37163\n",
      "[9]\tTest-mae:4.38772\n",
      "[10]\tTest-mae:4.39442\n",
      "[11]\tTest-mae:4.40662\n",
      "[12]\tTest-mae:4.39126\n",
      "[13]\tTest-mae:4.39087\n",
      "[14]\tTest-mae:4.39829\n",
      "[15]\tTest-mae:4.39103\n",
      "[16]\tTest-mae:4.40306\n"
     ]
    }
   ],
   "source": [
    "model = xgb.train(\n",
    "    params,\n",
    "    dtrain,\n",
    "    num_boost_round=num_boost_round,\n",
    "    evals=[(dtest, \"Test\")],\n",
    "    early_stopping_rounds=10\n",
    ")"
   ]
  },
  {
   "cell_type": "markdown",
   "metadata": {
    "id": "a6rSAcVgHPaA"
   },
   "source": [
    "#### Hiperparametrização (Grid search)\n",
    "\n",
    "O grande potencial do XGBoost está em encontrar uma boa configuração de parâmetros para o problema avaliado. Para avaliar a configuração dos parâmetros, é recomendado a *validação cruzada* em vez do processo de **hold-out**."
   ]
  },
  {
   "cell_type": "code",
   "execution_count": null,
   "metadata": {
    "id": "boAtzSvC0ALL"
   },
   "outputs": [],
   "source": [
    "cv_results = xgb.cv(\n",
    "    params,\n",
    "    dtrain,\n",
    "    num_boost_round=num_boost_round,\n",
    "    seed=42,\n",
    "    nfold=5,\n",
    "    metrics={'mae'},\n",
    "    early_stopping_rounds=10\n",
    ")"
   ]
  },
  {
   "cell_type": "code",
   "execution_count": null,
   "metadata": {
    "colab": {
     "base_uri": "https://localhost:8080/",
     "height": 359
    },
    "id": "T2I5S-6Q0Gi7",
    "outputId": "6842f12d-87df-43d0-b2f6-e70acb1ece41"
   },
   "outputs": [],
   "source": [
    "cv_results.head(10)"
   ]
  },
  {
   "cell_type": "code",
   "execution_count": null,
   "metadata": {
    "colab": {
     "base_uri": "https://localhost:8080/"
    },
    "id": "Xt0BCEYU1Iqn",
    "outputId": "92db18e5-d468-4fa1-e896-aac597cc3334"
   },
   "outputs": [],
   "source": [
    "cv_results['test-mae-mean'].min()"
   ]
  },
  {
   "cell_type": "markdown",
   "metadata": {
    "id": "wmBhhvY3IBR_"
   },
   "source": [
    "É possível perceber que o menor MAE encontrado já é melhor que o baseline de média (Baseline MAE = 11,31)."
   ]
  },
  {
   "cell_type": "markdown",
   "metadata": {
    "id": "GmNJnjvNImeu"
   },
   "source": [
    "#### Parâmetros max_depth e min_child_weight\n",
    "\n",
    "- max_depth: profundidade máxima da árvore a partir da raiz até a última folha; quanto mais profunda, maior chance de causar overfitting.\n",
    "- min_child_weight: critério de criação de novas falhas; quanto menor, mais divisões a árvore faz, portanto maior é a chance de causar overfitting.\n",
    "\n",
    "Ambos os parâmetros controlam a complexidade da árvore."
   ]
  },
  {
   "cell_type": "code",
   "execution_count": null,
   "metadata": {
    "id": "5NW275qG04IM"
   },
   "outputs": [],
   "source": [
    "gridsearch_params = [\n",
    "    (max_depth, min_child_weight)\n",
    "    for max_depth in range(9,12)\n",
    "    for min_child_weight in range(5,8)\n",
    "]"
   ]
  },
  {
   "cell_type": "code",
   "execution_count": null,
   "metadata": {
    "colab": {
     "base_uri": "https://localhost:8080/"
    },
    "id": "_Yki5l7J1Yyl",
    "outputId": "949c7676-087c-4476-ecef-05de3e6a0491"
   },
   "outputs": [],
   "source": [
    "min_mae = float(\"Inf\")\n",
    "best_params = None\n",
    "for max_depth, min_child_weight in gridsearch_params:\n",
    "    print(\"CV with max_depth={}, min_child_weight={}\".format(\n",
    "                             max_depth,\n",
    "                             min_child_weight))\n",
    "    # Update our parameters\n",
    "    params['max_depth'] = max_depth\n",
    "    params['min_child_weight'] = min_child_weight\n",
    "    # Run CV\n",
    "    cv_results = xgb.cv(\n",
    "        params,\n",
    "        dtrain,\n",
    "        num_boost_round=num_boost_round,\n",
    "        seed=42,\n",
    "        nfold=5,\n",
    "        metrics={'mae'},\n",
    "        early_stopping_rounds=10\n",
    "    )\n",
    "    # Update best MAE\n",
    "    mean_mae = cv_results['test-mae-mean'].min()\n",
    "    boost_rounds = cv_results['test-mae-mean'].argmin()\n",
    "    print(\"\\tMAE {} for {} rounds\".format(mean_mae, boost_rounds))\n",
    "    if mean_mae < min_mae:\n",
    "        min_mae = mean_mae\n",
    "        best_params = (max_depth,min_child_weight)\n",
    "print(\"Best params: {}, {}, MAE: {}\".format(best_params[0], best_params[1], min_mae))"
   ]
  },
  {
   "cell_type": "code",
   "execution_count": null,
   "metadata": {
    "id": "VwwnktxN2jAm"
   },
   "outputs": [],
   "source": [
    "params['max_depth'] = 10\n",
    "params['min_child_weight'] = 6"
   ]
  },
  {
   "cell_type": "markdown",
   "metadata": {
    "id": "jhEhSqvnKinv"
   },
   "source": [
    "#### Parâmetros subsample e colsample_bytree\n",
    "\n",
    "- subsample: quantidade máxima de amostras a ser considerada por árvore\n",
    "- colsample: quantdidade máxima de atributos a ser considerado por árvore\n",
    "\n",
    "Esses atributos controlam o efeito de bootstraping na construção das árvores."
   ]
  },
  {
   "cell_type": "code",
   "execution_count": null,
   "metadata": {
    "id": "VEozukpv2mEv"
   },
   "outputs": [],
   "source": [
    "gridsearch_params = [\n",
    "    (subsample, colsample)\n",
    "    for subsample in [i/10. for i in range(7,11)]\n",
    "    for colsample in [i/10. for i in range(7,11)]\n",
    "]"
   ]
  },
  {
   "cell_type": "code",
   "execution_count": null,
   "metadata": {
    "colab": {
     "base_uri": "https://localhost:8080/"
    },
    "id": "aitgnuO42qj6",
    "outputId": "13046b82-7724-4a8b-acfd-003fcfc2a8dc"
   },
   "outputs": [],
   "source": [
    "min_mae = float(\"Inf\")\n",
    "best_params = None\n",
    "# We start by the largest values and go down to the smallest\n",
    "for subsample, colsample in reversed(gridsearch_params):\n",
    "    print(\"CV with subsample={}, colsample={}\".format(\n",
    "                             subsample,\n",
    "                             colsample))\n",
    "    # We update our parameters\n",
    "    params['subsample'] = subsample\n",
    "    params['colsample_bytree'] = colsample\n",
    "    # Run CV\n",
    "    cv_results = xgb.cv(\n",
    "        params,\n",
    "        dtrain,\n",
    "        num_boost_round=num_boost_round,\n",
    "        seed=42,\n",
    "        nfold=5,\n",
    "        metrics={'mae'},\n",
    "        early_stopping_rounds=10\n",
    "    )\n",
    "    # Update best score\n",
    "    mean_mae = cv_results['test-mae-mean'].min()\n",
    "    boost_rounds = cv_results['test-mae-mean'].argmin()\n",
    "    print(\"\\tMAE {} for {} rounds\".format(mean_mae, boost_rounds))\n",
    "    if mean_mae < min_mae:\n",
    "        min_mae = mean_mae\n",
    "        best_params = (subsample,colsample)\n",
    "print(\"Best params: {}, {}, MAE: {}\".format(best_params[0], best_params[1], min_mae))"
   ]
  },
  {
   "cell_type": "code",
   "execution_count": null,
   "metadata": {
    "id": "9riZZgJE3rMU"
   },
   "outputs": [],
   "source": [
    "params['subsample'] = .9\n",
    "params['colsample_bytree'] = 1."
   ]
  },
  {
   "cell_type": "markdown",
   "metadata": {
    "id": "qmSNG-UGLfR7"
   },
   "source": [
    "#### Parâmetro ETA\n",
    "\n",
    "- eta: define a taxa de aprendizado e de ajuste de boosting com relação aos atributos nas iterações; valores menores podem corrigir overfitting, mas exigem mais iterações para reduzir o erro da árvore."
   ]
  },
  {
   "cell_type": "code",
   "execution_count": null,
   "metadata": {
    "colab": {
     "base_uri": "https://localhost:8080/"
    },
    "id": "XNjWat4M4dP0",
    "outputId": "77253308-af02-41f8-c4d0-42cf6fc71116"
   },
   "outputs": [],
   "source": [
    "min_mae = float(\"Inf\")\n",
    "best_params = None\n",
    "for eta in [.3, .2, .1, .05, .01, .005]:\n",
    "    print(\"CV with eta={}\".format(eta))\n",
    "    # We update our parameters\n",
    "    params['eta'] = eta\n",
    "    # Run and time CV\n",
    "    cv_results = xgb.cv(\n",
    "        params,\n",
    "        dtrain,\n",
    "        num_boost_round=num_boost_round,\n",
    "        seed=42,\n",
    "        nfold=5,\n",
    "        metrics=['mae'],\n",
    "        early_stopping_rounds=10\n",
    "    )\n",
    "    # Update best score\n",
    "    mean_mae = cv_results['test-mae-mean'].min()\n",
    "    boost_rounds = cv_results['test-mae-mean'].argmin()\n",
    "    print(\"\\tMAE {} for {} rounds\\n\".format(mean_mae, boost_rounds))\n",
    "    if mean_mae < min_mae:\n",
    "        min_mae = mean_mae\n",
    "        best_params = eta\n",
    "print(\"Best params: {}, MAE: {}\".format(best_params, min_mae))"
   ]
  },
  {
   "cell_type": "code",
   "execution_count": null,
   "metadata": {
    "id": "8031VEzy7-47"
   },
   "outputs": [],
   "source": [
    "params['eta'] = .05"
   ]
  },
  {
   "cell_type": "markdown",
   "metadata": {
    "id": "pWyLTPUsMQMW"
   },
   "source": [
    "Na hora de parametrizar, deve-se levar em consideração a relação de ganho de MAE em função do custo das iterações. Embora o eta = 0.01 leve a 3,86 -- ele custa 5x mais iterações que o eta = 0.05 com MAE de 3,88."
   ]
  },
  {
   "cell_type": "markdown",
   "metadata": {
    "id": "jZQ-01OgMrIQ"
   },
   "source": [
    "#### Parametrização final e treinamento após grid search"
   ]
  },
  {
   "cell_type": "code",
   "execution_count": null,
   "metadata": {
    "colab": {
     "base_uri": "https://localhost:8080/"
    },
    "id": "vQZNCMcE8QDT",
    "outputId": "7039f555-3fdb-438a-bdef-919aa9951278"
   },
   "outputs": [],
   "source": [
    "params"
   ]
  },
  {
   "cell_type": "code",
   "execution_count": null,
   "metadata": {
    "colab": {
     "base_uri": "https://localhost:8080/"
    },
    "id": "Hn7pS4-b8Xwz",
    "outputId": "7d7b56af-70cf-477c-f468-64e8e417717e"
   },
   "outputs": [],
   "source": [
    "model = xgb.train(\n",
    "    params,\n",
    "    dtrain,\n",
    "    num_boost_round=num_boost_round,\n",
    "    evals=[(dtest, \"Test\")],\n",
    "    early_stopping_rounds=10\n",
    ")"
   ]
  },
  {
   "cell_type": "markdown",
   "metadata": {
    "id": "rTgl9o17M3JK"
   },
   "source": [
    "#### Treinamento com o melhor número de iterações"
   ]
  },
  {
   "cell_type": "code",
   "execution_count": null,
   "metadata": {
    "colab": {
     "base_uri": "https://localhost:8080/"
    },
    "id": "N5IFvhPA8yjH",
    "outputId": "f6efe9b3-2bac-40df-d686-88343b01af57"
   },
   "outputs": [],
   "source": [
    "num_boost_round = model.best_iteration + 1\n",
    "\n",
    "best_model = xgb.train(\n",
    "    params,\n",
    "    dtrain,\n",
    "    num_boost_round=num_boost_round,\n",
    "    evals=[(dtest, \"Test\")]\n",
    ")"
   ]
  },
  {
   "cell_type": "markdown",
   "metadata": {
    "id": "glVsxfBwM_hh"
   },
   "source": [
    "#### Avaliação do erro no conjunto de teste\n",
    "\n",
    "Resultado após toda a parametrização, que mostra o ganho em cima da parametrização base de XGBoost que levou a 4,03."
   ]
  },
  {
   "cell_type": "code",
   "execution_count": null,
   "metadata": {
    "colab": {
     "base_uri": "https://localhost:8080/"
    },
    "id": "r1lKhIla9ya5",
    "outputId": "46f932f3-b42c-4d9b-c8c2-41f8cddb59f0"
   },
   "outputs": [],
   "source": [
    "mean_absolute_error(best_model.predict(dtest), y_test)"
   ]
  },
  {
   "cell_type": "markdown",
   "metadata": {
    "id": "-Nf5CV_ANVb2"
   },
   "source": [
    "#### Salvando e recuperando o modelo"
   ]
  },
  {
   "cell_type": "code",
   "execution_count": null,
   "metadata": {
    "id": "I9YHWQXk937c"
   },
   "outputs": [],
   "source": [
    "best_model.save_model(\"facebook_model.xgb\")"
   ]
  },
  {
   "cell_type": "code",
   "execution_count": null,
   "metadata": {
    "colab": {
     "base_uri": "https://localhost:8080/"
    },
    "id": "XOF5cd6c-dcO",
    "outputId": "05f40070-8dd7-439f-e639-b6272a740cb8"
   },
   "outputs": [],
   "source": [
    "loaded_model = xgb.Booster()\n",
    "loaded_model.load_model(\"facebook_model.xgb\")\n",
    "loaded_model.predict(dtest)"
   ]
  }
 ],
 "metadata": {
  "colab": {
   "name": "04_01_Regressao_XGBoost",
   "provenance": [],
   "toc_visible": true
  },
  "kernelspec": {
   "display_name": "Python 3",
   "language": "python",
   "name": "python3"
  },
  "language_info": {
   "codemirror_mode": {
    "name": "ipython",
    "version": 3
   },
   "file_extension": ".py",
   "mimetype": "text/x-python",
   "name": "python",
   "nbconvert_exporter": "python",
   "pygments_lexer": "ipython3",
   "version": "3.7.6"
  }
 },
 "nbformat": 4,
 "nbformat_minor": 1
}
