{
 "cells": [
  {
   "cell_type": "markdown",
   "metadata": {},
   "source": [
    "# Dataset"
   ]
  },
  {
   "cell_type": "markdown",
   "metadata": {},
   "source": [
    "In this demo we will be using a dataset that contains social networking, tagging, and music artist listening information \n",
    "from a set of 2K users from **[Last.fm](http://www.last.fm)** online music system. \n",
    "\n",
    "**[Last.fm Dataset](https://grouplens.org/datasets/hetrec-2011/):** \n",
    "\n",
    "* 1892 users; \n",
    "* 17632 artists; \n",
    "* 12717 bi-directional user friend relations, i.e. 25434 (user_i, user_j) pairs; \n",
    "* 92834 user-listened artist relations, i.e. tuples [user, artist, listeningCount]; \n",
    "* 11946 tags; 186479 tag assignments (tas), i.e. tuples [user, tag, artist]. \n",
    "* Last Update May, 2011.\n",
    "         "
   ]
  },
  {
   "cell_type": "markdown",
   "metadata": {},
   "source": [
    "## Understanding the dataset\n",
    "\n",
    "Access http://files.grouplens.org/datasets/hetrec2011/hetrec2011-lastfm-readme.txt in order to know better the dataset"
   ]
  },
  {
   "cell_type": "markdown",
   "metadata": {},
   "source": [
    "## Downloading the dataset:\n",
    "\n",
    "You can use the link http://files.grouplens.org/datasets/hetrec2011/hetrec2011-lastfm-2k.zip"
   ]
  },
  {
   "cell_type": "code",
   "execution_count": null,
   "metadata": {},
   "outputs": [],
   "source": [
    "!wget http://files.grouplens.org/datasets/hetrec2011/hetrec2011-lastfm-2k.zip -q --show-progress\n",
    "!unzip hetrec2011-lastfm-2k.zip\n",
    "!rm hetrec2011-lastfm-2k.zip\n",
    "\n",
    "%env DATASET_PATH hetrec2011-lastfm-2k"
   ]
  },
  {
   "cell_type": "markdown",
   "metadata": {},
   "source": [
    "# Import the dataset to Hive"
   ]
  },
  {
   "cell_type": "code",
   "execution_count": null,
   "metadata": {},
   "outputs": [],
   "source": [
    "!beeline -u \"jdbc:hive2://\" -e \"SHOW DATABASES;\""
   ]
  },
  {
   "cell_type": "code",
   "execution_count": null,
   "metadata": {},
   "outputs": [],
   "source": [
    "!beeline -u \"jdbc:hive2://\" -e \"USE musics; drop table user_artists;\""
   ]
  },
  {
   "cell_type": "code",
   "execution_count": null,
   "metadata": {},
   "outputs": [],
   "source": [
    "#Creating table user_artists\n",
    "!beeline -u \"jdbc:hive2://\" -e \"USE musics; CREATE TABLE user_artists(                                        \\\n",
    "                                                                     userID   INT,                            \\\n",
    "                                                                     artistID INT,                            \\\n",
    "                                                                     weight   INT )                           \\\n",
    "                                                            ROW FORMAT DELIMITED                              \\\n",
    "                                                            FIELDS TERMINATED BY '\\t'                         \\\n",
    "                                                            STORED AS TEXTFILE                                \\\n",
    "                                                            tblproperties(\\\"skip.header.line.count\\\"=\\\"1\\\");\"\n",
    "\n",
    "#Loading data\n",
    "!beeline -u \"jdbc:hive2://\" -e \"USE musics;  LOAD DATA LOCAL INPATH '$(pwd)/user_artists.dat'\\\n",
    "                                                OVERWRITE INTO TABLE user_artists;\""
   ]
  },
  {
   "cell_type": "code",
   "execution_count": null,
   "metadata": {},
   "outputs": [],
   "source": [
    "!beeline -u \"jdbc:hive2://\" -e \"USE musics; SELECT * FROM user_artists limit 10;\""
   ]
  },
  {
   "cell_type": "code",
   "execution_count": null,
   "metadata": {},
   "outputs": [],
   "source": [
    "#Creating table artists\n",
    "!beeline -u \"jdbc:hive2://\" -e \"USE musics; CREATE TABLE artists(                                             \\\n",
    "                                                                     ID   INT,                                \\\n",
    "                                                                     name STRING,                             \\\n",
    "                                                                     URL   STRING,                             \\\n",
    "                                                                     pictureURL   STRING )                    \\\n",
    "                                                            ROW FORMAT DELIMITED                              \\\n",
    "                                                            FIELDS TERMINATED BY '\\t'                         \\\n",
    "                                                            STORED AS TEXTFILE                                \\\n",
    "                                                            tblproperties(\\\"skip.header.line.count\\\"=\\\"1\\\");\"\n",
    "\n",
    "#Loading data\n",
    "!beeline -u \"jdbc:hive2://\" -e \"USE musics;  LOAD DATA LOCAL INPATH '$(pwd)/artists.dat'\\\n",
    "                                                OVERWRITE INTO TABLE artists;\"\n"
   ]
  },
  {
   "cell_type": "code",
   "execution_count": null,
   "metadata": {},
   "outputs": [],
   "source": [
    "!beeline -u \"jdbc:hive2://\" -e \"USE musics; SELECT * FROM artists limit 10;\""
   ]
  },
  {
   "cell_type": "code",
   "execution_count": null,
   "metadata": {},
   "outputs": [],
   "source": [
    "#Creating table user\n",
    "!beeline -u \"jdbc:hive2://\" -e \"USE musics; CREATE TABLE user_friends(                                       \\\n",
    "                                                                     userID    INT,                          \\\n",
    "                                                                     friendID  INT        )                  \\\n",
    "                                                            ROW FORMAT DELIMITED                             \\\n",
    "                                                            FIELDS TERMINATED BY '\\t'                        \\\n",
    "                                                            STORED AS TEXTFILE                               \\\n",
    "                                                            tblproperties(\\\"skip.header.line.count\\\"=\\\"1\\\");\"\n",
    "\n",
    "#Loading data\n",
    "!beeline -u \"jdbc:hive2://\" -e \"USE musics;  LOAD DATA LOCAL INPATH '$(pwd)/user_friends.dat'\\\n",
    "                                                OVERWRITE INTO TABLE user_friends;\"\n"
   ]
  },
  {
   "cell_type": "code",
   "execution_count": null,
   "metadata": {},
   "outputs": [],
   "source": [
    "!beeline -u \"jdbc:hive2://\" -e \"USE musics; SELECT * FROM user_friends limit 10;\""
   ]
  },
  {
   "cell_type": "markdown",
   "metadata": {},
   "source": [
    " # Exploring the dataset"
   ]
  },
  {
   "cell_type": "markdown",
   "metadata": {},
   "source": [
    "## What is the name of the most popular artist (listened by distinct users)?"
   ]
  },
  {
   "cell_type": "code",
   "execution_count": null,
   "metadata": {},
   "outputs": [],
   "source": [
    "!beeline -u \"jdbc:hive2://\" -e \"USE musics; SELECT a.name, count(distinct b.userid) qd_user FROM artists a inner join user_artists b on b.artistid = a.id group by a.name order by qd_user desc limit 1;\""
   ]
  },
  {
   "cell_type": "markdown",
   "metadata": {},
   "source": [
    "## What is the most popular user?"
   ]
  },
  {
   "cell_type": "code",
   "execution_count": 77,
   "metadata": {},
   "outputs": [
    {
     "name": "stdout",
     "output_type": "stream",
     "text": [
      "Connecting to jdbc:hive2://\n",
      "Connected to: Apache Hive (version 2.3.7)\n",
      "Driver: Hive JDBC (version 2.3.7)\n",
      "Transaction isolation: TRANSACTION_REPEATABLE_READ\n",
      "OK\n",
      "No rows affected (1.217 seconds)\n",
      "WARNING: Hive-on-MR is deprecated in Hive 2 and may not be available in the future versions. Consider using a different execution engine (i.e. spark, tez) or using Hive 1.X releases.\n",
      "Query ID = jovyan_20200930011254_568fdf19-8920-492a-afb9-0bcb1808e1de\n",
      "Total jobs = 2\n",
      "WARNING: Hive-on-MR is deprecated in Hive 2 and may not be available in the future versions. Consider using a different execution engine (i.e. spark, tez) or using Hive 1.X releases.\n",
      "2020-09-30 01:13:01\tStarting to launch local task to process map join;\tmaximum memory = 477626368\n",
      "2020-09-30 01:13:01\tStarting to launch local task to process map join;\tmaximum memory = 477626368\n",
      "2020-09-30 01:13:03\tDump the side-table for tag: 0 with group count: 1892 into file: file:/tmp/jovyan/9b37f533-c5c2-4267-ba73-44be774d5bd2/hive_2020-09-30_01-12-54_607_610559708521159070-1/-local-10006/HashTable-Stage-2/MapJoin-mapfile00--.hashtable\n",
      "2020-09-30 01:13:03\tUploaded 1 File to: file:/tmp/jovyan/9b37f533-c5c2-4267-ba73-44be774d5bd2/hive_2020-09-30_01-12-54_607_610559708521159070-1/-local-10006/HashTable-Stage-2/MapJoin-mapfile00--.hashtable (229686 bytes)\n",
      "2020-09-30 01:13:03\tEnd of local task; Time Taken: 1.725 sec.\n",
      "2020-09-30 01:13:03\tDump the side-table for tag: 0 with group count: 1892 into file: file:/tmp/jovyan/9b37f533-c5c2-4267-ba73-44be774d5bd2/hive_2020-09-30_01-12-54_607_610559708521159070-1/-local-10006/HashTable-Stage-2/MapJoin-mapfile00--.hashtable\n",
      "2020-09-30 01:13:03\tUploaded 1 File to: file:/tmp/jovyan/9b37f533-c5c2-4267-ba73-44be774d5bd2/hive_2020-09-30_01-12-54_607_610559708521159070-1/-local-10006/HashTable-Stage-2/MapJoin-mapfile00--.hashtable (229686 bytes)\n",
      "2020-09-30 01:13:03\tEnd of local task; Time Taken: 1.725 sec.\n",
      "Execution completed successfully\n",
      "MapredLocal task succeeded\n",
      "Launching Job 1 out of 2\n",
      "Number of reduce tasks not specified. Estimated from input data size: 1\n",
      "In order to change the average load for a reducer (in bytes):\n",
      "  set hive.exec.reducers.bytes.per.reducer=<number>\n",
      "In order to limit the maximum number of reducers:\n",
      "  set hive.exec.reducers.max=<number>\n",
      "In order to set a constant number of reducers:\n",
      "  set mapreduce.job.reduces=<number>\n",
      "Starting Job = job_1601423227041_0011, Tracking URL = http://jupyter-thedatasociety-2dlab-2dhadoop-2d8zdw7mw2:8088/proxy/application_1601423227041_0011/\n",
      "Kill Command = /home/jovyan/resources/local/hadoop-2.9.2/bin/hadoop job  -kill job_1601423227041_0011\n",
      "Hadoop job information for Stage-2: number of mappers: 1; number of reducers: 1\n",
      "2020-09-30 01:13:17,253 Stage-2 map = 0%,  reduce = 0%\n",
      "2020-09-30 01:13:31,456 Stage-2 map = 100%,  reduce = 0%, Cumulative CPU 4.83 sec\n",
      "2020-09-30 01:13:37,845 Stage-2 map = 100%,  reduce = 100%, Cumulative CPU 7.34 sec\n",
      "MapReduce Total cumulative CPU time: 7 seconds 340 msec\n",
      "Ended Job = job_1601423227041_0011\n",
      "Launching Job 2 out of 2\n",
      "Number of reduce tasks determined at compile time: 1\n",
      "In order to change the average load for a reducer (in bytes):\n",
      "  set hive.exec.reducers.bytes.per.reducer=<number>\n",
      "In order to limit the maximum number of reducers:\n",
      "  set hive.exec.reducers.max=<number>\n",
      "In order to set a constant number of reducers:\n",
      "  set mapreduce.job.reduces=<number>\n",
      "Starting Job = job_1601423227041_0012, Tracking URL = http://jupyter-thedatasociety-2dlab-2dhadoop-2d8zdw7mw2:8088/proxy/application_1601423227041_0012/\n",
      "Kill Command = /home/jovyan/resources/local/hadoop-2.9.2/bin/hadoop job  -kill job_1601423227041_0012\n",
      "Hadoop job information for Stage-3: number of mappers: 1; number of reducers: 1\n",
      "2020-09-30 01:13:54,654 Stage-3 map = 0%,  reduce = 0%\n",
      "2020-09-30 01:13:59,898 Stage-3 map = 100%,  reduce = 0%, Cumulative CPU 1.48 sec\n",
      "2020-09-30 01:14:12,359 Stage-3 map = 100%,  reduce = 100%, Cumulative CPU 3.39 sec\n",
      "MapReduce Total cumulative CPU time: 3 seconds 390 msec\n",
      "Ended Job = job_1601423227041_0012\n",
      "MapReduce Jobs Launched: \n",
      "Stage-Stage-2: Map: 1  Reduce: 1   Cumulative CPU: 7.34 sec   HDFS Read: 1307350 HDFS Write: 39846 SUCCESS\n",
      "Stage-Stage-3: Map: 1  Reduce: 1   Cumulative CPU: 3.39 sec   HDFS Read: 45473 HDFS Write: 108 SUCCESS\n",
      "Total MapReduce CPU Time Spent: 10 seconds 730 msec\n",
      "OK\n",
      "+-----------+------+\n",
      "| a.userid  |  qd  |\n",
      "+-----------+------+\n",
      "| 1543      | 119  |\n",
      "+-----------+------+\n",
      "1 row selected (84.156 seconds)\n",
      "Beeline version 2.3.7 by Apache Hive\n",
      "Closing: 0: jdbc:hive2://\n"
     ]
    }
   ],
   "source": [
    "!beeline -u \"jdbc:hive2://\" -e \"USE musics; \\\n",
    "                                SELECT a.userid  \\\n",
    "                                , count(distinct a.friendid) qd \\\n",
    "                                FROM user_friends a \\\n",
    "                                inner join user_artists b on b.userid = a.userid \\\n",
    "                                group by a.userid \\\n",
    "                                order by qd desc \\\n",
    "                                limit 1;\"\n"
   ]
  },
  {
   "cell_type": "markdown",
   "metadata": {},
   "source": [
    "## Which user most listened the band 'Enigma'?"
   ]
  },
  {
   "cell_type": "code",
   "execution_count": 79,
   "metadata": {},
   "outputs": [
    {
     "name": "stdout",
     "output_type": "stream",
     "text": [
      "Connecting to jdbc:hive2://\n",
      "Connected to: Apache Hive (version 2.3.7)\n",
      "Driver: Hive JDBC (version 2.3.7)\n",
      "Transaction isolation: TRANSACTION_REPEATABLE_READ\n",
      "OK\n",
      "No rows affected (1.275 seconds)\n",
      "WARNING: Hive-on-MR is deprecated in Hive 2 and may not be available in the future versions. Consider using a different execution engine (i.e. spark, tez) or using Hive 1.X releases.\n",
      "Query ID = jovyan_20200930011443_35d65b45-1f7f-41e9-af01-d7de2a3e6bd4\n",
      "Total jobs = 2\n",
      "WARNING: Hive-on-MR is deprecated in Hive 2 and may not be available in the future versions. Consider using a different execution engine (i.e. spark, tez) or using Hive 1.X releases.\n",
      "2020-09-30 01:14:50\tStarting to launch local task to process map join;\tmaximum memory = 477626368\n",
      "2020-09-30 01:14:50\tStarting to launch local task to process map join;\tmaximum memory = 477626368\n",
      "2020-09-30 01:14:51\tDump the side-table for tag: 1 with group count: 17632 into file: file:/tmp/jovyan/b47368aa-fc69-43aa-b399-eee35d5aafb4/hive_2020-09-30_01-14-43_531_4140812516648328408-1/-local-10006/HashTable-Stage-2/MapJoin-mapfile01--.hashtable\n",
      "2020-09-30 01:14:52\tUploaded 1 File to: file:/tmp/jovyan/b47368aa-fc69-43aa-b399-eee35d5aafb4/hive_2020-09-30_01-14-43_531_4140812516648328408-1/-local-10006/HashTable-Stage-2/MapJoin-mapfile01--.hashtable (1218228 bytes)\n",
      "2020-09-30 01:14:52\tEnd of local task; Time Taken: 2.01 sec.\n",
      "2020-09-30 01:14:51\tDump the side-table for tag: 1 with group count: 17632 into file: file:/tmp/jovyan/b47368aa-fc69-43aa-b399-eee35d5aafb4/hive_2020-09-30_01-14-43_531_4140812516648328408-1/-local-10006/HashTable-Stage-2/MapJoin-mapfile01--.hashtable\n",
      "2020-09-30 01:14:52\tUploaded 1 File to: file:/tmp/jovyan/b47368aa-fc69-43aa-b399-eee35d5aafb4/hive_2020-09-30_01-14-43_531_4140812516648328408-1/-local-10006/HashTable-Stage-2/MapJoin-mapfile01--.hashtable (1218228 bytes)\n",
      "2020-09-30 01:14:52\tEnd of local task; Time Taken: 2.01 sec.\n",
      "Execution completed successfully\n",
      "MapredLocal task succeeded\n",
      "Launching Job 1 out of 2\n",
      "Number of reduce tasks not specified. Estimated from input data size: 1\n",
      "In order to change the average load for a reducer (in bytes):\n",
      "  set hive.exec.reducers.bytes.per.reducer=<number>\n",
      "In order to limit the maximum number of reducers:\n",
      "  set hive.exec.reducers.max=<number>\n",
      "In order to set a constant number of reducers:\n",
      "  set mapreduce.job.reduces=<number>\n",
      "Starting Job = job_1601423227041_0013, Tracking URL = http://jupyter-thedatasociety-2dlab-2dhadoop-2d8zdw7mw2:8088/proxy/application_1601423227041_0013/\n",
      "Kill Command = /home/jovyan/resources/local/hadoop-2.9.2/bin/hadoop job  -kill job_1601423227041_0013\n",
      "Hadoop job information for Stage-2: number of mappers: 1; number of reducers: 1\n",
      "2020-09-30 01:15:01,321 Stage-2 map = 0%,  reduce = 0%\n",
      "2020-09-30 01:15:20,143 Stage-2 map = 100%,  reduce = 0%, Cumulative CPU 3.24 sec\n",
      "2020-09-30 01:15:28,481 Stage-2 map = 100%,  reduce = 100%, Cumulative CPU 5.05 sec\n",
      "MapReduce Total cumulative CPU time: 5 seconds 50 msec\n",
      "Ended Job = job_1601423227041_0013\n",
      "Launching Job 2 out of 2\n",
      "Number of reduce tasks determined at compile time: 1\n",
      "In order to change the average load for a reducer (in bytes):\n",
      "  set hive.exec.reducers.bytes.per.reducer=<number>\n",
      "In order to limit the maximum number of reducers:\n",
      "  set hive.exec.reducers.max=<number>\n",
      "In order to set a constant number of reducers:\n",
      "  set mapreduce.job.reduces=<number>\n",
      "Starting Job = job_1601423227041_0014, Tracking URL = http://jupyter-thedatasociety-2dlab-2dhadoop-2d8zdw7mw2:8088/proxy/application_1601423227041_0014/\n",
      "Kill Command = /home/jovyan/resources/local/hadoop-2.9.2/bin/hadoop job  -kill job_1601423227041_0014\n",
      "Hadoop job information for Stage-3: number of mappers: 1; number of reducers: 1\n",
      "2020-09-30 01:15:43,383 Stage-3 map = 0%,  reduce = 0%\n",
      "2020-09-30 01:15:56,864 Stage-3 map = 100%,  reduce = 0%, Cumulative CPU 1.33 sec\n",
      "2020-09-30 01:16:15,487 Stage-3 map = 100%,  reduce = 100%, Cumulative CPU 3.3 sec\n",
      "MapReduce Total cumulative CPU time: 3 seconds 300 msec\n",
      "Ended Job = job_1601423227041_0014\n",
      "MapReduce Jobs Launched: \n",
      "Stage-Stage-2: Map: 1  Reduce: 1   Cumulative CPU: 5.05 sec   HDFS Read: 1937196 HDFS Write: 999 SUCCESS\n",
      "Stage-Stage-3: Map: 1  Reduce: 1   Cumulative CPU: 3.3 sec   HDFS Read: 6432 HDFS Write: 109 SUCCESS\n",
      "Total MapReduce CPU Time Spent: 8 seconds 350 msec\n",
      "OK\n",
      "+-----------+----------+\n",
      "| b.userid  | qd_user  |\n",
      "+-----------+----------+\n",
      "| 932       | 41805    |\n",
      "+-----------+----------+\n",
      "1 row selected (93.146 seconds)\n",
      "Beeline version 2.3.7 by Apache Hive\n",
      "Closing: 0: jdbc:hive2://\n"
     ]
    }
   ],
   "source": [
    "!beeline -u \"jdbc:hive2://\" -e \"USE musics; \\\n",
    "                                SELECT b.userid, max(b.weight) qd_user \\\n",
    "                                FROM artists a \\\n",
    "                                inner join user_artists b on b.artistid = a.id\\\n",
    "                                where a.name = 'Enigma' \\\n",
    "                                group by b.userid \\\n",
    "                                order by qd_user desc \\\n",
    "                                limit 1;\""
   ]
  },
  {
   "cell_type": "markdown",
   "metadata": {},
   "source": [
    "# Challenge:"
   ]
  },
  {
   "cell_type": "markdown",
   "metadata": {},
   "source": [
    "## What is the name of the most listened artist?"
   ]
  },
  {
   "cell_type": "code",
   "execution_count": null,
   "metadata": {},
   "outputs": [],
   "source": [
    "!beeline -u \"jdbc:hive2://\" -e \"USE musics; SELECT a.name, sum(b.weight) qd FROM artists a inner join user_artists b on b.artistid = a.id group by a.name order by qd desc limit 1;\""
   ]
  },
  {
   "cell_type": "code",
   "execution_count": null,
   "metadata": {},
   "outputs": [],
   "source": []
  }
 ],
 "metadata": {
  "kernelspec": {
   "display_name": "Python 3",
   "language": "python",
   "name": "python3"
  },
  "language_info": {
   "codemirror_mode": {
    "name": "ipython",
    "version": 3
   },
   "file_extension": ".py",
   "mimetype": "text/x-python",
   "name": "python",
   "nbconvert_exporter": "python",
   "pygments_lexer": "ipython3",
   "version": "3.7.8"
  }
 },
 "nbformat": 4,
 "nbformat_minor": 4
}
