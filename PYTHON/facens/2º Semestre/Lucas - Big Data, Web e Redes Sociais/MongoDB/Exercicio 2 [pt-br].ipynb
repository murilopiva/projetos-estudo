{
 "cells": [
  {
   "cell_type": "markdown",
   "metadata": {},
   "source": [
    "# Exercício 2\n"
   ]
  },
  {
   "cell_type": "markdown",
   "metadata": {},
   "source": [
    "## Sobre a base de dados\n",
    "\n",
    "Neste laboratório você utilizará um dataset contendo informações sobre filmes e cinemas. \n",
    "\n",
    "**Collections:**\n",
    "* comments\n",
    "* movies\n",
    "* sessions\n",
    "* theaters\n",
    "* users\n",
    "\n",
    "\n",
    "\n",
    "\n",
    "Veja um exemplo de documento de um dos filmes da collection `movies` e entenda a estrutura/schema:\n",
    "\n",
    "```python\n",
    "{\n",
    "\t'_id': ObjectId('573a1390f29313caabcd4135'),\n",
    "\t'awards': {\n",
    "\t\t'nominations': 0,\n",
    "\t\t'text': '1 win.',\n",
    "\t\t'wins': 1\n",
    "\t},\n",
    "\t'cast': ['Charles Kayser', 'John Ott'],\n",
    "\t'countries': ['USA'],\n",
    "\t'directors': ['William K.L. Dickson'],\n",
    "\t'fullplot': 'A stationary camera looks at a large ...',\n",
    "\t'genres': ['Short'],\n",
    "\t'imdb': {\n",
    "\t\t'id': 5,\n",
    "\t\t'rating': 6.2,\n",
    "\t\t'votes': 1189\n",
    "\t},\n",
    "\t'lastupdated': '2015-08-26 00:03:50.133000000',\n",
    "\t'num_mflix_comments': 1,\n",
    "\t'plot': 'Three men hammer on an anvil and pass a bottle of beer around.',\n",
    "\t'rated': 'UNRATED',\n",
    "\t'released': datetime(1893, 5, 9, 0, 0),\n",
    "\t'runtime': 1,\n",
    "\t'title': 'Blacksmith Scene',\n",
    "\t'tomatoes': {\n",
    "\t\t'lastUpdated': datetime(2015, 6, 28, 18, 34, 9),\n",
    "\t\t'viewer': {\n",
    "\t\t\t'meter': 32,\n",
    "\t\t\t'numReviews': 184,\n",
    "\t\t\t'rating': 3.0\n",
    "\t\t},\n",
    "\t},\n",
    "\t'type': 'movie',\n",
    "\t'year': 1893,\n",
    "}\n",
    "```\n",
    "\n"
   ]
  },
  {
   "cell_type": "markdown",
   "metadata": {},
   "source": [
    "## Usando Python"
   ]
  },
  {
   "cell_type": "code",
   "execution_count": 1,
   "metadata": {},
   "outputs": [
    {
     "name": "stdout",
     "output_type": "stream",
     "text": [
      "Database(MongoClient(host=['localhost:27017'], document_class=dict, tz_aware=False, connect=True), 'mflix')\n"
     ]
    }
   ],
   "source": [
    "from pymongo import MongoClient\n",
    "from pprintpp import pprint\n",
    "import warnings\n",
    "warnings.filterwarnings('ignore')\n",
    "mongoclient = MongoClient('localhost', 27017)\n",
    "db = mongoclient.mflix\n",
    "print(db)"
   ]
  },
  {
   "cell_type": "code",
   "execution_count": 2,
   "metadata": {},
   "outputs": [
    {
     "data": {
      "text/plain": [
       "23539"
      ]
     },
     "execution_count": 2,
     "metadata": {},
     "output_type": "execute_result"
    }
   ],
   "source": [
    "db.movies.find({}).count()"
   ]
  },
  {
   "cell_type": "markdown",
   "metadata": {},
   "source": [
    "## Questões Exemplo"
   ]
  },
  {
   "cell_type": "markdown",
   "metadata": {},
   "source": [
    "### [Questão Exemplo A]  Mostre um documento qualquer da coleção movies"
   ]
  },
  {
   "cell_type": "code",
   "execution_count": 3,
   "metadata": {},
   "outputs": [
    {
     "name": "stdout",
     "output_type": "stream",
     "text": [
      "[\n",
      "    {\n",
      "        '_id': ObjectId('573a1390f29313caabcd4135'),\n",
      "        'awards': {'nominations': 0, 'text': '1 win.', 'wins': 1},\n",
      "        'cast': ['Charles Kayser', 'John Ott'],\n",
      "        'countries': ['USA'],\n",
      "        'directors': ['William K.L. Dickson'],\n",
      "        'fullplot': 'A stationary camera looks at a large anvil with a blacksmith behind it and one on either side. The smith in the middle draws a heated metal rod from the fire, places it on the anvil, and all three begin a rhythmic hammering. After several blows, the metal goes back in the fire. One smith pulls out a bottle of beer, and they each take a swig. Then, out comes the glowing metal and the hammering resumes.',\n",
      "        'genres': ['Short'],\n",
      "        'imdb': {'id': 5, 'rating': 6.2, 'votes': 1189},\n",
      "        'lastupdated': '2015-08-26 00:03:50.133000000',\n",
      "        'num_mflix_comments': 1,\n",
      "        'plot': 'Three men hammer on an anvil and pass a bottle of beer around.',\n",
      "        'rated': 'UNRATED',\n",
      "        'released': datetime.datetime(1893, 5, 9, 0, 0),\n",
      "        'runtime': 1,\n",
      "        'title': 'Blacksmith Scene',\n",
      "        'tomatoes': {\n",
      "            'lastUpdated': datetime.datetime(2015, 6, 28, 18, 34, 9),\n",
      "            'viewer': {'meter': 32, 'numReviews': 184, 'rating': 3.0},\n",
      "        },\n",
      "        'type': 'movie',\n",
      "        'year': 1893,\n",
      "    },\n",
      "]\n"
     ]
    }
   ],
   "source": [
    "result = db.movies.find({}).limit(1)\n",
    "\n",
    "pprint( list(result) )"
   ]
  },
  {
   "cell_type": "markdown",
   "metadata": {},
   "source": [
    "### [Questão Exemplo B]  Encontre os diretores do filme \"Inglourious Basterds\""
   ]
  },
  {
   "cell_type": "code",
   "execution_count": 4,
   "metadata": {},
   "outputs": [
    {
     "data": {
      "text/plain": [
       "[{'directors': ['Quentin Tarantino', 'Eli Roth']}]"
      ]
     },
     "execution_count": 4,
     "metadata": {},
     "output_type": "execute_result"
    }
   ],
   "source": [
    "result = db.movies.find({\"title\": \"Inglourious Basterds\"}, {\"_id\":0,\"directors\": 1})\n",
    "\n",
    "list(result)"
   ]
  },
  {
   "cell_type": "markdown",
   "metadata": {},
   "source": [
    "### [Questão 1] Mostre o ano de lançamento de todos os filme que começam com \"One Night\""
   ]
  },
  {
   "cell_type": "code",
   "execution_count": 5,
   "metadata": {},
   "outputs": [
    {
     "data": {
      "text/plain": [
       "[{'title': 'One Night of Love', 'year': 1934},\n",
       " {'title': 'One Night Stand', 'year': 1997},\n",
       " {'title': 'One Night with the King', 'year': 2006},\n",
       " {'title': 'One Night in City', 'year': 2007}]"
      ]
     },
     "execution_count": 5,
     "metadata": {},
     "output_type": "execute_result"
    }
   ],
   "source": [
    "result = db.movies.find({'title':{'$regex':'^One Night'}},\n",
    "                        {'title':1,'year':1, '_id':0}\n",
    "                       )\n",
    "list(result)"
   ]
  },
  {
   "cell_type": "markdown",
   "metadata": {},
   "source": [
    "### [Questão 2] Quantos filmes o diretor Quentin Tarantino dirigiu?\n",
    "\n",
    "<!--\n",
    "query = { \n",
    "         \"directors\": \"Quentin Tarantino\"\n",
    "}\n",
    "\n",
    "projection = { \n",
    "               \"title\": 1,\n",
    "               \"_id\": 0   \n",
    "}\n",
    "\n",
    "\n",
    "result = db.movies.find(query, projection).distinct(\"title\")\n",
    "list(result)\n",
    "-->"
   ]
  },
  {
   "cell_type": "code",
   "execution_count": 8,
   "metadata": {},
   "outputs": [
    {
     "name": "stdout",
     "output_type": "stream",
     "text": [
      "14\n"
     ]
    }
   ],
   "source": [
    "result = db.movies.find(\n",
    "                          {\n",
    "                            \"directors\": {\"$in\":[\"Quentin Tarantino\"]}\n",
    "                          }\n",
    "                        ).count()\n",
    "print (result)"
   ]
  },
  {
   "cell_type": "markdown",
   "metadata": {},
   "source": [
    "### [Questão 3] Quantos filmes do gênero \"Drama\" o diretor Quentin Tarantino dirigiu entre 1990 e 2005?\n",
    "\n",
    "\n",
    "<!--\n",
    "query = { \n",
    "         \"directors\": \"Quentin Tarantino\",\n",
    "         \"genres\" : \"Drama\",\n",
    "           \"$and\" : [ \n",
    "                     { \"year\": {\"$gte\":1990}},\n",
    "                     { \"year\": {\"$gte\":1990}}\n",
    "                    ]\n",
    "}\n",
    "\n",
    "projection = { \n",
    "               \"title\": 1,\n",
    "               \"genres\":1, \n",
    "               \"year\": 1,\n",
    "               \"_id\": 0\n",
    "}\n",
    "\n",
    "\n",
    "result = db.movies.find(query, projection)\n",
    "list(result)\n",
    "-->"
   ]
  },
  {
   "cell_type": "code",
   "execution_count": 12,
   "metadata": {},
   "outputs": [
    {
     "name": "stdout",
     "output_type": "stream",
     "text": [
      "8\n"
     ]
    }
   ],
   "source": [
    "# Documentos de autores com tipo = livro e ano entre 2000 e 2015\n",
    "\n",
    "result = db.movies.find(\n",
    "                          {\n",
    "                            \"directors\": \"Quentin Tarantino\",\n",
    "                            \"year\": {\"$gt\": 1990, \"$lt\": 2005}\n",
    "                          }\n",
    "                        ).count()\n",
    "print(result)"
   ]
  },
  {
   "cell_type": "markdown",
   "metadata": {},
   "source": [
    "### [Questão 4] Qual filme do diretor Quentin Tarantino teve mais prêmios?\n",
    "\n",
    "Dica: Sort em Pymongo https://www.w3schools.com/python/python_mongodb_sort.asp\n",
    "\n",
    "<!-- \n",
    "query = { \n",
    "         \"directors\": \"Quentin Tarantino\"\n",
    "}\n",
    "\n",
    "projection = { \n",
    "               \"title\": 1,\n",
    "               \"awards.wins\":1,\n",
    "               \"_id\": 0   \n",
    "}\n",
    "\n",
    "\n",
    "result = db.movies.find(query, projection).sort(\"awards.wins\",-1)\n",
    "list(result)\n",
    "-->"
   ]
  },
  {
   "cell_type": "code",
   "execution_count": 25,
   "metadata": {},
   "outputs": [
    {
     "name": "stdout",
     "output_type": "stream",
     "text": [
      "{\n",
      "    '_id': ObjectId('573a13adf29313caabd29a2b'),\n",
      "    'awards': {\n",
      "        'nominations': 114,\n",
      "        'text': 'Won 1 Oscar. Another 137 wins & 114 nominations.',\n",
      "        'wins': 138,\n",
      "    },\n",
      "    'cast': ['Brad Pitt', 'Mèlanie Laurent', 'Christoph Waltz', 'Eli Roth'],\n",
      "    'countries': ['USA', 'Germany'],\n",
      "    'directors': ['Quentin Tarantino', 'Eli Roth'],\n",
      "    'fullplot': 'In Nazi-occupied France, young Jewish refugee Shosanna Dreyfus witnesses the slaughter of her family by Colonel Hans Landa. Narrowly escaping with her life, she plots her revenge several years later when German war hero Fredrick Zoller takes a rapid interest in her and arranges an illustrious movie premiere at the theater she now runs. With the promise of every major Nazi officer in attendance, the event catches the attention of the \"Basterds\", a group of Jewish-American guerrilla soldiers led by the ruthless Lt. Aldo Raine. As the relentless executioners advance and the conspiring young girl\\'s plans are set in motion, their paths will cross for a fateful evening that will shake the very annals of history.',\n",
      "    'genres': ['Adventure', 'Drama', 'War'],\n",
      "    'imdb': {'id': 361748, 'rating': 8.3, 'votes': 769994},\n",
      "    'languages': ['English', 'German', 'French', 'Italian'],\n",
      "    'lastupdated': '2015-09-14 00:01:21.117000000',\n",
      "    'metacritic': 69,\n",
      "    'num_mflix_comments': 409,\n",
      "    'plot': \"In Nazi-occupied France during World War II, a plan to assassinate Nazi leaders by a group of Jewish U.S. soldiers coincides with a theatre owner's vengeful plans for the same.\",\n",
      "    'poster': 'https://m.media-amazon.com/images/M/MV5BOTJiNDEzOWYtMTVjOC00ZjlmLWE0NGMtZmE1OWVmZDQ2OWJhXkEyXkFqcGdeQXVyNTIzOTk5ODM@._V1_SY1000_SX677_AL_.jpg',\n",
      "    'rated': 'R',\n",
      "    'released': datetime.datetime(2009, 8, 21, 0, 0),\n",
      "    'runtime': 153,\n",
      "    'title': 'Inglourious Basterds',\n",
      "    'tomatoes': {\n",
      "        'boxOffice': '$120.5M',\n",
      "        'consensus': 'A classic Tarantino genre-blending thrill ride, Inglourious Basterds is violent, unrestrained, and thoroughly entertaining,',\n",
      "        'critic': {'meter': 89, 'numReviews': 299, 'rating': 7.8},\n",
      "        'dvd': datetime.datetime(2009, 12, 15, 0, 0),\n",
      "        'fresh': 265,\n",
      "        'lastUpdated': datetime.datetime(2015, 9, 12, 17, 22, 42),\n",
      "        'production': 'The Weinstein Company',\n",
      "        'rotten': 34,\n",
      "        'viewer': {'meter': 87, 'numReviews': 768918, 'rating': 3.9},\n",
      "        'website': 'http://www.inglouriousbasterds-movie.com/',\n",
      "    },\n",
      "    'type': 'movie',\n",
      "    'writers': ['Quentin Tarantino'],\n",
      "    'year': 2009,\n",
      "}\n"
     ]
    }
   ],
   "source": [
    "# Documentos de autores com tipo = livro e ano entre 2000 e 2015\n",
    "\n",
    "result = db.movies.find(\n",
    "                          {\n",
    "                            \"directors\": \"Quentin Tarantino\"\n",
    "                          }\n",
    "                        ).sort(\"awards.wins\",-1).limit(1)\n",
    "for x in result:\n",
    "    pprint(x)"
   ]
  },
  {
   "cell_type": "markdown",
   "metadata": {},
   "source": [
    "### [Questão Extra] Quais documentos (filmes) possuem mesmo nome e quantas vezes cada um se repete?\n",
    "\n",
    "<!--\n",
    "\n",
    "-->"
   ]
  },
  {
   "cell_type": "code",
   "execution_count": null,
   "metadata": {},
   "outputs": [],
   "source": [
    "pipeline = [\n",
    "            {\"$group\": {\"_id\": \"$title\", \"count\": {\"$sum\": 1}}},\n",
    "            {\"$match\": {\"count\":{\"$gt\":1}}},\n",
    "            {\"$sort\":  {\"count\": -1}}\n",
    "]\n",
    "\n",
    "\n",
    "result = db.movies.aggregate(pipeline)\n",
    "list(result)"
   ]
  },
  {
   "cell_type": "markdown",
   "metadata": {},
   "source": [
    "### [Questão Extra] Quantos filmes cada diretor participou da direção? (ignore filmes repetidos)"
   ]
  },
  {
   "cell_type": "code",
   "execution_count": null,
   "metadata": {},
   "outputs": [],
   "source": [
    "pipeline = [\n",
    "            {\"$unwind\": \"$directors\"},\n",
    "            {\"$group\": {\"_id\": \"$directors\", \"count\": {\"$sum\": 1}}},\n",
    "            {\"$sort\":  {\"count\": -1}}  \n",
    "]\n",
    "\n",
    "result = db.movies.aggregate(pipeline)\n",
    "list(result)"
   ]
  },
  {
   "cell_type": "markdown",
   "metadata": {},
   "source": [
    "### [Questão Extra] Qual a somatória de prêmios recebidos pelos filmes para cada diretor? (ignore filmes repetidos)"
   ]
  },
  {
   "cell_type": "code",
   "execution_count": null,
   "metadata": {},
   "outputs": [],
   "source": [
    "pipeline = [\n",
    "            {\"$unwind\": \"$directors\"},\n",
    "            {\"$group\": {\"_id\": \"$directors\", \"count\": {\"$sum\": \"$awards.wins\"}}},\n",
    "            {\"$sort\":  {\"count\": -1}}\n",
    "    \n",
    "]\n",
    "\n",
    "\n",
    "result = db.movies.aggregate(pipeline)\n",
    "list(result)"
   ]
  }
 ],
 "metadata": {
  "kernelspec": {
   "display_name": "Python 3",
   "language": "python",
   "name": "python3"
  },
  "language_info": {
   "codemirror_mode": {
    "name": "ipython",
    "version": 3
   },
   "file_extension": ".py",
   "mimetype": "text/x-python",
   "name": "python",
   "nbconvert_exporter": "python",
   "pygments_lexer": "ipython3",
   "version": "3.7.8"
  }
 },
 "nbformat": 4,
 "nbformat_minor": 4
}
