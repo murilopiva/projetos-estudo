{
 "cells": [
  {
   "cell_type": "markdown",
   "metadata": {},
   "source": [
    "# Exercício 1\n"
   ]
  },
  {
   "cell_type": "markdown",
   "metadata": {},
   "source": [
    "## Objetivo\n",
    "\n",
    "Esta atividade tem o objetivo de exercitar de maneira prática o que foi aprendido pelo aluno no contexto do MongoDB.\n"
   ]
  },
  {
   "cell_type": "markdown",
   "metadata": {},
   "source": [
    "## Sobre a base de dados\n",
    "\n",
    "Neste laboratório você utilizará um dataset contendo informações sobre restaurantes. A coleção de restaurantes contém 3772 documentos. Cada documento contém informações sobre um único restaurante.\n",
    "\n",
    "Veja um exemplo de documento de um dos restaurantes e entenda a estrutura/schema:\n",
    "\n",
    "```json\n",
    "{\n",
    "  \"address\": {\n",
    "     \"building\": \"1007\",\n",
    "     \"coord\": [ -73.856077, 40.848447 ],\n",
    "     \"street\": \"Morris Park Ave\",\n",
    "     \"zipcode\": \"10462\"\n",
    "  },\n",
    "  \"borough\": \"Bronx\",\n",
    "  \"cuisine\": \"Bakery\",\n",
    "  \"grades\": [\n",
    "     { \"date\": { \"$date\": 1393804800000 }, \"grade\": \"A\", \"score\": 2 },\n",
    "     { \"date\": { \"$date\": 1378857600000 }, \"grade\": \"A\", \"score\": 6 },\n",
    "     { \"date\": { \"$date\": 1358985600000 }, \"grade\": \"A\", \"score\": 10 },\n",
    "     { \"date\": { \"$date\": 1322006400000 }, \"grade\": \"A\", \"score\": 9 },\n",
    "     { \"date\": { \"$date\": 1299715200000 }, \"grade\": \"B\", \"score\": 14 }\n",
    "  ],\n",
    "  \"name\": \"Morris Park Bake Shop\",\n",
    "  \"restaurant_id\": \"30075445\"\n",
    "}\n",
    "\n",
    "```\n",
    "\n"
   ]
  },
  {
   "cell_type": "markdown",
   "metadata": {},
   "source": [
    "# Baixando a coleção"
   ]
  },
  {
   "cell_type": "code",
   "execution_count": 2,
   "metadata": {},
   "outputs": [
    {
     "name": "stdout",
     "output_type": "stream",
     "text": [
      "--2020-09-26 16:50:58--  https://www.w3resource.com/mongodb-exercises/restaurants.zip\n",
      "Resolving www.w3resource.com (www.w3resource.com)... 104.26.14.93, 172.67.69.127, 104.26.15.93, ...\n",
      "Connecting to www.w3resource.com (www.w3resource.com)|104.26.14.93|:443... connected.\n",
      "HTTP request sent, awaiting response... 200 OK\n",
      "Length: 262722 (257K) [application/zip]\n",
      "Saving to: ‘restaurants.zip’\n",
      "\n",
      "restaurants.zip     100%[===================>] 256.56K   993KB/s    in 0.3s    \n",
      "\n",
      "2020-09-26 16:50:59 (993 KB/s) - ‘restaurants.zip’ saved [262722/262722]\n",
      "\n",
      "Archive:  restaurants.zip\n",
      "  inflating: restaurants.json        \n"
     ]
    }
   ],
   "source": [
    "!wget https://www.w3resource.com/mongodb-exercises/restaurants.zip\n",
    "!unzip -o restaurants.zip\n",
    "!rm restaurants.zip"
   ]
  },
  {
   "cell_type": "markdown",
   "metadata": {},
   "source": [
    "# Importando a coleção para o MongoDB\n",
    "Utilizaremos o ``` mongoimport ``` para importar a coleção ``` restaunts.json ```. Mais informações sobre esta ferramenta podem ser encontradas em https://docs.mongodb.com/manual/reference/program/mongoimport/#bin.mongoimport .\n",
    "\n",
    "Modifique o comando abaixo, alterando o nome do banco de dados e da coleção para nomes de sua preferência. "
   ]
  },
  {
   "cell_type": "code",
   "execution_count": 3,
   "metadata": {},
   "outputs": [
    {
     "name": "stdout",
     "output_type": "stream",
     "text": [
      "2020-09-26T16:51:03.267+0000\tconnected to: mongodb://localhost/\n",
      "2020-09-26T16:51:03.267+0000\tdropping: exercicio1.restaurants\n",
      "2020-09-26T16:51:05.446+0000\t3772 document(s) imported successfully. 0 document(s) failed to import.\n"
     ]
    }
   ],
   "source": [
    "!mongoimport --db exercicio1 --collection restaurants --drop --file $(pwd)/restaurants.json"
   ]
  },
  {
   "cell_type": "markdown",
   "metadata": {},
   "source": [
    "# Opções para fazer consultas no dataset"
   ]
  },
  {
   "cell_type": "markdown",
   "metadata": {},
   "source": [
    "## Usando Python"
   ]
  },
  {
   "cell_type": "code",
   "execution_count": 6,
   "metadata": {},
   "outputs": [
    {
     "name": "stdout",
     "output_type": "stream",
     "text": [
      "Database(MongoClient(host=['localhost:27017'], document_class=dict, tz_aware=False, connect=True), 'exercicio1')\n"
     ]
    }
   ],
   "source": [
    "from pymongo import MongoClient\n",
    "from pprintpp import pprint\n",
    "import warnings\n",
    "warnings.filterwarnings('ignore')\n",
    "mongoclient = MongoClient('localhost', 27017)\n",
    "db = mongoclient.exercicio1\n",
    "print(db)"
   ]
  },
  {
   "cell_type": "code",
   "execution_count": 7,
   "metadata": {},
   "outputs": [
    {
     "data": {
      "text/plain": [
       "3772"
      ]
     },
     "execution_count": 7,
     "metadata": {},
     "output_type": "execute_result"
    }
   ],
   "source": [
    "db.restaurants.find({}).count()"
   ]
  },
  {
   "cell_type": "markdown",
   "metadata": {},
   "source": [
    "## Mongo Shell"
   ]
  },
  {
   "cell_type": "code",
   "execution_count": 5,
   "metadata": {},
   "outputs": [
    {
     "name": "stdout",
     "output_type": "stream",
     "text": [
      "3772\n"
     ]
    }
   ],
   "source": [
    "! mongo --quiet --eval 'db.restaurants.find().count();' exercicio1"
   ]
  },
  {
   "cell_type": "markdown",
   "metadata": {},
   "source": [
    "## Mongo Shell e Python"
   ]
  },
  {
   "cell_type": "code",
   "execution_count": 6,
   "metadata": {},
   "outputs": [
    {
     "name": "stdout",
     "output_type": "stream",
     "text": [
      "3772\n"
     ]
    }
   ],
   "source": [
    "documento_busca = {\n",
    "    \n",
    "}\n",
    "\n",
    "! mongo --quiet --eval \"db.restaurants.find().count();\" exercicio1"
   ]
  },
  {
   "cell_type": "markdown",
   "metadata": {},
   "source": [
    "## Questões Exemplo"
   ]
  },
  {
   "cell_type": "markdown",
   "metadata": {},
   "source": [
    "### [Questão Exemplo A]  Mostre um documento qualquer da coleção restaurants"
   ]
  },
  {
   "cell_type": "code",
   "execution_count": 18,
   "metadata": {},
   "outputs": [
    {
     "name": "stdout",
     "output_type": "stream",
     "text": [
      "[\n",
      "    {\n",
      "        '_id': ObjectId('5f6f6ebb38a1d371041dcd72'),\n",
      "        'address': {\n",
      "            'building': '8825',\n",
      "            'coord': [-73.8803827, 40.7643124],\n",
      "            'street': 'Astoria Boulevard',\n",
      "            'zipcode': '11369',\n",
      "        },\n",
      "        'borough': 'Queens',\n",
      "        'cuisine': 'American ',\n",
      "        'grades': [\n",
      "            {\n",
      "                'date': datetime.datetime(2014, 11, 15, 0, 0),\n",
      "                'grade': 'Z',\n",
      "                'score': 38,\n",
      "            },\n",
      "            {\n",
      "                'date': datetime.datetime(2014, 5, 2, 0, 0),\n",
      "                'grade': 'A',\n",
      "                'score': 10,\n",
      "            },\n",
      "            {\n",
      "                'date': datetime.datetime(2013, 3, 2, 0, 0),\n",
      "                'grade': 'A',\n",
      "                'score': 7,\n",
      "            },\n",
      "            {\n",
      "                'date': datetime.datetime(2012, 2, 10, 0, 0),\n",
      "                'grade': 'A',\n",
      "                'score': 13,\n",
      "            },\n",
      "        ],\n",
      "        'name': 'Brunos On The Boulevard',\n",
      "        'restaurant_id': '40356151',\n",
      "    },\n",
      "]\n"
     ]
    }
   ],
   "source": [
    "result = db.restaurants.find({}).limit(1)\n",
    "\n",
    "pprint( list(result) )"
   ]
  },
  {
   "cell_type": "markdown",
   "metadata": {},
   "source": [
    "### [Questão Exemplo B]  Encontre o documento referente ao restaurante de nome \"Kosher Island\""
   ]
  },
  {
   "cell_type": "code",
   "execution_count": 10,
   "metadata": {},
   "outputs": [
    {
     "name": "stdout",
     "output_type": "stream",
     "text": [
      "[\n",
      "    {\n",
      "        '_id': ObjectId('5f6f6ebb38a1d371041dcd77'),\n",
      "        'address': {\n",
      "            'building': '2206',\n",
      "            'coord': [-74.1377286, 40.6119572],\n",
      "            'street': 'Victory Boulevard',\n",
      "            'zipcode': '10314',\n",
      "        },\n",
      "        'borough': 'Staten Island',\n",
      "        'cuisine': 'Jewish/Kosher',\n",
      "        'grades': [\n",
      "            {\n",
      "                'date': datetime.datetime(2014, 10, 6, 0, 0),\n",
      "                'grade': 'A',\n",
      "                'score': 9,\n",
      "            },\n",
      "            {\n",
      "                'date': datetime.datetime(2014, 5, 20, 0, 0),\n",
      "                'grade': 'A',\n",
      "                'score': 12,\n",
      "            },\n",
      "            {\n",
      "                'date': datetime.datetime(2013, 4, 4, 0, 0),\n",
      "                'grade': 'A',\n",
      "                'score': 12,\n",
      "            },\n",
      "            {\n",
      "                'date': datetime.datetime(2012, 1, 24, 0, 0),\n",
      "                'grade': 'A',\n",
      "                'score': 9,\n",
      "            },\n",
      "        ],\n",
      "        'name': 'Kosher Island',\n",
      "        'restaurant_id': '40356442',\n",
      "    },\n",
      "]\n"
     ]
    }
   ],
   "source": [
    "result = db.restaurants.find({\"name\": \"Kosher Island\"})\n",
    "\n",
    "pprint( list(result) )"
   ]
  },
  {
   "cell_type": "markdown",
   "metadata": {},
   "source": [
    "## Questões a serem resolvidas"
   ]
  },
  {
   "cell_type": "markdown",
   "metadata": {},
   "source": [
    "### [Questão 1] Mostre o nome de todos os restaurantes sem repetir. Separadamente, mostre também todos os tipos distintos de cozinhas."
   ]
  },
  {
   "cell_type": "code",
   "execution_count": 20,
   "metadata": {},
   "outputs": [
    {
     "data": {
      "text/plain": [
       "[]"
      ]
     },
     "execution_count": 20,
     "metadata": {},
     "output_type": "execute_result"
    }
   ],
   "source": [
    "result = db.restaurants.distinct(\"name\")\n",
    "list(result)"
   ]
  },
  {
   "cell_type": "code",
   "execution_count": 21,
   "metadata": {},
   "outputs": [
    {
     "data": {
      "text/plain": [
       "['Afghan',\n",
       " 'African',\n",
       " 'American ',\n",
       " 'Armenian',\n",
       " 'Asian',\n",
       " 'Bagels/Pretzels',\n",
       " 'Bakery',\n",
       " 'Bangladeshi',\n",
       " 'Barbecue',\n",
       " 'Bottled beverages, including water, sodas, juices, etc.',\n",
       " 'Brazilian',\n",
       " 'CafÃ©/Coffee/Tea',\n",
       " 'Café/Coffee/Tea',\n",
       " 'Caribbean',\n",
       " 'Chicken',\n",
       " 'Chinese',\n",
       " 'Chinese/Cuban',\n",
       " 'Chinese/Japanese',\n",
       " 'Continental',\n",
       " 'Czech',\n",
       " 'Delicatessen',\n",
       " 'Donuts',\n",
       " 'Eastern European',\n",
       " 'Egyptian',\n",
       " 'English',\n",
       " 'Ethiopian',\n",
       " 'Filipino',\n",
       " 'French',\n",
       " 'German',\n",
       " 'Greek',\n",
       " 'Hamburgers',\n",
       " 'Hotdogs',\n",
       " 'Ice Cream, Gelato, Yogurt, Ices',\n",
       " 'Indian',\n",
       " 'Indonesian',\n",
       " 'Irish',\n",
       " 'Italian',\n",
       " 'Japanese',\n",
       " 'Jewish/Kosher',\n",
       " 'Juice, Smoothies, Fruit Salads',\n",
       " 'Korean',\n",
       " 'Latin (Cuban, Dominican, Puerto Rican, South & Central American)',\n",
       " 'Mediterranean',\n",
       " 'Mexican',\n",
       " 'Middle Eastern',\n",
       " 'Moroccan',\n",
       " 'Not Listed/Not Applicable',\n",
       " 'Other',\n",
       " 'Pakistani',\n",
       " 'Pancakes/Waffles',\n",
       " 'Peruvian',\n",
       " 'Pizza',\n",
       " 'Pizza/Italian',\n",
       " 'Polish',\n",
       " 'Portuguese',\n",
       " 'Russian',\n",
       " 'Salads',\n",
       " 'Sandwiches',\n",
       " 'Sandwiches/Salads/Mixed Buffet',\n",
       " 'Seafood',\n",
       " 'Soul Food',\n",
       " 'Soups & Sandwiches',\n",
       " 'Spanish',\n",
       " 'Steak',\n",
       " 'Tapas',\n",
       " 'Tex-Mex',\n",
       " 'Thai',\n",
       " 'Turkish',\n",
       " 'Vegetarian',\n",
       " 'Vietnamese/Cambodian/Malaysia']"
      ]
     },
     "execution_count": 21,
     "metadata": {},
     "output_type": "execute_result"
    }
   ],
   "source": [
    "result = db.restaurants.distinct(\"cuisine\")\n",
    "list(result)"
   ]
  },
  {
   "cell_type": "markdown",
   "metadata": {},
   "source": [
    "### [Questão 2] Mostre o nome e o tipo de cozinha de 5 restaurantes quaisquer sem exibir o campo \"_id\""
   ]
  },
  {
   "cell_type": "code",
   "execution_count": 27,
   "metadata": {},
   "outputs": [
    {
     "data": {
      "text/plain": [
       "[{'cuisine': 'American ', 'name': 'Brunos On The Boulevard'},\n",
       " {'cuisine': 'Bakery', 'name': 'Morris Park Bake Shop'},\n",
       " {'cuisine': 'Ice Cream, Gelato, Yogurt, Ices',\n",
       "  'name': 'Taste The Tropics Ice Cream'},\n",
       " {'cuisine': 'American ', 'name': 'Wild Asia'},\n",
       " {'cuisine': 'American ', 'name': 'Regina Caterers'}]"
      ]
     },
     "execution_count": 27,
     "metadata": {},
     "output_type": "execute_result"
    }
   ],
   "source": [
    "# Lista poemaPreferido de documentos de autores com nome = Maria\n",
    "\n",
    "result = db.restaurants.find(\n",
    "                         {}, \n",
    "                         {\n",
    "                             \"_id\": 0,\n",
    "                             \"name\":1,\n",
    "                             \"cuisine\": 1\n",
    "                         }\n",
    "                    ).limit(5)\n",
    "\n",
    "list(result)"
   ]
  },
  {
   "cell_type": "markdown",
   "metadata": {},
   "source": [
    "### [Questão 3] Mostre 5 restaurantes no bairro \"Bronx\""
   ]
  },
  {
   "cell_type": "code",
   "execution_count": 29,
   "metadata": {},
   "outputs": [
    {
     "data": {
      "text/plain": [
       "[{'_id': ObjectId('5f6f6ebb38a1d371041dcd73'),\n",
       "  'address': {'building': '1007',\n",
       "   'coord': [-73.856077, 40.848447],\n",
       "   'street': 'Morris Park Ave',\n",
       "   'zipcode': '10462'},\n",
       "  'borough': 'Bronx',\n",
       "  'cuisine': 'Bakery',\n",
       "  'grades': [{'date': datetime.datetime(2014, 3, 3, 0, 0),\n",
       "    'grade': 'A',\n",
       "    'score': 2},\n",
       "   {'date': datetime.datetime(2013, 9, 11, 0, 0), 'grade': 'A', 'score': 6},\n",
       "   {'date': datetime.datetime(2013, 1, 24, 0, 0), 'grade': 'A', 'score': 10},\n",
       "   {'date': datetime.datetime(2011, 11, 23, 0, 0), 'grade': 'A', 'score': 9},\n",
       "   {'date': datetime.datetime(2011, 3, 10, 0, 0), 'grade': 'B', 'score': 14}],\n",
       "  'name': 'Morris Park Bake Shop',\n",
       "  'restaurant_id': '30075445'},\n",
       " {'_id': ObjectId('5f6f6ebb38a1d371041dcd75'),\n",
       "  'address': {'building': '2300',\n",
       "   'coord': [-73.8786113, 40.8502883],\n",
       "   'street': 'Southern Boulevard',\n",
       "   'zipcode': '10460'},\n",
       "  'borough': 'Bronx',\n",
       "  'cuisine': 'American ',\n",
       "  'grades': [{'date': datetime.datetime(2014, 5, 28, 0, 0),\n",
       "    'grade': 'A',\n",
       "    'score': 11},\n",
       "   {'date': datetime.datetime(2013, 6, 19, 0, 0), 'grade': 'A', 'score': 4},\n",
       "   {'date': datetime.datetime(2012, 6, 15, 0, 0), 'grade': 'A', 'score': 3}],\n",
       "  'name': 'Wild Asia',\n",
       "  'restaurant_id': '40357217'},\n",
       " {'_id': ObjectId('5f6f6ebb38a1d371041dcd9b'),\n",
       "  'address': {'building': '277',\n",
       "   'coord': [-73.8941893, 40.8634684],\n",
       "   'street': 'East Kingsbridge Road',\n",
       "   'zipcode': '10458'},\n",
       "  'borough': 'Bronx',\n",
       "  'cuisine': 'Chinese',\n",
       "  'grades': [{'date': datetime.datetime(2014, 3, 3, 0, 0),\n",
       "    'grade': 'A',\n",
       "    'score': 10},\n",
       "   {'date': datetime.datetime(2013, 9, 26, 0, 0), 'grade': 'A', 'score': 10},\n",
       "   {'date': datetime.datetime(2013, 3, 19, 0, 0), 'grade': 'A', 'score': 10},\n",
       "   {'date': datetime.datetime(2012, 8, 29, 0, 0), 'grade': 'A', 'score': 11},\n",
       "   {'date': datetime.datetime(2011, 8, 17, 0, 0), 'grade': 'A', 'score': 13}],\n",
       "  'name': 'Happy Garden',\n",
       "  'restaurant_id': '40364296'},\n",
       " {'_id': ObjectId('5f6f6ebb38a1d371041dcda1'),\n",
       "  'address': {'building': '658',\n",
       "   'coord': [-73.81363999999999, 40.82941100000001],\n",
       "   'street': 'Clarence Ave',\n",
       "   'zipcode': '10465'},\n",
       "  'borough': 'Bronx',\n",
       "  'cuisine': 'American ',\n",
       "  'grades': [{'date': datetime.datetime(2014, 6, 21, 0, 0),\n",
       "    'grade': 'A',\n",
       "    'score': 5},\n",
       "   {'date': datetime.datetime(2012, 7, 11, 0, 0), 'grade': 'A', 'score': 10}],\n",
       "  'name': 'Manhem Club',\n",
       "  'restaurant_id': '40364363'},\n",
       " {'_id': ObjectId('5f6f6ebb38a1d371041dcdd8'),\n",
       "  'address': {'building': '331',\n",
       "   'coord': [-73.87786539999999, 40.8724377],\n",
       "   'street': 'East  204 Street',\n",
       "   'zipcode': '10467'},\n",
       "  'borough': 'Bronx',\n",
       "  'cuisine': 'Irish',\n",
       "  'grades': [{'date': datetime.datetime(2014, 8, 26, 0, 0),\n",
       "    'grade': 'A',\n",
       "    'score': 10},\n",
       "   {'date': datetime.datetime(2014, 3, 26, 0, 0), 'grade': 'B', 'score': 23},\n",
       "   {'date': datetime.datetime(2013, 9, 11, 0, 0), 'grade': 'A', 'score': 13},\n",
       "   {'date': datetime.datetime(2012, 12, 18, 0, 0), 'grade': 'B', 'score': 27},\n",
       "   {'date': datetime.datetime(2011, 10, 20, 0, 0), 'grade': 'A', 'score': 13}],\n",
       "  'name': 'Mcdwyers Pub',\n",
       "  'restaurant_id': '40365893'}]"
      ]
     },
     "execution_count": 29,
     "metadata": {},
     "output_type": "execute_result"
    }
   ],
   "source": [
    "result = db.restaurants.find(\n",
    "                         {\n",
    "                             \"borough\":\"Bronx\"\n",
    "                         }, \n",
    "                         {\n",
    "                             \"id\":0\n",
    "                         }\n",
    "                    ).limit(5)\n",
    "\n",
    "list(result)"
   ]
  },
  {
   "cell_type": "markdown",
   "metadata": {},
   "source": [
    "### [Questão 4] Altere o tipo de cozinha do restaurante \"Kosher Island\" para \"Sea food\""
   ]
  },
  {
   "cell_type": "code",
   "execution_count": 32,
   "metadata": {},
   "outputs": [
    {
     "name": "stdout",
     "output_type": "stream",
     "text": [
      "[\n",
      "    {\n",
      "        '_id': ObjectId('5f6f6ebb38a1d371041dcd77'),\n",
      "        'address': {\n",
      "            'building': '2206',\n",
      "            'coord': [-74.1377286, 40.6119572],\n",
      "            'street': 'Victory Boulevard',\n",
      "            'zipcode': '10314',\n",
      "        },\n",
      "        'borough': 'Staten Island',\n",
      "        'cuisine': 'Sea food',\n",
      "        'grades': [\n",
      "            {\n",
      "                'date': datetime.datetime(2014, 10, 6, 0, 0),\n",
      "                'grade': 'A',\n",
      "                'score': 9,\n",
      "            },\n",
      "            {\n",
      "                'date': datetime.datetime(2014, 5, 20, 0, 0),\n",
      "                'grade': 'A',\n",
      "                'score': 12,\n",
      "            },\n",
      "            {\n",
      "                'date': datetime.datetime(2013, 4, 4, 0, 0),\n",
      "                'grade': 'A',\n",
      "                'score': 12,\n",
      "            },\n",
      "            {\n",
      "                'date': datetime.datetime(2012, 1, 24, 0, 0),\n",
      "                'grade': 'A',\n",
      "                'score': 9,\n",
      "            },\n",
      "        ],\n",
      "        'name': 'Kosher Island',\n",
      "        'restaurant_id': '40356442',\n",
      "    },\n",
      "]\n"
     ]
    }
   ],
   "source": [
    "result = db.restaurants.find({\"name\": \"Kosher Island\"})\n",
    "\n",
    "pprint( list(result) )\n"
   ]
  },
  {
   "cell_type": "code",
   "execution_count": 31,
   "metadata": {},
   "outputs": [
    {
     "data": {
      "text/plain": [
       "{'n': 1, 'nModified': 1, 'ok': 1.0, 'updatedExisting': True}"
      ]
     },
     "execution_count": 31,
     "metadata": {},
     "output_type": "execute_result"
    }
   ],
   "source": [
    "db.restaurants.update(\n",
    "                   { \"name\" : \"Kosher Island\" },\n",
    "                   { \"$set\": { \n",
    "                               \"cuisine\": \"Sea food\" \n",
    "                             } \n",
    "                   }\n",
    ")"
   ]
  },
  {
   "cell_type": "markdown",
   "metadata": {},
   "source": [
    "### [Questão 5] Mostre e remova o(s) restaurante(s) com zipcode \"10314\""
   ]
  },
  {
   "cell_type": "code",
   "execution_count": 12,
   "metadata": {},
   "outputs": [
    {
     "name": "stdout",
     "output_type": "stream",
     "text": [
      "[\n",
      "    {\n",
      "        '_id': ObjectId('5f6f71774111f0fe3aebeff1'),\n",
      "        'address': {\n",
      "            'building': '1758',\n",
      "            'coord': [-74.1220973, 40.6129407],\n",
      "            'street': 'Victory Boulevard',\n",
      "            'zipcode': '10314',\n",
      "        },\n",
      "        'borough': 'Staten Island',\n",
      "        'cuisine': 'Pizza/Italian',\n",
      "        'grades': [\n",
      "            {\n",
      "                'date': datetime.datetime(2014, 11, 20, 0, 0),\n",
      "                'grade': 'A',\n",
      "                'score': 5,\n",
      "            },\n",
      "            {\n",
      "                'date': datetime.datetime(2014, 1, 13, 0, 0),\n",
      "                'grade': 'B',\n",
      "                'score': 14,\n",
      "            },\n",
      "            {\n",
      "                'date': datetime.datetime(2013, 4, 25, 0, 0),\n",
      "                'grade': 'A',\n",
      "                'score': 10,\n",
      "            },\n",
      "            {\n",
      "                'date': datetime.datetime(2012, 10, 9, 0, 0),\n",
      "                'grade': 'A',\n",
      "                'score': 4,\n",
      "            },\n",
      "            {\n",
      "                'date': datetime.datetime(2012, 5, 2, 0, 0),\n",
      "                'grade': 'B',\n",
      "                'score': 22,\n",
      "            },\n",
      "        ],\n",
      "        'name': \"Joe & Pat'S Pizzeria\",\n",
      "        'restaurant_id': '40365454',\n",
      "    },\n",
      "    {\n",
      "        '_id': ObjectId('5f6f71774111f0fe3aebf04c'),\n",
      "        'address': {\n",
      "            'building': '2206',\n",
      "            'coord': [-74.1377286, 40.6119572],\n",
      "            'street': 'Victory Boulevard',\n",
      "            'zipcode': '10314',\n",
      "        },\n",
      "        'borough': 'Staten Island',\n",
      "        'cuisine': 'Jewish/Kosher',\n",
      "        'grades': [\n",
      "            {\n",
      "                'date': datetime.datetime(2014, 10, 6, 0, 0),\n",
      "                'grade': 'A',\n",
      "                'score': 9,\n",
      "            },\n",
      "            {\n",
      "                'date': datetime.datetime(2014, 5, 20, 0, 0),\n",
      "                'grade': 'A',\n",
      "                'score': 12,\n",
      "            },\n",
      "            {\n",
      "                'date': datetime.datetime(2013, 4, 4, 0, 0),\n",
      "                'grade': 'A',\n",
      "                'score': 12,\n",
      "            },\n",
      "            {\n",
      "                'date': datetime.datetime(2012, 1, 24, 0, 0),\n",
      "                'grade': 'A',\n",
      "                'score': 9,\n",
      "            },\n",
      "        ],\n",
      "        'name': 'Kosher Island',\n",
      "        'restaurant_id': '40356442',\n",
      "    },\n",
      "]\n"
     ]
    }
   ],
   "source": [
    "result = db.restaurants.find({\"address.zipcode\": \"10314\"}).limit(2)\n",
    "\n",
    "pprint( list(result) )\n"
   ]
  },
  {
   "cell_type": "code",
   "execution_count": 15,
   "metadata": {},
   "outputs": [
    {
     "data": {
      "text/plain": [
       "3772"
      ]
     },
     "execution_count": 15,
     "metadata": {},
     "output_type": "execute_result"
    }
   ],
   "source": [
    "db.restaurants.count()"
   ]
  },
  {
   "cell_type": "code",
   "execution_count": 17,
   "metadata": {},
   "outputs": [
    {
     "data": {
      "text/plain": [
       "{'n': 37, 'ok': 1.0}"
      ]
     },
     "execution_count": 17,
     "metadata": {},
     "output_type": "execute_result"
    }
   ],
   "source": [
    "db.restaurants.remove({\"address.zipcode\": \"10314\"})"
   ]
  },
  {
   "cell_type": "code",
   "execution_count": 18,
   "metadata": {},
   "outputs": [
    {
     "data": {
      "text/plain": [
       "3735"
      ]
     },
     "execution_count": 18,
     "metadata": {},
     "output_type": "execute_result"
    }
   ],
   "source": [
    "db.restaurants.count()"
   ]
  },
  {
   "cell_type": "markdown",
   "metadata": {},
   "source": [
    "### [Questão 6] Adicione um campo status ao restaurante cujo nome é \"Riviera Caterer\". Status=\"demolido\"."
   ]
  },
  {
   "cell_type": "code",
   "execution_count": 19,
   "metadata": {},
   "outputs": [
    {
     "name": "stdout",
     "output_type": "stream",
     "text": [
      "[\n",
      "    {\n",
      "        '_id': ObjectId('5f6f71774111f0fe3aebefb8'),\n",
      "        'address': {\n",
      "            'building': '2780',\n",
      "            'coord': [-73.98241999999999, 40.579505],\n",
      "            'street': 'Stillwell Avenue',\n",
      "            'zipcode': '11224',\n",
      "        },\n",
      "        'borough': 'Brooklyn',\n",
      "        'cuisine': 'American ',\n",
      "        'grades': [\n",
      "            {\n",
      "                'date': datetime.datetime(2014, 6, 10, 0, 0),\n",
      "                'grade': 'A',\n",
      "                'score': 5,\n",
      "            },\n",
      "            {\n",
      "                'date': datetime.datetime(2013, 6, 5, 0, 0),\n",
      "                'grade': 'A',\n",
      "                'score': 7,\n",
      "            },\n",
      "            {\n",
      "                'date': datetime.datetime(2012, 4, 13, 0, 0),\n",
      "                'grade': 'A',\n",
      "                'score': 12,\n",
      "            },\n",
      "            {\n",
      "                'date': datetime.datetime(2011, 10, 12, 0, 0),\n",
      "                'grade': 'A',\n",
      "                'score': 12,\n",
      "            },\n",
      "        ],\n",
      "        'name': 'Riviera Caterer',\n",
      "        'restaurant_id': '40356018',\n",
      "    },\n",
      "]\n"
     ]
    }
   ],
   "source": [
    "result = db.restaurants.find({\"name\": \"Riviera Caterer\"})\n",
    "\n",
    "pprint( list(result) )\n"
   ]
  },
  {
   "cell_type": "code",
   "execution_count": 20,
   "metadata": {},
   "outputs": [
    {
     "data": {
      "text/plain": [
       "{'n': 1, 'nModified': 1, 'ok': 1.0, 'updatedExisting': True}"
      ]
     },
     "execution_count": 20,
     "metadata": {},
     "output_type": "execute_result"
    }
   ],
   "source": [
    "db.restaurants.update(\n",
    "                    {\"name\": \"Riviera Caterer\"}, \n",
    "                    {\"$set\": {\"Status\": \"demolido\"}}\n",
    ")"
   ]
  },
  {
   "cell_type": "code",
   "execution_count": 21,
   "metadata": {},
   "outputs": [
    {
     "name": "stdout",
     "output_type": "stream",
     "text": [
      "[\n",
      "    {\n",
      "        'Status': 'demolido',\n",
      "        '_id': ObjectId('5f6f71774111f0fe3aebefb8'),\n",
      "        'address': {\n",
      "            'building': '2780',\n",
      "            'coord': [-73.98241999999999, 40.579505],\n",
      "            'street': 'Stillwell Avenue',\n",
      "            'zipcode': '11224',\n",
      "        },\n",
      "        'borough': 'Brooklyn',\n",
      "        'cuisine': 'American ',\n",
      "        'grades': [\n",
      "            {\n",
      "                'date': datetime.datetime(2014, 6, 10, 0, 0),\n",
      "                'grade': 'A',\n",
      "                'score': 5,\n",
      "            },\n",
      "            {\n",
      "                'date': datetime.datetime(2013, 6, 5, 0, 0),\n",
      "                'grade': 'A',\n",
      "                'score': 7,\n",
      "            },\n",
      "            {\n",
      "                'date': datetime.datetime(2012, 4, 13, 0, 0),\n",
      "                'grade': 'A',\n",
      "                'score': 12,\n",
      "            },\n",
      "            {\n",
      "                'date': datetime.datetime(2011, 10, 12, 0, 0),\n",
      "                'grade': 'A',\n",
      "                'score': 12,\n",
      "            },\n",
      "        ],\n",
      "        'name': 'Riviera Caterer',\n",
      "        'restaurant_id': '40356018',\n",
      "    },\n",
      "]\n"
     ]
    }
   ],
   "source": [
    "result = db.restaurants.find({\"name\": \"Riviera Caterer\"})\n",
    "\n",
    "pprint( list(result) )\n"
   ]
  },
  {
   "cell_type": "markdown",
   "metadata": {},
   "source": [
    "### [Questão Extra] Adicione um restaurante seguindo a estrutura de documentos da coleção"
   ]
  },
  {
   "cell_type": "code",
   "execution_count": 23,
   "metadata": {},
   "outputs": [
    {
     "data": {
      "text/plain": [
       "ObjectId('5f6f732dbf2a89249c9bc223')"
      ]
     },
     "execution_count": 23,
     "metadata": {},
     "output_type": "execute_result"
    }
   ],
   "source": [
    "import datetime\n",
    "\n",
    "db.restaurants.insert(\n",
    "                        {\n",
    "                            'address': {\n",
    "                                'building': '9999',\n",
    "                                'coord': [-99999, 99999],\n",
    "                                'street': 'rua teste',\n",
    "                                'zipcode': '123456',\n",
    "                            },\n",
    "                            'borough': 'bairro teste',\n",
    "                            'cuisine': 'cozinha BR ',\n",
    "                            'grades': [\n",
    "                                {\n",
    "                                    'date': datetime.datetime(2014, 6, 10, 0, 0),\n",
    "                                    'grade': 'A',\n",
    "                                    'score': 5,\n",
    "                                },\n",
    "                                {\n",
    "                                    'date': datetime.datetime(2013, 6, 5, 0, 0),\n",
    "                                    'grade': 'A',\n",
    "                                    'score': 7,\n",
    "                                },\n",
    "                                {\n",
    "                                    'date': datetime.datetime(2012, 4, 13, 0, 0),\n",
    "                                    'grade': 'A',\n",
    "                                    'score': 12,\n",
    "                                },\n",
    "                                {\n",
    "                                    'date': datetime.datetime(2011, 10, 12, 0, 0),\n",
    "                                    'grade': 'A',\n",
    "                                    'score': 12,\n",
    "                                },\n",
    "                            ],\n",
    "                            'name': 'MURILO RESTAURANTE',\n",
    "                            'restaurant_id': '40356018',\n",
    "                        }\n",
    ")"
   ]
  },
  {
   "cell_type": "markdown",
   "metadata": {},
   "source": [
    "### [Questão Extra] Adicione um campo cidade do restaurante criado anteriormente para \"Ilheus\""
   ]
  },
  {
   "cell_type": "code",
   "execution_count": 24,
   "metadata": {},
   "outputs": [
    {
     "data": {
      "text/plain": [
       "{'n': 1, 'nModified': 1, 'ok': 1.0, 'updatedExisting': True}"
      ]
     },
     "execution_count": 24,
     "metadata": {},
     "output_type": "execute_result"
    }
   ],
   "source": [
    "db.restaurants.update(\n",
    "                    {\"name\": \"MURILO RESTAURANTE\"}, \n",
    "                    {\"$set\": {\"cidade\": \"Ilheus\"}}\n",
    ")"
   ]
  },
  {
   "cell_type": "markdown",
   "metadata": {},
   "source": [
    "### [Questão Extra] Mostre o nome de todos os restaurantes que receberam pelo menos uma avaliação A"
   ]
  },
  {
   "cell_type": "code",
   "execution_count": 31,
   "metadata": {},
   "outputs": [
    {
     "data": {
      "text/plain": [
       "[{'name': \"Wendy'S\"},\n",
       " {'name': 'Dj Reynolds Pub And Restaurant'},\n",
       " {'name': \"Wilken'S Fine Food\"},\n",
       " {'name': 'Ho Mei Restaurant'},\n",
       " {'name': 'The Movable Feast'}]"
      ]
     },
     "execution_count": 31,
     "metadata": {},
     "output_type": "execute_result"
    }
   ],
   "source": [
    "result = db.restaurants.find(\n",
    "                         {\n",
    "                             \"grades.grade\": \"A\"\n",
    "                         }, \n",
    "                         {\n",
    "                             \"_id\": 0,\n",
    "                             \"name\":1,\n",
    "                         }\n",
    "                    )##.limit(5)\n",
    "\n",
    "list(result)"
   ]
  }
 ],
 "metadata": {
  "kernelspec": {
   "display_name": "Python 3",
   "language": "python",
   "name": "python3"
  },
  "language_info": {
   "codemirror_mode": {
    "name": "ipython",
    "version": 3
   },
   "file_extension": ".py",
   "mimetype": "text/x-python",
   "name": "python",
   "nbconvert_exporter": "python",
   "pygments_lexer": "ipython3",
   "version": "3.7.8"
  }
 },
 "nbformat": 4,
 "nbformat_minor": 4
}
