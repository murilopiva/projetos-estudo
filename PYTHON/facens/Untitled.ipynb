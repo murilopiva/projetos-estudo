{
 "cells": [
  {
   "cell_type": "code",
   "execution_count": 1,
   "metadata": {},
   "outputs": [
    {
     "data": {
      "text/plain": [
       "{'country': 'Brazil',\n",
       " 'confirmed': 650504,\n",
       " 'new_cases': 4498,\n",
       " 'deaths': 35139,\n",
       " 'recovered': 302084,\n",
       " 'active': 313281,\n",
       " 'critical': 8318,\n",
       " 'new_deaths': 92,\n",
       " 'total_tests': 999836,\n",
       " 'total_tests_per_million': Decimal('0'),\n",
       " 'total_cases_per_million': Decimal('3062'),\n",
       " 'total_deaths_per_million': Decimal('165'),\n",
       " 'population': Decimal('212455128')}"
      ]
     },
     "execution_count": 1,
     "metadata": {},
     "output_type": "execute_result"
    }
   ],
   "source": [
    "from covid import worldometers\n",
    "\n",
    "x = worldometers.Covid()\n",
    "x.get_status_by_country_name('BRAZIL')"
   ]
  },
  {
   "cell_type": "code",
   "execution_count": null,
   "metadata": {},
   "outputs": [],
   "source": []
  },
  {
   "cell_type": "code",
   "execution_count": null,
   "metadata": {},
   "outputs": [],
   "source": []
  }
 ],
 "metadata": {
  "kernelspec": {
   "display_name": "Python 3",
   "language": "python",
   "name": "python3"
  },
  "language_info": {
   "codemirror_mode": {
    "name": "ipython",
    "version": 3
   },
   "file_extension": ".py",
   "mimetype": "text/x-python",
   "name": "python",
   "nbconvert_exporter": "python",
   "pygments_lexer": "ipython3",
   "version": "3.7.6"
  }
 },
 "nbformat": 4,
 "nbformat_minor": 4
}
