{
 "cells": [
  {
   "cell_type": "code",
   "execution_count": 1,
   "metadata": {},
   "outputs": [],
   "source": [
    "import pandas as pd\n",
    "import requests as rq\n",
    "from bs4 import BeautifulSoup as soup"
   ]
  },
  {
   "cell_type": "code",
   "execution_count": 2,
   "metadata": {},
   "outputs": [],
   "source": [
    "resp = rq.request('GET', 'https://en.wikipedia.org/wiki/Python_(programming_language)')\n",
    "#resp.text\n",
    "page = soup(resp.text, 'html.parser')\n",
    "x = page.find_all('table', class_='wikitable')[0]\n"
   ]
  },
  {
   "cell_type": "code",
   "execution_count": 16,
   "metadata": {
    "tags": []
   },
   "outputs": [
    {
     "output_type": "execute_result",
     "data": {
      "text/plain": "https://www.submarino.com.br/produto/1617420275/lego-star-wars-o-landspeeder-do-han-solo-75209?pfm_carac=lego%20star%20wars&amp;pfm_page=search&amp;pfm_pos=grid&amp;pfm_type=search_page"
     },
     "metadata": {},
     "execution_count": 16
    }
   ],
   "source": [
    "url = \"https://www.submarino.com.br/produto/1617420275/lego-star-wars-o-landspeeder-do-han-solo-75209?pfm_carac=lego%20star%20wars&pfm_page=search&pfm_pos=grid&pfm_type=search_page\"\n",
    "headers = {\n",
    "    'User-Agent': \"PostmanRuntime/7.15.2\",\n",
    "    'Accept': \"*/*\",\n",
    "    'Host': \"www.submarino.com.br\",\n",
    "    'Connection': \"keep-alive\",\n",
    "    'cache-control': \"no-cache\"\n",
    "    }\n",
    "resp = rq.request(\"GET\", url)\n",
    "page = soup(resp.text, 'html.parser').find('div')\n",
    "page"
   ]
  },
  {
   "cell_type": "code",
   "execution_count": 115,
   "metadata": {
    "tags": []
   },
   "outputs": [],
   "source": [
    "# #para pegar o div que contem os produtos\n",
    "# divs = page.find_all('div', class_='RippleContainer-sc-1rpenp9-0 dMCfqq')\n",
    "# #len(divs)\n",
    "\n",
    "# #no submarino é mais facil abrir o link de cada produto e assim analisar a nova url aberta\n",
    "# links = [d.find('a')['href'] for d in divs]\n",
    "# #links[0]\n",
    "\n",
    "# url_root = 'https://www.submarino.com.br' + links[2]\n",
    "# print(url_root)\n",
    "\n",
    "# resp = rq.request(\"GET\", url, headers=headers)\n",
    "\n",
    "# page = BeautifulSoup(resp.text, 'html.parser')  \n"
   ]
  },
  {
   "cell_type": "code",
   "execution_count": 155,
   "metadata": {
    "tags": []
   },
   "outputs": [
    {
     "output_type": "stream",
     "name": "stdout",
     "text": "[<h1 class=\"product-title__TitleUI-sc-116vf1e-3 hCKbLB TitleH1-sc-1wh9e1x-0 iNtPfX\" id=\"product-name-default\">LEGO Star Wars O Landspeeder Do Han Solo 75209</h1>]\n"
    }
   ],
   "source": [
    "#para pegar o div que contem os produtos\n",
    "divs = page.find_all('h1')\n",
    "\n",
    "print(divs)\n"
   ]
  },
  {
   "cell_type": "code",
   "execution_count": null,
   "metadata": {},
   "outputs": [],
   "source": []
  },
  {
   "cell_type": "code",
   "execution_count": 169,
   "metadata": {
    "tags": []
   },
   "outputs": [
    {
     "output_type": "stream",
     "name": "stdout",
     "text": "[<h1 class=\"product-title__TitleUI-sc-116vf1e-3 hCKbLB TitleH1-sc-1wh9e1x-0 iNtPfX\" id=\"product-name-default\">LEGO Star Wars O Landspeeder Do Han Solo 75209</h1>]\n"
    }
   ],
   "source": [
    "th_all = page.find_all('h1')\n",
    "print(th_all)"
   ]
  },
  {
   "cell_type": "code",
   "execution_count": null,
   "metadata": {},
   "outputs": [],
   "source": []
  },
  {
   "cell_type": "code",
   "execution_count": null,
   "metadata": {},
   "outputs": [],
   "source": []
  }
 ],
 "metadata": {
  "kernelspec": {
   "display_name": "Python 3",
   "language": "python",
   "name": "python3"
  },
  "language_info": {
   "codemirror_mode": {
    "name": "ipython",
    "version": 3
   },
   "file_extension": ".py",
   "mimetype": "text/x-python",
   "name": "python",
   "nbconvert_exporter": "python",
   "pygments_lexer": "ipython3",
   "version": "3.7.6-final"
  }
 },
 "nbformat": 4,
 "nbformat_minor": 4
}