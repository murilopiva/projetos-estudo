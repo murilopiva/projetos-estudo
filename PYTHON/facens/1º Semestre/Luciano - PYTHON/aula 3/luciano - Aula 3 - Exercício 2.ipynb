{
 "cells": [
  {
   "cell_type": "markdown",
   "metadata": {},
   "source": [
    "## Exercício 2\n",
    "\n",
    "### Considere um arquivo CSV (comma separated values) com informações demográficas sobre super heróis (heroes_information.csv):\n",
    "- id - Numero da linha\n",
    "- name - Nome\n",
    "- Gender - Gênero\n",
    "- Eye color - Cor dos olhos\n",
    "- Race - Raça\n",
    "- Hair color - Cor do cabelo\n",
    "- Height - Altura em centimetros\n",
    "- Publisher - Estúdio\n",
    "- Skin color - Cor da pele\n",
    "- Alignment - Vilão ou herói\n",
    "- Weight - Peso em libras\n",
    "\n",
    "### Pede-se\n",
    "* Crie uma função que efetue a leitura do arquivo e crie:\n",
    "    - Um arquivo de saida (heroes_male.csv) com todos os heróis do gênero masculino (id, name)\n",
    "    - Um arquivo de saida (heroes_female.csv) com todos os heróis do gênero feminino (id, name)\n",
    "    - Um arquivo de saida (heroes_no_gender.csv) com todos os heróis sem gênero defindo (id, name)\n",
    "    - Um arquivo de saida (heroes_mavel_comics.txt) com o nome de todos os heróis dos estúdios Marvel Comics e DC Comics (um nome por linha)\n",
    "    - Um arquivo de saida (heroes_cheater_blue_skin.txt) com o nome de todos os heróis que tenham cor de pele azul e que sejam vilões (uma única linha com os nomes separados por #)\n"
   ]
  },
  {
   "cell_type": "code",
   "execution_count": 1,
   "metadata": {},
   "outputs": [],
   "source": [
    "import csv \n",
    "\n",
    "with open('heroes_information.csv','r') as csv_file:\n",
    "    csv_reader = csv.reader(csv_file, delimiter=',')\n",
    "    \n",
    "    #dictReader cria um dicionario sendo que as chaves são as colunas\n",
    "    #csv_reader = csv.DictReader(csv_file, delimiter=',')\n",
    "    \n",
    "    # o csv_file é uma string\n",
    "    #csv_reader <-- transformou pra lista\n",
    "    \n",
    "    arquivom = open('heroes_male.csv','w')\n",
    "    arquivof = open('heroes_female.csv','w')\n",
    "    arqnogenger = open('heroes_no_gender.csv','w')\n",
    "    madc = open('heroes_mavel_comics.txt','w')\n",
    "    blueskin = open('heroes_cheater_blue_skin.txt','w')\n",
    "    \n",
    "    print('id, name', sep = \", \" , file=arquivom)\n",
    "    print('id, name', sep = \", \" , file=arquivof)\n",
    "    print('id, name', sep = \", \" , file=arqnogenger)\n",
    "    \n",
    "    res = []\n",
    "    \n",
    "    for row in csv_reader:\n",
    "        \n",
    "        if row[0] != \"id\":# poderia usar next --> é ele que faz iteração quando usa for row in csd_reader, pE.\n",
    "                          # rode next(row[0:2]) -- se rodar isso, além de ele retornar 'id', 'name'.. também já vai pra segunda\n",
    "                          #linha\n",
    "            if row[2].strip().lower() == 'male':\n",
    "                print((row[0] +','+ row[1]), sep = \", \" , file=arquivom)     \n",
    "            if row[2] == 'Female':\n",
    "                print((row[0] +','+ row[1]), sep = \", \" , file=arquivof)\n",
    "            if row[2] == '' or row[2] == '-' or row[2] == '':\n",
    "                print((row[0] +','+ row[1]), sep = \", \" , file=arqnogenger)        \n",
    "            if row[7].strip() in 'Marvel Comics' or row[7].strip() in 'DC Comics' :\n",
    "                print(row[1], sep = \", \" , file=madc)\n",
    "                \n",
    "            if row[8].strip() in 'blue' and row[9].strip() in 'bad' :\n",
    "                res.append(row[1]+'#')\n",
    "                               \n",
    "                \n",
    "    arquivof.close()\n",
    "    arquivom.close()\n",
    "    arqnogenger.close()\n",
    "    madc.close()\n",
    "    \n",
    "    print(*res, file=blueskin) \n",
    "    blueskin.close()\n",
    "    "
   ]
  },
  {
   "cell_type": "code",
   "execution_count": null,
   "metadata": {},
   "outputs": [],
   "source": []
  },
  {
   "cell_type": "code",
   "execution_count": null,
   "metadata": {},
   "outputs": [],
   "source": []
  }
 ],
 "metadata": {
  "kernelspec": {
   "display_name": "Python 3",
   "language": "python",
   "name": "python3"
  },
  "language_info": {
   "codemirror_mode": {
    "name": "ipython",
    "version": 3
   },
   "file_extension": ".py",
   "mimetype": "text/x-python",
   "name": "python",
   "nbconvert_exporter": "python",
   "pygments_lexer": "ipython3",
   "version": "3.7.6"
  }
 },
 "nbformat": 4,
 "nbformat_minor": 2
}
