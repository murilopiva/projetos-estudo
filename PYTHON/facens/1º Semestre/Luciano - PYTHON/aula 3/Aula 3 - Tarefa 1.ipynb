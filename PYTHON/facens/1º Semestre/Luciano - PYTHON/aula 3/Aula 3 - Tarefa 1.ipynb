{
 "cells": [
  {
   "cell_type": "markdown",
   "metadata": {},
   "source": [
    "## Excercício 3\n",
    "\n",
    "### Considere um arquivo CSV (comma separated values) com os seguintes com dados de todas as copas do mundo até o ano de 2014 (WorldCups.csv):\n",
    "- Year - Ano da copa\n",
    "- Country - Pais sede\n",
    "- Winner - Campeão\n",
    "- Runners-Up - Vice-Campeão\n",
    "- Third - Terceiro lugar\n",
    "- Fourth - Quarto Lugar\n",
    "- GoalsScored - Total de Gols\n",
    "- QualifiedTeams - Quantidade de Times\n",
    "- MatchesPlayed - Quantidade de Jogos\n",
    "- Attendance - Publico Total\n",
    "\n",
    "### Pede-se\n",
    "* Crie uma função que efetue a leitura do arquivo e crie um arquivo de saida com as seguintes informações (uma informação por linha):\n",
    "    - Soma de público das copas com anos final 0 (1930, 1950, etc)\n",
    "    - Quantidade total de gols entre as copas de 1954 e 1990, inclusive\n",
    "    - Média de público\n",
    "    - Média de gols por partida\n",
    "    - Quantidade de vezes em que o país sede foi campeão\n",
    "    - Quantidade de vezes em que o time do Brasil ficou entre uma das 4 primeiras posições\n",
    "    - Ano das edições em que o time da França finalizou em terceiro lugar\n",
    "    - Quantidade de vitórias por país, classificada em ordem crescente do número de títulos\n"
   ]
  },
  {
   "cell_type": "code",
   "execution_count": 1,
   "metadata": {},
   "outputs": [],
   "source": [
    "import csv \n",
    "\n",
    "def lerarq(arq):\n",
    "    totpublic0 = 0\n",
    "    totgolsAnos = 0\n",
    "    totgolsGeral = 0\n",
    "    totpublicGeral = 0\n",
    "    matches = 0\n",
    "    lines = 0\n",
    "    psedechampion = 0\n",
    "    br = 0\n",
    "    frAnos = []\n",
    "    dic = {}\n",
    "    \n",
    "    with open(arq,'r') as csv_file:\n",
    "        csv_reader = csv.reader(csv_file, delimiter=',')\n",
    "        \n",
    "        next(csv_reader)# pula a primeira linha que é as colunas\n",
    "        \n",
    "        for x in csv_reader:\n",
    "            lines += 1\n",
    "            \n",
    "            # Soma de público das copas com anos final 0 (1930, 1950, etc)\n",
    "            strAno = x[0]\n",
    "            \n",
    "            #verifica apenas os anos cujo ultimo número é zero\n",
    "            if int(strAno[3:4]) == 0: ## ou usar x[0].endswith('0'):\n",
    "                totpublic0 += int(x[9].replace('.',''))\n",
    "                \n",
    "            #Quantidade total de gols entre as copas de 1954 e 1990, inclusive\n",
    "            if int(x[0]) >= 1954 and int(x[0]) <= 1990:\n",
    "                totgolsAnos += int(x[6])\n",
    "        \n",
    "            #Média de público\n",
    "            totpublicGeral += int(x[9].replace('.',''))\n",
    "            \n",
    "            #Média de gols por partida\n",
    "            totgolsGeral += int(x[6])\n",
    "            matches += int(x[8])\n",
    "            \n",
    "            #Quantidade de vezes em que o país sede foi campeão\n",
    "            if x[1] == x[2]:\n",
    "                psedechampion += 1\n",
    "            \n",
    "            #Quantidade de vezes em que o time do Brasil ficou entre uma das 4 primeiras posições\n",
    "            if x[2].lower() == 'brazil' or x[3].lower() == 'brazil' or x[4].lower() == 'brazil' or x[5].lower() == 'brazil':\n",
    "                br += 1\n",
    "                \n",
    "            #Ano das edições em que o time da França finalizou em terceiro lugar\n",
    "            if x[4].lower() == 'france':\n",
    "                frAnos.append(x[0])\n",
    "                \n",
    "            #Quantidade de vitórias por país, classificada em ordem crescente do número de títulos\n",
    "            \n",
    "            if x[2] in dic:\n",
    "                dic[x[2]] += 1\n",
    "            else:\n",
    "                dic[x[2]] = 1\n",
    "            \n",
    "            \n",
    "            \n",
    "                \n",
    "    mediapptda = round(totgolsGeral / matches,2)\n",
    "    \n",
    "    my_string = ','.join(map(str, frAnos)) \n",
    "    \n",
    "    arqfim = open('out.txt','w')\n",
    "            \n",
    "    print ('Soma de público das copas com final 0: ',totpublic0,file=arqfim)\n",
    "    print('Quantidade total de gols entre as copas de 1954 e 1990: ',totgolsAnos,file=arqfim)\n",
    "    print('Média de público: ',totpublicGeral / lines,file=arqfim)\n",
    "    print('Média de gols por partida: ',mediapptda,file=arqfim)\n",
    "    print('Quantidade de vezes em que o país sede foi campeão: ',psedechampion,file=arqfim)\n",
    "    print('Quantidade de vezes em que o time do Brasil ficou entre uma das 4 primeiras posições: ',br,file=arqfim)\n",
    "    print('Ano das edições em que o time da França finalizou em terceiro lugar: ', my_string,file=arqfim)\n",
    "    print('Quantidade de vitórias por país, classificada em ordem crescente do número de títulos: ',file=arqfim)\n",
    "\n",
    "    sort_orders = sorted(dic.items(), key=lambda x: x[1], reverse=False)\n",
    "\n",
    "    for i in sort_orders:\n",
    "        print(i[0], ':', i[1],file=arqfim)\n",
    "\n",
    "\n",
    "    "
   ]
  },
  {
   "cell_type": "code",
   "execution_count": 2,
   "metadata": {},
   "outputs": [],
   "source": [
    "lerarq('WorldCups.csv')"
   ]
  },
  {
   "cell_type": "code",
   "execution_count": 26,
   "metadata": {},
   "outputs": [
    {
     "name": "stdout",
     "output_type": "stream",
     "text": [
      "Keys are\n",
      "2 12 18 24 56 323 "
     ]
    }
   ],
   "source": [
    "# x = {1: 2, 3: 4, 4: 3, 2: 1, 0: 0}\n",
    "\n",
    "# dic = {'penis':12,'bct':1}\n",
    "\n",
    "# for k in dic:\n",
    "#     print(k.value)\n",
    "\n",
    "# Declare hash function       \n",
    "key_value ={}     \n",
    "\n",
    "# Initializing value  \n",
    "key_value[2] = 56       \n",
    "key_value[1] = 2 \n",
    "key_value[5] = 12 \n",
    "key_value[4] = 24\n",
    "key_value[6] = 18      \n",
    "key_value[3] = 323 \n",
    "\n",
    "print (\"Keys are\") \n",
    "\n",
    "# iterkeys() returns an iterator over the  \n",
    "# dictionary’s keys. \n",
    "for i in sorted (key_value.values()) :  \n",
    "    print(i, end = \" \") \n"
   ]
  },
  {
   "cell_type": "code",
   "execution_count": null,
   "metadata": {},
   "outputs": [],
   "source": [
    "\n"
   ]
  },
  {
   "cell_type": "code",
   "execution_count": 9,
   "metadata": {},
   "outputs": [
    {
     "name": "stdout",
     "output_type": "stream",
     "text": [
      "espresso 72\n",
      "latte 56\n",
      "cappuccino 54\n",
      "americano 48\n",
      "cortado 41\n"
     ]
    }
   ],
   "source": [
    "orders = {\n",
    "\t'cappuccino': 54,\n",
    "\t'latte': 56,\n",
    "\t'espresso': 72,\n",
    "\t'americano': 48,\n",
    "\t'cortado': 41\n",
    "}\n",
    "\n",
    "sort_orders = sorted(orders.items(), key=lambda x: x[1], reverse=True)\n",
    "\n",
    "for i in sort_orders:\n",
    "    print(i[0], i[1])"
   ]
  }
 ],
 "metadata": {
  "kernelspec": {
   "display_name": "Python 3",
   "language": "python",
   "name": "python3"
  },
  "language_info": {
   "codemirror_mode": {
    "name": "ipython",
    "version": 3
   },
   "file_extension": ".py",
   "mimetype": "text/x-python",
   "name": "python",
   "nbconvert_exporter": "python",
   "pygments_lexer": "ipython3",
   "version": "3.7.6"
  }
 },
 "nbformat": 4,
 "nbformat_minor": 2
}
