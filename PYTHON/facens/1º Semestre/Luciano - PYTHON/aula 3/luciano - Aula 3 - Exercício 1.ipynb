{
 "cells": [
  {
   "cell_type": "markdown",
   "metadata": {},
   "source": [
    "## Exercício 1\n",
    "\n",
    "### Considere um arquivo texto que contem uma lista de arquivos (files.txt). Cada linha desse arquivo, possui as seguintes informações:\n",
    "- Nome do criador do arquivo, 6 posições, alinhado à esquerda\n",
    "- Tamanho do arquivo no formato human-readable size (ex. 2K – 2 kilobytes, 3M – 3 megabytes, 5G – 5 gigabytes, ou o número total de bytes caso menor que 1K), com 7 posições, alinhado à direita sendo o caracter mais à direita um espaço em branco\n",
    "- Data de criação com 11 posições, no formato dd MMM YYYY (ex: 05 Jun 2005), acompanhado de um espaço em branco à direita\n",
    "- Nome do arquivo, até o final da linha\n",
    "\n",
    "### Pede-se\n",
    "- Crie uma função que receba como parâmetro o nome do arquivo\n",
    "- A função deverá abrir o arquivo em modo somente leitura e retornar a quantidade de nomes dos criadores de arquivo únicos considerando que:\n",
    "- O tamanho máximo do arquivo em bytes, seja menor que 2 * (2^20) (2 vezes 2 elevado à vigésima potencia)\n",
    "- A data de criação do arquivo seja anterior à 28 de Fevereiro de 2000.\n"
   ]
  },
  {
   "cell_type": "code",
   "execution_count": 5,
   "metadata": {},
   "outputs": [],
   "source": [
    "from time import strptime\n",
    "from dateutil.parser import *\n",
    "\n",
    "def ler(nome):\n",
    "    qd = 0\n",
    "    name = []\n",
    "    \n",
    "    with open(nome,'r') as f:\n",
    "        for x in f:\n",
    "            if x[11:12] == 'K':\n",
    "                num = float(x[7:11]) * 1024\n",
    "                \n",
    "            elif x[11:12] == 'M':\n",
    "                num = float(x[7:11]) * 1024 * 1024\n",
    "                \n",
    "            elif x[11:12] == 'G':\n",
    "                num = float(x[7:11]) * 1024 * 1024 * 1024\n",
    "            \n",
    "            else:\n",
    "                num = float(x[7:12])\n",
    "            \n",
    "            date_string = parse(str(x[13:24]))\n",
    "            #print (date_string < parse(\"2000-02-28\"))\n",
    "            \n",
    "#             date_object_year = strptime(date_string, \"%d %b %Y\")\n",
    "#             date_object_mon = strptime(date_string, \"%d %b %Y\").tm_mon\n",
    "#             date_object_day = strptime(date_string, \"%d %b %Y\").tm_mday\n",
    "            \n",
    "            if num < (2*2**20) and (date_string < parse(\"2000-02-28\")):\n",
    "                name.append(x[0:7])\n",
    "            \n",
    "    print (len(set(name)))# o set cria uma lista distinta, ai é só passar o LEN"
   ]
  },
  {
   "cell_type": "code",
   "execution_count": 6,
   "metadata": {},
   "outputs": [
    {
     "name": "stdout",
     "output_type": "stream",
     "text": [
      "4\n"
     ]
    }
   ],
   "source": [
    "ler('files.txt')"
   ]
  },
  {
   "cell_type": "code",
   "execution_count": null,
   "metadata": {},
   "outputs": [],
   "source": []
  },
  {
   "cell_type": "code",
   "execution_count": null,
   "metadata": {},
   "outputs": [],
   "source": []
  }
 ],
 "metadata": {
  "kernelspec": {
   "display_name": "Python 3",
   "language": "python",
   "name": "python3"
  },
  "language_info": {
   "codemirror_mode": {
    "name": "ipython",
    "version": 3
   },
   "file_extension": ".py",
   "mimetype": "text/x-python",
   "name": "python",
   "nbconvert_exporter": "python",
   "pygments_lexer": "ipython3",
   "version": "3.7.6"
  }
 },
 "nbformat": 4,
 "nbformat_minor": 2
}
