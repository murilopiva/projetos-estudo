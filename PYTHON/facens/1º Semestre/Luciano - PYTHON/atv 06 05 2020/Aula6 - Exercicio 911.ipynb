{
 "cells": [
  {
   "cell_type": "markdown",
   "metadata": {},
   "source": [
    "# Exercício 1 - Ligações para o 911"
   ]
  },
  {
   "cell_type": "markdown",
   "metadata": {},
   "source": [
    "### Nos EUA, o número 911 é destinado à emergências. O [Kaggle](https://www.kaggle.com/mchirico/montcoalert) disponibilizou dados de ligações para o serviço:\n",
    "\n",
    "* lat: Variável String, Latitude\n",
    "* lng: Variável String, Longitude\n",
    "* desc: Variável String, Descrição da Chamada de Emergência\n",
    "* zip: Variável String, CEP\n",
    "* título: Variável String, Título\n",
    "* timeStamp: Variável String, AAAA-MM-DD HH: MM: SS\n",
    "* twp: Variável String, Township\n",
    "* addr: Variável String, Endereço\n",
    "* e: Variável String, variável Dummy (sempre 1)\n",
    "\n"
   ]
  },
  {
   "cell_type": "markdown",
   "metadata": {},
   "source": [
    "### Leia o arquivo csv (911.csv) como um dataframe chamado _calls_"
   ]
  },
  {
   "cell_type": "code",
   "execution_count": 3,
   "metadata": {},
   "outputs": [
    {
     "output_type": "execute_result",
     "data": {
      "text/plain": "pandas.core.frame.DataFrame"
     },
     "metadata": {},
     "execution_count": 3
    }
   ],
   "source": [
    "import pandas as pd\n",
    "with open(\"911.csv\") as arq:\n",
    "    calls = pd.read_csv(arq)\n",
    "\n",
    "type(calls)"
   ]
  },
  {
   "cell_type": "markdown",
   "metadata": {},
   "source": [
    "### Quantas linhas e colunas tem o arquivo? Qual a quantidade de memória necessária para carregá-lo?"
   ]
  },
  {
   "cell_type": "code",
   "execution_count": 4,
   "metadata": {
    "tags": []
   },
   "outputs": [
    {
     "output_type": "stream",
     "name": "stdout",
     "text": "<class 'pandas.core.frame.DataFrame'>\nRangeIndex: 99492 entries, 0 to 99491\nData columns (total 9 columns):\n #   Column     Non-Null Count  Dtype  \n---  ------     --------------  -----  \n 0   lat        99492 non-null  float64\n 1   lng        99492 non-null  float64\n 2   desc       99492 non-null  object \n 3   zip        86637 non-null  float64\n 4   title      99492 non-null  object \n 5   timeStamp  99492 non-null  object \n 6   twp        99449 non-null  object \n 7   addr       98973 non-null  object \n 8   e          99492 non-null  int64  \ndtypes: float64(3), int64(1), object(5)\nmemory usage: 6.8+ MB\n"
    }
   ],
   "source": [
    "# print(calls.index.stop, 'linhas.')\n",
    "# print(len(calls.columns), 'colunas')\n",
    "# print(calls.size, 'memória')\n",
    "calls.info()"
   ]
  },
  {
   "cell_type": "markdown",
   "metadata": {},
   "source": [
    "### Quais são os top 5 CEPs nas chamadas 911?"
   ]
  },
  {
   "cell_type": "code",
   "execution_count": 5,
   "metadata": {},
   "outputs": [
    {
     "output_type": "execute_result",
     "data": {
      "text/plain": "19401.0    6979\n19464.0    6643\n19403.0    4854\n19446.0    4748\n19406.0    3174\nName: zip, dtype: int64"
     },
     "metadata": {},
     "execution_count": 5
    }
   ],
   "source": [
    "# series  = pd.Series(calls['zip'].dropna().map(int))\n",
    "# x = series.value_counts()\n",
    "# x.nlargest()\n",
    "calls['zip'].value_counts().head()"
   ]
  },
  {
   "cell_type": "markdown",
   "metadata": {},
   "source": [
    "### Quais são os 5 principais municípios nas chamadas 911?"
   ]
  },
  {
   "cell_type": "code",
   "execution_count": 6,
   "metadata": {},
   "outputs": [
    {
     "output_type": "execute_result",
     "data": {
      "text/plain": "LOWER MERION    8443\nABINGTON        5977\nNORRISTOWN      5890\nUPPER MERION    5227\nCHELTENHAM      4575\nName: twp, dtype: int64"
     },
     "metadata": {},
     "execution_count": 6
    }
   ],
   "source": [
    "# series  = pd.Series(calls['twp'])\n",
    "# x = series.value_counts()\n",
    "# x[:5]\n",
    "calls['twp'].value_counts().head()"
   ]
  },
  {
   "cell_type": "markdown",
   "metadata": {},
   "source": [
    "### Quantos códigos de título únicos existem?"
   ]
  },
  {
   "cell_type": "code",
   "execution_count": 10,
   "metadata": {},
   "outputs": [
    {
     "output_type": "execute_result",
     "data": {
      "text/plain": "110"
     },
     "metadata": {},
     "execution_count": 10
    }
   ],
   "source": [
    "#calls['title'].value_counts()\n",
    "calls.title.nunique()"
   ]
  },
  {
   "cell_type": "markdown",
   "metadata": {},
   "source": [
    "### Na coluna _title_ existem Razões / Departamentos especificados antes do código do título. Estes são _\"EMS\"_, _\"Fire\"_ e _\"Traffic\"_. Crie uma nova coluna chamada _Reason_ que conterá esse valor em cada linha\n",
    "\n",
    "#### Por exemplo, se o valor da coluna do título for EMS: BACK PAINS / BLESSOR, o valor da coluna Reason será EMS."
   ]
  },
  {
   "cell_type": "code",
   "execution_count": 11,
   "metadata": {},
   "outputs": [
    {
     "output_type": "execute_result",
     "data": {
      "text/plain": "0            EMS\n1            EMS\n2           Fire\n3            EMS\n4            EMS\n          ...   \n99487    Traffic\n99488    Traffic\n99489        EMS\n99490        EMS\n99491    Traffic\nName: Reason, Length: 99492, dtype: object"
     },
     "metadata": {},
     "execution_count": 11
    }
   ],
   "source": [
    "calls['Reason'] = calls.title.apply(lambda title: title.split(':')[0])\n",
    "#calls['Reason'] = calls.title.str.partition(':')[0]\n",
    "calls.Reason\n",
    "\n"
   ]
  },
  {
   "cell_type": "markdown",
   "metadata": {},
   "source": [
    "### Qual é a razão mais comum para uma chamada do 911 com base nessa nova coluna?"
   ]
  },
  {
   "cell_type": "code",
   "execution_count": 17,
   "metadata": {},
   "outputs": [
    {
     "output_type": "execute_result",
     "data": {
      "text/plain": "EMS        48877\nTraffic    35695\nFire       14920\nName: Reason, dtype: int64"
     },
     "metadata": {},
     "execution_count": 17
    }
   ],
   "source": [
    "# series  = pd.Series(calls.Reason)\n",
    "# x = series.value_counts()\n",
    "# x[:1]\n",
    "calls.Reason.value_counts()"
   ]
  },
  {
   "cell_type": "code",
   "execution_count": 19,
   "metadata": {},
   "outputs": [
    {
     "output_type": "execute_result",
     "data": {
      "text/plain": "'EMS'"
     },
     "metadata": {},
     "execution_count": 19
    }
   ],
   "source": [
    "calls.Reason.value_counts().idxmax()"
   ]
  },
  {
   "cell_type": "code",
   "execution_count": 20,
   "metadata": {},
   "outputs": [
    {
     "output_type": "execute_result",
     "data": {
      "text/plain": "count     99492\nunique        3\ntop         EMS\nfreq      48877\nName: Reason, dtype: object"
     },
     "metadata": {},
     "execution_count": 20
    }
   ],
   "source": [
    "calls.Reason.describe()"
   ]
  },
  {
   "cell_type": "markdown",
   "metadata": {},
   "source": [
    "### Qual é o tipo de dados dos objetos na coluna _timeStamp_?"
   ]
  },
  {
   "cell_type": "code",
   "execution_count": 8,
   "metadata": {},
   "outputs": [
    {
     "data": {
      "text/plain": [
       "dtype('O')"
      ]
     },
     "execution_count": 8,
     "metadata": {},
     "output_type": "execute_result"
    }
   ],
   "source": [
    "calls['timeStamp'].dtypes"
   ]
  },
  {
   "cell_type": "markdown",
   "metadata": {},
   "source": [
    "### Converta a coluna _timeStamp_ para DateTime. Use [pd.to_datetime](http://pandas.pydata.org/pandas-docs/stable/generated/pandas.to_datetime.html) para essa operação."
   ]
  },
  {
   "cell_type": "code",
   "execution_count": 21,
   "metadata": {},
   "outputs": [],
   "source": [
    "calls['timeStamp'] = pd.to_datetime(calls['timeStamp'])\n"
   ]
  },
  {
   "cell_type": "markdown",
   "metadata": {},
   "source": [
    "### Crie 3 novas colunas chamadas _Hour_, _Month_ e _Day of Week_. Você criará essas colunas com base na coluna timeStamp"
   ]
  },
  {
   "cell_type": "code",
   "execution_count": 31,
   "metadata": {},
   "outputs": [
    {
     "output_type": "execute_result",
     "data": {
      "text/plain": "         lat        lng                                               desc  \\\n0  40.297876 -75.581294  REINDEER CT & DEAD END;  NEW HANOVER; Station ...   \n1  40.258061 -75.264680  BRIAR PATH & WHITEMARSH LN;  HATFIELD TOWNSHIP...   \n2  40.121182 -75.351975  HAWS AVE; NORRISTOWN; 2015-12-10 @ 14:39:21-St...   \n3  40.116153 -75.343513  AIRY ST & SWEDE ST;  NORRISTOWN; Station 308A;...   \n4  40.251492 -75.603350  CHERRYWOOD CT & DEAD END;  LOWER POTTSGROVE; S...   \n\n       zip                    title           timeStamp                twp  \\\n0  19525.0   EMS: BACK PAINS/INJURY 2015-12-10 17:40:00        NEW HANOVER   \n1  19446.0  EMS: DIABETIC EMERGENCY 2015-12-10 17:40:00  HATFIELD TOWNSHIP   \n2  19401.0      Fire: GAS-ODOR/LEAK 2015-12-10 17:40:00         NORRISTOWN   \n3  19401.0   EMS: CARDIAC EMERGENCY 2015-12-10 17:40:01         NORRISTOWN   \n4      NaN           EMS: DIZZINESS 2015-12-10 17:40:01   LOWER POTTSGROVE   \n\n                         addr  e Reason  Hour_  _Month  DayofWeek  \n0      REINDEER CT & DEAD END  1    EMS     17      12          3  \n1  BRIAR PATH & WHITEMARSH LN  1    EMS     17      12          3  \n2                    HAWS AVE  1   Fire     17      12          3  \n3          AIRY ST & SWEDE ST  1    EMS     17      12          3  \n4    CHERRYWOOD CT & DEAD END  1    EMS     17      12          3  ",
      "text/html": "<div>\n<style scoped>\n    .dataframe tbody tr th:only-of-type {\n        vertical-align: middle;\n    }\n\n    .dataframe tbody tr th {\n        vertical-align: top;\n    }\n\n    .dataframe thead th {\n        text-align: right;\n    }\n</style>\n<table border=\"1\" class=\"dataframe\">\n  <thead>\n    <tr style=\"text-align: right;\">\n      <th></th>\n      <th>lat</th>\n      <th>lng</th>\n      <th>desc</th>\n      <th>zip</th>\n      <th>title</th>\n      <th>timeStamp</th>\n      <th>twp</th>\n      <th>addr</th>\n      <th>e</th>\n      <th>Reason</th>\n      <th>Hour_</th>\n      <th>_Month</th>\n      <th>DayofWeek</th>\n    </tr>\n  </thead>\n  <tbody>\n    <tr>\n      <th>0</th>\n      <td>40.297876</td>\n      <td>-75.581294</td>\n      <td>REINDEER CT &amp; DEAD END;  NEW HANOVER; Station ...</td>\n      <td>19525.0</td>\n      <td>EMS: BACK PAINS/INJURY</td>\n      <td>2015-12-10 17:40:00</td>\n      <td>NEW HANOVER</td>\n      <td>REINDEER CT &amp; DEAD END</td>\n      <td>1</td>\n      <td>EMS</td>\n      <td>17</td>\n      <td>12</td>\n      <td>3</td>\n    </tr>\n    <tr>\n      <th>1</th>\n      <td>40.258061</td>\n      <td>-75.264680</td>\n      <td>BRIAR PATH &amp; WHITEMARSH LN;  HATFIELD TOWNSHIP...</td>\n      <td>19446.0</td>\n      <td>EMS: DIABETIC EMERGENCY</td>\n      <td>2015-12-10 17:40:00</td>\n      <td>HATFIELD TOWNSHIP</td>\n      <td>BRIAR PATH &amp; WHITEMARSH LN</td>\n      <td>1</td>\n      <td>EMS</td>\n      <td>17</td>\n      <td>12</td>\n      <td>3</td>\n    </tr>\n    <tr>\n      <th>2</th>\n      <td>40.121182</td>\n      <td>-75.351975</td>\n      <td>HAWS AVE; NORRISTOWN; 2015-12-10 @ 14:39:21-St...</td>\n      <td>19401.0</td>\n      <td>Fire: GAS-ODOR/LEAK</td>\n      <td>2015-12-10 17:40:00</td>\n      <td>NORRISTOWN</td>\n      <td>HAWS AVE</td>\n      <td>1</td>\n      <td>Fire</td>\n      <td>17</td>\n      <td>12</td>\n      <td>3</td>\n    </tr>\n    <tr>\n      <th>3</th>\n      <td>40.116153</td>\n      <td>-75.343513</td>\n      <td>AIRY ST &amp; SWEDE ST;  NORRISTOWN; Station 308A;...</td>\n      <td>19401.0</td>\n      <td>EMS: CARDIAC EMERGENCY</td>\n      <td>2015-12-10 17:40:01</td>\n      <td>NORRISTOWN</td>\n      <td>AIRY ST &amp; SWEDE ST</td>\n      <td>1</td>\n      <td>EMS</td>\n      <td>17</td>\n      <td>12</td>\n      <td>3</td>\n    </tr>\n    <tr>\n      <th>4</th>\n      <td>40.251492</td>\n      <td>-75.603350</td>\n      <td>CHERRYWOOD CT &amp; DEAD END;  LOWER POTTSGROVE; S...</td>\n      <td>NaN</td>\n      <td>EMS: DIZZINESS</td>\n      <td>2015-12-10 17:40:01</td>\n      <td>LOWER POTTSGROVE</td>\n      <td>CHERRYWOOD CT &amp; DEAD END</td>\n      <td>1</td>\n      <td>EMS</td>\n      <td>17</td>\n      <td>12</td>\n      <td>3</td>\n    </tr>\n  </tbody>\n</table>\n</div>"
     },
     "metadata": {},
     "execution_count": 31
    }
   ],
   "source": [
    "calls['Hour_'] = pd.DatetimeIndex(calls['timeStamp']).hour\n",
    "calls['_Month'] = pd.DatetimeIndex(calls['timeStamp']).month\n",
    "calls['DayofWeek'] = pd.DatetimeIndex(calls['timeStamp']).weekday\n",
    "calls.head()"
   ]
  },
  {
   "cell_type": "markdown",
   "metadata": {},
   "source": [
    "### Observe como o dia da demana é um número inteiro de 0-6. Mapeie os nomes das seqüências reais para o dia da semana, nessa mesma coluna:\n",
    "\n",
    "- 0 => Mon\n",
    "- 1 => Tue\n",
    "- 2 => Wed\n",
    "- 3 => Thu\n",
    "- 4 => Fri\n",
    "- 5 => Sat\n",
    "- 6 => Sun"
   ]
  },
  {
   "cell_type": "code",
   "execution_count": 32,
   "metadata": {},
   "outputs": [
    {
     "output_type": "execute_result",
     "data": {
      "text/plain": "         lat        lng                                               desc  \\\n0  40.297876 -75.581294  REINDEER CT & DEAD END;  NEW HANOVER; Station ...   \n1  40.258061 -75.264680  BRIAR PATH & WHITEMARSH LN;  HATFIELD TOWNSHIP...   \n2  40.121182 -75.351975  HAWS AVE; NORRISTOWN; 2015-12-10 @ 14:39:21-St...   \n3  40.116153 -75.343513  AIRY ST & SWEDE ST;  NORRISTOWN; Station 308A;...   \n4  40.251492 -75.603350  CHERRYWOOD CT & DEAD END;  LOWER POTTSGROVE; S...   \n\n       zip                    title           timeStamp                twp  \\\n0  19525.0   EMS: BACK PAINS/INJURY 2015-12-10 17:40:00        NEW HANOVER   \n1  19446.0  EMS: DIABETIC EMERGENCY 2015-12-10 17:40:00  HATFIELD TOWNSHIP   \n2  19401.0      Fire: GAS-ODOR/LEAK 2015-12-10 17:40:00         NORRISTOWN   \n3  19401.0   EMS: CARDIAC EMERGENCY 2015-12-10 17:40:01         NORRISTOWN   \n4      NaN           EMS: DIZZINESS 2015-12-10 17:40:01   LOWER POTTSGROVE   \n\n                         addr  e Reason  Hour_  _Month DayofWeek  \n0      REINDEER CT & DEAD END  1    EMS     17      12       Thu  \n1  BRIAR PATH & WHITEMARSH LN  1    EMS     17      12       Thu  \n2                    HAWS AVE  1   Fire     17      12       Thu  \n3          AIRY ST & SWEDE ST  1    EMS     17      12       Thu  \n4    CHERRYWOOD CT & DEAD END  1    EMS     17      12       Thu  ",
      "text/html": "<div>\n<style scoped>\n    .dataframe tbody tr th:only-of-type {\n        vertical-align: middle;\n    }\n\n    .dataframe tbody tr th {\n        vertical-align: top;\n    }\n\n    .dataframe thead th {\n        text-align: right;\n    }\n</style>\n<table border=\"1\" class=\"dataframe\">\n  <thead>\n    <tr style=\"text-align: right;\">\n      <th></th>\n      <th>lat</th>\n      <th>lng</th>\n      <th>desc</th>\n      <th>zip</th>\n      <th>title</th>\n      <th>timeStamp</th>\n      <th>twp</th>\n      <th>addr</th>\n      <th>e</th>\n      <th>Reason</th>\n      <th>Hour_</th>\n      <th>_Month</th>\n      <th>DayofWeek</th>\n    </tr>\n  </thead>\n  <tbody>\n    <tr>\n      <th>0</th>\n      <td>40.297876</td>\n      <td>-75.581294</td>\n      <td>REINDEER CT &amp; DEAD END;  NEW HANOVER; Station ...</td>\n      <td>19525.0</td>\n      <td>EMS: BACK PAINS/INJURY</td>\n      <td>2015-12-10 17:40:00</td>\n      <td>NEW HANOVER</td>\n      <td>REINDEER CT &amp; DEAD END</td>\n      <td>1</td>\n      <td>EMS</td>\n      <td>17</td>\n      <td>12</td>\n      <td>Thu</td>\n    </tr>\n    <tr>\n      <th>1</th>\n      <td>40.258061</td>\n      <td>-75.264680</td>\n      <td>BRIAR PATH &amp; WHITEMARSH LN;  HATFIELD TOWNSHIP...</td>\n      <td>19446.0</td>\n      <td>EMS: DIABETIC EMERGENCY</td>\n      <td>2015-12-10 17:40:00</td>\n      <td>HATFIELD TOWNSHIP</td>\n      <td>BRIAR PATH &amp; WHITEMARSH LN</td>\n      <td>1</td>\n      <td>EMS</td>\n      <td>17</td>\n      <td>12</td>\n      <td>Thu</td>\n    </tr>\n    <tr>\n      <th>2</th>\n      <td>40.121182</td>\n      <td>-75.351975</td>\n      <td>HAWS AVE; NORRISTOWN; 2015-12-10 @ 14:39:21-St...</td>\n      <td>19401.0</td>\n      <td>Fire: GAS-ODOR/LEAK</td>\n      <td>2015-12-10 17:40:00</td>\n      <td>NORRISTOWN</td>\n      <td>HAWS AVE</td>\n      <td>1</td>\n      <td>Fire</td>\n      <td>17</td>\n      <td>12</td>\n      <td>Thu</td>\n    </tr>\n    <tr>\n      <th>3</th>\n      <td>40.116153</td>\n      <td>-75.343513</td>\n      <td>AIRY ST &amp; SWEDE ST;  NORRISTOWN; Station 308A;...</td>\n      <td>19401.0</td>\n      <td>EMS: CARDIAC EMERGENCY</td>\n      <td>2015-12-10 17:40:01</td>\n      <td>NORRISTOWN</td>\n      <td>AIRY ST &amp; SWEDE ST</td>\n      <td>1</td>\n      <td>EMS</td>\n      <td>17</td>\n      <td>12</td>\n      <td>Thu</td>\n    </tr>\n    <tr>\n      <th>4</th>\n      <td>40.251492</td>\n      <td>-75.603350</td>\n      <td>CHERRYWOOD CT &amp; DEAD END;  LOWER POTTSGROVE; S...</td>\n      <td>NaN</td>\n      <td>EMS: DIZZINESS</td>\n      <td>2015-12-10 17:40:01</td>\n      <td>LOWER POTTSGROVE</td>\n      <td>CHERRYWOOD CT &amp; DEAD END</td>\n      <td>1</td>\n      <td>EMS</td>\n      <td>17</td>\n      <td>12</td>\n      <td>Thu</td>\n    </tr>\n  </tbody>\n</table>\n</div>"
     },
     "metadata": {},
     "execution_count": 32
    }
   ],
   "source": [
    "calls.DayofWeek = calls['DayofWeek'].map({0:'Mon',1:'Tue',2:'Wed',3:'Thu',4:'Fri',5:'Sat',6:'Sun'})\n",
    "#calls['DayofWeek'] = calls['timeStamp'].dt.day_name(locale = 'English')\n",
    "calls.head()\n"
   ]
  },
  {
   "cell_type": "markdown",
   "metadata": {},
   "source": [
    "### Qual a quantidade de chamadas de cada motivo (_Reason_) por mês?"
   ]
  },
  {
   "cell_type": "code",
   "execution_count": 36,
   "metadata": {},
   "outputs": [
    {
     "output_type": "execute_result",
     "data": {
      "text/plain": "_Month  Reason \n1       EMS        6063\n        Fire       1905\n        Traffic    5237\n2       EMS        5413\n        Fire       1869\n        Traffic    4185\n3       EMS        5832\n        Fire       1590\n        Traffic    3679\n4       EMS        5680\n        Fire       1717\n        Traffic    3929\n5       EMS        5734\n        Fire       1573\n        Traffic    4116\n6       EMS        5720\n        Fire       1796\n        Traffic    4270\n7       EMS        6029\n        Fire       1901\n        Traffic    4207\n8       EMS        4508\n        Fire       1473\n        Traffic    3097\n12      EMS        3898\n        Fire       1096\n        Traffic    2975\ndtype: int64"
     },
     "metadata": {},
     "execution_count": 36
    }
   ],
   "source": [
    "# qd_chamadas = pd.Series(calls['Reason'])\n",
    "# qd_chamadas = pd.value_counts(qd_chamadas)\n",
    "# qd_chamadas\n",
    "df = calls.groupby(['_Month','Reason']).size()\n",
    "df"
   ]
  },
  {
   "cell_type": "code",
   "execution_count": 37,
   "metadata": {},
   "outputs": [
    {
     "output_type": "execute_result",
     "data": {
      "text/plain": "Reason   EMS  Fire  Traffic\n_Month                     \n1       6063  1905     5237\n2       5413  1869     4185\n3       5832  1590     3679\n4       5680  1717     3929\n5       5734  1573     4116\n6       5720  1796     4270\n7       6029  1901     4207\n8       4508  1473     3097\n12      3898  1096     2975",
      "text/html": "<div>\n<style scoped>\n    .dataframe tbody tr th:only-of-type {\n        vertical-align: middle;\n    }\n\n    .dataframe tbody tr th {\n        vertical-align: top;\n    }\n\n    .dataframe thead th {\n        text-align: right;\n    }\n</style>\n<table border=\"1\" class=\"dataframe\">\n  <thead>\n    <tr style=\"text-align: right;\">\n      <th>Reason</th>\n      <th>EMS</th>\n      <th>Fire</th>\n      <th>Traffic</th>\n    </tr>\n    <tr>\n      <th>_Month</th>\n      <th></th>\n      <th></th>\n      <th></th>\n    </tr>\n  </thead>\n  <tbody>\n    <tr>\n      <th>1</th>\n      <td>6063</td>\n      <td>1905</td>\n      <td>5237</td>\n    </tr>\n    <tr>\n      <th>2</th>\n      <td>5413</td>\n      <td>1869</td>\n      <td>4185</td>\n    </tr>\n    <tr>\n      <th>3</th>\n      <td>5832</td>\n      <td>1590</td>\n      <td>3679</td>\n    </tr>\n    <tr>\n      <th>4</th>\n      <td>5680</td>\n      <td>1717</td>\n      <td>3929</td>\n    </tr>\n    <tr>\n      <th>5</th>\n      <td>5734</td>\n      <td>1573</td>\n      <td>4116</td>\n    </tr>\n    <tr>\n      <th>6</th>\n      <td>5720</td>\n      <td>1796</td>\n      <td>4270</td>\n    </tr>\n    <tr>\n      <th>7</th>\n      <td>6029</td>\n      <td>1901</td>\n      <td>4207</td>\n    </tr>\n    <tr>\n      <th>8</th>\n      <td>4508</td>\n      <td>1473</td>\n      <td>3097</td>\n    </tr>\n    <tr>\n      <th>12</th>\n      <td>3898</td>\n      <td>1096</td>\n      <td>2975</td>\n    </tr>\n  </tbody>\n</table>\n</div>"
     },
     "metadata": {},
     "execution_count": 37
    }
   ],
   "source": [
    "df = calls.groupby(['_Month','Reason']).size().unstack()\n",
    "df"
   ]
  },
  {
   "cell_type": "markdown",
   "metadata": {},
   "source": [
    "### Qual foi o dia com a maior quantidade de chamadas? Quantas chamadas foram executadas neste dia?"
   ]
  },
  {
   "cell_type": "code",
   "execution_count": 39,
   "metadata": {},
   "outputs": [
    {
     "output_type": "execute_result",
     "data": {
      "text/plain": "2016-01-23    913\nName: timeStamp, dtype: int64"
     },
     "metadata": {},
     "execution_count": 39
    }
   ],
   "source": [
    "# qddia_chamadas = pd.Series(calls['DayofWeek'])\n",
    "# qddia_chamadas = pd.value_counts(qddia_chamadas)\n",
    "# qddia_chamadas.index[0]\n",
    "calls.timeStamp.apply(lambda t: t.date()).value_counts().head(1)"
   ]
  },
  {
   "cell_type": "markdown",
   "metadata": {},
   "source": [
    "### Levando-se em consideração apenas atendimentos feitos às sextas-feiras, qual a hora do dia com o maior número de chamadas?"
   ]
  },
  {
   "cell_type": "code",
   "execution_count": 45,
   "metadata": {},
   "outputs": [
    {
     "output_type": "execute_result",
     "data": {
      "text/plain": "Hour_       0    1    2    3    4    5    6    7    8    9   ...   14   15  \\\nDayofWeek                                                    ...             \nFri        275  235  191  175  201  194  372  598  742  752  ...  932  980   \nMon        282  221  201  194  204  267  397  653  819  786  ...  869  913   \nSat        375  301  263  260  224  231  257  391  459  640  ...  789  796   \nSun        383  306  286  268  242  240  300  402  483  620  ...  684  691   \nThu        278  202  233  159  182  203  362  570  777  828  ...  876  969   \nTue        269  240  186  170  209  239  415  655  889  880  ...  943  938   \nWed        250  216  189  209  156  255  410  701  875  808  ...  904  867   \n\nHour_        16    17   18   19   20   21   22   23  \nDayofWeek                                            \nFri        1039   980  820  696  667  559  514  474  \nMon         989   997  885  746  613  497  472  325  \nSat         848   757  778  696  628  572  506  467  \nSun         663   714  670  655  537  461  415  330  \nThu         935  1013  810  698  617  553  424  354  \nTue        1026  1019  905  731  647  571  462  274  \nWed         990  1037  894  686  668  575  490  335  \n\n[7 rows x 24 columns]",
      "text/html": "<div>\n<style scoped>\n    .dataframe tbody tr th:only-of-type {\n        vertical-align: middle;\n    }\n\n    .dataframe tbody tr th {\n        vertical-align: top;\n    }\n\n    .dataframe thead th {\n        text-align: right;\n    }\n</style>\n<table border=\"1\" class=\"dataframe\">\n  <thead>\n    <tr style=\"text-align: right;\">\n      <th>Hour_</th>\n      <th>0</th>\n      <th>1</th>\n      <th>2</th>\n      <th>3</th>\n      <th>4</th>\n      <th>5</th>\n      <th>6</th>\n      <th>7</th>\n      <th>8</th>\n      <th>9</th>\n      <th>...</th>\n      <th>14</th>\n      <th>15</th>\n      <th>16</th>\n      <th>17</th>\n      <th>18</th>\n      <th>19</th>\n      <th>20</th>\n      <th>21</th>\n      <th>22</th>\n      <th>23</th>\n    </tr>\n    <tr>\n      <th>DayofWeek</th>\n      <th></th>\n      <th></th>\n      <th></th>\n      <th></th>\n      <th></th>\n      <th></th>\n      <th></th>\n      <th></th>\n      <th></th>\n      <th></th>\n      <th></th>\n      <th></th>\n      <th></th>\n      <th></th>\n      <th></th>\n      <th></th>\n      <th></th>\n      <th></th>\n      <th></th>\n      <th></th>\n      <th></th>\n    </tr>\n  </thead>\n  <tbody>\n    <tr>\n      <th>Fri</th>\n      <td>275</td>\n      <td>235</td>\n      <td>191</td>\n      <td>175</td>\n      <td>201</td>\n      <td>194</td>\n      <td>372</td>\n      <td>598</td>\n      <td>742</td>\n      <td>752</td>\n      <td>...</td>\n      <td>932</td>\n      <td>980</td>\n      <td>1039</td>\n      <td>980</td>\n      <td>820</td>\n      <td>696</td>\n      <td>667</td>\n      <td>559</td>\n      <td>514</td>\n      <td>474</td>\n    </tr>\n    <tr>\n      <th>Mon</th>\n      <td>282</td>\n      <td>221</td>\n      <td>201</td>\n      <td>194</td>\n      <td>204</td>\n      <td>267</td>\n      <td>397</td>\n      <td>653</td>\n      <td>819</td>\n      <td>786</td>\n      <td>...</td>\n      <td>869</td>\n      <td>913</td>\n      <td>989</td>\n      <td>997</td>\n      <td>885</td>\n      <td>746</td>\n      <td>613</td>\n      <td>497</td>\n      <td>472</td>\n      <td>325</td>\n    </tr>\n    <tr>\n      <th>Sat</th>\n      <td>375</td>\n      <td>301</td>\n      <td>263</td>\n      <td>260</td>\n      <td>224</td>\n      <td>231</td>\n      <td>257</td>\n      <td>391</td>\n      <td>459</td>\n      <td>640</td>\n      <td>...</td>\n      <td>789</td>\n      <td>796</td>\n      <td>848</td>\n      <td>757</td>\n      <td>778</td>\n      <td>696</td>\n      <td>628</td>\n      <td>572</td>\n      <td>506</td>\n      <td>467</td>\n    </tr>\n    <tr>\n      <th>Sun</th>\n      <td>383</td>\n      <td>306</td>\n      <td>286</td>\n      <td>268</td>\n      <td>242</td>\n      <td>240</td>\n      <td>300</td>\n      <td>402</td>\n      <td>483</td>\n      <td>620</td>\n      <td>...</td>\n      <td>684</td>\n      <td>691</td>\n      <td>663</td>\n      <td>714</td>\n      <td>670</td>\n      <td>655</td>\n      <td>537</td>\n      <td>461</td>\n      <td>415</td>\n      <td>330</td>\n    </tr>\n    <tr>\n      <th>Thu</th>\n      <td>278</td>\n      <td>202</td>\n      <td>233</td>\n      <td>159</td>\n      <td>182</td>\n      <td>203</td>\n      <td>362</td>\n      <td>570</td>\n      <td>777</td>\n      <td>828</td>\n      <td>...</td>\n      <td>876</td>\n      <td>969</td>\n      <td>935</td>\n      <td>1013</td>\n      <td>810</td>\n      <td>698</td>\n      <td>617</td>\n      <td>553</td>\n      <td>424</td>\n      <td>354</td>\n    </tr>\n    <tr>\n      <th>Tue</th>\n      <td>269</td>\n      <td>240</td>\n      <td>186</td>\n      <td>170</td>\n      <td>209</td>\n      <td>239</td>\n      <td>415</td>\n      <td>655</td>\n      <td>889</td>\n      <td>880</td>\n      <td>...</td>\n      <td>943</td>\n      <td>938</td>\n      <td>1026</td>\n      <td>1019</td>\n      <td>905</td>\n      <td>731</td>\n      <td>647</td>\n      <td>571</td>\n      <td>462</td>\n      <td>274</td>\n    </tr>\n    <tr>\n      <th>Wed</th>\n      <td>250</td>\n      <td>216</td>\n      <td>189</td>\n      <td>209</td>\n      <td>156</td>\n      <td>255</td>\n      <td>410</td>\n      <td>701</td>\n      <td>875</td>\n      <td>808</td>\n      <td>...</td>\n      <td>904</td>\n      <td>867</td>\n      <td>990</td>\n      <td>1037</td>\n      <td>894</td>\n      <td>686</td>\n      <td>668</td>\n      <td>575</td>\n      <td>490</td>\n      <td>335</td>\n    </tr>\n  </tbody>\n</table>\n<p>7 rows × 24 columns</p>\n</div>"
     },
     "metadata": {},
     "execution_count": 45
    }
   ],
   "source": [
    "calls.groupby(by=['DayofWeek','Hour_']).size().unstack()"
   ]
  },
  {
   "cell_type": "code",
   "execution_count": 44,
   "metadata": {},
   "outputs": [
    {
     "output_type": "execute_result",
     "data": {
      "text/plain": "16"
     },
     "metadata": {},
     "execution_count": 44
    }
   ],
   "source": [
    "# new_df = calls[calls['DayofWeek'] == 'Fri']\n",
    "# cont_hour = pd.Series(new_df['Hour_'])\n",
    "# cont_hour = cont_hour.value_counts()\n",
    "# cont_hour.index[0]\n",
    "calls.groupby(by=['DayofWeek','Hour_']).size()['Fri'].idxmax()"
   ]
  },
  {
   "cell_type": "markdown",
   "metadata": {},
   "source": [
    "### Levando-se em consideração os atendimentos relacionados a incêndio (_Reason_ = _Fire_) qual a quantidade de chamados aos sábados?"
   ]
  },
  {
   "cell_type": "code",
   "execution_count": 48,
   "metadata": {},
   "outputs": [
    {
     "output_type": "execute_result",
     "data": {
      "text/plain": "2068"
     },
     "metadata": {},
     "execution_count": 48
    }
   ],
   "source": [
    "# new_df = calls[calls['Reason'] == 'Fire']\n",
    "# s = pd.Series(new_df['DayofWeek'])\n",
    "# qd = s.value_counts()\n",
    "# qd.get('Saturday')\n",
    "\n",
    "calls.groupby(by=['Reason','DayofWeek']).size()['Fire']['Sat']"
   ]
  }
 ],
 "metadata": {
  "kernelspec": {
   "display_name": "Python 3",
   "language": "python",
   "name": "python3"
  },
  "language_info": {
   "codemirror_mode": {
    "name": "ipython",
    "version": 3
   },
   "file_extension": ".py",
   "mimetype": "text/x-python",
   "name": "python",
   "nbconvert_exporter": "python",
   "pygments_lexer": "ipython3",
   "version": "3.7.6-final"
  }
 },
 "nbformat": 4,
 "nbformat_minor": 1
}