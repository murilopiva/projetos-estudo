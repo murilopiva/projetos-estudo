{
 "cells": [
  {
   "cell_type": "markdown",
   "metadata": {},
   "source": [
    "## Aula 4 - Exercício 1"
   ]
  },
  {
   "cell_type": "markdown",
   "metadata": {},
   "source": [
    "### Considere as seguintes fórmulas:\n",
    "\n",
    "```\n",
    "f(i) = 2 -> para i = 1\n",
    "f(i) = 1 -> para i = 2\n",
    "f(i) = 2*f(i-1) + g(i-2) -> para i >= 3\n",
    "\n",
    "g(i) = 1 -> para i = 1\n",
    "g(i) = 2 -> para i = 2\n",
    "g(i) = g(i-1) + 3*f(i-2) -> para i >= 3\n",
    "```\n",
    "\n",
    "### Pede-se:\n",
    "- Escreva as funções F(n) e G(n) de acordo com as fórmulas\n",
    "- Escreva uma função K(n) que receba um inteiro n > 0 e devolva uma tupla com F(n) e G(n)\n",
    "- Para k=2, a função deve devolver os valores 1 e 2\n",
    "- Para k=3, a função deve devolver os valores 3 e 8\n",
    "- Para k=4, a função deve devolver os valores 8 e 11\n",
    "- Imprima uma lista de resultados (F(n), G(n)) para K entre 1 e 5, usando List Comprehension\n",
    "- Reescreva as funções usando lambdas"
   ]
  },
  {
   "cell_type": "code",
   "execution_count": 41,
   "metadata": {},
   "outputs": [
    {
     "data": {
      "text/plain": [
       "(3, 8)"
      ]
     },
     "execution_count": 41,
     "metadata": {},
     "output_type": "execute_result"
    }
   ],
   "source": [
    "#cirando as funcoes F, G e K\n",
    "def F(n):\n",
    "    if n == 1:\n",
    "        return 2\n",
    "    if n == 2:\n",
    "        return 1\n",
    "    \n",
    "    return 2 * F(n - 1) + G(n - 2)\n",
    "\n",
    "def G(n):\n",
    "    if n == 1:\n",
    "        return 1\n",
    "    if n == 2:\n",
    "        return 2\n",
    "    \n",
    "    return G(n - 1) + 3 * F(n - 2) \n",
    "\n",
    "def K(n):\n",
    "    tp = ()\n",
    "    tp = (F(n), G(n))\n",
    "    \n",
    "    return tp\n",
    "\n",
    "#K(3)"
   ]
  },
  {
   "cell_type": "code",
   "execution_count": 40,
   "metadata": {},
   "outputs": [
    {
     "name": "stdout",
     "output_type": "stream",
     "text": [
      "[(2, 1), (1, 2), (3, 8), (8, 11), (24, 20)]\n"
     ]
    }
   ],
   "source": [
    "#printando uma lista para K entre 1 e 5 usando List Comprehension\n",
    "print([K(n) for n in range(1,6)])"
   ]
  },
  {
   "cell_type": "code",
   "execution_count": 36,
   "metadata": {},
   "outputs": [
    {
     "data": {
      "text/plain": [
       "8"
      ]
     },
     "execution_count": 36,
     "metadata": {},
     "output_type": "execute_result"
    }
   ],
   "source": [
    "#rescrevendo as funções F, G e K com LAMBDA\n",
    "F = lambda n : 2 if (n==1) else ( 1 if (n == 2) else (2 * F(n - 1) + G(n - 2)))\n"
   ]
  },
  {
   "cell_type": "code",
   "execution_count": 37,
   "metadata": {},
   "outputs": [],
   "source": [
    "#rescrevendo as funções F, G e K com LAMBDA\n",
    "G = lambda n : 1 if (n==1) else ( 2 if (n == 2) else (G(n - 1) + 3 * F(n - 2) ))\n"
   ]
  },
  {
   "cell_type": "code",
   "execution_count": 38,
   "metadata": {},
   "outputs": [],
   "source": [
    "#rescrevendo as funções F, G e K com LAMBDA\n",
    "K = lambda n : (F(n),G(n))\n",
    "\n"
   ]
  },
  {
   "cell_type": "code",
   "execution_count": 42,
   "metadata": {},
   "outputs": [
    {
     "data": {
      "text/plain": [
       "(3, 8)"
      ]
     },
     "execution_count": 42,
     "metadata": {},
     "output_type": "execute_result"
    }
   ],
   "source": [
    "#resultado de K para as funções recriadas com lambda\n",
    "K(3)\n"
   ]
  }
 ],
 "metadata": {
  "kernelspec": {
   "display_name": "Python 3",
   "language": "python",
   "name": "python3"
  },
  "language_info": {
   "codemirror_mode": {
    "name": "ipython",
    "version": 3
   },
   "file_extension": ".py",
   "mimetype": "text/x-python",
   "name": "python",
   "nbconvert_exporter": "python",
   "pygments_lexer": "ipython3",
   "version": "3.7.6"
  }
 },
 "nbformat": 4,
 "nbformat_minor": 2
}
