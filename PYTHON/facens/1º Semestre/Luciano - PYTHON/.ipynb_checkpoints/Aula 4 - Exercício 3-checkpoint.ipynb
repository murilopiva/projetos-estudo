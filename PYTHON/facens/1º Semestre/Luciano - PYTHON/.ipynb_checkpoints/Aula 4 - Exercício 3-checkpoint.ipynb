{
 "cells": [
  {
   "cell_type": "markdown",
   "metadata": {},
   "source": [
    "## Aula 4 - Exercício 3"
   ]
  },
  {
   "cell_type": "markdown",
   "metadata": {},
   "source": [
    "\n",
    "\n",
    "### Dado um arquivo customers.cvs com as seguintes informações sobre clientes:\n",
    "- id\n",
    "- name\n",
    "- gender\n",
    "- birthday\n",
    "- email\n",
    "- active\n",
    "\n",
    "### Pede-se:\n",
    "- Crie a classe Customer que represente a estrutura acima\n",
    "- Efetue a leitura do arquivo, criando uma lista de instâncias de Customer (1 instância por linha do arquivo)\n",
    "- Crie uma lista com todos os Customers ativos (active = True), ordenados por id, salve o conteudo dessa lista em um arquivo do tipo csv (actives.csv)\n",
    "- Crie uma lista com todos os Customers inativos cujo gênero seja masculino (gender = Male), ordenados por nome. Salve os elementos dessa lista em um arquivo do tipo txt (male_inactives.txt, 1 elemento por linha)\n"
   ]
  },
  {
   "cell_type": "code",
   "execution_count": 67,
   "metadata": {},
   "outputs": [],
   "source": [
    "#Crie a classe Customer que represente a estrutura acima\n",
    "class Customer():\n",
    "    def __init__(self,id,name,gender,birthday,email,active):\n",
    "        self.id = id\n",
    "        self.name = name\n",
    "        self.gender = gender\n",
    "        self.birthday = birthday\n",
    "        self.email = email\n",
    "        self.active = active\n",
    "    "
   ]
  },
  {
   "cell_type": "code",
   "execution_count": 68,
   "metadata": {},
   "outputs": [],
   "source": [
    "#Efetue a leitura do arquivo, criando uma lista de instâncias de Customer (1 instância por linha do arquivo)\n",
    "\n",
    "import csv \n",
    "\n",
    "l = []\n",
    "\n",
    "with open('customers.csv','r') as csv_file:\n",
    "    csv_reader = csv.reader(csv_file, delimiter=';')\n",
    "    \n",
    "    next(csv_reader)\n",
    "    \n",
    "    for x in csv_reader:\n",
    "        #print (x)\n",
    "        l.append(Customer(x[0],x[1],x[2],x[3],x[4],x[5]))\n",
    "    \n"
   ]
  },
  {
   "cell_type": "code",
   "execution_count": 100,
   "metadata": {},
   "outputs": [],
   "source": [
    "#Crie uma lista com todos os Customers ativos (active = True),\n",
    "#rdenados por id, salve o conteudo dessa lista em um arquivo do tipo csv (actives.csv)\n",
    "\n",
    "# newlist = sorted(l, key=lambda x: x.id, reverse=False)\n",
    "# l.sort(key=lambda x: x.id, reverse=False)\n",
    "\n",
    "# # import operator\n",
    "# personList.sort(key=operator.attrgetter('job'))\n",
    "newlist = []\n",
    "\n",
    "for z in l:\n",
    "    if 'True' in z.active:        \n",
    "        newlist.append(Customer(z.id,z.name,z.gender,z.birthday,z.email,z.active))\n",
    "    else:\n",
    "        pass\n",
    "        \n",
    "newlist = sorted(newlist, key=lambda x: x.id, reverse=False)\n",
    "\n",
    "arq = open('actives.csv','w')\n",
    "\n",
    "for y in newlist:\n",
    "    print(y.id,y.name,y.gender,y.birthday,y.email,y.active, sep = \", \" , file=arq)\n",
    "    \n",
    "arq.close()"
   ]
  },
  {
   "cell_type": "code",
   "execution_count": 101,
   "metadata": {},
   "outputs": [],
   "source": [
    "#Crie uma lista com todos os Customers inativos cujo gênero seja masculino (gender = Male), \n",
    "#ordenados por nome. Salve os elementos dessa lista em um arquivo do tipo txt (male_inactives.txt, 1 elemento por linha)\n",
    "\n",
    "# # import operator\n",
    "# personList.sort(key=operator.attrgetter('job'))\n",
    "newlist = []\n",
    "\n",
    "for z in l:\n",
    "    if 'False' in z.active and z.gender.lower() == 'male':        \n",
    "        newlist.append(Customer(z.id,z.name,z.gender,z.birthday,z.email,z.active))\n",
    "    else:\n",
    "        pass\n",
    "        \n",
    "newlist = sorted(newlist, key=lambda x: x.name, reverse=False)\n",
    "\n",
    "arq = open('male_inactives.txt','w')\n",
    "\n",
    "for y in newlist:\n",
    "    print(y.id,y.name,y.gender,y.birthday,y.email,y.active, sep = \", \" , file=arq)\n",
    "    \n",
    "arq.close()"
   ]
  },
  {
   "cell_type": "code",
   "execution_count": null,
   "metadata": {},
   "outputs": [],
   "source": []
  },
  {
   "cell_type": "code",
   "execution_count": 51,
   "metadata": {},
   "outputs": [],
   "source": []
  },
  {
   "cell_type": "code",
   "execution_count": null,
   "metadata": {},
   "outputs": [],
   "source": []
  },
  {
   "cell_type": "code",
   "execution_count": null,
   "metadata": {},
   "outputs": [],
   "source": []
  },
  {
   "cell_type": "code",
   "execution_count": null,
   "metadata": {},
   "outputs": [],
   "source": []
  },
  {
   "cell_type": "code",
   "execution_count": null,
   "metadata": {},
   "outputs": [],
   "source": []
  }
 ],
 "metadata": {
  "kernelspec": {
   "display_name": "Python 3",
   "language": "python",
   "name": "python3"
  },
  "language_info": {
   "codemirror_mode": {
    "name": "ipython",
    "version": 3
   },
   "file_extension": ".py",
   "mimetype": "text/x-python",
   "name": "python",
   "nbconvert_exporter": "python",
   "pygments_lexer": "ipython3",
   "version": "3.7.6"
  }
 },
 "nbformat": 4,
 "nbformat_minor": 2
}
