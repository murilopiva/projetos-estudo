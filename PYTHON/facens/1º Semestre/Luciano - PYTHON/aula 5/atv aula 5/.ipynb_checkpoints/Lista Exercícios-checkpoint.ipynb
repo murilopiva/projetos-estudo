{
 "cells": [
  {
   "cell_type": "markdown",
   "metadata": {},
   "source": [
    "# Lista de Exercícios"
   ]
  },
  {
   "cell_type": "code",
   "execution_count": 1,
   "metadata": {},
   "outputs": [],
   "source": [
    "import numpy as np"
   ]
  },
  {
   "cell_type": "markdown",
   "metadata": {},
   "source": [
    "### Exercício 1 - Considere o vetor [1, 2, 3, 4, 5], construa um novo vetor com três elementos 0 (zero) entre cada elemento do vetor."
   ]
  },
  {
   "cell_type": "markdown",
   "metadata": {},
   "source": [
    "**Resposta:**\n",
    "\n",
    "```\n",
    "array([1, 0, 0, 0, 2, 0, 0, 0, 3, 0, 0, 0, 4, 0, 0, 0, 5])\n",
    "```"
   ]
  },
  {
   "cell_type": "code",
   "execution_count": 2,
   "metadata": {},
   "outputs": [
    {
     "data": {
      "text/plain": [
       "array([1, 0, 0, 0, 2, 3, 0, 0, 0, 0, 0, 0, 4, 0, 0, 0, 5])"
      ]
     },
     "execution_count": 2,
     "metadata": {},
     "output_type": "execute_result"
    }
   ],
   "source": [
    "a = np.array([1,2,3,4,5])\n",
    "\n",
    "a = np.insert(a,4,np.zeros(3,dtype=int))\n",
    "a = np.insert(a,3,np.zeros(3,dtype=int))\n",
    "a = np.insert(a,4,np.zeros(3,dtype=int))\n",
    "a = np.insert(a,1,np.zeros(3,dtype=int))\n",
    "\n",
    "a"
   ]
  },
  {
   "cell_type": "markdown",
   "metadata": {},
   "source": [
    "### Exercício 2 - Crie uma matriz quadrada de 8 X 8 e preencha com o padrão de tabuleiro de xadrez, utilizando 0 (zero) para casas brancas e 1 (um) para casas pretas."
   ]
  },
  {
   "cell_type": "code",
   "execution_count": 3,
   "metadata": {},
   "outputs": [
    {
     "data": {
      "text/plain": [
       "array([[0, 1, 0, 1, 0, 1, 0, 1],\n",
       "       [1, 0, 1, 0, 1, 0, 1, 0],\n",
       "       [0, 1, 0, 1, 0, 1, 0, 1],\n",
       "       [1, 0, 1, 0, 1, 0, 1, 0],\n",
       "       [0, 1, 0, 1, 0, 1, 0, 1],\n",
       "       [1, 0, 1, 0, 1, 0, 1, 0],\n",
       "       [0, 1, 0, 1, 0, 1, 0, 1],\n",
       "       [1, 0, 1, 0, 1, 0, 1, 0]])"
      ]
     },
     "execution_count": 3,
     "metadata": {},
     "output_type": "execute_result"
    }
   ],
   "source": [
    "b = np.zeros(64,dtype=int).reshape(8,8)\n",
    "b[1::2,::2] = 1\n",
    "b[::2,1::2] = 1\n",
    "b"
   ]
  },
  {
   "cell_type": "markdown",
   "metadata": {},
   "source": [
    "**Resposta:**\n",
    "\n",
    "```\n",
    "array([[0, 1, 0, 1, 0, 1, 0, 1],\n",
    "       [1, 0, 1, 0, 1, 0, 1, 0],\n",
    "       [0, 1, 0, 1, 0, 1, 0, 1],\n",
    "       [1, 0, 1, 0, 1, 0, 1, 0],\n",
    "       [0, 1, 0, 1, 0, 1, 0, 1],\n",
    "       [1, 0, 1, 0, 1, 0, 1, 0],\n",
    "       [0, 1, 0, 1, 0, 1, 0, 1],\n",
    "       [1, 0, 1, 0, 1, 0, 1, 0]])\n",
    "```"
   ]
  },
  {
   "cell_type": "markdown",
   "metadata": {},
   "source": [
    "### Exercício 3 - Dado um array de 2 dimensões, como trocar 2 linhas entre si?"
   ]
  },
  {
   "cell_type": "code",
   "execution_count": 4,
   "metadata": {},
   "outputs": [
    {
     "name": "stdout",
     "output_type": "stream",
     "text": [
      "[[ 5  6  7  8  9]\n",
      " [ 0  1  2  3  4]\n",
      " [10 11 12 13 14]\n",
      " [15 16 17 18 19]\n",
      " [20 21 22 23 24]]\n",
      "\n",
      " [[ 5  6  7  8  9]\n",
      " [ 0  1  2  3  4]\n",
      " [15 16 17 18 19]\n",
      " [10 11 12 13 14]\n",
      " [20 21 22 23 24]]\n"
     ]
    }
   ],
   "source": [
    "a = np.arange(25).reshape(5,5)\n",
    "a[[0,1]] = a[[1,0]]\n",
    "\n",
    "print(a)\n",
    "\n",
    "a[[2,3]] = a[[3,2]]\n",
    "\n",
    "print('\\n',a)"
   ]
  },
  {
   "cell_type": "markdown",
   "metadata": {},
   "source": [
    "**Resposta:**\n",
    "\n",
    "array inicial:\n",
    "```\n",
    "array([[ 0,  1,  2,  3,  4],\n",
    "       [ 5,  6,  7,  8,  9],\n",
    "       [10, 11, 12, 13, 14],\n",
    "       [15, 16, 17, 18, 19],\n",
    "       [20, 21, 22, 23, 24]])\n",
    "```\n",
    "\n",
    "array com as linhas 0 e 1 trocadas entre si:\n",
    "```\n",
    "array([[ 5,  6,  7,  8,  9],\n",
    "       [ 0,  1,  2,  3,  4],\n",
    "       [10, 11, 12, 13, 14],\n",
    "       [15, 16, 17, 18, 19],\n",
    "       [20, 21, 22, 23, 24]])\n",
    "```\n",
    "\n",
    "array com as linhas 2 e 3 trocadas entre si:\n",
    "```\n",
    "array([[ 0,  1,  2,  3,  4],\n",
    "       [ 5,  6,  7,  8,  9],\n",
    "       [15, 16, 17, 18, 19],\n",
    "       [10, 11, 12, 13, 14],\n",
    "       [20, 21, 22, 23, 24]])\n",
    "```"
   ]
  },
  {
   "cell_type": "markdown",
   "metadata": {},
   "source": [
    "### Exercício 4 - Dado um array de 2 dimensões, como trocar 2 colunas entre si?"
   ]
  },
  {
   "cell_type": "code",
   "execution_count": 5,
   "metadata": {},
   "outputs": [
    {
     "data": {
      "text/plain": [
       "array([[ 0,  1,  3,  2,  4],\n",
       "       [ 5,  6,  8,  7,  9],\n",
       "       [10, 11, 13, 12, 14],\n",
       "       [15, 16, 18, 17, 19],\n",
       "       [20, 21, 23, 22, 24]])"
      ]
     },
     "execution_count": 5,
     "metadata": {},
     "output_type": "execute_result"
    }
   ],
   "source": [
    "a = np.arange(25).reshape(5,5)\n",
    "a[:,[2,3]] = a[:,[3,2]]\n",
    "a"
   ]
  },
  {
   "cell_type": "markdown",
   "metadata": {},
   "source": [
    "**Resposta:**\n",
    "\n",
    "array inicial:\n",
    "```\n",
    "array([[ 0,  1,  2,  3,  4],\n",
    "       [ 5,  6,  7,  8,  9],\n",
    "       [10, 11, 12, 13, 14],\n",
    "       [15, 16, 17, 18, 19],\n",
    "       [20, 21, 22, 23, 24]])\n",
    "```\n",
    "\n",
    "array com as colunas 2 e 3 trocadas entre si:\n",
    "```\n",
    "array([[ 0,  1,  3,  2,  4],\n",
    "       [ 5,  6,  8,  7,  9],\n",
    "       [10, 11, 13, 12, 14],\n",
    "       [15, 16, 18, 17, 19],\n",
    "       [20, 21, 23, 22, 24]])\n",
    "```"
   ]
  },
  {
   "cell_type": "markdown",
   "metadata": {},
   "source": [
    "### Exercício 5 - Dado o array [1, 2, 3] criar o array [[1, 2, 3], [1, 2, 3], [1, 2, 3], [1, 2, 3]]"
   ]
  },
  {
   "cell_type": "code",
   "execution_count": 6,
   "metadata": {},
   "outputs": [
    {
     "data": {
      "text/plain": [
       "array([[1, 2, 3],\n",
       "       [1, 2, 3],\n",
       "       [1, 2, 3],\n",
       "       [1, 2, 3]])"
      ]
     },
     "execution_count": 6,
     "metadata": {},
     "output_type": "execute_result"
    }
   ],
   "source": [
    "a = np.array([1,2,3])\n",
    "b = np.ones([4,3],dtype=int)\n",
    "b[:] = a\n",
    "b"
   ]
  },
  {
   "cell_type": "markdown",
   "metadata": {},
   "source": [
    "**Resposta:**\n",
    "\n",
    "```\n",
    "array([[1, 2, 3],\n",
    "       [1, 2, 3],\n",
    "       [1, 2, 3],\n",
    "       [1, 2, 3]])\n",
    "``` \n"
   ]
  },
  {
   "cell_type": "markdown",
   "metadata": {},
   "source": [
    "### Exercício 6 - Dado o array [1, 2, 3] criar o array [[1, 1, 1], [2, 2, 2], [3, 3, 3]]"
   ]
  },
  {
   "cell_type": "code",
   "execution_count": 7,
   "metadata": {},
   "outputs": [
    {
     "data": {
      "text/plain": [
       "array([[1, 1, 1],\n",
       "       [2, 2, 2],\n",
       "       [3, 3, 3]])"
      ]
     },
     "execution_count": 7,
     "metadata": {},
     "output_type": "execute_result"
    }
   ],
   "source": [
    "a = np.array([1,2,3])\n",
    "b = np.ones([3,3],dtype=int)\n",
    "b[[0]],b[[1]],b[[2]] = a[0],a[1],a[2]\n",
    "b\n"
   ]
  },
  {
   "cell_type": "markdown",
   "metadata": {},
   "source": [
    "**Resposta:**\n",
    "\n",
    "```\n",
    "array([[1, 1, 1],\n",
    "       [2, 2, 2],\n",
    "       [3, 3, 3]])\n",
    "```"
   ]
  },
  {
   "cell_type": "markdown",
   "metadata": {},
   "source": [
    "### Exercício 7 - Dado o array [4, 95, 37, 64, 42, 19, 55, 38, 46, 83, 48, 67, 98, 21, 10, 88], obtenha todos os itens que estão entre 35 e 55."
   ]
  },
  {
   "cell_type": "code",
   "execution_count": 8,
   "metadata": {},
   "outputs": [
    {
     "data": {
      "text/plain": [
       "array([37, 42, 55, 38, 46, 48])"
      ]
     },
     "execution_count": 8,
     "metadata": {},
     "output_type": "execute_result"
    }
   ],
   "source": [
    "a = np.array([4, 95, 37, 64, 42, 19, 55, 38, 46, 83, 48, 67, 98, 21, 10, 88])\n",
    "a = a[np.where(np.logical_and(a >= 35, a <= 55))]\n",
    "a"
   ]
  },
  {
   "cell_type": "markdown",
   "metadata": {},
   "source": [
    "**Resposta:**\n",
    "\n",
    "```\n",
    "array([37, 42, 38, 46, 48, 55])\n",
    "```"
   ]
  },
  {
   "cell_type": "markdown",
   "metadata": {},
   "source": [
    "\n",
    "### Exercicio 8 - Considere um array com 100 elementos inteiros iniciando em 0. Dado um número randômico positivo e flutuante, descubra qual o elemento do array, mais próximo desse número."
   ]
  },
  {
   "cell_type": "code",
   "execution_count": 9,
   "metadata": {},
   "outputs": [
    {
     "data": {
      "text/plain": [
       "array([  0,   1,   2,   3,   4,   5,   6,   7,   8,   9,  10,  11,  12,\n",
       "        13,  14,  15,  16,  17,  18,  19,  20,  21,  22,  23,  24,  25,\n",
       "        26,  27,  28,  29,  30,  31,  32,  33,  34,  35,  36,  37,  38,\n",
       "        39,  40,  41,  42,  43,  44,  45,  46,  47,  48,  49,  50,  51,\n",
       "        52,  53,  54,  55,  56,  57,  58,  59,  60,  61,  62,  63,  64,\n",
       "        65,  66,  67,  68,  69,  70,  71,  72,  73,  74,  75,  76,  77,\n",
       "        78,  79,  80,  81,  82,  83,  84,  85,  86,  87,  88,  89,  90,\n",
       "        91,  92,  93,  94,  95,  96,  97,  98,  99, 100])"
      ]
     },
     "execution_count": 9,
     "metadata": {},
     "output_type": "execute_result"
    }
   ],
   "source": [
    "arr = np.arange(0,101)\n",
    "arr"
   ]
  },
  {
   "cell_type": "code",
   "execution_count": 17,
   "metadata": {},
   "outputs": [
    {
     "data": {
      "text/plain": [
       "62"
      ]
     },
     "execution_count": 17,
     "metadata": {},
     "output_type": "execute_result"
    }
   ],
   "source": [
    "f = np.random.uniform(0,100)\n",
    "\n",
    "idx = (np.abs(arr - f)).argmin()\n",
    "arr[idx]"
   ]
  },
  {
   "cell_type": "markdown",
   "metadata": {},
   "source": [
    "### Exercicio 9 - Dado um array, substitua todos os valores inferiores a 10 por 10 e todos os valores superiores a 30 por 30."
   ]
  },
  {
   "cell_type": "code",
   "execution_count": 18,
   "metadata": {},
   "outputs": [
    {
     "data": {
      "text/plain": [
       "array([27.62684215, 14.64009987, 21.80136195, 30.        , 10.        ,\n",
       "       10.        , 30.        , 30.        , 10.        , 29.17957314,\n",
       "       30.        , 11.25090398, 10.08108276, 10.        , 11.76517714,\n",
       "       30.        , 30.        , 10.        , 30.        , 14.42961361,\n",
       "       22.153505  , 30.        , 30.        , 17.46948556, 10.        ,\n",
       "       19.26877027, 10.        , 13.36889132, 30.        , 10.        ])"
      ]
     },
     "execution_count": 18,
     "metadata": {},
     "output_type": "execute_result"
    }
   ],
   "source": [
    "np.random.seed(100)\n",
    "arr = np.random.uniform(1, 50, 30)\n",
    "arr[arr<10] = 10\n",
    "arr[arr>30] = 30\n",
    "arr"
   ]
  },
  {
   "cell_type": "markdown",
   "metadata": {},
   "source": [
    "**Resposta**\n",
    "\n",
    "array inicial:\n",
    "```\n",
    "array([27.62684215, 14.64009987, 21.80136195, 42.39403048,  1.23122395,\n",
    "        6.95688692, 33.86670515, 41.466785  ,  7.69862289, 29.17957314,\n",
    "       44.67477576, 11.25090398, 10.08108276,  6.31046763, 11.76517714,\n",
    "       48.95256545, 40.77247431,  9.42510962, 40.99501269, 14.42961361,\n",
    "       22.153505  , 47.06146116, 41.06481956, 17.46948556,  9.59511223,\n",
    "       19.26877027,  1.27873686, 13.36889132, 39.98746292,  1.74749359])\n",
    "```\n",
    "\n",
    "array após as substituições:\n",
    "```\n",
    "array([27.62684215, 14.64009987, 21.80136195, 30.        , 10.        ,\n",
    "       10.        , 30.        , 30.        , 10.        , 29.17957314,\n",
    "       30.        , 11.25090398, 10.08108276, 10.        , 11.76517714,\n",
    "       30.        , 30.        , 10.        , 30.        , 14.42961361,\n",
    "       22.153505  , 30.        , 30.        , 17.46948556, 10.        ,\n",
    "       19.26877027, 10.        , 13.36889132, 30.        , 10.        ])\n",
    "```"
   ]
  },
  {
   "cell_type": "markdown",
   "metadata": {},
   "source": [
    "### Exercicio 10 - Para calcular o determinante de matrizes de terceira ordem, utiliza-se a chamada regra de Sarrus, que resulta no seguinte cálculo:\n",
    "\n",
    "$\n",
    "D\\left(\\begin{array}{cc} \n",
    "a & b & c \\\\\n",
    "d & e & f \\\\\n",
    "g & h & i\n",
    "\\end{array}\\right)\n",
    "$ = (aei + bfg + cdh) - (afh + bdi + ceg)\n",
    "\n",
    "### Escreva uma função para calcular o determinante de uma matriz quadrada de ordem 3."
   ]
  },
  {
   "cell_type": "code",
   "execution_count": 184,
   "metadata": {},
   "outputs": [
    {
     "name": "stdout",
     "output_type": "stream",
     "text": [
      "96\n"
     ]
    }
   ],
   "source": [
    "x = np.random.randint(1,10, size=(3,3)) #retorna matriz\n",
    "\n",
    "aei = x[0,0]*x[1,1]*x[2,2]\n",
    "bfg = x[0,1]*x[1,2]*x[2,0]\n",
    "cdh = x[0,2]*x[1,0]*x[2,1]\n",
    "\n",
    "afh = x[0,0]*x[1,2]*x[2,1]\n",
    "bdi = x[0,1]*x[1,0]*x[2,2]\n",
    "ceg = x[0,2]*x[1,1]*x[2,0]\n",
    "\n",
    "\n",
    "result = (aei + bfg + cdh) - (afh + bdi + ceg)\n",
    "print (result)"
   ]
  },
  {
   "cell_type": "code",
   "execution_count": 429,
   "metadata": {},
   "outputs": [
    {
     "data": {
      "text/plain": [
       "6"
      ]
     },
     "execution_count": 429,
     "metadata": {},
     "output_type": "execute_result"
    }
   ],
   "source": [
    "x = np.array([[2,5,6],[1,6,7],[-1,2,3]])\n",
    "\n",
    "x = np.column_stack((x, (x[:,[0]])))\n",
    "x = np.column_stack((x, (x[:,[1]])))\n",
    "x = np.column_stack((x, (x[:,[2]])))\n",
    "\n",
    "aei = np.prod(x.diagonal())\n",
    "bfg = np.prod(x.diagonal(1))\n",
    "cdh = np.prod(x.diagonal(2))\n",
    "\n",
    "x = np.fliplr(x)\n",
    "\n",
    "afh = np.prod(x.diagonal())\n",
    "bdi = np.prod(x.diagonal(1))\n",
    "ceg = np.prod(x.diagonal(2))\n",
    "\n",
    "(aei + bfg + cdh) - (afh + bdi + ceg)\n"
   ]
  }
 ],
 "metadata": {
  "kernelspec": {
   "display_name": "Python 3",
   "language": "python",
   "name": "python3"
  },
  "language_info": {
   "codemirror_mode": {
    "name": "ipython",
    "version": 3
   },
   "file_extension": ".py",
   "mimetype": "text/x-python",
   "name": "python",
   "nbconvert_exporter": "python",
   "pygments_lexer": "ipython3",
   "version": "3.7.6"
  }
 },
 "nbformat": 4,
 "nbformat_minor": 2
}
