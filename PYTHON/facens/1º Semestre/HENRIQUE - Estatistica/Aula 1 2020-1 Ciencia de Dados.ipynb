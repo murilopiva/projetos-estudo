{
 "cells": [
  {
   "cell_type": "code",
   "execution_count": 44,
   "metadata": {},
   "outputs": [
    {
     "name": "stdout",
     "output_type": "stream",
     "text": [
      "oi\n"
     ]
    }
   ],
   "source": [
    "import pandas as pd\n",
    "import numpy as np\n",
    "\n",
    "a = [15,28,41,32,26,44,5,9,17,4,3,9]\n",
    "Lpd = pd.Series(a)\n",
    "\n",
    "x = Lpd.value_counts()\n",
    "#x[x==max(x)]\n",
    "#x==max(x)\n",
    "## Lpd.median()\n",
    "\n",
    "if (max(x)) == 2 :\n",
    "    print ('oi')\n",
    "\n",
    "\n",
    "# print(\"Média = \", np.average(L))\n",
    "#print(\"Moda = \", x[x==max(x)])\n",
    "# print(\"Mediana = \", Lpd.median())"
   ]
  },
  {
   "cell_type": "code",
   "execution_count": 50,
   "metadata": {},
   "outputs": [
    {
     "name": "stdout",
     "output_type": "stream",
     "text": [
      "2\n"
     ]
    }
   ],
   "source": [
    "import numpy as np\n",
    "import pandas as pd\n",
    "\n",
    "a = [15,28,41,32,26,44,5,9,17,4,3,9]\n",
    "\n",
    "lpd = pd.Series(a)\n",
    "x = lpd.value_counts()\n",
    "\n",
    "if len(a) != 12:\n",
    "    print ('Lista deve conter 12 elementos')    \n",
    "\n",
    "if (max(x)) == 1:\n",
    "    print ('Pelo menos um elemento deve ser repetido!')\n",
    "    \n",
    "ordem = np.sort(a)\n",
    "if np.min(a) < 1 | np.max(a) > 50:\n",
    "    print ('Valores devem estar entre 1 e 50!')\n",
    "    \n",
    "\n",
    "    "
   ]
  }
 ],
 "metadata": {
  "kernelspec": {
   "display_name": "Python 3",
   "language": "python",
   "name": "python3"
  },
  "language_info": {
   "codemirror_mode": {
    "name": "ipython",
    "version": 3
   },
   "file_extension": ".py",
   "mimetype": "text/x-python",
   "name": "python",
   "nbconvert_exporter": "python",
   "pygments_lexer": "ipython3",
   "version": "3.7.6"
  }
 },
 "nbformat": 4,
 "nbformat_minor": 4
}
