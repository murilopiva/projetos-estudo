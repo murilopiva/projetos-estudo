{
 "cells": [
  {
   "cell_type": "code",
   "execution_count": 38,
   "metadata": {},
   "outputs": [],
   "source": [
    "import numpy as np\n",
    "import pandas as pd"
   ]
  },
  {
   "cell_type": "code",
   "execution_count": 87,
   "metadata": {},
   "outputs": [
    {
     "name": "stdout",
     "output_type": "stream",
     "text": [
      "média =  70.5\n",
      "Moda  75    2\n",
      "dtype: int64\n",
      "Mediana =  73.0\n",
      "[62.75 73.   75.  ]\n",
      "52\n",
      "90\n"
     ]
    }
   ],
   "source": [
    "l = [52,60,71,75,75,90]\n",
    "lpd = pd.Series(l) # atribui uma posição para cara valor (serializar)\n",
    "#print (lpd)\n",
    "x = lpd.value_counts() # conta quantas vezes cada valor apareceu\n",
    "x[x==max(x)] # pega o registro que possui maior contagem\n",
    "\n",
    "#print (type(x)) -- mostra o tipo da variável - pq não declara explicito\n",
    "print ('média = ', np.average(l))\n",
    "print ('Moda ', x[x==max(x)])\n",
    "print ('Mediana = ', lpd.median())\n",
    "\n",
    "#------------------------\n",
    "\n",
    "\n",
    "print (np.percentile(l,(25,50,75))) #-- quartil 1, quartil 2 e quartil 3 - como se tivesse dividido o array em 4 partes\n",
    "#25% dos dados estão até o valor 62.75, 25% estão em 73 e 25% em 75\n",
    "\n",
    "print(np.min(l))# minimo\n",
    "print (np.max(l)) #maximo"
   ]
  },
  {
   "cell_type": "code",
   "execution_count": 100,
   "metadata": {},
   "outputs": [
    {
     "name": "stdout",
     "output_type": "stream",
     "text": [
      "0.07088018058667737\n",
      "0.005023999999999996\n",
      "0.0403645675322764\n"
     ]
    }
   ],
   "source": [
    "h = [1.72,1.60,1.74,1.88,1.82,1.75,1.82,1.75,1.75,1.73]\n",
    "\n",
    "print (np.std(h)) # desvio padrão\n",
    "print(np.std(h) ** 2) # variancia\n",
    "print(np.std(h) / np.average(h)) #coeficiente de variação\n"
   ]
  }
 ],
 "metadata": {
  "kernelspec": {
   "display_name": "Python 3",
   "language": "python",
   "name": "python3"
  },
  "language_info": {
   "codemirror_mode": {
    "name": "ipython",
    "version": 3
   },
   "file_extension": ".py",
   "mimetype": "text/x-python",
   "name": "python",
   "nbconvert_exporter": "python",
   "pygments_lexer": "ipython3",
   "version": "3.7.6"
  }
 },
 "nbformat": 4,
 "nbformat_minor": 2
}
