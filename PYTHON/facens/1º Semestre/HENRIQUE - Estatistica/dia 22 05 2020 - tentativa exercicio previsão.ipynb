{
 "cells": [
  {
   "cell_type": "code",
   "execution_count": 22,
   "metadata": {},
   "outputs": [
    {
     "name": "stdout",
     "output_type": "stream",
     "text": [
      "    x19\n",
      "0   8.2\n",
      "1   5.7\n",
      "2   8.9\n",
      "3   4.8\n",
      "4   7.1\n",
      "..  ...\n",
      "95  7.3\n",
      "96  6.3\n",
      "97  5.4\n",
      "98  6.4\n",
      "99  6.4\n",
      "\n",
      "[100 rows x 1 columns]\n"
     ]
    }
   ],
   "source": [
    "import pandas as pd\n",
    "import numpy as np\n",
    "import os\n",
    "import statistics\n",
    "from sklearn.linear_model import LinearRegression\n",
    "from sklearn.model_selection import train_test_split\n",
    "from sklearn import metrics\n",
    "\n",
    "R = 10\n",
    "\n",
    "dados = pd.read_csv(\"HBAT.csv\")\n",
    "\n",
    "# Variável independente\n",
    "X = pd.DataFrame(dados[[\"x9\",\"x11\",\"x12\"]])\n",
    "\n",
    "# Variável dependente\n",
    "y = pd.DataFrame(dados[\"x19\"])\n",
    "\n",
    "linearRegressor = LinearRegression()\n",
    "\n",
    "print(y)"
   ]
  }
 ],
 "metadata": {
  "kernelspec": {
   "display_name": "Python 3",
   "language": "python",
   "name": "python3"
  },
  "language_info": {
   "codemirror_mode": {
    "name": "ipython",
    "version": 3
   },
   "file_extension": ".py",
   "mimetype": "text/x-python",
   "name": "python",
   "nbconvert_exporter": "python",
   "pygments_lexer": "ipython3",
   "version": "3.7.6"
  }
 },
 "nbformat": 4,
 "nbformat_minor": 4
}
