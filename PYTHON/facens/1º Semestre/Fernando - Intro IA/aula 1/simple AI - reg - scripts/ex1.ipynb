{
 "cells": [
  {
   "cell_type": "code",
   "execution_count": 1,
   "metadata": {
    "tags": []
   },
   "outputs": [
    {
     "output_type": "execute_result",
     "data": {
      "text/plain": "<class 'statsmodels.iolib.summary.Summary'>\n\"\"\"\n                            OLS Regression Results                            \n==============================================================================\nDep. Variable:                      y   R-squared:                       0.995\nModel:                            OLS   Adj. R-squared:                  0.995\nMethod:                 Least Squares   F-statistic:                 2.001e+04\nDate:                Sat, 04 Jul 2020   Prob (F-statistic):          4.09e-115\nTime:                        11:21:12   Log-Likelihood:                -373.05\nNo. Observations:                 100   AIC:                             750.1\nDf Residuals:                      98   BIC:                             755.3\nDf Model:                           1                                         \nCovariance Type:            nonrobust                                         \n==============================================================================\n                 coef    std err          t      P>|t|      [0.025      0.975]\n------------------------------------------------------------------------------\nconst         33.9592      2.335     14.543      0.000      29.325      38.593\nx              4.9946      0.035    141.455      0.000       4.925       5.065\n==============================================================================\nOmnibus:                       40.306   Durbin-Watson:                   2.013\nProb(Omnibus):                  0.000   Jarque-Bera (JB):               11.588\nSkew:                           0.575   Prob(JB):                      0.00305\nKurtosis:                       1.793   Cond. No.                         152.\n==============================================================================\n\nWarnings:\n[1] Standard Errors assume that the covariance matrix of the errors is correctly specified.\n\"\"\"",
      "text/html": "<table class=\"simpletable\">\n<caption>OLS Regression Results</caption>\n<tr>\n  <th>Dep. Variable:</th>            <td>y</td>        <th>  R-squared:         </th> <td>   0.995</td> \n</tr>\n<tr>\n  <th>Model:</th>                   <td>OLS</td>       <th>  Adj. R-squared:    </th> <td>   0.995</td> \n</tr>\n<tr>\n  <th>Method:</th>             <td>Least Squares</td>  <th>  F-statistic:       </th> <td>2.001e+04</td>\n</tr>\n<tr>\n  <th>Date:</th>             <td>Sat, 04 Jul 2020</td> <th>  Prob (F-statistic):</th> <td>4.09e-115</td>\n</tr>\n<tr>\n  <th>Time:</th>                 <td>11:21:12</td>     <th>  Log-Likelihood:    </th> <td> -373.05</td> \n</tr>\n<tr>\n  <th>No. Observations:</th>      <td>   100</td>      <th>  AIC:               </th> <td>   750.1</td> \n</tr>\n<tr>\n  <th>Df Residuals:</th>          <td>    98</td>      <th>  BIC:               </th> <td>   755.3</td> \n</tr>\n<tr>\n  <th>Df Model:</th>              <td>     1</td>      <th>                     </th>     <td> </td>    \n</tr>\n<tr>\n  <th>Covariance Type:</th>      <td>nonrobust</td>    <th>                     </th>     <td> </td>    \n</tr>\n</table>\n<table class=\"simpletable\">\n<tr>\n    <td></td>       <th>coef</th>     <th>std err</th>      <th>t</th>      <th>P>|t|</th>  <th>[0.025</th>    <th>0.975]</th>  \n</tr>\n<tr>\n  <th>const</th> <td>   33.9592</td> <td>    2.335</td> <td>   14.543</td> <td> 0.000</td> <td>   29.325</td> <td>   38.593</td>\n</tr>\n<tr>\n  <th>x</th>     <td>    4.9946</td> <td>    0.035</td> <td>  141.455</td> <td> 0.000</td> <td>    4.925</td> <td>    5.065</td>\n</tr>\n</table>\n<table class=\"simpletable\">\n<tr>\n  <th>Omnibus:</th>       <td>40.306</td> <th>  Durbin-Watson:     </th> <td>   2.013</td>\n</tr>\n<tr>\n  <th>Prob(Omnibus):</th> <td> 0.000</td> <th>  Jarque-Bera (JB):  </th> <td>  11.588</td>\n</tr>\n<tr>\n  <th>Skew:</th>          <td> 0.575</td> <th>  Prob(JB):          </th> <td> 0.00305</td>\n</tr>\n<tr>\n  <th>Kurtosis:</th>      <td> 1.793</td> <th>  Cond. No.          </th> <td>    152.</td>\n</tr>\n</table><br/><br/>Warnings:<br/>[1] Standard Errors assume that the covariance matrix of the errors is correctly specified."
     },
     "metadata": {},
     "execution_count": 1
    }
   ],
   "source": [
    "import pandas as pd\n",
    "import numpy as np\n",
    "import os\n",
    "import statistics\n",
    "from sklearn.linear_model import LinearRegression\n",
    "from sklearn.model_selection import train_test_split\n",
    "from sklearn import metrics, linear_model\n",
    "import statsmodels.api as sm \n",
    "\n",
    "dados = pd.read_csv('ex1_train_data.csv',';')\n",
    "\n",
    "X = dados['x'] \n",
    "y = dados['y'] #variavel dependente (eixo y)\n",
    "X = sm.add_constant(X)\n",
    "model = sm.OLS(y, X).fit() \n",
    "predictions = model.predict(X) # make the predictions by the model\n",
    "model.summary()\n"
   ]
  },
  {
   "cell_type": "code",
   "execution_count": 178,
   "metadata": {},
   "outputs": [
    {
     "output_type": "execute_result",
     "data": {
      "text/plain": "210644874672.0505"
     },
     "metadata": {},
     "execution_count": 178
    }
   ],
   "source": [
    "a = ((sum(dados['x'])) * ((sum(dados['x']) ** 2)) - ((sum(dados['x'])) * sum(dados['x'] * dados['y'])) / ((dados.shape[0] * sum(dados['x']**2)) - sum(dados['x']**2)))\n",
    "a"
   ]
  },
  {
   "cell_type": "code",
   "execution_count": 223,
   "metadata": {
    "tags": []
   },
   "outputs": [
    {
     "output_type": "stream",
     "name": "stdout",
     "text": "Y =  -138954.21 X + 33.96\n"
    }
   ],
   "source": [
    "somaX = sum(dados['x'])\n",
    "somaY = sum(dados['y'])\n",
    "somaXY = sum(dados['x'] * dados['y'])\n",
    "\n",
    "dados['x**2'] = dados['x']**2\n",
    "dados['y**2'] = dados['y']**2\n",
    "\n",
    "b1 = (somaY * sum(dados['x**2'])) - (somaX * somaXY)\n",
    "b2 = dados.shape[0] * dados['x**2'].sum() - somaX ** 2\n",
    "b = b1 / b2\n",
    "\n",
    "a1 =(dados.shape[0] * (somaX * somaXY)) - (somaX * somaY)\n",
    "a2 = (dados.shape[0] * dados['x**2'].sum()) - somaX**2\n",
    "\n",
    "v1 = (dados['y'].sum()*dados['x**2'].sum())-(dados['x'].sum()*(somaX * somaY))\n",
    "v2 = (dados['x'].count()*dados['x**2'].sum()) - (dados['x'].sum()**2)\n",
    "a = v1/v2\n",
    "\n",
    "print('Y = ',round(a,2),'X +',round(b,2))\n",
    "\n"
   ]
  },
  {
   "cell_type": "code",
   "execution_count": 12,
   "metadata": {
    "tags": []
   },
   "outputs": [
    {
     "output_type": "stream",
     "name": "stdout",
     "text": "best_a = 5.310, best_b = 10.808, final_mse = 203.926\n"
    }
   ],
   "source": [
    "import pandas as pd\n",
    "\n",
    "\n",
    "train_data = pd.read_csv('ex1_train_data.csv', delimiter=';')\n",
    "\n",
    "\n",
    "def mse(Y, Y_pred):\n",
    "    result = 1/len(Y) * sum((Y - Y_pred) ** 2)\n",
    "\n",
    "    return result  \n",
    "\n",
    "a = 0\n",
    "b = 0\n",
    "\n",
    "#tamanho dos passos\n",
    "L = 0.0001\n",
    "\n",
    "#n = train_data.shape[0]\n",
    "\n",
    "#quantidade de passos\n",
    "for _ in range(1, 10000):\n",
    "\n",
    "    Y_pred = train_data['x'] * a + b\n",
    "    n = len(Y_pred)\n",
    "\n",
    "    a = a - L * ((-2/n) * sum(train_data['x'] * (train_data['y'] - Y_pred))) # faz a derivada do MSE para pegar a reta tangente e ir andando atraves do L que é o tamanho do passo\n",
    "    b = b - L * ((-2/n) * sum(train_data['y'] - Y_pred))\n",
    "\n",
    "\n",
    "mse_final = mse(train_data['y'], Y_pred)\n",
    "\n",
    "print('best_a = %.3f, best_b = %.3f, final_mse = %.3f' % (a, b,mse_final))\n",
    "\n"
   ]
  },
  {
   "cell_type": "code",
   "execution_count": 145,
   "metadata": {},
   "outputs": [],
   "source": []
  }
 ],
 "metadata": {
  "language_info": {
   "codemirror_mode": {
    "name": "ipython",
    "version": 3
   },
   "file_extension": ".py",
   "mimetype": "text/x-python",
   "name": "python",
   "nbconvert_exporter": "python",
   "pygments_lexer": "ipython3",
   "version": 3
  },
  "orig_nbformat": 2,
  "kernelspec": {
   "name": "python_defaultSpec_1593872460487",
   "display_name": "Python 3.7.6 64-bit ('base': conda)"
  }
 },
 "nbformat": 4,
 "nbformat_minor": 2
}