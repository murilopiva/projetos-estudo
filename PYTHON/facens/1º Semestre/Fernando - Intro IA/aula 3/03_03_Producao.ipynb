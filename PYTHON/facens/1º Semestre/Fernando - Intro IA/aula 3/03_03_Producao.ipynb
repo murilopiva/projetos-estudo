{
 "cells": [
  {
   "cell_type": "markdown",
   "metadata": {},
   "source": [
    "### Colocando um modelo em produção\n",
    "\n",
    "Após gerado o modelo é importante ter uma forma de serializar o modelo e os componentes acessórios para migrá-los para o local de destino, como um servidor que ficará executando mediante demanda ou para um embarcado que o rodará na ponta da rede."
   ]
  },
  {
   "cell_type": "code",
   "execution_count": null,
   "metadata": {},
   "outputs": [],
   "source": [
    "from sklearn.decomposition import PCA\n",
    "from sklearn import datasets\n",
    "\n",
    "wine = datasets.load_wine()\n",
    "X = wine.data\n",
    "y = wine.target"
   ]
  },
  {
   "cell_type": "code",
   "execution_count": null,
   "metadata": {},
   "outputs": [],
   "source": [
    "import pandas as pd\n",
    "\n",
    "df = pd.DataFrame(X)\n",
    "df.describe()"
   ]
  },
  {
   "cell_type": "markdown",
   "metadata": {},
   "source": [
    "## Utilizando joblib"
   ]
  },
  {
   "cell_type": "code",
   "execution_count": null,
   "metadata": {},
   "outputs": [],
   "source": [
    "!pip install joblib"
   ]
  },
  {
   "cell_type": "code",
   "execution_count": null,
   "metadata": {},
   "outputs": [],
   "source": [
    "from sklearn.preprocessing import StandardScaler\n",
    "from sklearn.model_selection import train_test_split\n",
    "from sklearn.neighbors import KNeighborsClassifier\n",
    "from joblib import dump, load\n",
    "\n",
    "X_train, X_test, y_train, y_test = train_test_split(X, y, test_size=0.33, random_state=42)\n",
    "\n",
    "scaler = StandardScaler()\n",
    "X_train_scaled = scaler.fit_transform(X_train)\n",
    "\n",
    "model = KNeighborsClassifier(n_neighbors=1)\n",
    "model.fit(X_train_scaled, y_train)\n",
    "\n",
    "persistence = {}\n",
    "persistence['scaler'] = scaler\n",
    "persistence['model']  = model\n",
    "\n",
    "dump(persistence, 'persist.joblib')"
   ]
  },
  {
   "cell_type": "code",
   "execution_count": null,
   "metadata": {},
   "outputs": [],
   "source": [
    "persistence = load('persist.joblib')\n",
    "\n",
    "scaler = persistence['scaler']\n",
    "model = persistence['model']\n",
    "\n",
    "X_test_scaled = scaler.transform(X_test)\n",
    "\n",
    "y_pred = model.predict(X_test_scaled)\n",
    "\n",
    "from sklearn.metrics import accuracy_score\n",
    "\n",
    "print('Acurácia:', accuracy_score(y_test, y_pred))"
   ]
  },
  {
   "cell_type": "markdown",
   "metadata": {},
   "source": [
    "## Exercício\n",
    "\n",
    "Uma boa prática é utilizar todo o dado disponível para treino e retreinar o modelo depois de encontrar os melhores parâmetros, antes de colocar em produção. Nesse sentido, realize as seguintes etapas:\n",
    "\n",
    "1 - Separe os dados em treino e teste (70 - 30).\n",
    "\n",
    "2 - Na parcela de treino, use todos os dados (70% aplicando GridSearchCV) para encontrar os melhores parâmetros.\n",
    "\n",
    "3 - Em seguida, retreine o modelo utilizando todos os dados de treino utilizando essa configuração.\n",
    "\n",
    "4 - Salve o modelo.\n",
    "\n",
    "5 - Recarregue o modelo e verifique o desempenho no conjunto de teste separado inicialmente."
   ]
  },
  {
   "cell_type": "code",
   "execution_count": null,
   "metadata": {},
   "outputs": [],
   "source": []
  }
 ],
 "metadata": {
  "kernelspec": {
   "display_name": "Python 3",
   "language": "python",
   "name": "python3"
  },
  "language_info": {
   "codemirror_mode": {
    "name": "ipython",
    "version": 3
   },
   "file_extension": ".py",
   "mimetype": "text/x-python",
   "name": "python",
   "nbconvert_exporter": "python",
   "pygments_lexer": "ipython3",
   "version": "3.7.3"
  }
 },
 "nbformat": 4,
 "nbformat_minor": 2
}
