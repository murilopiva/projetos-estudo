{
 "cells": [
  {
   "cell_type": "markdown",
   "metadata": {},
   "source": [
    "## Redução de Dimensionalidade e Seleção de atributos\n",
    "\n",
    "Foi visto anteriormente sobre a redução de dimensionalidade, onde algoritmos não-supervisionados (como o PCA) são capazes de condensar informações em um número menor de dimensão. No entanto, uma confusão que normalmente acontece com as terminologias, é a distinção entre selecionar atributos e reduzir dimensionalidade. Obviamente que a seleção de atributos acarretará em um número menor de dimensões, mas diferente da redução de dimensionalidade, a seleção de atributos descarta atributos que não são julgados como relevante para o problema, enquanto a redução condensa a informação em um espaço com menos dimensões.\n",
    "\n",
    "---\n",
    "\n",
    "Será utilizado o dataset digits conhecido no meio de aprendizado de máquina, importado diretamente do Scikit-Learn. Em seguida, serão aplicados PCA e seleção de atributos para analisar a diferença entre eles."
   ]
  },
  {
   "cell_type": "code",
   "execution_count": null,
   "metadata": {},
   "outputs": [],
   "source": [
    "from sklearn.decomposition import PCA\n",
    "from sklearn import datasets\n",
    "\n",
    "digits = datasets.load_digits()\n",
    "X = digits.data\n",
    "y = digits.target"
   ]
  },
  {
   "cell_type": "code",
   "execution_count": null,
   "metadata": {},
   "outputs": [],
   "source": [
    "import matplotlib.pyplot as plt \n",
    "plt.gray()\n",
    "plt.matshow(digits.images[25]) \n",
    "plt.show()\n",
    "print(digits.target[25])"
   ]
  },
  {
   "cell_type": "markdown",
   "metadata": {},
   "source": [
    "A função PCA importada de dentro do scikit-learn depende basicamente do atributo n_components. Esse atributo pode ser especificado como um inteiro, onde descreverá o número de componentes desejado, ou um valor contínuo entre 0 e 1, indicando o percentual de variância que deseja ser mantido no resultado final. O parâmetro whiten realiza uma operação matemática no sinal dos vetores extraídos no processo do PCA, e pode melhorar o resultado."
   ]
  },
  {
   "cell_type": "code",
   "execution_count": null,
   "metadata": {},
   "outputs": [],
   "source": [
    "pca = PCA(n_components=0.95, whiten=True)\n",
    "\n",
    "X_pca = pca.fit_transform(X)\n",
    "\n",
    "print('Número original de atributos:', X.shape[1])\n",
    "print('Número reduzido de atributos:', X_pca.shape[1])"
   ]
  },
  {
   "cell_type": "code",
   "execution_count": null,
   "metadata": {},
   "outputs": [],
   "source": [
    "from sklearn.model_selection import train_test_split\n",
    "from sklearn.linear_model import LogisticRegression\n",
    "from sklearn.metrics import accuracy_score\n",
    "\n",
    "X_train, X_test, y_train, y_test = train_test_split(X, y, test_size=0.33, random_state=42)\n",
    "\n",
    "model = LogisticRegression(solver='lbfgs', multi_class='multinomial', max_iter=2000)\n",
    "\n",
    "model.fit(X_train, y_train)\n",
    "y_pred = model.predict(X_test)\n",
    "\n",
    "print('Acurácia nos dados originais:', accuracy_score(y_test, y_pred))\n",
    "\n",
    "#######\n",
    "\n",
    "X_train, X_test, y_train, y_test = train_test_split(X_pca, y, test_size=0.33, random_state=42)\n",
    "\n",
    "model = LogisticRegression(solver='lbfgs', multi_class='multinomial', max_iter=2000)\n",
    "\n",
    "model.fit(X_train, y_train)\n",
    "y_pred = model.predict(X_test)\n",
    "\n",
    "print('Acurácia nos dados reduzidos (PCA em tudo):', accuracy_score(y_test, y_pred))\n",
    "\n",
    "#######\n",
    "\n",
    "X_train, X_test, y_train, y_test = train_test_split(X, y, test_size=0.33, random_state=42)\n",
    "\n",
    "pca = PCA(n_components=0.95, whiten=True)\n",
    "X_train = pca.fit_transform(X_train)\n",
    "X_test = pca.transform(X_test)\n",
    "\n",
    "model = LogisticRegression(solver='lbfgs', multi_class='multinomial', max_iter=2000)\n",
    "\n",
    "model.fit(X_train, y_train)\n",
    "y_pred = model.predict(X_test)\n",
    "\n",
    "print('Acurácia nos dados originais (PCA da parte certa):', accuracy_score(y_test, y_pred))"
   ]
  },
  {
   "cell_type": "markdown",
   "metadata": {},
   "source": [
    "### Seleção de atributos\n",
    "\n",
    "A seleção de atributos não é um processo não-supervisionado, igual a redução de dimensionalidade. É feita uma análise diretamente relacionada com o rótulo da amostra, portanto é supervisionado. Uma das estratégias mais comuns de seleção de atributos é teste de valor ANOVA. Esse teste identifica se existe algum valor significamente diferente da relação entre atributo e rótulo. Os atributos que são muito diferentes nessa relação, podem ser descartados.\n",
    "\n",
    "Lembrando sempre de não dar informações do teste para a seleção de atributos, para não virar um tipo de trapaça."
   ]
  },
  {
   "cell_type": "code",
   "execution_count": null,
   "metadata": {},
   "outputs": [],
   "source": [
    "from sklearn.preprocessing import StandardScaler\n",
    "from sklearn.feature_selection import SelectKBest\n",
    "from sklearn.feature_selection import f_classif\n",
    "import numpy as np\n",
    "\n",
    "import warnings\n",
    "warnings.filterwarnings(\"ignore\")\n",
    "\n",
    "X_train, X_test, y_train, y_test = train_test_split(X, y, test_size=0.33, random_state=42)\n",
    "\n",
    "fvalue_selector = SelectKBest(f_classif, k=20)\n",
    "X_kbest = fvalue_selector.fit_transform(X_train, y_train)\n",
    "\n",
    "print('Número original de atributos:', X.shape[1])\n",
    "print('Número reduzido de atributos:', X_kbest.shape[1])\n",
    "\n",
    "###\n",
    "\n",
    "selected_features = []\n",
    "map_vector = []\n",
    "mask = fvalue_selector.get_support()\n",
    "for m, feature in zip(mask, list(range(64))):\n",
    "    if m:\n",
    "        selected_features.append(feature)\n",
    "        map_vector.append(1)\n",
    "    else:\n",
    "        map_vector.append(0)\n",
    "\n",
    "print(selected_features)\n",
    "\n",
    "map_vector = np.asarray(map_vector)\n",
    "\n",
    "plt.matshow(map_vector.reshape(8,8)) \n",
    "plt.show()\n",
    "\n",
    "###\n",
    "\n",
    "model = LogisticRegression(solver='lbfgs', multi_class='multinomial', max_iter=2000)\n",
    "model.fit(X_train, y_train)\n",
    "y_pred = model.predict(X_test)\n",
    "print('Acurácia nos dados originais:', accuracy_score(y_test, y_pred))\n",
    "\n",
    "model = LogisticRegression(solver='lbfgs', multi_class='multinomial', max_iter=2000)\n",
    "model.fit(X_kbest, y_train)\n",
    "X_test_kbest = fvalue_selector.transform(X_test)\n",
    "y_pred = model.predict(X_test_kbest)\n",
    "print('Acurácia nos dados Kbest:', accuracy_score(y_test, y_pred))"
   ]
  },
  {
   "cell_type": "markdown",
   "metadata": {},
   "source": [
    "Os resultados devem ser comparados entre a acurácia nos dados originais e a acurácia com a redução de dimensionalidade ou com a seleção dos atributos. Além de olhar para os resultados também é importante notar a redução de dimensionalidade, já que isso pode levar a processos mais rápidos."
   ]
  },
  {
   "cell_type": "markdown",
   "metadata": {},
   "source": [
    "## Exercícios\n",
    "\n",
    "(1) Explore as configurações do PCA, utilizando números fixos de componentes e outros valores contínuos para a variância, e verifique se é possível obter melhores resultados utilizando a regressão logística e a separação de dados da forma como está."
   ]
  },
  {
   "cell_type": "markdown",
   "metadata": {},
   "source": [
    "(2) Explore o número de atributos na função KBest, variando sistematicamente, para provar que há ou não há um resultado melhor."
   ]
  },
  {
   "cell_type": "markdown",
   "metadata": {},
   "source": [
    "---\n",
    "\n",
    "**Template para plotar gráfico comparando os resultados, caso queira:**"
   ]
  },
  {
   "cell_type": "code",
   "execution_count": null,
   "metadata": {},
   "outputs": [],
   "source": [
    "import seaborn as sns; sns.set()\n",
    "import matplotlib.pyplot as plt\n",
    "import numpy as np\n",
    "\n",
    "plot_x = [1,2,3,4,5] # valores que vão no eixo X\n",
    "plot_y = [80,85,90,83,70] # valores que vão no eixo Y\n",
    "    \n",
    "ax = sns.lineplot(x=np.array(plot_x), y=np.array(plot_y))\n"
   ]
  }
 ],
 "metadata": {
  "kernelspec": {
   "display_name": "Python 3",
   "language": "python",
   "name": "python3"
  },
  "language_info": {
   "codemirror_mode": {
    "name": "ipython",
    "version": 3
   },
   "file_extension": ".py",
   "mimetype": "text/x-python",
   "name": "python",
   "nbconvert_exporter": "python",
   "pygments_lexer": "ipython3",
   "version": "3.7.3"
  }
 },
 "nbformat": 4,
 "nbformat_minor": 2
}
